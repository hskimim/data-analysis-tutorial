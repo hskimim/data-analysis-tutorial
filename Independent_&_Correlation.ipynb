{
 "cells": [
  {
   "cell_type": "markdown",
   "metadata": {},
   "source": [
    "### 독립과 상관관계\n",
    "- 확률 밀도 함수의 독립\n",
    "- 공분산과 상관계수\n",
    "- 다변수 가우시안 정규 분포\n",
    "- 조건부 기댓값\n",
    "    - 해당 파일에서는 위의 두 개를 다루도록 하겠습니다!!"
   ]
  },
  {
   "cell_type": "markdown",
   "metadata": {},
   "source": [
    "### 상관과 독립\n",
    "- if 두 rv가 있을 때 한 rv의 값의 변화가 다른 rv의 분포에 영향을 끼치면:\n",
    "    - 상관\n",
    "- else: \n",
    "    - 독립\n",
    "- 만약 두 rv X,Y의 joint pdf가 marginal pdf의 `곱`으로 나타나면 두 rv는 독립입니다.\n",
    "- f_{XY}(x, y) = f_X(x)f_Y(y)"
   ]
  },
  {
   "cell_type": "markdown",
   "metadata": {},
   "source": [
    "### 반복시행\n",
    "- 같은 rv에서 여러개의 표본 데이터를 취하는 경우가 있습니다.\n",
    "- 이 같은 경우에는 독립인 두 개의 rv에서 나온 표본으로 볼 수 있습니다.\n",
    "- f(x_1, x_2, x_3, \\cdots, x_N ) = \\prod_{i=1}^N f(x_i)\n",
    "- ex) 카테고리 값이 1~6인 dice 각각의 theta가 모두 1/6로 pair할때, np.array[(1,0,0,0,0,0),(1,0,0,0,0,0)(1,0,0,0,0,0)(1,0,0,0,0,0)(1,0,0,0,0,0)(1,0,0,0,0,0)] 이 나올 확률은 (1/6)^6입니다!!"
   ]
  },
  {
   "cell_type": "markdown",
   "metadata": {},
   "source": [
    "### 조건부 확률 분포\n",
    "- 독립인 rv X,Y의 조건부 pmf는 해당 rv의 marginal pdf와 같습니다.\n",
    "- f_{X \\mid Y} (x | y) = \\dfrac{f_{XY}(x, y)}{f_{Y}(y)} = \\dfrac{f_{X}(x) f_{Y}(y)}{f_{Y}(y)} = f_{X}(x)\n",
    "- f_{Y \\mid X} (y | x) = \\dfrac{f_{XY}(x, y)}{f_{X}(x)} = \\dfrac{f_{X}(x) f_{Y}(y)}{f_{X}(x)} = f_{Y}(y)"
   ]
  },
  {
   "cell_type": "markdown",
   "metadata": {},
   "source": [
    "### 독립 확률 변수의 기댓값\n",
    "- 독립인 두 확률 변수 X,Y의 기댓값은\n",
    "- E[XY] = E[X]E[Y]\n",
    "- 이에 따라서 E[(X-E_X)(Y-E_Y)] = 0 이 충족됩니다."
   ]
  },
  {
   "cell_type": "markdown",
   "metadata": {},
   "source": [
    "## 공분산과 상관계수\n",
    "- 샘플 공분산(samele covariance)\n",
    "- 샘플 상관계수(sample correlation coefficient)\n",
    "- 확률 변수의 공분산과 상관계수"
   ]
  },
  {
   "cell_type": "markdown",
   "metadata": {},
   "source": [
    "### 샘플 공분산(sample covariace)\n",
    "- s_xy = 1/n * sigma(from 1 to N) (x_i - mu_x)(y_i - mu_y)\n",
    "- 샘플 분산과 마찬가지로 샘플 공분산도 자료가 mu로 부터 얼마나 떨어져 있는지를 나타낸 것입니다.\n",
    "- 평균값 위치와 샘플 위치를 연결하는 사각형의 면적을 사용합니다.(자료값의 위치에 따라서 부호가 달라집니다. (x= +,- , y= +,-)\n",
    "- 결합 분포의 평균을 중심으로 각 자료들이 어떻게 분포되어 있는지를 보여줍니다.(disperse)\n",
    "- 따라서 공분산의 부호는 자료가 같은 부호를 가지는지에 대한 일종의 방향성을 제시해줍니다."
   ]
  },
  {
   "cell_type": "markdown",
   "metadata": {},
   "source": [
    "### 샘플 상관계수(sample correlation coefficient)\n",
    "- r_xy = s_xy(sample cov) / (std_x * std_y) -- Pearson cor coeff\n",
    "- 샘플 공분산을 각각의 확률 변수의 표준 편차로 정규화(normalize)한 값입니다.\n",
    "- 공분산은 평균을 중심으로 자료들이 어떻게 분포되어 있는지 크기와 방향성을 제시합니다.\n",
    "- 그 크기는 각 rv의 variance가 제시해주기 때문에 정규화한 상관계수는 분포의 방향성만을 제시해줍니다."
   ]
  },
  {
   "cell_type": "markdown",
   "metadata": {},
   "source": [
    "### 확률변수의 공분산과 상관계수\n",
    "- 이전까지는 샘플의 cov와 cor에 대해서 알아보았기 때문에, 인자로 x,y,var()를 사용했습니다. \n",
    "- 이를 확률변수의 cov와 cor로 확장시키기 위해서, X,Y,E[],Var[]의 인자를 사용합니다.\n",
    "- Cov[X,Y] = E[(X-E[x])(Y-E[Y])\n",
    "- p[X,Y] = Cov[X,Y] / std[X] * std[Y] (-1<=p<=1)\n",
    "    - p=1: 완전선형 상관관계\n",
    "    - p=0: 무상관(독립과는 다릅니다.)\n",
    "    - p=-1: 완전선형 반상관관계\n",
    "- 상관계수는 스캐터플롯의 기울기와는 상관이 없습니다.\n",
    "- 개별 자료가 상관계수에 미치는 영향력이 각각 다릅니다.\n",
    "    - 개별 자료의 분포가 매우 달라도 상관계수가 같게 나올 수 있습니다.(depend on Frank Anscombe)"
   ]
  },
  {
   "cell_type": "markdown",
   "metadata": {},
   "source": [
    "### 다변수 확률 변수의 샘플 공분산\n",
    "- M차원 확률 변수를 생각해봅니다. (데이터의 개수는 N개) \n",
    "- 이 확률 변수는 N X M 차원의 특징행렬(feature matrix) X 가 나옵니다.\n",
    "- 각 컬럼이 의미하는 것은 (C_1,C_2,...,C_M) 각각의 변수들의 data set입니다. \n",
    "- 각 컬럼의 기댓값 x_bar_1,...,x_bar_M 을 구합니다. 이들의 집합은 하나의 벡터가 됩니다.(x_bar vector)\n",
    "- 특징행렬의 컬럼에 mapping 되는 expectation을 빼줍니다.(X-x_bar vector) 이를 X_0으로 새롭게 지정해줍니다.\n",
    "- X_0은 평균을 제거하여 샘플 평균이 0이 된 데이터 행렬(zero-mean feature matrix)를 뜻합니다.\n",
    "- X_0를 제곱하여(np.dot(X_0.T,X_0)) 계산을 해주면 diagnoal part는 각 변수들의 분산이 되고, 나머지 부분들은 공분산 component가 됩니다.\n",
    "- 아래는 다변수 확률 변수의 공분산을 정의한 것입니다."
   ]
  },
  {
   "cell_type": "markdown",
   "metadata": {},
   "source": [
    "\\Sigma = \\text{Cov}[X] = \\text{E} \\left[ (X - \\text{E}[X])(X - \\text{E}[X])^T \\right] =\n",
    "\\begin{bmatrix}\n",
    "\\begin{eqnarray}\n",
    "\\sigma_{x_1}^2     \\;\\;  &  \\sigma_{x_1x_2} \\;\\;&  \\sigma_{x_1x_3} \\;\\;&  \\cdots &  \\sigma_{x_1x_M} \\\\\n",
    "\\sigma_{x_1x_2}   \\;\\;    &  \\sigma_{x_2}^2 \\;\\;&  \\sigma_{x_2x_3} \\;\\;&  \\cdots &  \\sigma_{x_2x_M} \\\\\n",
    "\\vdots       &  \\vdots &  \\vdots &  \\ddots &  \\vdots \\\\\n",
    "\\sigma_{x_1x_M}   \\;\\;    &  \\sigma_{x_2x_M} \\;\\;&  \\sigma_{x_3x_M} \\;\\;&  \\cdots &  \\sigma_{x_M}^2 \\\\\n",
    "\\end{eqnarray}\n",
    "\\end{bmatrix}"
   ]
  }
 ],
 "metadata": {
  "kernelspec": {
   "display_name": "Python 3",
   "language": "python",
   "name": "python3"
  },
  "language_info": {
   "codemirror_mode": {
    "name": "ipython",
    "version": 3
   },
   "file_extension": ".py",
   "mimetype": "text/x-python",
   "name": "python",
   "nbconvert_exporter": "python",
   "pygments_lexer": "ipython3",
   "version": "3.6.4"
  }
 },
 "nbformat": 4,
 "nbformat_minor": 2
}
