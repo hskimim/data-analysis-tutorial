{
 "cells": [
  {
   "cell_type": "markdown",
   "metadata": {},
   "source": [
    "### About Web\n",
    "- Server & Client Architecture\n",
    "- URL(Uniform Resource Locator)\n",
    "- Get & Post\n",
    "- Internet\n",
    "- OSI 7 Layer\n",
    "- cookie & session & cache\n",
    "- Web Status Code\n",
    "- Web Language & Framework\n",
    "- Spider & Bot & Scraping & Crawling"
   ]
  },
  {
   "cell_type": "markdown",
   "metadata": {},
   "source": [
    "#### Server & Client Architecture\n",
    "- Client\n",
    "    - Browser 를 통해 서버에 데이터를 요청 (request)\n",
    "\n",
    "- Server\n",
    "    - Client가 request하면 데이터를 전송 (response)\n",
    "    \n",
    "- Overall framework:\n",
    "    - Client says: Give me the data!!\n",
    "    - Server says: Ok! Here is it!!(Not always)\n",
    "    "
   ]
  },
  {
   "cell_type": "markdown",
   "metadata": {},
   "source": [
    "### URL (Uniform Resorce Locator)\n",
    "- URL is used when a web client makes a request to a server for a resoource.\n",
    "    - client가 request할 때 사용됩니다!\n",
    "- origin URL:\n",
    "http://news.naver.com:80/main/read.nhnmode=LSD&mid=shm&sid1=105&oid=001&aid=0009847211#da_727145\n",
    "- Decomposition of URL\n",
    "- http:// : protocol \n",
    "- news. : subdomain\n",
    "- naver.com : domain\n",
    "- :80/ : port\n",
    "- main/ : path\n",
    "- read.nhn? : page\n",
    "- mode=LSD&mid=shm&sid1=105&oid=001&aid=0009847211 : query\n",
    "- #da_727145 : fragment"
   ]
  },
  {
   "cell_type": "markdown",
   "metadata": {},
   "source": [
    "- protocol: \n",
    "    - 통신 규약이라고 생각하시면 됩니다. 데이터를 주고받을 때, 양 측 통신 장비 사이에서 메시지를 주고 받는 양식과 규칙의 체계입니다.\n",
    "- subdomain:\n",
    "    - 도메인에 발급되는 보조 도메인입니다.\n",
    "- domain:\n",
    "    - 문자로 표시한 인터넷 주소입니다. 원래 인터넷 주소는 IP로 표시되어있지만, 사람이 인지하기 쉽게끔, 문자료 연결시킨 것을 도메인이라고 합니다.\n",
    "    즉, 도메인은 인터넷에서 IP주소를 사람이 기억하기 쉽도록 하기 위해서 만들어진 것입니다.\n",
    "- port:\n",
    "    - 프로그래밍에서, 포트는 '논리적인 접속장소'이며, 특히 TCP/IP를 사용할 때 client program이 network 상의 '특정' server program을 지정하는 방법으로 사용됩니다. 쉽게 생각하자면, client가 요청을 해서 데이터를 받게 되는데, 서버로 들어가기 위한 '열쇠'의 역할을 한다고 생각하면 쉽습니다. HTTP 프로토콜 포트 80번은 보통 생략됩니다.\n",
    "- path:\n",
    "    - 말 그래로, 경로를 의미합니다. 연결할 파일이 들어 있는 폴더로써 '/'로 구분됩니다.\n",
    "- page:\n",
    "    - 페이지를 의미합니다. 뒤에 나온 .nhn은 해당 서버 관리자가 규정한 것입니다.\n",
    "    다르게 해석하면 연결한 파일의 실제 파일 이름이라고 생각할 수 있습니다.\n",
    "- query:\n",
    "    - 해당 URL의 데이터 정보가 나온 것입니다. 파일 이름을 포함한 경로와 쿼리 사이에 ?가 있는데, 이 뒤에 나오는 쿼리는 URL에 전달할 string을 지정합니다. \n",
    "- fragment: \n",
    "    - URL의 마지막에 나오는 요소로써 기존 자원의 종속되는 자원을 나타냅니다."
   ]
  },
  {
   "cell_type": "markdown",
   "metadata": {},
   "source": [
    "### Get & Post\n",
    "- Get\n",
    "    - URL에 데이터가 포함됩니다 -> 데이터 노출(포함), 길이 제한있습니다.\n",
    "\n",
    "- Post\n",
    "    - 데이터가 Body에 숨겨져 있습니다 -> 데이터가 숨겨짐 -> form을 이용해서 submit\n",
    "    \n",
    "- 언제 Get? 언제 Post?\n",
    "    - Get은 가져오는 것이고, Post는 수행하는 것!! (read & wirte의 개념에서 생각하자)"
   ]
  },
  {
   "cell_type": "markdown",
   "metadata": {},
   "source": [
    "### Internet\n",
    "- 컴퓨터로 연결하여 TCP/IP(Transmission Control Protocol/Internet Protocol)라는 통신 프로토콜을 이용해 정보를 주고받는 컴퓨터 네트워크"
   ]
  },
  {
   "cell_type": "markdown",
   "metadata": {},
   "source": [
    "### OSI 7 Layer(Open Systems Interconnection Reference Model)\n",
    "- 국제표준화기구에서 개발한 모델로, 컴퓨터 네트워크 프로토콜 디자인과 통신을 계층으로 (hierarchical)하게 나누어 설명한 것입니다.\n",
    "- 하위 계층으로 갈수록 페이로드가 증가합니다.\n",
    "    - 페이로드란 사용에 있어서 전송되는 데이터를 뜻합니다!"
   ]
  },
  {
   "cell_type": "markdown",
   "metadata": {},
   "source": [
    "##### OSI Model"
   ]
  },
  {
   "cell_type": "code",
   "execution_count": 1,
   "metadata": {},
   "outputs": [],
   "source": [
    "import pandas as pd\n",
    "import numpy as np\n",
    "import matplotlib.pyplot as plt"
   ]
  },
  {
   "cell_type": "code",
   "execution_count": 5,
   "metadata": {},
   "outputs": [],
   "source": [
    "layer=['application','presentation','session','transport'\\\n",
    "       ,'network','data link','physical']\n",
    "data=['data','data','data','segments','packets','frames','bits']"
   ]
  },
  {
   "cell_type": "code",
   "execution_count": 15,
   "metadata": {},
   "outputs": [],
   "source": [
    "application=\"user와 가장 가까운 계층\"\n",
    "presentation=\"application 형식을 준비하고 network form으로 변환 그 역도 수행\"\n",
    "session=\"컴퓨터와 서버간 대화가 필요하면 세션을 만들어 설정,조율,app종료\"\n",
    "transport=\"호스트 간 데이터 전송 조율-TCP/IP가 여기서 작동\"\n",
    "network=\"다른 라우터를 통한 라우팅을 비롯한 패킷 전달\"\n",
    "datalink=\"노드 간 데이터 전송을 제공\"\n",
    "physical=\"시스템의 전기적,물리적 표현을 나타낸다.\"\n",
    "ls=[application,presentation,session,transport,network,datalink,physical]"
   ]
  },
  {
   "cell_type": "code",
   "execution_count": 17,
   "metadata": {},
   "outputs": [
    {
     "data": {
      "text/html": [
       "<div>\n",
       "<style scoped>\n",
       "    .dataframe tbody tr th:only-of-type {\n",
       "        vertical-align: middle;\n",
       "    }\n",
       "\n",
       "    .dataframe tbody tr th {\n",
       "        vertical-align: top;\n",
       "    }\n",
       "\n",
       "    .dataframe thead th {\n",
       "        text-align: right;\n",
       "    }\n",
       "</style>\n",
       "<table border=\"1\" class=\"dataframe\">\n",
       "  <thead>\n",
       "    <tr style=\"text-align: right;\">\n",
       "      <th></th>\n",
       "      <th>Data</th>\n",
       "      <th>Layer</th>\n",
       "      <th>detail</th>\n",
       "    </tr>\n",
       "  </thead>\n",
       "  <tbody>\n",
       "    <tr>\n",
       "      <th>host</th>\n",
       "      <td>data</td>\n",
       "      <td>application</td>\n",
       "      <td>user와 가장 가까운 계층</td>\n",
       "    </tr>\n",
       "    <tr>\n",
       "      <th>host</th>\n",
       "      <td>data</td>\n",
       "      <td>presentation</td>\n",
       "      <td>application 형식을 준비하고 network form으로 변환 그 역도 수행</td>\n",
       "    </tr>\n",
       "    <tr>\n",
       "      <th>host</th>\n",
       "      <td>data</td>\n",
       "      <td>session</td>\n",
       "      <td>컴퓨터와 서버간 대화가 필요하면 세션을 만들어 설정,조율,app종료</td>\n",
       "    </tr>\n",
       "    <tr>\n",
       "      <th>host</th>\n",
       "      <td>segments</td>\n",
       "      <td>transport</td>\n",
       "      <td>호스트 간 데이터 전송 조율-TCP/IP가 여기서 작동</td>\n",
       "    </tr>\n",
       "    <tr>\n",
       "      <th>media</th>\n",
       "      <td>packets</td>\n",
       "      <td>network</td>\n",
       "      <td>다른 라우터를 통한 라우팅을 비롯한 패킷 전달</td>\n",
       "    </tr>\n",
       "    <tr>\n",
       "      <th>media</th>\n",
       "      <td>frames</td>\n",
       "      <td>data link</td>\n",
       "      <td>노드 간 데이터 전송을 제공</td>\n",
       "    </tr>\n",
       "    <tr>\n",
       "      <th>media</th>\n",
       "      <td>bits</td>\n",
       "      <td>physical</td>\n",
       "      <td>시스템의 전기적,물리적 표현을 나타낸다.</td>\n",
       "    </tr>\n",
       "  </tbody>\n",
       "</table>\n",
       "</div>"
      ],
      "text/plain": [
       "           Data         Layer                                          detail\n",
       "host       data   application                                 user와 가장 가까운 계층\n",
       "host       data  presentation  application 형식을 준비하고 network form으로 변환 그 역도 수행\n",
       "host       data       session           컴퓨터와 서버간 대화가 필요하면 세션을 만들어 설정,조율,app종료\n",
       "host   segments     transport                  호스트 간 데이터 전송 조율-TCP/IP가 여기서 작동\n",
       "media   packets       network                       다른 라우터를 통한 라우팅을 비롯한 패킷 전달\n",
       "media    frames     data link                                 노드 간 데이터 전송을 제공\n",
       "media      bits      physical                          시스템의 전기적,물리적 표현을 나타낸다."
      ]
     },
     "execution_count": 17,
     "metadata": {},
     "output_type": "execute_result"
    }
   ],
   "source": [
    "osi=pd.DataFrame(index=['host','host','host','host','media','media','media'],\\\n",
    "                 columns=['Data','Layer'])\n",
    "osi['Data']=data\n",
    "osi['Layer']=layer\n",
    "osi['detail']=ls\n",
    "osi"
   ]
  },
  {
   "cell_type": "markdown",
   "metadata": {},
   "source": [
    "굉장히 까다로운 개념인건 확실한 듯합니다..."
   ]
  },
  {
   "cell_type": "markdown",
   "metadata": {},
   "source": [
    "### Cookie & Session & Cache\n",
    "- cookie\n",
    "    - 사용자의 브라우저에 저장(변수를 저장), 보안성이 없습니다.\n",
    "    - 중요 data는 절대 들어가서는 안됩니다! ex) 장바구니 정도..??\n",
    "\n",
    "- session\n",
    "    - 서버에 저장되는 cookie\n",
    "    - 서버에 직접 접근하지 않는 이상, 세션 내에 data 접근을 할 수 없습니다.\n",
    "    - 중요 데이터가 들어가 있습니다. ex)로그인 정보, 개인 정보\n",
    "\n",
    "- cashe\n",
    "    - Homepage 접속 시, css/javascript/png 파일이 browser에 저장(파일 저장)\n",
    "    - 그 후, 같은 homepage 접속 시, 해당 파일은 서버가 아닌 pc에서 가져옵니다.\n",
    "    - 페이지 로딩 속도가 빨라지게 됩니다!\n",
    "    - 다만 홈페이지 관리자가 설정을 변경함에도 불구하고 user interface에서 적용이 안되는 사태가 벌어질 수 있습니다. -> 물론 다양한 해결 방법이 존재합니다!\n",
    "    \n",
    "- 세션은 user 하나하나 인식이 불가합니다. 하지만 정상적 로그인이 가능합니다!!어떻게?!\n",
    "- 바로 cookie와 session의 connection 덕분입니다!!\n",
    "    - server는 cookie값을 가지고, 해당 session이 있는지 확인합니다\n",
    "        -다만 이 sessionID는 보안상의 문제가 있습니다!"
   ]
  },
  {
   "cell_type": "markdown",
   "metadata": {},
   "source": [
    "### HTTP Status Code\n",
    "- server와 client가 데이터를 주고 받으면 주고 받은 결과로 상태 코드를 확인할 수 있습니다"
   ]
  },
  {
   "cell_type": "code",
   "execution_count": 20,
   "metadata": {},
   "outputs": [
    {
     "data": {
      "text/html": [
       "<div>\n",
       "<style scoped>\n",
       "    .dataframe tbody tr th:only-of-type {\n",
       "        vertical-align: middle;\n",
       "    }\n",
       "\n",
       "    .dataframe tbody tr th {\n",
       "        vertical-align: top;\n",
       "    }\n",
       "\n",
       "    .dataframe thead th {\n",
       "        text-align: right;\n",
       "    }\n",
       "</style>\n",
       "<table border=\"1\" class=\"dataframe\">\n",
       "  <thead>\n",
       "    <tr style=\"text-align: right;\">\n",
       "      <th></th>\n",
       "      <th>code</th>\n",
       "      <th>status</th>\n",
       "    </tr>\n",
       "  </thead>\n",
       "  <tbody>\n",
       "    <tr>\n",
       "      <th>0</th>\n",
       "      <td>2xx</td>\n",
       "      <td>success</td>\n",
       "    </tr>\n",
       "    <tr>\n",
       "      <th>1</th>\n",
       "      <td>3xx</td>\n",
       "      <td>redirection(cache)</td>\n",
       "    </tr>\n",
       "    <tr>\n",
       "      <th>2</th>\n",
       "      <td>4xx</td>\n",
       "      <td>request error</td>\n",
       "    </tr>\n",
       "    <tr>\n",
       "      <th>3</th>\n",
       "      <td>5xx</td>\n",
       "      <td>server error</td>\n",
       "    </tr>\n",
       "  </tbody>\n",
       "</table>\n",
       "</div>"
      ],
      "text/plain": [
       "  code              status\n",
       "0  2xx             success\n",
       "1  3xx  redirection(cache)\n",
       "2  4xx       request error\n",
       "3  5xx        server error"
      ]
     },
     "execution_count": 20,
     "metadata": {},
     "output_type": "execute_result"
    }
   ],
   "source": [
    "statuscode=pd.DataFrame(columns=[\"code\",\"status\"])\n",
    "statuscode[\"code\"]=['2xx','3xx','4xx','5xx']\n",
    "statuscode['status']=['success','redirection(cache)','request error','server error']\n",
    "statuscode"
   ]
  }
 ],
 "metadata": {
  "kernelspec": {
   "display_name": "Python 3",
   "language": "python",
   "name": "python3"
  },
  "language_info": {
   "codemirror_mode": {
    "name": "ipython",
    "version": 3
   },
   "file_extension": ".py",
   "mimetype": "text/x-python",
   "name": "python",
   "nbconvert_exporter": "python",
   "pygments_lexer": "ipython3",
   "version": "3.6.4"
  }
 },
 "nbformat": 4,
 "nbformat_minor": 2
}
