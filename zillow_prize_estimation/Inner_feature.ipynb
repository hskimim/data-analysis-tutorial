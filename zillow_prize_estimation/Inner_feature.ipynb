{
 "cells": [
  {
   "cell_type": "code",
   "execution_count": 1,
   "metadata": {},
   "outputs": [],
   "source": [
    "import numpy as np\n",
    "import pandas as pd\n",
    "import matplotlib as mpl\n",
    "import matplotlib.pylab as plt\n",
    "import seaborn as sns\n",
    "import scipy as sp\n",
    "import statsmodels.api as sm\n",
    "from patsy import dmatrix"
   ]
  },
  {
   "cell_type": "markdown",
   "metadata": {},
   "source": [
    "## 0) Data Load"
   ]
  },
  {
   "cell_type": "code",
   "execution_count": 2,
   "metadata": {},
   "outputs": [],
   "source": [
    "train_16 = pd.read_csv('train_2016_v2.csv',parse_dates=['transactiondate'],dtype={'parcelid':int})"
   ]
  },
  {
   "cell_type": "code",
   "execution_count": 3,
   "metadata": {
    "scrolled": true
   },
   "outputs": [],
   "source": [
    "prop_16 = pd.read_csv('properties_2016.csv',dtype={'fireplaceflag':object, 'taxdelinquencyflag':object, 'fireplaceflag':object, 'propertyzoningdesc':object, 'propertycountylandusecode':object, 'hashottuborspa':object})"
   ]
  },
  {
   "cell_type": "code",
   "execution_count": 4,
   "metadata": {},
   "outputs": [],
   "source": [
    "train_df1 = pd.merge(train_16,prop_16,on='parcelid', how ='left')"
   ]
  },
  {
   "cell_type": "code",
   "execution_count": 5,
   "metadata": {},
   "outputs": [],
   "source": [
    "train_df = train_df1.copy()"
   ]
  },
  {
   "cell_type": "markdown",
   "metadata": {},
   "source": [
    "train_17 = pd.read_csv('train_2017.csv',parse_dates=['transactiondate'],dtype={\"parcelid\": int})"
   ]
  },
  {
   "cell_type": "markdown",
   "metadata": {},
   "source": [
    "prop_17 = pd.read_csv('properties_2017.csv',dtype={\"parcelid\": int})"
   ]
  },
  {
   "cell_type": "markdown",
   "metadata": {},
   "source": [
    "train_df2 = pd.merge(train_17,prop_17,on='parcelid', how ='left',dtype={\"parcelid\": int})"
   ]
  },
  {
   "cell_type": "markdown",
   "metadata": {},
   "source": [
    "train_df = pd.concat([train_df1,train_df2])"
   ]
  },
  {
   "cell_type": "markdown",
   "metadata": {},
   "source": [
    "17년 데이터는 생략한 상태"
   ]
  },
  {
   "cell_type": "markdown",
   "metadata": {},
   "source": [
    "# 1) Analysis Outer-Feature"
   ]
  },
  {
   "cell_type": "markdown",
   "metadata": {},
   "source": [
    "## 1.1) Overview the Inner-feature data"
   ]
  },
  {
   "cell_type": "markdown",
   "metadata": {},
   "source": [
    "- 'architecturalstyletypeid'\n",
    "- 'bathroomcnt'\n",
    "- 'calculatedbathnbr'\n",
    "- 'threequarterbathnbr'\n",
    "- 'fullbathcnt'\n",
    "- 'bedroomcnt'\n",
    "- 'roomcnt’\n",
    "- 'garagecarcnt'\n",
    "- 'garagetotalsqft'\n",
    "- 'airconditioningtypeid'\n",
    "- 'fireplacecnt'\n",
    "- 'fireplaceflag'\n",
    "- 'hashottuborspa'\n",
    "- 'heatingorsystemtypeid'\n",
    "- 'poolcnt'\n",
    "- 'poolsizesum'\n",
    "- 'pooltypeid10'\n",
    "- 'pooltypeid2'\n",
    "- 'pooltypeid7'"
   ]
  },
  {
   "cell_type": "markdown",
   "metadata": {},
   "source": [
    "- inner_feature는 총 18개의 컬럼으로 이뤄져 있고, 분류 기준은 집 구성하는 미시적 요소들에 관한 것이다.\n",
    "- 화장실 갯수를 의미하는 컬럼이 중복된다.(bathroomcnt, calculatebathnbr)"
   ]
  },
  {
   "cell_type": "code",
   "execution_count": 6,
   "metadata": {},
   "outputs": [],
   "source": [
    "inner_feature= [\n",
    "    '에어컨 아이디',\n",
    "    '화장실 갯수',\n",
    "    '화장실 갯수',\n",
    "    '집 내 3/4 욕실 수 (샤워 + 세면대 + 화장실)',\n",
    "    '풀옵션 화장실의 갯수',\n",
    "    '침실 갯수',\n",
    "     '주거지에있는 총 객실 수',\n",
    "    '차고 갯수',\n",
    "    '차고 평방(크기)',\n",
    "    '에이컨 아이디',\n",
    "    '벽난로 수',\n",
    "    '벽난로가 있는지 없는지',\n",
    "    '난방 시스템의 유무',\n",
    "    '난방 시스템의 타입',\n",
    "    '수영장 갯수',\n",
    "    '수영장 크기',\n",
    "     '스파 또는 온천',\n",
    "     '스파 / 온수 욕조가있는 수영장',\n",
    "    ' 온수 욕조가없는 수영장'\n",
    "]"
   ]
  },
  {
   "cell_type": "code",
   "execution_count": 7,
   "metadata": {},
   "outputs": [],
   "source": [
    "inner_feature_col=[\n",
    "'airconditioningtypeid',\n",
    "'bathroomcnt',\n",
    "'calculatedbathnbr',\n",
    "'threequarterbathnbr',\n",
    "'fullbathcnt',\n",
    "'bedroomcnt',\n",
    "'roomcnt',\n",
    "'garagecarcnt',\n",
    "'garagetotalsqft',\n",
    "'airconditioningtypeid',\n",
    "'fireplacecnt',\n",
    "'fireplaceflag',\n",
    "'hashottuborspa',\n",
    "'heatingorsystemtypeid',\n",
    "'poolcnt',\n",
    "'poolsizesum',\n",
    "'pooltypeid10',\n",
    "'pooltypeid2',\n",
    "'pooltypeid7'\n",
    "]"
   ]
  },
  {
   "cell_type": "code",
   "execution_count": 8,
   "metadata": {},
   "outputs": [
    {
     "data": {
      "text/html": [
       "<div>\n",
       "<style scoped>\n",
       "    .dataframe tbody tr th:only-of-type {\n",
       "        vertical-align: middle;\n",
       "    }\n",
       "\n",
       "    .dataframe tbody tr th {\n",
       "        vertical-align: top;\n",
       "    }\n",
       "\n",
       "    .dataframe thead th {\n",
       "        text-align: right;\n",
       "    }\n",
       "</style>\n",
       "<table border=\"1\" class=\"dataframe\">\n",
       "  <thead>\n",
       "    <tr style=\"text-align: right;\">\n",
       "      <th></th>\n",
       "      <th>name</th>\n",
       "      <th>feature</th>\n",
       "    </tr>\n",
       "  </thead>\n",
       "  <tbody>\n",
       "    <tr>\n",
       "      <th>0</th>\n",
       "      <td>airconditioningtypeid</td>\n",
       "      <td>에어컨 아이디</td>\n",
       "    </tr>\n",
       "    <tr>\n",
       "      <th>1</th>\n",
       "      <td>bathroomcnt</td>\n",
       "      <td>화장실 갯수</td>\n",
       "    </tr>\n",
       "    <tr>\n",
       "      <th>2</th>\n",
       "      <td>calculatedbathnbr</td>\n",
       "      <td>화장실 갯수</td>\n",
       "    </tr>\n",
       "    <tr>\n",
       "      <th>3</th>\n",
       "      <td>threequarterbathnbr</td>\n",
       "      <td>집 내 3/4 욕실 수 (샤워 + 세면대 + 화장실)</td>\n",
       "    </tr>\n",
       "    <tr>\n",
       "      <th>4</th>\n",
       "      <td>fullbathcnt</td>\n",
       "      <td>풀옵션 화장실의 갯수</td>\n",
       "    </tr>\n",
       "    <tr>\n",
       "      <th>5</th>\n",
       "      <td>bedroomcnt</td>\n",
       "      <td>침실 갯수</td>\n",
       "    </tr>\n",
       "    <tr>\n",
       "      <th>6</th>\n",
       "      <td>roomcnt</td>\n",
       "      <td>주거지에있는 총 객실 수</td>\n",
       "    </tr>\n",
       "    <tr>\n",
       "      <th>7</th>\n",
       "      <td>garagecarcnt</td>\n",
       "      <td>차고 갯수</td>\n",
       "    </tr>\n",
       "    <tr>\n",
       "      <th>8</th>\n",
       "      <td>garagetotalsqft</td>\n",
       "      <td>차고 평방(크기)</td>\n",
       "    </tr>\n",
       "    <tr>\n",
       "      <th>9</th>\n",
       "      <td>airconditioningtypeid</td>\n",
       "      <td>에이컨 아이디</td>\n",
       "    </tr>\n",
       "    <tr>\n",
       "      <th>10</th>\n",
       "      <td>fireplacecnt</td>\n",
       "      <td>벽난로 수</td>\n",
       "    </tr>\n",
       "    <tr>\n",
       "      <th>11</th>\n",
       "      <td>fireplaceflag</td>\n",
       "      <td>벽난로가 있는지 없는지</td>\n",
       "    </tr>\n",
       "    <tr>\n",
       "      <th>12</th>\n",
       "      <td>hashottuborspa</td>\n",
       "      <td>난방 시스템의 유무</td>\n",
       "    </tr>\n",
       "    <tr>\n",
       "      <th>13</th>\n",
       "      <td>heatingorsystemtypeid</td>\n",
       "      <td>난방 시스템의 타입</td>\n",
       "    </tr>\n",
       "    <tr>\n",
       "      <th>14</th>\n",
       "      <td>poolcnt</td>\n",
       "      <td>수영장 갯수</td>\n",
       "    </tr>\n",
       "    <tr>\n",
       "      <th>15</th>\n",
       "      <td>poolsizesum</td>\n",
       "      <td>수영장 크기</td>\n",
       "    </tr>\n",
       "    <tr>\n",
       "      <th>16</th>\n",
       "      <td>pooltypeid10</td>\n",
       "      <td>스파 또는 온천</td>\n",
       "    </tr>\n",
       "    <tr>\n",
       "      <th>17</th>\n",
       "      <td>pooltypeid2</td>\n",
       "      <td>스파 / 온수 욕조가있는 수영장</td>\n",
       "    </tr>\n",
       "    <tr>\n",
       "      <th>18</th>\n",
       "      <td>pooltypeid7</td>\n",
       "      <td>온수 욕조가없는 수영장</td>\n",
       "    </tr>\n",
       "  </tbody>\n",
       "</table>\n",
       "</div>"
      ],
      "text/plain": [
       "                     name                        feature\n",
       "0   airconditioningtypeid                        에어컨 아이디\n",
       "1             bathroomcnt                         화장실 갯수\n",
       "2       calculatedbathnbr                         화장실 갯수\n",
       "3     threequarterbathnbr  집 내 3/4 욕실 수 (샤워 + 세면대 + 화장실)\n",
       "4             fullbathcnt                    풀옵션 화장실의 갯수\n",
       "5              bedroomcnt                          침실 갯수\n",
       "6                 roomcnt                  주거지에있는 총 객실 수\n",
       "7            garagecarcnt                          차고 갯수\n",
       "8         garagetotalsqft                      차고 평방(크기)\n",
       "9   airconditioningtypeid                        에이컨 아이디\n",
       "10           fireplacecnt                          벽난로 수\n",
       "11          fireplaceflag                   벽난로가 있는지 없는지\n",
       "12         hashottuborspa                     난방 시스템의 유무\n",
       "13  heatingorsystemtypeid                     난방 시스템의 타입\n",
       "14                poolcnt                         수영장 갯수\n",
       "15            poolsizesum                         수영장 크기\n",
       "16           pooltypeid10                       스파 또는 온천\n",
       "17            pooltypeid2              스파 / 온수 욕조가있는 수영장\n",
       "18            pooltypeid7                   온수 욕조가없는 수영장"
      ]
     },
     "execution_count": 8,
     "metadata": {},
     "output_type": "execute_result"
    }
   ],
   "source": [
    "inner_df = pd.DataFrame(columns=['name','feature'])\n",
    "inner_df.name = inner_feature_col\n",
    "inner_df.feature = inner_feature\n",
    "inner_df"
   ]
  },
  {
   "cell_type": "markdown",
   "metadata": {},
   "source": [
    "## 1.2) Datatype of Columns"
   ]
  },
  {
   "cell_type": "code",
   "execution_count": 9,
   "metadata": {
    "scrolled": false
   },
   "outputs": [
    {
     "name": "stdout",
     "output_type": "stream",
     "text": [
      "airconditioningtypeid    float64\n",
      "bathroomcnt              float64\n",
      "calculatedbathnbr        float64\n",
      "threequarterbathnbr      float64\n",
      "fullbathcnt              float64\n",
      "bedroomcnt               float64\n",
      "roomcnt                  float64\n",
      "garagecarcnt             float64\n",
      "garagetotalsqft          float64\n",
      "airconditioningtypeid    float64\n",
      "fireplacecnt             float64\n",
      "fireplaceflag             object\n",
      "hashottuborspa            object\n",
      "heatingorsystemtypeid    float64\n",
      "poolcnt                  float64\n",
      "poolsizesum              float64\n",
      "pooltypeid10             float64\n",
      "pooltypeid2              float64\n",
      "pooltypeid7              float64\n",
      "dtype: object\n",
      "\n",
      "Number of inner_feature_col:  19\n"
     ]
    }
   ],
   "source": [
    "print(train_df[inner_feature_col].dtypes,end='\\n\\n'),\n",
    "print('Number of inner_feature_col:  {}'.format(len(inner_feature_col)))"
   ]
  },
  {
   "cell_type": "markdown",
   "metadata": {},
   "source": [
    "- Inner_feature에는 18개의 컬럼이 있고, 두 개의 object 자료형과 16개의 float형이 있다.\n",
    "- numerical data, object data 를 가지고 있는 컬럼들을 나눠서 분석을 하도록 하겠다."
   ]
  },
  {
   "cell_type": "code",
   "execution_count": 10,
   "metadata": {},
   "outputs": [],
   "source": [
    "inner_numeric = []\n",
    "inner_object = []\n",
    "for col in inner_feature_col:\n",
    "    if train_df[col].dtypes == 'float64':\n",
    "        inner_numeric.append(col)\n",
    "    else:inner_object.append(col)"
   ]
  },
  {
   "cell_type": "code",
   "execution_count": 11,
   "metadata": {},
   "outputs": [
    {
     "name": "stdout",
     "output_type": "stream",
     "text": [
      "17\n"
     ]
    }
   ],
   "source": [
    "inner_numeric\n",
    "print(len(inner_numeric))"
   ]
  },
  {
   "cell_type": "code",
   "execution_count": 12,
   "metadata": {},
   "outputs": [
    {
     "name": "stdout",
     "output_type": "stream",
     "text": [
      "2\n"
     ]
    }
   ],
   "source": [
    "inner_object\n",
    "print(len(inner_object))"
   ]
  },
  {
   "cell_type": "markdown",
   "metadata": {},
   "source": [
    "## 1.3) Individual columns' feature analysis"
   ]
  },
  {
   "cell_type": "markdown",
   "metadata": {},
   "source": [
    "### scatter plot about numerical data"
   ]
  },
  {
   "cell_type": "code",
   "execution_count": 13,
   "metadata": {
    "scrolled": true
   },
   "outputs": [
    {
     "data": {
      "image/png": "[encoded data removed]",
      "text/plain": [
       "<Figure size 1440x1440 with 17 Axes>"
      ]
     },
     "metadata": {},
     "output_type": "display_data"
    }
   ],
   "source": [
    "plt.figure(figsize=(20,20))\n",
    "for idx,col in enumerate(inner_numeric):\n",
    "    plt.subplot(4,5,idx+1)\n",
    "    plt.scatter(train_df[col],train_df.logerror)\n",
    "    plt.xlabel(col)\n",
    "    plt.ylabel('logerror')\n",
    "plt.show()"
   ]
  },
  {
   "cell_type": "markdown",
   "metadata": {},
   "source": [
    "- float 자료형에 대한 scatterplot을 그려본 결과 대부분의 분포 형태가 continuous하지 않고, discrete한 분포를 띄고 있다고 보여진다.\n",
    "- 즉, numeric category를 가지고 있을 수 있는 컬럼이라고 생각하고, 카테고리의 갯수를 40개 미만으로 가지는 데이터에 대해서 다시 분포에 대해 시각화해본다."
   ]
  },
  {
   "cell_type": "code",
   "execution_count": 14,
   "metadata": {},
   "outputs": [
    {
     "name": "stdout",
     "output_type": "stream",
     "text": [
      "1.0     26668\n",
      "13.0     1833\n",
      "5.0       215\n",
      "11.0       63\n",
      "9.0         1\n",
      "3.0         1\n",
      "Name: airconditioningtypeid, dtype: int64\n",
      "2.0     36534\n",
      "3.0     19946\n",
      "1.0     15035\n",
      "2.5      8091\n",
      "4.0      3743\n",
      "1.5      1641\n",
      "0.0      1165\n",
      "5.0      1142\n",
      "3.5      1091\n",
      "4.5       795\n",
      "6.0       448\n",
      "5.5       253\n",
      "7.0       155\n",
      "8.0       114\n",
      "6.5        54\n",
      "9.0        36\n",
      "10.0       14\n",
      "7.5         9\n",
      "11.0        3\n",
      "12.0        3\n",
      "8.5         1\n",
      "20.0        1\n",
      "15.0        1\n",
      "Name: bathroomcnt, dtype: int64\n",
      "2.0     36534\n",
      "3.0     19946\n",
      "1.0     15035\n",
      "2.5      8084\n",
      "4.0      3743\n",
      "1.5      1636\n",
      "5.0      1142\n",
      "3.5      1088\n",
      "4.5       793\n",
      "6.0       448\n",
      "5.5       253\n",
      "7.0       155\n",
      "8.0       114\n",
      "6.5        54\n",
      "9.0        36\n",
      "10.0       14\n",
      "7.5         9\n",
      "11.0        3\n",
      "12.0        3\n",
      "8.5         1\n",
      "20.0        1\n",
      "15.0        1\n",
      "Name: calculatedbathnbr, dtype: int64\n",
      "1.0    11912\n",
      "2.0       90\n",
      "3.0        6\n",
      "4.0        1\n",
      "Name: threequarterbathnbr, dtype: int64\n",
      "2.0     44635\n",
      "3.0     21035\n",
      "1.0     16671\n",
      "4.0      4541\n",
      "5.0      1392\n",
      "6.0       490\n",
      "7.0       163\n",
      "8.0       112\n",
      "9.0        33\n",
      "10.0       13\n",
      "11.0        3\n",
      "12.0        3\n",
      "15.0        1\n",
      "20.0        1\n",
      "Name: fullbathcnt, dtype: int64\n",
      "3.0     35447\n",
      "2.0     22357\n",
      "4.0     20279\n",
      "5.0      5077\n",
      "1.0      3897\n",
      "0.0      1421\n",
      "6.0      1120\n",
      "8.0       274\n",
      "7.0       234\n",
      "9.0        91\n",
      "10.0       35\n",
      "12.0       22\n",
      "11.0       12\n",
      "16.0        4\n",
      "14.0        3\n",
      "13.0        1\n",
      "15.0        1\n",
      "Name: bedroomcnt, dtype: int64\n",
      "0.0     69700\n",
      "6.0      5353\n",
      "7.0      4487\n",
      "5.0      3486\n",
      "8.0      3410\n",
      "4.0      1673\n",
      "9.0      1356\n",
      "10.0      364\n",
      "3.0       271\n",
      "11.0      111\n",
      "12.0       33\n",
      "13.0       11\n",
      "2.0        10\n",
      "14.0        4\n",
      "1.0         3\n",
      "15.0        2\n",
      "18.0        1\n",
      "Name: roomcnt, dtype: int64\n",
      "2.0     21942\n",
      "1.0      6679\n",
      "3.0       663\n",
      "0.0       290\n",
      "4.0       262\n",
      "5.0        54\n",
      "6.0        16\n",
      "7.0        11\n",
      "8.0         7\n",
      "9.0         6\n",
      "11.0        2\n",
      "10.0        2\n",
      "13.0        1\n",
      "24.0        1\n",
      "14.0        1\n",
      "Name: garagecarcnt, dtype: int64\n",
      "1.0     26668\n",
      "13.0     1833\n",
      "5.0       215\n",
      "11.0       63\n",
      "9.0         1\n",
      "3.0         1\n",
      "Name: airconditioningtypeid, dtype: int64\n",
      "1.0    8165\n",
      "2.0    1106\n",
      "3.0     312\n",
      "4.0      21\n",
      "5.0       3\n",
      "Name: fireplacecnt, dtype: int64\n",
      "2.0     38303\n",
      "7.0     15519\n",
      "24.0     1071\n",
      "6.0       970\n",
      "20.0       97\n",
      "13.0       76\n",
      "18.0       25\n",
      "1.0        13\n",
      "14.0        2\n",
      "10.0        2\n",
      "11.0        1\n",
      "12.0        1\n",
      "Name: heatingorsystemtypeid, dtype: int64\n",
      "1.0    17901\n",
      "Name: poolcnt, dtype: int64\n",
      "1.0    1161\n",
      "Name: pooltypeid10, dtype: int64\n",
      "1.0    1204\n",
      "Name: pooltypeid2, dtype: int64\n",
      "1.0    16697\n",
      "Name: pooltypeid7, dtype: int64\n"
     ]
    },
    {
     "data": {
      "text/plain": [
       "15"
      ]
     },
     "execution_count": 14,
     "metadata": {},
     "output_type": "execute_result"
    }
   ],
   "source": [
    "discrete_inner_col = []\n",
    "for idx,col in enumerate(inner_numeric):\n",
    "    if len(train_df[col].value_counts())<40:\n",
    "        print(train_df[col].value_counts())\n",
    "        discrete_inner_col.append(col)\n",
    "len(discrete_inner_col)"
   ]
  },
  {
   "cell_type": "markdown",
   "metadata": {},
   "source": [
    "40 개 미만의 카테고리를 가지는 discrete data column 이 총 15개가 나왔다. 이 컬럼들에 대해서 stripplot,viloinplot을 적용해 시각화한다."
   ]
  },
  {
   "cell_type": "code",
   "execution_count": 15,
   "metadata": {},
   "outputs": [
    {
     "data": {
      "image/png": "[encoded data removed]",
      "text/plain": [
       "<Figure size 1440x1440 with 15 Axes>"
      ]
     },
     "metadata": {},
     "output_type": "display_data"
    }
   ],
   "source": [
    "plt.figure(figsize=(20,20))\n",
    "for idx,col in enumerate(discrete_inner_col):\n",
    "    plt.subplot(4,5,idx+1)\n",
    "    sns.stripplot(train_df[col],train_df.logerror)\n",
    "    plt.xlabel(col)\n",
    "    plt.ylabel('logerror')\n",
    "plt.show()"
   ]
  },
  {
   "cell_type": "code",
   "execution_count": 16,
   "metadata": {},
   "outputs": [
    {
     "data": {
      "image/png": "[encoded data removed]",
      "text/plain": [
       "<Figure size 1440x1440 with 15 Axes>"
      ]
     },
     "metadata": {},
     "output_type": "display_data"
    }
   ],
   "source": [
    "plt.figure(figsize=(20,20))\n",
    "for idx,col in enumerate(discrete_inner_col):\n",
    "    plt.subplot(4,5,idx+1)\n",
    "    sns.violinplot(train_df[col],train_df.logerror)\n",
    "    plt.xlabel(col)\n",
    "    plt.ylabel('logerror')\n",
    "plt.show()"
   ]
  },
  {
   "cell_type": "markdown",
   "metadata": {},
   "source": [
    "- 카테고리가 하나인 컬럼들이 존재한다.\n",
    "- 카테고리와 분포도를 감안하고 곧 실시할 missing_value가 얼마나 차지할지를 고려하여서 Data cleaning을 실시"
   ]
  },
  {
   "cell_type": "markdown",
   "metadata": {},
   "source": [
    "마지막으로, object datatype을 가지는 컬럼 2개에 대해서도 countplot으로 시각화를 한다."
   ]
  },
  {
   "cell_type": "code",
   "execution_count": 17,
   "metadata": {},
   "outputs": [
    {
     "data": {
      "image/png": "[encoded data removed]",
      "text/plain": [
       "<Figure size 720x720 with 2 Axes>"
      ]
     },
     "metadata": {},
     "output_type": "display_data"
    }
   ],
   "source": [
    "plt.figure(figsize=(10,10))\n",
    "for idx,col in enumerate(inner_object):\n",
    "    plt.subplot(2,1,idx+1)\n",
    "    sns.countplot(train_df[col],data=train_df)\n",
    "    plt.xlabel(col)\n",
    "    plt.ylabel('count')\n",
    "plt.show()"
   ]
  },
  {
   "cell_type": "markdown",
   "metadata": {},
   "source": [
    "- object datatype에 대한 column 의 countplot을 보면, 카테고리가 하나다. \n",
    "- 곧 실시할 data cleaning에서의 imputation strategy에 참고해야 할 사항이다."
   ]
  },
  {
   "cell_type": "markdown",
   "metadata": {},
   "source": [
    "# 2) Analysis Missing value "
   ]
  },
  {
   "cell_type": "markdown",
   "metadata": {},
   "source": [
    "우선 inner-feature 내의 컬럼들로 구성된 데이터 프레임 'inner_df'를 생성해보겠습니다."
   ]
  },
  {
   "cell_type": "code",
   "execution_count": 18,
   "metadata": {},
   "outputs": [
    {
     "data": {
      "text/html": [
       "<div>\n",
       "<style scoped>\n",
       "    .dataframe tbody tr th:only-of-type {\n",
       "        vertical-align: middle;\n",
       "    }\n",
       "\n",
       "    .dataframe tbody tr th {\n",
       "        vertical-align: top;\n",
       "    }\n",
       "\n",
       "    .dataframe thead th {\n",
       "        text-align: right;\n",
       "    }\n",
       "</style>\n",
       "<table border=\"1\" class=\"dataframe\">\n",
       "  <thead>\n",
       "    <tr style=\"text-align: right;\">\n",
       "      <th></th>\n",
       "      <th>airconditioningtypeid</th>\n",
       "      <th>bathroomcnt</th>\n",
       "      <th>calculatedbathnbr</th>\n",
       "      <th>threequarterbathnbr</th>\n",
       "      <th>fullbathcnt</th>\n",
       "      <th>bedroomcnt</th>\n",
       "      <th>roomcnt</th>\n",
       "      <th>garagecarcnt</th>\n",
       "      <th>garagetotalsqft</th>\n",
       "      <th>airconditioningtypeid</th>\n",
       "      <th>fireplacecnt</th>\n",
       "      <th>fireplaceflag</th>\n",
       "      <th>hashottuborspa</th>\n",
       "      <th>heatingorsystemtypeid</th>\n",
       "      <th>poolcnt</th>\n",
       "      <th>poolsizesum</th>\n",
       "      <th>pooltypeid10</th>\n",
       "      <th>pooltypeid2</th>\n",
       "      <th>pooltypeid7</th>\n",
       "    </tr>\n",
       "  </thead>\n",
       "  <tbody>\n",
       "    <tr>\n",
       "      <th>90270</th>\n",
       "      <td>1.0</td>\n",
       "      <td>1.0</td>\n",
       "      <td>1.0</td>\n",
       "      <td>NaN</td>\n",
       "      <td>1.0</td>\n",
       "      <td>1.0</td>\n",
       "      <td>0.0</td>\n",
       "      <td>NaN</td>\n",
       "      <td>NaN</td>\n",
       "      <td>1.0</td>\n",
       "      <td>NaN</td>\n",
       "      <td>NaN</td>\n",
       "      <td>NaN</td>\n",
       "      <td>2.0</td>\n",
       "      <td>1.0</td>\n",
       "      <td>NaN</td>\n",
       "      <td>NaN</td>\n",
       "      <td>NaN</td>\n",
       "      <td>1.0</td>\n",
       "    </tr>\n",
       "    <tr>\n",
       "      <th>90271</th>\n",
       "      <td>NaN</td>\n",
       "      <td>3.0</td>\n",
       "      <td>3.0</td>\n",
       "      <td>NaN</td>\n",
       "      <td>3.0</td>\n",
       "      <td>3.0</td>\n",
       "      <td>0.0</td>\n",
       "      <td>NaN</td>\n",
       "      <td>NaN</td>\n",
       "      <td>NaN</td>\n",
       "      <td>NaN</td>\n",
       "      <td>NaN</td>\n",
       "      <td>NaN</td>\n",
       "      <td>2.0</td>\n",
       "      <td>NaN</td>\n",
       "      <td>NaN</td>\n",
       "      <td>NaN</td>\n",
       "      <td>NaN</td>\n",
       "      <td>NaN</td>\n",
       "    </tr>\n",
       "    <tr>\n",
       "      <th>90272</th>\n",
       "      <td>NaN</td>\n",
       "      <td>2.0</td>\n",
       "      <td>2.0</td>\n",
       "      <td>NaN</td>\n",
       "      <td>2.0</td>\n",
       "      <td>4.0</td>\n",
       "      <td>0.0</td>\n",
       "      <td>NaN</td>\n",
       "      <td>NaN</td>\n",
       "      <td>NaN</td>\n",
       "      <td>NaN</td>\n",
       "      <td>NaN</td>\n",
       "      <td>NaN</td>\n",
       "      <td>NaN</td>\n",
       "      <td>NaN</td>\n",
       "      <td>NaN</td>\n",
       "      <td>NaN</td>\n",
       "      <td>NaN</td>\n",
       "      <td>NaN</td>\n",
       "    </tr>\n",
       "    <tr>\n",
       "      <th>90273</th>\n",
       "      <td>NaN</td>\n",
       "      <td>2.0</td>\n",
       "      <td>2.0</td>\n",
       "      <td>NaN</td>\n",
       "      <td>2.0</td>\n",
       "      <td>2.0</td>\n",
       "      <td>0.0</td>\n",
       "      <td>NaN</td>\n",
       "      <td>NaN</td>\n",
       "      <td>NaN</td>\n",
       "      <td>NaN</td>\n",
       "      <td>NaN</td>\n",
       "      <td>NaN</td>\n",
       "      <td>2.0</td>\n",
       "      <td>NaN</td>\n",
       "      <td>NaN</td>\n",
       "      <td>NaN</td>\n",
       "      <td>NaN</td>\n",
       "      <td>NaN</td>\n",
       "    </tr>\n",
       "    <tr>\n",
       "      <th>90274</th>\n",
       "      <td>NaN</td>\n",
       "      <td>1.0</td>\n",
       "      <td>1.0</td>\n",
       "      <td>NaN</td>\n",
       "      <td>1.0</td>\n",
       "      <td>3.0</td>\n",
       "      <td>0.0</td>\n",
       "      <td>NaN</td>\n",
       "      <td>NaN</td>\n",
       "      <td>NaN</td>\n",
       "      <td>NaN</td>\n",
       "      <td>NaN</td>\n",
       "      <td>NaN</td>\n",
       "      <td>7.0</td>\n",
       "      <td>NaN</td>\n",
       "      <td>NaN</td>\n",
       "      <td>NaN</td>\n",
       "      <td>NaN</td>\n",
       "      <td>NaN</td>\n",
       "    </tr>\n",
       "  </tbody>\n",
       "</table>\n",
       "</div>"
      ],
      "text/plain": [
       "       airconditioningtypeid  bathroomcnt  calculatedbathnbr  \\\n",
       "90270                    1.0          1.0                1.0   \n",
       "90271                    NaN          3.0                3.0   \n",
       "90272                    NaN          2.0                2.0   \n",
       "90273                    NaN          2.0                2.0   \n",
       "90274                    NaN          1.0                1.0   \n",
       "\n",
       "       threequarterbathnbr  fullbathcnt  bedroomcnt  roomcnt  garagecarcnt  \\\n",
       "90270                  NaN          1.0         1.0      0.0           NaN   \n",
       "90271                  NaN          3.0         3.0      0.0           NaN   \n",
       "90272                  NaN          2.0         4.0      0.0           NaN   \n",
       "90273                  NaN          2.0         2.0      0.0           NaN   \n",
       "90274                  NaN          1.0         3.0      0.0           NaN   \n",
       "\n",
       "       garagetotalsqft  airconditioningtypeid  fireplacecnt fireplaceflag  \\\n",
       "90270              NaN                    1.0           NaN           NaN   \n",
       "90271              NaN                    NaN           NaN           NaN   \n",
       "90272              NaN                    NaN           NaN           NaN   \n",
       "90273              NaN                    NaN           NaN           NaN   \n",
       "90274              NaN                    NaN           NaN           NaN   \n",
       "\n",
       "      hashottuborspa  heatingorsystemtypeid  poolcnt  poolsizesum  \\\n",
       "90270            NaN                    2.0      1.0          NaN   \n",
       "90271            NaN                    2.0      NaN          NaN   \n",
       "90272            NaN                    NaN      NaN          NaN   \n",
       "90273            NaN                    2.0      NaN          NaN   \n",
       "90274            NaN                    7.0      NaN          NaN   \n",
       "\n",
       "       pooltypeid10  pooltypeid2  pooltypeid7  \n",
       "90270           NaN          NaN          1.0  \n",
       "90271           NaN          NaN          NaN  \n",
       "90272           NaN          NaN          NaN  \n",
       "90273           NaN          NaN          NaN  \n",
       "90274           NaN          NaN          NaN  "
      ]
     },
     "execution_count": 18,
     "metadata": {},
     "output_type": "execute_result"
    }
   ],
   "source": [
    "inner_df = train_df[inner_feature_col]\n",
    "inner_df.tail()"
   ]
  },
  {
   "cell_type": "code",
   "execution_count": 19,
   "metadata": {},
   "outputs": [
    {
     "data": {
      "text/html": [
       "<div>\n",
       "<style scoped>\n",
       "    .dataframe tbody tr th:only-of-type {\n",
       "        vertical-align: middle;\n",
       "    }\n",
       "\n",
       "    .dataframe tbody tr th {\n",
       "        vertical-align: top;\n",
       "    }\n",
       "\n",
       "    .dataframe thead th {\n",
       "        text-align: right;\n",
       "    }\n",
       "</style>\n",
       "<table border=\"1\" class=\"dataframe\">\n",
       "  <thead>\n",
       "    <tr style=\"text-align: right;\">\n",
       "      <th></th>\n",
       "      <th>index</th>\n",
       "      <th>col</th>\n",
       "      <th>missing_cnt</th>\n",
       "      <th>missing_ratio</th>\n",
       "    </tr>\n",
       "  </thead>\n",
       "  <tbody>\n",
       "    <tr>\n",
       "      <th>0</th>\n",
       "      <td>1</td>\n",
       "      <td>bathroomcnt</td>\n",
       "      <td>0</td>\n",
       "      <td>0.000000</td>\n",
       "    </tr>\n",
       "    <tr>\n",
       "      <th>1</th>\n",
       "      <td>5</td>\n",
       "      <td>bedroomcnt</td>\n",
       "      <td>0</td>\n",
       "      <td>0.000000</td>\n",
       "    </tr>\n",
       "    <tr>\n",
       "      <th>2</th>\n",
       "      <td>6</td>\n",
       "      <td>roomcnt</td>\n",
       "      <td>0</td>\n",
       "      <td>0.000000</td>\n",
       "    </tr>\n",
       "    <tr>\n",
       "      <th>3</th>\n",
       "      <td>2</td>\n",
       "      <td>calculatedbathnbr</td>\n",
       "      <td>1182</td>\n",
       "      <td>0.013093</td>\n",
       "    </tr>\n",
       "    <tr>\n",
       "      <th>4</th>\n",
       "      <td>4</td>\n",
       "      <td>fullbathcnt</td>\n",
       "      <td>1182</td>\n",
       "      <td>0.013093</td>\n",
       "    </tr>\n",
       "    <tr>\n",
       "      <th>5</th>\n",
       "      <td>13</td>\n",
       "      <td>heatingorsystemtypeid</td>\n",
       "      <td>34195</td>\n",
       "      <td>0.378787</td>\n",
       "    </tr>\n",
       "    <tr>\n",
       "      <th>6</th>\n",
       "      <td>7</td>\n",
       "      <td>garagecarcnt</td>\n",
       "      <td>60338</td>\n",
       "      <td>0.668380</td>\n",
       "    </tr>\n",
       "    <tr>\n",
       "      <th>7</th>\n",
       "      <td>8</td>\n",
       "      <td>garagetotalsqft</td>\n",
       "      <td>60338</td>\n",
       "      <td>0.668380</td>\n",
       "    </tr>\n",
       "    <tr>\n",
       "      <th>8</th>\n",
       "      <td>0</td>\n",
       "      <td>airconditioningtypeid</td>\n",
       "      <td>61494</td>\n",
       "      <td>0.681185</td>\n",
       "    </tr>\n",
       "    <tr>\n",
       "      <th>9</th>\n",
       "      <td>9</td>\n",
       "      <td>airconditioningtypeid</td>\n",
       "      <td>61494</td>\n",
       "      <td>0.681185</td>\n",
       "    </tr>\n",
       "    <tr>\n",
       "      <th>10</th>\n",
       "      <td>14</td>\n",
       "      <td>poolcnt</td>\n",
       "      <td>72374</td>\n",
       "      <td>0.801706</td>\n",
       "    </tr>\n",
       "    <tr>\n",
       "      <th>11</th>\n",
       "      <td>18</td>\n",
       "      <td>pooltypeid7</td>\n",
       "      <td>73578</td>\n",
       "      <td>0.815043</td>\n",
       "    </tr>\n",
       "    <tr>\n",
       "      <th>12</th>\n",
       "      <td>3</td>\n",
       "      <td>threequarterbathnbr</td>\n",
       "      <td>78266</td>\n",
       "      <td>0.866973</td>\n",
       "    </tr>\n",
       "    <tr>\n",
       "      <th>13</th>\n",
       "      <td>10</td>\n",
       "      <td>fireplacecnt</td>\n",
       "      <td>80668</td>\n",
       "      <td>0.893581</td>\n",
       "    </tr>\n",
       "    <tr>\n",
       "      <th>14</th>\n",
       "      <td>12</td>\n",
       "      <td>hashottuborspa</td>\n",
       "      <td>87910</td>\n",
       "      <td>0.973802</td>\n",
       "    </tr>\n",
       "    <tr>\n",
       "      <th>15</th>\n",
       "      <td>17</td>\n",
       "      <td>pooltypeid2</td>\n",
       "      <td>89071</td>\n",
       "      <td>0.986663</td>\n",
       "    </tr>\n",
       "    <tr>\n",
       "      <th>16</th>\n",
       "      <td>16</td>\n",
       "      <td>pooltypeid10</td>\n",
       "      <td>89114</td>\n",
       "      <td>0.987139</td>\n",
       "    </tr>\n",
       "    <tr>\n",
       "      <th>17</th>\n",
       "      <td>15</td>\n",
       "      <td>poolsizesum</td>\n",
       "      <td>89306</td>\n",
       "      <td>0.989266</td>\n",
       "    </tr>\n",
       "    <tr>\n",
       "      <th>18</th>\n",
       "      <td>11</td>\n",
       "      <td>fireplaceflag</td>\n",
       "      <td>90053</td>\n",
       "      <td>0.997541</td>\n",
       "    </tr>\n",
       "  </tbody>\n",
       "</table>\n",
       "</div>"
      ],
      "text/plain": [
       "    index                    col  missing_cnt  missing_ratio\n",
       "0       1            bathroomcnt            0       0.000000\n",
       "1       5             bedroomcnt            0       0.000000\n",
       "2       6                roomcnt            0       0.000000\n",
       "3       2      calculatedbathnbr         1182       0.013093\n",
       "4       4            fullbathcnt         1182       0.013093\n",
       "5      13  heatingorsystemtypeid        34195       0.378787\n",
       "6       7           garagecarcnt        60338       0.668380\n",
       "7       8        garagetotalsqft        60338       0.668380\n",
       "8       0  airconditioningtypeid        61494       0.681185\n",
       "9       9  airconditioningtypeid        61494       0.681185\n",
       "10     14                poolcnt        72374       0.801706\n",
       "11     18            pooltypeid7        73578       0.815043\n",
       "12      3    threequarterbathnbr        78266       0.866973\n",
       "13     10           fireplacecnt        80668       0.893581\n",
       "14     12         hashottuborspa        87910       0.973802\n",
       "15     17            pooltypeid2        89071       0.986663\n",
       "16     16           pooltypeid10        89114       0.987139\n",
       "17     15            poolsizesum        89306       0.989266\n",
       "18     11          fireplaceflag        90053       0.997541"
      ]
     },
     "execution_count": 19,
     "metadata": {},
     "output_type": "execute_result"
    }
   ],
   "source": [
    "missing_inner_df = inner_df.isnull().sum().reset_index()\n",
    "missing_inner_df.columns = ['col','missing_cnt']\n",
    "missing_inner_df['missing_ratio'] = missing_inner_df.missing_cnt / len(inner_df)\n",
    "missing_inner_df.sort_values(by='missing_ratio',inplace=True)\n",
    "missing_inner_df.reset_index(inplace=True)\n",
    "missing_inner_df"
   ]
  },
  {
   "cell_type": "code",
   "execution_count": 20,
   "metadata": {},
   "outputs": [
    {
     "data": {
      "image/png": "[encoded data removed]",
      "text/plain": [
       "<Figure size 864x576 with 1 Axes>"
      ]
     },
     "metadata": {},
     "output_type": "display_data"
    }
   ],
   "source": [
    "plt.figure(figsize=(12,8))\n",
    "plt.barh(missing_inner_df.col,missing_inner_df.missing_ratio)\n",
    "plt.title('Missing value ratio in Inner feature')\n",
    "plt.xlabel('missing value ratio')\n",
    "plt.ylabel('columns')\n",
    "plt.tight_layout()\n",
    "plt.show()"
   ]
  },
  {
   "cell_type": "markdown",
   "metadata": {},
   "source": [
    "## 2.1) Fill the Missing data"
   ]
  },
  {
   "cell_type": "code",
   "execution_count": 21,
   "metadata": {},
   "outputs": [
    {
     "data": {
      "text/html": [
       "<div>\n",
       "<style scoped>\n",
       "    .dataframe tbody tr th:only-of-type {\n",
       "        vertical-align: middle;\n",
       "    }\n",
       "\n",
       "    .dataframe tbody tr th {\n",
       "        vertical-align: top;\n",
       "    }\n",
       "\n",
       "    .dataframe thead th {\n",
       "        text-align: right;\n",
       "    }\n",
       "</style>\n",
       "<table border=\"1\" class=\"dataframe\">\n",
       "  <thead>\n",
       "    <tr style=\"text-align: right;\">\n",
       "      <th></th>\n",
       "      <th>index</th>\n",
       "      <th>col</th>\n",
       "      <th>missing_cnt</th>\n",
       "      <th>missing_ratio</th>\n",
       "    </tr>\n",
       "  </thead>\n",
       "  <tbody>\n",
       "    <tr>\n",
       "      <th>0</th>\n",
       "      <td>1</td>\n",
       "      <td>bathroomcnt</td>\n",
       "      <td>0</td>\n",
       "      <td>0.000000</td>\n",
       "    </tr>\n",
       "    <tr>\n",
       "      <th>1</th>\n",
       "      <td>5</td>\n",
       "      <td>bedroomcnt</td>\n",
       "      <td>0</td>\n",
       "      <td>0.000000</td>\n",
       "    </tr>\n",
       "    <tr>\n",
       "      <th>2</th>\n",
       "      <td>6</td>\n",
       "      <td>roomcnt</td>\n",
       "      <td>0</td>\n",
       "      <td>0.000000</td>\n",
       "    </tr>\n",
       "    <tr>\n",
       "      <th>3</th>\n",
       "      <td>2</td>\n",
       "      <td>calculatedbathnbr</td>\n",
       "      <td>1182</td>\n",
       "      <td>0.013093</td>\n",
       "    </tr>\n",
       "    <tr>\n",
       "      <th>4</th>\n",
       "      <td>4</td>\n",
       "      <td>fullbathcnt</td>\n",
       "      <td>1182</td>\n",
       "      <td>0.013093</td>\n",
       "    </tr>\n",
       "    <tr>\n",
       "      <th>5</th>\n",
       "      <td>13</td>\n",
       "      <td>heatingorsystemtypeid</td>\n",
       "      <td>34195</td>\n",
       "      <td>0.378787</td>\n",
       "    </tr>\n",
       "    <tr>\n",
       "      <th>6</th>\n",
       "      <td>7</td>\n",
       "      <td>garagecarcnt</td>\n",
       "      <td>60338</td>\n",
       "      <td>0.668380</td>\n",
       "    </tr>\n",
       "    <tr>\n",
       "      <th>7</th>\n",
       "      <td>8</td>\n",
       "      <td>garagetotalsqft</td>\n",
       "      <td>60338</td>\n",
       "      <td>0.668380</td>\n",
       "    </tr>\n",
       "    <tr>\n",
       "      <th>8</th>\n",
       "      <td>0</td>\n",
       "      <td>airconditioningtypeid</td>\n",
       "      <td>61494</td>\n",
       "      <td>0.681185</td>\n",
       "    </tr>\n",
       "    <tr>\n",
       "      <th>9</th>\n",
       "      <td>9</td>\n",
       "      <td>airconditioningtypeid</td>\n",
       "      <td>61494</td>\n",
       "      <td>0.681185</td>\n",
       "    </tr>\n",
       "    <tr>\n",
       "      <th>10</th>\n",
       "      <td>14</td>\n",
       "      <td>poolcnt</td>\n",
       "      <td>72374</td>\n",
       "      <td>0.801706</td>\n",
       "    </tr>\n",
       "    <tr>\n",
       "      <th>11</th>\n",
       "      <td>18</td>\n",
       "      <td>pooltypeid7</td>\n",
       "      <td>73578</td>\n",
       "      <td>0.815043</td>\n",
       "    </tr>\n",
       "    <tr>\n",
       "      <th>12</th>\n",
       "      <td>3</td>\n",
       "      <td>threequarterbathnbr</td>\n",
       "      <td>78266</td>\n",
       "      <td>0.866973</td>\n",
       "    </tr>\n",
       "    <tr>\n",
       "      <th>13</th>\n",
       "      <td>10</td>\n",
       "      <td>fireplacecnt</td>\n",
       "      <td>80668</td>\n",
       "      <td>0.893581</td>\n",
       "    </tr>\n",
       "    <tr>\n",
       "      <th>14</th>\n",
       "      <td>12</td>\n",
       "      <td>hashottuborspa</td>\n",
       "      <td>87910</td>\n",
       "      <td>0.973802</td>\n",
       "    </tr>\n",
       "    <tr>\n",
       "      <th>15</th>\n",
       "      <td>17</td>\n",
       "      <td>pooltypeid2</td>\n",
       "      <td>89071</td>\n",
       "      <td>0.986663</td>\n",
       "    </tr>\n",
       "    <tr>\n",
       "      <th>16</th>\n",
       "      <td>16</td>\n",
       "      <td>pooltypeid10</td>\n",
       "      <td>89114</td>\n",
       "      <td>0.987139</td>\n",
       "    </tr>\n",
       "    <tr>\n",
       "      <th>17</th>\n",
       "      <td>15</td>\n",
       "      <td>poolsizesum</td>\n",
       "      <td>89306</td>\n",
       "      <td>0.989266</td>\n",
       "    </tr>\n",
       "    <tr>\n",
       "      <th>18</th>\n",
       "      <td>11</td>\n",
       "      <td>fireplaceflag</td>\n",
       "      <td>90053</td>\n",
       "      <td>0.997541</td>\n",
       "    </tr>\n",
       "  </tbody>\n",
       "</table>\n",
       "</div>"
      ],
      "text/plain": [
       "    index                    col  missing_cnt  missing_ratio\n",
       "0       1            bathroomcnt            0       0.000000\n",
       "1       5             bedroomcnt            0       0.000000\n",
       "2       6                roomcnt            0       0.000000\n",
       "3       2      calculatedbathnbr         1182       0.013093\n",
       "4       4            fullbathcnt         1182       0.013093\n",
       "5      13  heatingorsystemtypeid        34195       0.378787\n",
       "6       7           garagecarcnt        60338       0.668380\n",
       "7       8        garagetotalsqft        60338       0.668380\n",
       "8       0  airconditioningtypeid        61494       0.681185\n",
       "9       9  airconditioningtypeid        61494       0.681185\n",
       "10     14                poolcnt        72374       0.801706\n",
       "11     18            pooltypeid7        73578       0.815043\n",
       "12      3    threequarterbathnbr        78266       0.866973\n",
       "13     10           fireplacecnt        80668       0.893581\n",
       "14     12         hashottuborspa        87910       0.973802\n",
       "15     17            pooltypeid2        89071       0.986663\n",
       "16     16           pooltypeid10        89114       0.987139\n",
       "17     15            poolsizesum        89306       0.989266\n",
       "18     11          fireplaceflag        90053       0.997541"
      ]
     },
     "execution_count": 21,
     "metadata": {},
     "output_type": "execute_result"
    }
   ],
   "source": [
    "missing_inner_df"
   ]
  },
  {
   "cell_type": "markdown",
   "metadata": {},
   "source": [
    "- 위의 missing_ratio를 보면 5개의 컬럼이 NaN값의 비율이 99%가 넘는다. 이는 두 가지 이유로 나눠질 수 있다.\n",
    "    - 0을 의미 -> 0으로 filling\n",
    "    - 기록이 누락되었음, 그냥 없는 데이터를 의미 -> deleting columns\n",
    "- missing_data에 대해서 delete가 아닌 filling을 선택할 때의 경우의 수\n",
    "    - mean imputation : continous data\n",
    "    - mode imputation : discrete data , categorical data\n",
    "    - 'None' or '0' imputation : missing_data means zero in quantitative or qualitative prospect. "
   ]
  },
  {
   "cell_type": "markdown",
   "metadata": {},
   "source": [
    "#### bathroomcnt : 0.0%\n",
    "- Description: 화장실 갯수\n",
    "- Process: 해당 데이터는 missing_value가 없다. 별 다른 process없이 진행한다. 분포를 좀 더 살펴보면 집별로 화장실 갯수는 2개가 일반적(most common)임을 알 수 있다."
   ]
  },
  {
   "cell_type": "code",
   "execution_count": 22,
   "metadata": {
    "scrolled": true
   },
   "outputs": [
    {
     "data": {
      "text/plain": [
       "0"
      ]
     },
     "execution_count": 22,
     "metadata": {},
     "output_type": "execute_result"
    }
   ],
   "source": [
    "train_df.bathroomcnt.isnull().sum()"
   ]
  },
  {
   "cell_type": "code",
   "execution_count": 23,
   "metadata": {},
   "outputs": [
    {
     "data": {
      "text/plain": [
       "count    90275.000000\n",
       "mean         2.279474\n",
       "std          1.004271\n",
       "min          0.000000\n",
       "25%          2.000000\n",
       "50%          2.000000\n",
       "75%          3.000000\n",
       "max         20.000000\n",
       "Name: bathroomcnt, dtype: float64"
      ]
     },
     "execution_count": 23,
     "metadata": {},
     "output_type": "execute_result"
    }
   ],
   "source": [
    "train_df.bathroomcnt.describe()"
   ]
  },
  {
   "cell_type": "code",
   "execution_count": 24,
   "metadata": {},
   "outputs": [
    {
     "data": {
      "text/plain": [
       "4.0     3743\n",
       "2.5     8091\n",
       "1.0    15035\n",
       "3.0    19946\n",
       "2.0    36534\n",
       "Name: bathroomcnt, dtype: int64"
      ]
     },
     "execution_count": 24,
     "metadata": {},
     "output_type": "execute_result"
    }
   ],
   "source": [
    "train_df.bathroomcnt.value_counts().sort_values().tail()"
   ]
  },
  {
   "cell_type": "code",
   "execution_count": 25,
   "metadata": {},
   "outputs": [
    {
     "data": {
      "text/plain": [
       "23"
      ]
     },
     "execution_count": 25,
     "metadata": {},
     "output_type": "execute_result"
    }
   ],
   "source": [
    "len(train_df.bathroomcnt.value_counts())"
   ]
  },
  {
   "cell_type": "markdown",
   "metadata": {},
   "source": [
    "#### bedroomcnt\t : 0.0%\n",
    "- Description: 침실 갯수\n",
    "- Process: 해당 데이터는 missing_value가 없다. 별 다른 process없이 진행한다. 분포를 좀 더 살펴보면 집별로 침실 갯수는 3개가 일반적(most common)임을 알 수 있다."
   ]
  },
  {
   "cell_type": "code",
   "execution_count": 26,
   "metadata": {},
   "outputs": [
    {
     "data": {
      "text/plain": [
       "0"
      ]
     },
     "execution_count": 26,
     "metadata": {},
     "output_type": "execute_result"
    }
   ],
   "source": [
    "train_df.bedroomcnt.isnull().sum()"
   ]
  },
  {
   "cell_type": "code",
   "execution_count": 27,
   "metadata": {},
   "outputs": [
    {
     "data": {
      "text/plain": [
       "count    90275.000000\n",
       "mean         3.031869\n",
       "std          1.156436\n",
       "min          0.000000\n",
       "25%          2.000000\n",
       "50%          3.000000\n",
       "75%          4.000000\n",
       "max         16.000000\n",
       "Name: bedroomcnt, dtype: float64"
      ]
     },
     "execution_count": 27,
     "metadata": {},
     "output_type": "execute_result"
    }
   ],
   "source": [
    "train_df.bedroomcnt.describe()"
   ]
  },
  {
   "cell_type": "code",
   "execution_count": 28,
   "metadata": {},
   "outputs": [
    {
     "data": {
      "text/plain": [
       "1.0     3897\n",
       "5.0     5077\n",
       "4.0    20279\n",
       "2.0    22357\n",
       "3.0    35447\n",
       "Name: bedroomcnt, dtype: int64"
      ]
     },
     "execution_count": 28,
     "metadata": {},
     "output_type": "execute_result"
    }
   ],
   "source": [
    "train_df.bedroomcnt.value_counts().sort_values().tail()"
   ]
  },
  {
   "cell_type": "code",
   "execution_count": 29,
   "metadata": {},
   "outputs": [
    {
     "data": {
      "text/plain": [
       "17"
      ]
     },
     "execution_count": 29,
     "metadata": {},
     "output_type": "execute_result"
    }
   ],
   "source": [
    "len(train_df.bedroomcnt.value_counts())"
   ]
  },
  {
   "cell_type": "markdown",
   "metadata": {},
   "source": [
    "#### roomcnt\t : 0.0%\n",
    "- Description: 주거지에있는 총 객실 수\n",
    "- Process: 해당 데이터는 missing_value가 없다. 별 다른 process없이 진행한다. 분포를 좀 더 살펴보면 위의 다른 컬럼들과는 달리 0값이 많이 나오고 그 다음이 6개의 객실이 많이 나온다. 즉슨, 객실을 가지고 있지 않은 집이 일반적이며 객실이 있는 집들은 그 갯수가 많은 경향성을 띄고 있다고 해석할 수 있다. 집 값에 영향을 미칠 수 있다고 생각한다."
   ]
  },
  {
   "cell_type": "code",
   "execution_count": 30,
   "metadata": {},
   "outputs": [
    {
     "data": {
      "text/plain": [
       "0"
      ]
     },
     "execution_count": 30,
     "metadata": {},
     "output_type": "execute_result"
    }
   ],
   "source": [
    "train_df.roomcnt.isnull().sum()"
   ]
  },
  {
   "cell_type": "code",
   "execution_count": 31,
   "metadata": {},
   "outputs": [
    {
     "data": {
      "text/plain": [
       "count    90275.000000\n",
       "mean         1.478516\n",
       "std          2.819627\n",
       "min          0.000000\n",
       "25%          0.000000\n",
       "50%          0.000000\n",
       "75%          0.000000\n",
       "max         18.000000\n",
       "Name: roomcnt, dtype: float64"
      ]
     },
     "execution_count": 31,
     "metadata": {},
     "output_type": "execute_result"
    }
   ],
   "source": [
    "train_df.roomcnt.describe()"
   ]
  },
  {
   "cell_type": "code",
   "execution_count": 32,
   "metadata": {},
   "outputs": [
    {
     "data": {
      "text/plain": [
       "8.0     3410\n",
       "5.0     3486\n",
       "7.0     4487\n",
       "6.0     5353\n",
       "0.0    69700\n",
       "Name: roomcnt, dtype: int64"
      ]
     },
     "execution_count": 32,
     "metadata": {},
     "output_type": "execute_result"
    }
   ],
   "source": [
    "train_df.roomcnt.value_counts().sort_values().tail()"
   ]
  },
  {
   "cell_type": "code",
   "execution_count": 33,
   "metadata": {},
   "outputs": [
    {
     "data": {
      "text/plain": [
       "17"
      ]
     },
     "execution_count": 33,
     "metadata": {},
     "output_type": "execute_result"
    }
   ],
   "source": [
    "len(train_df.roomcnt.value_counts())"
   ]
  },
  {
   "cell_type": "markdown",
   "metadata": {},
   "source": [
    "#### calculatedbathnbr\t : 1.3%\n",
    "- Description: 화장실 갯수\n",
    "- Process: 해당 데이터는 위의 bathroomcnt와 같은 것을 의미하는 컬럼이다. 이 컬럼에 대해서 mode로 missing_value을 채워준다."
   ]
  },
  {
   "cell_type": "code",
   "execution_count": 34,
   "metadata": {},
   "outputs": [],
   "source": [
    "train_df.calculatedbathnbr = train_df.calculatedbathnbr.fillna(train_df.calculatedbathnbr.mode()[0])"
   ]
  },
  {
   "cell_type": "code",
   "execution_count": 35,
   "metadata": {},
   "outputs": [
    {
     "data": {
      "text/plain": [
       "count    90275.000000\n",
       "mean         2.305168\n",
       "std          0.970398\n",
       "min          1.000000\n",
       "25%          2.000000\n",
       "50%          2.000000\n",
       "75%          3.000000\n",
       "max         20.000000\n",
       "Name: calculatedbathnbr, dtype: float64"
      ]
     },
     "execution_count": 35,
     "metadata": {},
     "output_type": "execute_result"
    }
   ],
   "source": [
    "train_df.calculatedbathnbr.describe()"
   ]
  },
  {
   "cell_type": "code",
   "execution_count": 36,
   "metadata": {},
   "outputs": [
    {
     "data": {
      "text/plain": [
       "4.0     3743\n",
       "2.5     8084\n",
       "1.0    15035\n",
       "3.0    19946\n",
       "2.0    37716\n",
       "Name: calculatedbathnbr, dtype: int64"
      ]
     },
     "execution_count": 36,
     "metadata": {},
     "output_type": "execute_result"
    }
   ],
   "source": [
    "train_df.calculatedbathnbr.value_counts().sort_values().tail()"
   ]
  },
  {
   "cell_type": "code",
   "execution_count": 37,
   "metadata": {},
   "outputs": [
    {
     "data": {
      "text/plain": [
       "22"
      ]
     },
     "execution_count": 37,
     "metadata": {},
     "output_type": "execute_result"
    }
   ],
   "source": [
    "len(train_df.calculatedbathnbr.value_counts())"
   ]
  },
  {
   "cell_type": "markdown",
   "metadata": {},
   "source": [
    "#### fullbathcnt\t : 1.3%\n",
    "- Description: 풀옵션 화장실의 갯수\n",
    "- Process: 위의 bathroomcnt column과 샘플 측면에서 어떤 것들이 다르게 드러나는지 비교해서 확인해보겠다."
   ]
  },
  {
   "cell_type": "code",
   "execution_count": 38,
   "metadata": {},
   "outputs": [],
   "source": [
    "train_df.fullbathcnt = train_df.fullbathcnt.fillna(train_df.fullbathcnt.mode()[0])"
   ]
  },
  {
   "cell_type": "code",
   "execution_count": 39,
   "metadata": {},
   "outputs": [
    {
     "data": {
      "text/plain": [
       "count    90275.000000\n",
       "mean         2.238073\n",
       "std          0.957208\n",
       "min          1.000000\n",
       "25%          2.000000\n",
       "50%          2.000000\n",
       "75%          3.000000\n",
       "max         20.000000\n",
       "Name: fullbathcnt, dtype: float64"
      ]
     },
     "execution_count": 39,
     "metadata": {},
     "output_type": "execute_result"
    }
   ],
   "source": [
    "train_df.fullbathcnt.describe()"
   ]
  },
  {
   "cell_type": "code",
   "execution_count": 40,
   "metadata": {},
   "outputs": [
    {
     "data": {
      "text/plain": [
       "5.0     1392\n",
       "4.0     4541\n",
       "1.0    16671\n",
       "3.0    21035\n",
       "2.0    45817\n",
       "Name: fullbathcnt, dtype: int64"
      ]
     },
     "execution_count": 40,
     "metadata": {},
     "output_type": "execute_result"
    }
   ],
   "source": [
    "train_df.fullbathcnt.value_counts().sort_values().tail()"
   ]
  },
  {
   "cell_type": "code",
   "execution_count": 41,
   "metadata": {},
   "outputs": [
    {
     "data": {
      "text/plain": [
       "14"
      ]
     },
     "execution_count": 41,
     "metadata": {},
     "output_type": "execute_result"
    }
   ],
   "source": [
    "len(train_df.fullbathcnt.value_counts())"
   ]
  },
  {
   "cell_type": "markdown",
   "metadata": {},
   "source": [
    "#### heatingorsystemtypeid\t : 37.8%\n",
    "- Description: 난방 시스템의 타입\n",
    "- Process: describe method, count_value method를 통해 본결과 난방 시스템은 'Central'이라는 시스템이 가장 일반적으로(most common) 많이 사용되기 때문에, missing_value에 mode값을 넣어준다."
   ]
  },
  {
   "cell_type": "code",
   "execution_count": 42,
   "metadata": {},
   "outputs": [],
   "source": [
    "train_df.heatingorsystemtypeid = train_df.heatingorsystemtypeid.fillna(train_df.heatingorsystemtypeid.mode()[0])"
   ]
  },
  {
   "cell_type": "code",
   "execution_count": 43,
   "metadata": {},
   "outputs": [
    {
     "data": {
      "text/plain": [
       "count    90275.000000\n",
       "mean         3.197065\n",
       "std          3.050651\n",
       "min          1.000000\n",
       "25%          2.000000\n",
       "50%          2.000000\n",
       "75%          2.000000\n",
       "max         24.000000\n",
       "Name: heatingorsystemtypeid, dtype: float64"
      ]
     },
     "execution_count": 43,
     "metadata": {},
     "output_type": "execute_result"
    }
   ],
   "source": [
    "train_df.heatingorsystemtypeid.describe()"
   ]
  },
  {
   "cell_type": "code",
   "execution_count": 44,
   "metadata": {},
   "outputs": [
    {
     "data": {
      "text/plain": [
       "20.0       97\n",
       "6.0       970\n",
       "24.0     1071\n",
       "7.0     15519\n",
       "2.0     72498\n",
       "Name: heatingorsystemtypeid, dtype: int64"
      ]
     },
     "execution_count": 44,
     "metadata": {},
     "output_type": "execute_result"
    }
   ],
   "source": [
    "train_df.heatingorsystemtypeid.value_counts().sort_values().tail()"
   ]
  },
  {
   "cell_type": "code",
   "execution_count": 45,
   "metadata": {},
   "outputs": [
    {
     "data": {
      "text/plain": [
       "12"
      ]
     },
     "execution_count": 45,
     "metadata": {},
     "output_type": "execute_result"
    }
   ],
   "source": [
    "len(train_df.heatingorsystemtypeid.value_counts())"
   ]
  },
  {
   "cell_type": "code",
   "execution_count": 46,
   "metadata": {},
   "outputs": [],
   "source": [
    "train_df.heatingorsystemtypeid = train_df.heatingorsystemtypeid.astype('object')"
   ]
  },
  {
   "cell_type": "markdown",
   "metadata": {},
   "source": [
    "#### garagecarcnt : 66.83%\n",
    "- Description: 차고 갯수\n",
    "- Process: discrete data로써 2개의 차고를 가지고 있는 집들이 가장 많기 때문에 (usual) mode값으로 filling_NaN 을 해준다."
   ]
  },
  {
   "cell_type": "code",
   "execution_count": 47,
   "metadata": {},
   "outputs": [],
   "source": [
    "train_df.garagecarcnt = train_df.garagecarcnt.fillna(train_df.garagecarcnt.mode()[0])"
   ]
  },
  {
   "cell_type": "code",
   "execution_count": 48,
   "metadata": {},
   "outputs": [
    {
     "data": {
      "text/plain": [
       "count    90275.000000\n",
       "mean         1.937657\n",
       "std          0.361560\n",
       "min          0.000000\n",
       "25%          2.000000\n",
       "50%          2.000000\n",
       "75%          2.000000\n",
       "max         24.000000\n",
       "Name: garagecarcnt, dtype: float64"
      ]
     },
     "execution_count": 48,
     "metadata": {},
     "output_type": "execute_result"
    }
   ],
   "source": [
    "train_df.garagecarcnt.describe()"
   ]
  },
  {
   "cell_type": "code",
   "execution_count": 49,
   "metadata": {},
   "outputs": [
    {
     "data": {
      "text/plain": [
       "4.0      262\n",
       "0.0      290\n",
       "3.0      663\n",
       "1.0     6679\n",
       "2.0    82280\n",
       "Name: garagecarcnt, dtype: int64"
      ]
     },
     "execution_count": 49,
     "metadata": {},
     "output_type": "execute_result"
    }
   ],
   "source": [
    "train_df.garagecarcnt.value_counts().sort_values().tail()"
   ]
  },
  {
   "cell_type": "code",
   "execution_count": 50,
   "metadata": {},
   "outputs": [
    {
     "data": {
      "text/plain": [
       "15"
      ]
     },
     "execution_count": 50,
     "metadata": {},
     "output_type": "execute_result"
    }
   ],
   "source": [
    "len(train_df.garagecarcnt.value_counts())"
   ]
  },
  {
   "cell_type": "markdown",
   "metadata": {},
   "source": [
    "#### garagetotalsqft : 66.83%\n",
    "- Description: 차고 평방(크기)\n",
    "- Process: 차고 갯수를 나타내는 컬럼과 크기를 나타내는 컬럼의 missing_value 크기가 같다. zillow측에서 조사할 때 쌍으로 같이 조사한 것으로 보인다. 또한, values의 수가 70이며 sqft(volume)을 측정한 것으로 continuous data이다. 또한, min 값이 0이며 하위 25%까지 0값이 있는 것으로 보아 차고가 없으면 0이라고 따로 기제를 한 것이다. 이에 따라 missing_value에는 mean값으로 채워준다."
   ]
  },
  {
   "cell_type": "code",
   "execution_count": 51,
   "metadata": {},
   "outputs": [],
   "source": [
    "train_df.garagetotalsqft = train_df.garagetotalsqft.fillna(np.mean(train_df.garagetotalsqft))"
   ]
  },
  {
   "cell_type": "code",
   "execution_count": 52,
   "metadata": {},
   "outputs": [
    {
     "data": {
      "text/plain": [
       "count    90275.000000\n",
       "mean       345.521228\n",
       "std        153.763301\n",
       "min          0.000000\n",
       "25%        345.521228\n",
       "50%        345.521228\n",
       "75%        345.521228\n",
       "max       7339.000000\n",
       "Name: garagetotalsqft, dtype: float64"
      ]
     },
     "execution_count": 52,
     "metadata": {},
     "output_type": "execute_result"
    }
   ],
   "source": [
    "train_df.garagetotalsqft.describe()"
   ]
  },
  {
   "cell_type": "code",
   "execution_count": 53,
   "metadata": {},
   "outputs": [
    {
     "data": {
      "text/plain": [
       "360.000000      735\n",
       "441.000000      796\n",
       "400.000000      970\n",
       "0.000000       9209\n",
       "345.521228    60338\n",
       "Name: garagetotalsqft, dtype: int64"
      ]
     },
     "execution_count": 53,
     "metadata": {},
     "output_type": "execute_result"
    }
   ],
   "source": [
    "train_df.garagetotalsqft.value_counts().sort_values().tail()"
   ]
  },
  {
   "cell_type": "code",
   "execution_count": 54,
   "metadata": {},
   "outputs": [
    {
     "data": {
      "text/plain": [
       "871"
      ]
     },
     "execution_count": 54,
     "metadata": {},
     "output_type": "execute_result"
    }
   ],
   "source": [
    "len(train_df.garagetotalsqft.value_counts())"
   ]
  },
  {
   "cell_type": "markdown",
   "metadata": {},
   "source": [
    "#### airconditioningtypeid : 68.16%\n",
    "- Description: 에이컨 아이디\n",
    "- Process: 통계치를 보게 되면, 압도적으로 1번 항목인, 'Central'이 많다. 이에 따라 missing_value에 mode값인 1을 취해준다."
   ]
  },
  {
   "cell_type": "code",
   "execution_count": 55,
   "metadata": {},
   "outputs": [],
   "source": [
    "train_df.airconditioningtypeid = train_df.airconditioningtypeid.fillna(train_df.airconditioningtypeid.mode()[0])"
   ]
  },
  {
   "cell_type": "code",
   "execution_count": 56,
   "metadata": {},
   "outputs": [
    {
     "data": {
      "text/plain": [
       "count    90275.000000\n",
       "mean         1.260271\n",
       "std          1.721860\n",
       "min          1.000000\n",
       "25%          1.000000\n",
       "50%          1.000000\n",
       "75%          1.000000\n",
       "max         13.000000\n",
       "Name: airconditioningtypeid, dtype: float64"
      ]
     },
     "execution_count": 56,
     "metadata": {},
     "output_type": "execute_result"
    }
   ],
   "source": [
    "train_df.airconditioningtypeid.describe()"
   ]
  },
  {
   "cell_type": "code",
   "execution_count": 57,
   "metadata": {},
   "outputs": [
    {
     "data": {
      "text/plain": [
       "3.0         1\n",
       "11.0       63\n",
       "5.0       215\n",
       "13.0     1833\n",
       "1.0     88162\n",
       "Name: airconditioningtypeid, dtype: int64"
      ]
     },
     "execution_count": 57,
     "metadata": {},
     "output_type": "execute_result"
    }
   ],
   "source": [
    "train_df.airconditioningtypeid.value_counts().sort_values().tail()"
   ]
  },
  {
   "cell_type": "code",
   "execution_count": 58,
   "metadata": {},
   "outputs": [
    {
     "data": {
      "text/plain": [
       "6"
      ]
     },
     "execution_count": 58,
     "metadata": {},
     "output_type": "execute_result"
    }
   ],
   "source": [
    "len(train_df.airconditioningtypeid.value_counts())"
   ]
  },
  {
   "cell_type": "code",
   "execution_count": 59,
   "metadata": {},
   "outputs": [],
   "source": [
    "train_df.airconditioningtypeid = train_df.airconditioningtypeid.astype('object')"
   ]
  },
  {
   "cell_type": "markdown",
   "metadata": {},
   "source": [
    "#### poolcnt : 80.17%\n",
    "- Description: 수영장 갯수\n",
    "- Process: 통계치에서 1만 있는 데이터가 나온다. 여기서 없는 데이터는 수영장이 없는 집이라고 생각할 수 있다. 따라서 missing_value에는 0을 넣는다."
   ]
  },
  {
   "cell_type": "code",
   "execution_count": 60,
   "metadata": {},
   "outputs": [],
   "source": [
    "train_df.poolcnt = train_df.poolcnt.fillna(0)"
   ]
  },
  {
   "cell_type": "code",
   "execution_count": 61,
   "metadata": {},
   "outputs": [
    {
     "data": {
      "text/plain": [
       "count    90275.000000\n",
       "mean         0.198294\n",
       "std          0.398717\n",
       "min          0.000000\n",
       "25%          0.000000\n",
       "50%          0.000000\n",
       "75%          0.000000\n",
       "max          1.000000\n",
       "Name: poolcnt, dtype: float64"
      ]
     },
     "execution_count": 61,
     "metadata": {},
     "output_type": "execute_result"
    }
   ],
   "source": [
    "train_df.poolcnt.describe()"
   ]
  },
  {
   "cell_type": "code",
   "execution_count": 62,
   "metadata": {},
   "outputs": [
    {
     "data": {
      "text/plain": [
       "1.0    17901\n",
       "0.0    72374\n",
       "Name: poolcnt, dtype: int64"
      ]
     },
     "execution_count": 62,
     "metadata": {},
     "output_type": "execute_result"
    }
   ],
   "source": [
    "train_df.poolcnt.value_counts().sort_values().tail()"
   ]
  },
  {
   "cell_type": "code",
   "execution_count": 63,
   "metadata": {},
   "outputs": [
    {
     "data": {
      "text/plain": [
       "2"
      ]
     },
     "execution_count": 63,
     "metadata": {},
     "output_type": "execute_result"
    }
   ],
   "source": [
    "len(train_df.poolcnt.value_counts())"
   ]
  },
  {
   "cell_type": "code",
   "execution_count": 64,
   "metadata": {},
   "outputs": [],
   "source": [
    "train_df.poolcnt = train_df.poolcnt.astype('object')"
   ]
  },
  {
   "cell_type": "markdown",
   "metadata": {},
   "source": [
    "#### pooltypeid7 : 81.50%\n",
    "- Description: 온수 욕조가없는 수영장\n",
    "- Process: 통계치에서 1만 있는 데이터가 나온다. 여기서 없는 데이터는 온수욕조가 없는 집이라고 생각할 수 있다. 따라서 missing_value에는 0을 넣는다."
   ]
  },
  {
   "cell_type": "code",
   "execution_count": 65,
   "metadata": {},
   "outputs": [],
   "source": [
    "train_df.pooltypeid7 = train_df.pooltypeid7.fillna(0)"
   ]
  },
  {
   "cell_type": "code",
   "execution_count": 66,
   "metadata": {},
   "outputs": [
    {
     "data": {
      "text/plain": [
       "count    90275.000000\n",
       "mean         0.184957\n",
       "std          0.388265\n",
       "min          0.000000\n",
       "25%          0.000000\n",
       "50%          0.000000\n",
       "75%          0.000000\n",
       "max          1.000000\n",
       "Name: pooltypeid7, dtype: float64"
      ]
     },
     "execution_count": 66,
     "metadata": {},
     "output_type": "execute_result"
    }
   ],
   "source": [
    "train_df.pooltypeid7.describe()"
   ]
  },
  {
   "cell_type": "code",
   "execution_count": 67,
   "metadata": {},
   "outputs": [
    {
     "data": {
      "text/plain": [
       "1.0    16697\n",
       "0.0    73578\n",
       "Name: pooltypeid7, dtype: int64"
      ]
     },
     "execution_count": 67,
     "metadata": {},
     "output_type": "execute_result"
    }
   ],
   "source": [
    "train_df.pooltypeid7.value_counts().sort_values().tail()"
   ]
  },
  {
   "cell_type": "code",
   "execution_count": 68,
   "metadata": {},
   "outputs": [
    {
     "data": {
      "text/plain": [
       "2"
      ]
     },
     "execution_count": 68,
     "metadata": {},
     "output_type": "execute_result"
    }
   ],
   "source": [
    "len(train_df.pooltypeid7.value_counts())"
   ]
  },
  {
   "cell_type": "code",
   "execution_count": 69,
   "metadata": {},
   "outputs": [],
   "source": [
    "train_df.pooltypeid7 = train_df.pooltypeid7.astype('object')"
   ]
  },
  {
   "cell_type": "markdown",
   "metadata": {},
   "source": [
    "#### threequarterbathnbr : 86.69%\n",
    "- Description:집 내 3/4 욕실 수 (샤워 + 세면대 + 화장실)\n",
    "- Process: 샤워,세면대,화장실을 모두 가지고 있는 욕실을 의미하는 것으로 없는 값은 이를 충족하지 못하는 집이라고 간주, 0을 채워준다."
   ]
  },
  {
   "cell_type": "code",
   "execution_count": 70,
   "metadata": {},
   "outputs": [],
   "source": [
    "train_df.threequarterbathnbr = train_df.threequarterbathnbr.fillna(0)"
   ]
  },
  {
   "cell_type": "code",
   "execution_count": 71,
   "metadata": {},
   "outputs": [
    {
     "data": {
      "text/plain": [
       "count    90275.000000\n",
       "mean         0.134190\n",
       "std          0.344543\n",
       "min          0.000000\n",
       "25%          0.000000\n",
       "50%          0.000000\n",
       "75%          0.000000\n",
       "max          4.000000\n",
       "Name: threequarterbathnbr, dtype: float64"
      ]
     },
     "execution_count": 71,
     "metadata": {},
     "output_type": "execute_result"
    }
   ],
   "source": [
    "train_df.threequarterbathnbr.describe()"
   ]
  },
  {
   "cell_type": "code",
   "execution_count": 72,
   "metadata": {},
   "outputs": [
    {
     "data": {
      "text/plain": [
       "4.0        1\n",
       "3.0        6\n",
       "2.0       90\n",
       "1.0    11912\n",
       "0.0    78266\n",
       "Name: threequarterbathnbr, dtype: int64"
      ]
     },
     "execution_count": 72,
     "metadata": {},
     "output_type": "execute_result"
    }
   ],
   "source": [
    "train_df.threequarterbathnbr.value_counts().sort_values().tail()"
   ]
  },
  {
   "cell_type": "code",
   "execution_count": 73,
   "metadata": {},
   "outputs": [
    {
     "data": {
      "text/plain": [
       "5"
      ]
     },
     "execution_count": 73,
     "metadata": {},
     "output_type": "execute_result"
    }
   ],
   "source": [
    "len(train_df.threequarterbathnbr.value_counts())"
   ]
  },
  {
   "cell_type": "markdown",
   "metadata": {},
   "source": [
    "#### hashottuborspa :97.38%\n",
    "- Description:난방 시스템의 유무\n",
    "- Process: 해당 컬럼은 True or False 형태의 dtype:Object 인 컬럼이다. NaN 값에 False를 넣어준다."
   ]
  },
  {
   "cell_type": "code",
   "execution_count": 74,
   "metadata": {},
   "outputs": [],
   "source": [
    "train_df.hashottuborspa  = train_df.hashottuborspa .fillna('False')"
   ]
  },
  {
   "cell_type": "code",
   "execution_count": 75,
   "metadata": {},
   "outputs": [
    {
     "data": {
      "text/plain": [
       "count     90275\n",
       "unique        2\n",
       "top       False\n",
       "freq      87910\n",
       "Name: hashottuborspa, dtype: object"
      ]
     },
     "execution_count": 75,
     "metadata": {},
     "output_type": "execute_result"
    }
   ],
   "source": [
    "train_df.hashottuborspa.describe()"
   ]
  },
  {
   "cell_type": "code",
   "execution_count": 76,
   "metadata": {},
   "outputs": [
    {
     "data": {
      "text/plain": [
       "true      2365\n",
       "False    87910\n",
       "Name: hashottuborspa, dtype: int64"
      ]
     },
     "execution_count": 76,
     "metadata": {},
     "output_type": "execute_result"
    }
   ],
   "source": [
    "train_df.hashottuborspa.value_counts().sort_values().tail()"
   ]
  },
  {
   "cell_type": "code",
   "execution_count": 77,
   "metadata": {},
   "outputs": [
    {
     "data": {
      "text/plain": [
       "2"
      ]
     },
     "execution_count": 77,
     "metadata": {},
     "output_type": "execute_result"
    }
   ],
   "source": [
    "len(train_df.hashottuborspa.value_counts())"
   ]
  },
  {
   "cell_type": "markdown",
   "metadata": {},
   "source": [
    "#### fireplacecnt :89.35%\n",
    "- Description:벽난로 수\n",
    "- Process: 해당 컬럼의 value을 살펴보면 1-5까지가 있다. 즉 missing_value의 의미는 벽난로가 없는 집을 의미한다. NaN -> 0"
   ]
  },
  {
   "cell_type": "code",
   "execution_count": 78,
   "metadata": {},
   "outputs": [],
   "source": [
    "train_df.fireplacecnt  = train_df.fireplacecnt .fillna(0)"
   ]
  },
  {
   "cell_type": "code",
   "execution_count": 79,
   "metadata": {},
   "outputs": [
    {
     "data": {
      "text/plain": [
       "count    90275.000000\n",
       "mean         0.126414\n",
       "std          0.398912\n",
       "min          0.000000\n",
       "25%          0.000000\n",
       "50%          0.000000\n",
       "75%          0.000000\n",
       "max          5.000000\n",
       "Name: fireplacecnt, dtype: float64"
      ]
     },
     "execution_count": 79,
     "metadata": {},
     "output_type": "execute_result"
    }
   ],
   "source": [
    "train_df.fireplacecnt.describe()"
   ]
  },
  {
   "cell_type": "code",
   "execution_count": 80,
   "metadata": {},
   "outputs": [
    {
     "data": {
      "text/plain": [
       "4.0       21\n",
       "3.0      312\n",
       "2.0     1106\n",
       "1.0     8165\n",
       "0.0    80668\n",
       "Name: fireplacecnt, dtype: int64"
      ]
     },
     "execution_count": 80,
     "metadata": {},
     "output_type": "execute_result"
    }
   ],
   "source": [
    "train_df.fireplacecnt.value_counts().sort_values().tail()"
   ]
  },
  {
   "cell_type": "code",
   "execution_count": 81,
   "metadata": {},
   "outputs": [
    {
     "data": {
      "text/plain": [
       "6"
      ]
     },
     "execution_count": 81,
     "metadata": {},
     "output_type": "execute_result"
    }
   ],
   "source": [
    "len(train_df.fireplacecnt.value_counts())"
   ]
  },
  {
   "cell_type": "markdown",
   "metadata": {},
   "source": [
    "####  pooltypeid2 :  98.66%\n",
    "- Description: 스파 / 온수 욕조가있는 수영장\n",
    "- Process: 있다 없다로 나타내기 위해서 1이라는 데이터만 있는 상태이다. 없는 NaN값에 0을 넣어준다."
   ]
  },
  {
   "cell_type": "code",
   "execution_count": 82,
   "metadata": {},
   "outputs": [],
   "source": [
    "train_df.pooltypeid2  = train_df.pooltypeid2 .fillna(0)"
   ]
  },
  {
   "cell_type": "code",
   "execution_count": 83,
   "metadata": {},
   "outputs": [
    {
     "data": {
      "text/plain": [
       "count    90275.000000\n",
       "mean         0.013337\n",
       "std          0.114714\n",
       "min          0.000000\n",
       "25%          0.000000\n",
       "50%          0.000000\n",
       "75%          0.000000\n",
       "max          1.000000\n",
       "Name: pooltypeid2, dtype: float64"
      ]
     },
     "execution_count": 83,
     "metadata": {},
     "output_type": "execute_result"
    }
   ],
   "source": [
    "train_df.pooltypeid2.describe()"
   ]
  },
  {
   "cell_type": "code",
   "execution_count": 84,
   "metadata": {},
   "outputs": [
    {
     "data": {
      "text/plain": [
       "1.0     1204\n",
       "0.0    89071\n",
       "Name: pooltypeid2, dtype: int64"
      ]
     },
     "execution_count": 84,
     "metadata": {},
     "output_type": "execute_result"
    }
   ],
   "source": [
    "train_df.pooltypeid2.value_counts().sort_values().tail()"
   ]
  },
  {
   "cell_type": "code",
   "execution_count": 85,
   "metadata": {},
   "outputs": [
    {
     "data": {
      "text/plain": [
       "2"
      ]
     },
     "execution_count": 85,
     "metadata": {},
     "output_type": "execute_result"
    }
   ],
   "source": [
    "len(train_df.pooltypeid2.value_counts())"
   ]
  },
  {
   "cell_type": "code",
   "execution_count": 86,
   "metadata": {},
   "outputs": [],
   "source": [
    "train_df.pooltypeid2 = train_df.pooltypeid2.astype('object')"
   ]
  },
  {
   "cell_type": "markdown",
   "metadata": {},
   "source": [
    "#### pooltypeid10 : 98.71%\n",
    "- Description:   온수 욕조가없는 수영장\n",
    "- Process: 있다 없다로 나타내기 위해서 1이라는 데이터만 있는 상태이다. 없는 NaN값에 0을 넣어준다."
   ]
  },
  {
   "cell_type": "code",
   "execution_count": 87,
   "metadata": {},
   "outputs": [],
   "source": [
    "train_df.pooltypeid10  = train_df.pooltypeid10 .fillna(0)"
   ]
  },
  {
   "cell_type": "code",
   "execution_count": 88,
   "metadata": {},
   "outputs": [
    {
     "data": {
      "text/plain": [
       "count    90275.000000\n",
       "mean         0.012861\n",
       "std          0.112674\n",
       "min          0.000000\n",
       "25%          0.000000\n",
       "50%          0.000000\n",
       "75%          0.000000\n",
       "max          1.000000\n",
       "Name: pooltypeid10, dtype: float64"
      ]
     },
     "execution_count": 88,
     "metadata": {},
     "output_type": "execute_result"
    }
   ],
   "source": [
    "train_df.pooltypeid10.describe()"
   ]
  },
  {
   "cell_type": "code",
   "execution_count": 89,
   "metadata": {},
   "outputs": [
    {
     "data": {
      "text/plain": [
       "1.0     1161\n",
       "0.0    89114\n",
       "Name: pooltypeid10, dtype: int64"
      ]
     },
     "execution_count": 89,
     "metadata": {},
     "output_type": "execute_result"
    }
   ],
   "source": [
    "train_df.pooltypeid10.value_counts().sort_values().tail()"
   ]
  },
  {
   "cell_type": "code",
   "execution_count": 90,
   "metadata": {},
   "outputs": [
    {
     "data": {
      "text/plain": [
       "2"
      ]
     },
     "execution_count": 90,
     "metadata": {},
     "output_type": "execute_result"
    }
   ],
   "source": [
    "len(train_df.pooltypeid10.value_counts())"
   ]
  },
  {
   "cell_type": "code",
   "execution_count": 91,
   "metadata": {},
   "outputs": [],
   "source": [
    "train_df.pooltypeid10 = train_df.pooltypeid10.astype('object')"
   ]
  },
  {
   "cell_type": "markdown",
   "metadata": {},
   "source": [
    "#### poolsizesum : 98.92%\n",
    "- Description:  수영장 크기\n",
    "- Process: value_counts결과값이 매우 다양하다. 없는 데이터는 NaN 에 0을 넣으므로써 수영장이 없는 집임을 나타낼 수 있다. missing_value에 0으로 채운다."
   ]
  },
  {
   "cell_type": "code",
   "execution_count": 92,
   "metadata": {},
   "outputs": [],
   "source": [
    "train_df.poolsizesum  = train_df.poolsizesum .fillna(0)"
   ]
  },
  {
   "cell_type": "code",
   "execution_count": 93,
   "metadata": {},
   "outputs": [
    {
     "data": {
      "text/plain": [
       "count    90275.000000\n",
       "mean         5.579762\n",
       "std         55.921469\n",
       "min          0.000000\n",
       "25%          0.000000\n",
       "50%          0.000000\n",
       "75%          0.000000\n",
       "max       1750.000000\n",
       "Name: poolsizesum, dtype: float64"
      ]
     },
     "execution_count": 93,
     "metadata": {},
     "output_type": "execute_result"
    }
   ],
   "source": [
    "train_df.poolsizesum.describe()"
   ]
  },
  {
   "cell_type": "code",
   "execution_count": 94,
   "metadata": {},
   "outputs": [
    {
     "data": {
      "text/plain": [
       "500.0       36\n",
       "800.0       39\n",
       "400.0       41\n",
       "450.0      105\n",
       "0.0      89306\n",
       "Name: poolsizesum, dtype: int64"
      ]
     },
     "execution_count": 94,
     "metadata": {},
     "output_type": "execute_result"
    }
   ],
   "source": [
    "train_df.poolsizesum.value_counts().sort_values().tail()"
   ]
  },
  {
   "cell_type": "code",
   "execution_count": 95,
   "metadata": {},
   "outputs": [
    {
     "data": {
      "text/plain": [
       "274"
      ]
     },
     "execution_count": 95,
     "metadata": {},
     "output_type": "execute_result"
    }
   ],
   "source": [
    "len(train_df.poolsizesum.value_counts())"
   ]
  },
  {
   "cell_type": "markdown",
   "metadata": {},
   "source": [
    "#### fireplaceflag : 99.75%\n",
    "- Description:  벽난로가 있는지 없는지\n",
    "- Process: True or False 로 나뉘어져 있는 데이터이며, False를 나타내는 데이터가 누락된 것으로 보인다. missing_value를 'False'로 채워준다."
   ]
  },
  {
   "cell_type": "code",
   "execution_count": 96,
   "metadata": {},
   "outputs": [],
   "source": [
    "train_df.fireplaceflag  = train_df.fireplaceflag .fillna('False')"
   ]
  },
  {
   "cell_type": "code",
   "execution_count": 97,
   "metadata": {
    "scrolled": true
   },
   "outputs": [
    {
     "data": {
      "text/plain": [
       "count     90275\n",
       "unique        2\n",
       "top       False\n",
       "freq      90053\n",
       "Name: fireplaceflag, dtype: object"
      ]
     },
     "execution_count": 97,
     "metadata": {},
     "output_type": "execute_result"
    }
   ],
   "source": [
    "train_df.fireplaceflag.describe()"
   ]
  },
  {
   "cell_type": "code",
   "execution_count": 98,
   "metadata": {},
   "outputs": [
    {
     "data": {
      "text/plain": [
       "true       222\n",
       "False    90053\n",
       "Name: fireplaceflag, dtype: int64"
      ]
     },
     "execution_count": 98,
     "metadata": {},
     "output_type": "execute_result"
    }
   ],
   "source": [
    "train_df.fireplaceflag.value_counts().sort_values().tail()"
   ]
  },
  {
   "cell_type": "code",
   "execution_count": 99,
   "metadata": {
    "scrolled": true
   },
   "outputs": [
    {
     "data": {
      "text/plain": [
       "2"
      ]
     },
     "execution_count": 99,
     "metadata": {},
     "output_type": "execute_result"
    }
   ],
   "source": [
    "len(train_df.fireplaceflag.value_counts())"
   ]
  },
  {
   "cell_type": "markdown",
   "metadata": {},
   "source": [
    "## Feature Correlation\n",
    "- 종속 변수 y vs 독립 변수 x\n",
    "    - correlation barh plot\n",
    "- 독립 변수 x vs 독립 변수 x\n",
    "    - heatmap"
   ]
  },
  {
   "cell_type": "code",
   "execution_count": 100,
   "metadata": {},
   "outputs": [
    {
     "data": {
      "text/plain": [
       "(10, 9)"
      ]
     },
     "execution_count": 100,
     "metadata": {},
     "output_type": "execute_result"
    }
   ],
   "source": [
    "numerical_features = [col for col in inner_feature_col if train_df[col].dtypes != 'object']\n",
    "categorical_features = [col for col in inner_feature_col if train_df[col].dtypes == 'object']\n",
    "len(numerical_features),len(categorical_features)"
   ]
  },
  {
   "cell_type": "markdown",
   "metadata": {},
   "source": [
    "### Numerical columns VS Logerror  Correlation plot"
   ]
  },
  {
   "cell_type": "code",
   "execution_count": 101,
   "metadata": {},
   "outputs": [
    {
     "data": {
      "text/plain": [
       "10"
      ]
     },
     "execution_count": 101,
     "metadata": {},
     "output_type": "execute_result"
    }
   ],
   "source": [
    "correl_val = []\n",
    "for col in numerical_features:\n",
    "    correl_val.append(np.corrcoef(train_df['logerror'],train_df[col])[0][1])\n",
    "len(correl_val)"
   ]
  },
  {
   "cell_type": "code",
   "execution_count": 102,
   "metadata": {
    "scrolled": false
   },
   "outputs": [
    {
     "data": {
      "image/png": "[encoded data removed]",
      "text/plain": [
       "<Figure size 864x576 with 1 Axes>"
      ]
     },
     "metadata": {},
     "output_type": "display_data"
    }
   ],
   "source": [
    "plt.figure(figsize=(12,8))\n",
    "plt.grid(True)\n",
    "plt.barh(numerical_features,correl_val)\n",
    "plt.show()"
   ]
  },
  {
   "cell_type": "markdown",
   "metadata": {},
   "source": [
    "### Comment:\n",
    "- 전체적으로 높은 상관관계가 보여지지는 않는다.\n",
    "- 상대적으로 높은 컬럼으로는 bathroomcnt, calculatebathnbr, bedroomcnt, fullbathcnt가 있다."
   ]
  },
  {
   "cell_type": "markdown",
   "metadata": {},
   "source": [
    "## Columns vs Columns heatmap"
   ]
  },
  {
   "cell_type": "code",
   "execution_count": 103,
   "metadata": {},
   "outputs": [
    {
     "data": {
      "image/png": "[encoded data removed]",
      "text/plain": [
       "<Figure size 720x576 with 2 Axes>"
      ]
     },
     "metadata": {},
     "output_type": "display_data"
    }
   ],
   "source": [
    "corrmat = train_df[numerical_features].corr(method = 'spearman')\n",
    "plt.figure(figsize=(10,8))\n",
    "sns.heatmap(corrmat,annot=True)\n",
    "plt.show()"
   ]
  },
  {
   "cell_type": "markdown",
   "metadata": {},
   "source": [
    "### Comment:\n",
    "- 이는 독립변수 간의 상관관계를 나타내는 heatmap을 그려본 것이다.\n",
    "- 상관관계가 높은 columns들이 있음을 알 수 있다.\n",
    "- 눈에 띄는 컬럼들로는 \n",
    "    - calculatedbathnbr vs bathroomcnt\n",
    "    - fullbathcnt vs bathroomcnt\n",
    "    - fullbathcnt vs calculatebathnbr\n",
    "    - fireplacecnt vs roomcnt\n",
    "    - bedroomcnt vs bathroomcnt, calculatedbathnbr, fullbathcnt\n",
    "- 상관관계가 매우 높은 컬럼으로 calculatedbathnbr vs bathroomcnt, fullbathcnt vs bathroomcnt, fullbathcnt vs calculatebathnbr 가 있는데, description을 보게 되면 이 컬럼들 모두 bathroom과 관련되어 있는 것임을 알 수 있다. 높은 상관관계를 띄고 있기 때문에 선형회귀모형 가정을 충족시키기 위해서 일부 컬럼의 삭제가 진행되어야 한다.\n",
    "- 나머지 컬럼들에 대한 처리는 후에 진행될 VIF 와 함께 추가적으로 실시한다."
   ]
  },
  {
   "cell_type": "markdown",
   "metadata": {},
   "source": [
    "# Feature Engineering\n",
    "- Categorical Feature engineering\n",
    "- Numerical Feature engineering"
   ]
  },
  {
   "cell_type": "markdown",
   "metadata": {},
   "source": [
    "## Categorical Feature engineering"
   ]
  },
  {
   "cell_type": "code",
   "execution_count": null,
   "metadata": {},
   "outputs": [],
   "source": [
    "numeric_dfX = train_df[numerical_features]\n",
    "cat_dfX = train_df[categorical_features]\n",
    "dfy = train_df['logerror']"
   ]
  },
  {
   "cell_type": "code",
   "execution_count": 183,
   "metadata": {},
   "outputs": [],
   "source": [
    "train_df.fireplaceflag = dmatrix('C(fireplaceflag)',train_df)\n",
    "train_df.hashottuborspa = dmatrix('C(hashottuborspa)',train_df)\n",
    "train_df.heatingorsystemtypeid = dmatrix('C(heatingorsystemtypeid)',train_df)"
   ]
  },
  {
   "cell_type": "code",
   "execution_count": 212,
   "metadata": {
    "scrolled": true
   },
   "outputs": [],
   "source": [
    "orgin_cat_model = sm.OLS.from_formula('logerror ~ C(airconditioningtypeid) + C(fireplaceflag) + C(hashottuborspa) + C(heatingorsystemtypeid) + C(poolcnt) + C(pooltypeid10) + C(pooltypeid2) + C(pooltypeid7) + 0',data=train_df)\n",
    "orgin_cat_result = orgin_cat_model.fit()"
   ]
  },
  {
   "cell_type": "code",
   "execution_count": 213,
   "metadata": {
    "scrolled": true
   },
   "outputs": [
    {
     "name": "stdout",
     "output_type": "stream",
     "text": [
      "                            OLS Regression Results                            \n",
      "==============================================================================\n",
      "Dep. Variable:               logerror   R-squared:                       0.000\n",
      "Model:                            OLS   Adj. R-squared:                  0.000\n",
      "Method:                 Least Squares   F-statistic:                     1.282\n",
      "Date:                Wed, 04 Jul 2018   Prob (F-statistic):              0.241\n",
      "Time:                        19:22:27   Log-Likelihood:                 36741.\n",
      "No. Observations:               90275   AIC:                        -7.346e+04\n",
      "Df Residuals:                   90265   BIC:                        -7.337e+04\n",
      "Df Model:                           9                                         \n",
      "Covariance Type:            nonrobust                                         \n",
      "==================================================================================================\n",
      "                                     coef    std err          t      P>|t|      [0.025      0.975]\n",
      "--------------------------------------------------------------------------------------------------\n",
      "C(airconditioningtypeid)[1.0]      0.0121      0.001     14.105      0.000       0.010       0.014\n",
      "C(airconditioningtypeid)[3.0]      0.0952      0.161      0.591      0.554      -0.220       0.411\n",
      "C(airconditioningtypeid)[5.0]      0.0169      0.011      1.536      0.125      -0.005       0.038\n",
      "C(airconditioningtypeid)[9.0]      0.0100      0.161      0.062      0.950      -0.306       0.326\n",
      "C(airconditioningtypeid)[11.0]     0.0282      0.020      1.388      0.165      -0.012       0.068\n",
      "C(airconditioningtypeid)[13.0]     0.0169      0.004      4.446      0.000       0.009       0.024\n",
      "C(poolcnt)[T.1.0]                 5.9e+09   3.77e+10      0.157      0.875   -6.79e+10    7.97e+10\n",
      "C(pooltypeid10)[T.1.0]            -0.0058      0.005     -1.215      0.224      -0.015       0.004\n",
      "C(pooltypeid2)[T.1.0]            -5.9e+09   3.77e+10     -0.157      0.875   -7.97e+10    6.79e+10\n",
      "C(pooltypeid7)[T.1.0]            -5.9e+09   3.77e+10     -0.157      0.875   -7.97e+10    6.79e+10\n",
      "==============================================================================\n",
      "Omnibus:                    66190.427   Durbin-Watson:                   1.970\n",
      "Prob(Omnibus):                  0.000   Jarque-Bera (JB):         65018982.766\n",
      "Skew:                           2.170   Prob(JB):                         0.00\n",
      "Kurtosis:                     134.403   Cond. No.                     1.26e+14\n",
      "==============================================================================\n",
      "\n",
      "Warnings:\n",
      "[1] Standard Errors assume that the covariance matrix of the errors is correctly specified.\n",
      "[2] The smallest eigenvalue is 6.1e-24. This might indicate that there are\n",
      "strong multicollinearity problems or that the design matrix is singular.\n"
     ]
    }
   ],
   "source": [
    "print(orgin_cat_result.summary())"
   ]
  },
  {
   "cell_type": "markdown",
   "metadata": {},
   "source": [
    "Multicollinearity problem 발생"
   ]
  },
  {
   "cell_type": "markdown",
   "metadata": {},
   "source": [
    "## F-test"
   ]
  },
  {
   "cell_type": "code",
   "execution_count": 197,
   "metadata": {},
   "outputs": [
    {
     "name": "stderr",
     "output_type": "stream",
     "text": [
      "/home/hskimim/anaconda3/lib/python3.6/site-packages/scipy/stats/_distn_infrastructure.py:879: RuntimeWarning: invalid value encountered in greater\n",
      "  return (self.a < x) & (x < self.b)\n",
      "/home/hskimim/anaconda3/lib/python3.6/site-packages/scipy/stats/_distn_infrastructure.py:879: RuntimeWarning: invalid value encountered in less\n",
      "  return (self.a < x) & (x < self.b)\n",
      "/home/hskimim/anaconda3/lib/python3.6/site-packages/scipy/stats/_distn_infrastructure.py:1821: RuntimeWarning: invalid value encountered in less_equal\n",
      "  cond2 = cond0 & (x <= self.a)\n"
     ]
    },
    {
     "data": {
      "text/html": [
       "<div>\n",
       "<style scoped>\n",
       "    .dataframe tbody tr th:only-of-type {\n",
       "        vertical-align: middle;\n",
       "    }\n",
       "\n",
       "    .dataframe tbody tr th {\n",
       "        vertical-align: top;\n",
       "    }\n",
       "\n",
       "    .dataframe thead th {\n",
       "        text-align: right;\n",
       "    }\n",
       "</style>\n",
       "<table border=\"1\" class=\"dataframe\">\n",
       "  <thead>\n",
       "    <tr style=\"text-align: right;\">\n",
       "      <th></th>\n",
       "      <th>df</th>\n",
       "      <th>sum_sq</th>\n",
       "      <th>mean_sq</th>\n",
       "      <th>F</th>\n",
       "      <th>PR(&gt;F)</th>\n",
       "    </tr>\n",
       "  </thead>\n",
       "  <tbody>\n",
       "    <tr>\n",
       "      <th>C(airconditioningtypeid)</th>\n",
       "      <td>6.0</td>\n",
       "      <td>11.904779</td>\n",
       "      <td>1.984130</td>\n",
       "      <td>76.498598</td>\n",
       "      <td>1.008665e-95</td>\n",
       "    </tr>\n",
       "    <tr>\n",
       "      <th>C(heatingorsystemtypeid)</th>\n",
       "      <td>11.0</td>\n",
       "      <td>0.926262</td>\n",
       "      <td>0.084206</td>\n",
       "      <td>3.246568</td>\n",
       "      <td>1.893045e-04</td>\n",
       "    </tr>\n",
       "    <tr>\n",
       "      <th>C(poolcnt)</th>\n",
       "      <td>1.0</td>\n",
       "      <td>0.314823</td>\n",
       "      <td>0.314823</td>\n",
       "      <td>12.138060</td>\n",
       "      <td>4.942655e-04</td>\n",
       "    </tr>\n",
       "    <tr>\n",
       "      <th>C(pooltypeid10)</th>\n",
       "      <td>1.0</td>\n",
       "      <td>0.055052</td>\n",
       "      <td>0.055052</td>\n",
       "      <td>2.122541</td>\n",
       "      <td>1.451490e-01</td>\n",
       "    </tr>\n",
       "    <tr>\n",
       "      <th>C(pooltypeid2)</th>\n",
       "      <td>1.0</td>\n",
       "      <td>0.011633</td>\n",
       "      <td>0.011633</td>\n",
       "      <td>0.448506</td>\n",
       "      <td>5.030468e-01</td>\n",
       "    </tr>\n",
       "    <tr>\n",
       "      <th>C(pooltypeid7)</th>\n",
       "      <td>1.0</td>\n",
       "      <td>0.002461</td>\n",
       "      <td>0.002461</td>\n",
       "      <td>0.094900</td>\n",
       "      <td>7.580386e-01</td>\n",
       "    </tr>\n",
       "    <tr>\n",
       "      <th>C(fireplaceflag)</th>\n",
       "      <td>0.0</td>\n",
       "      <td>0.000000</td>\n",
       "      <td>NaN</td>\n",
       "      <td>NaN</td>\n",
       "      <td>NaN</td>\n",
       "    </tr>\n",
       "    <tr>\n",
       "      <th>C(hashottuborspa)</th>\n",
       "      <td>0.0</td>\n",
       "      <td>0.000000</td>\n",
       "      <td>NaN</td>\n",
       "      <td>NaN</td>\n",
       "      <td>NaN</td>\n",
       "    </tr>\n",
       "    <tr>\n",
       "      <th>Residual</th>\n",
       "      <td>90255.0</td>\n",
       "      <td>2340.927063</td>\n",
       "      <td>0.025937</td>\n",
       "      <td>NaN</td>\n",
       "      <td>NaN</td>\n",
       "    </tr>\n",
       "  </tbody>\n",
       "</table>\n",
       "</div>"
      ],
      "text/plain": [
       "                               df       sum_sq   mean_sq          F  \\\n",
       "C(airconditioningtypeid)      6.0    11.904779  1.984130  76.498598   \n",
       "C(heatingorsystemtypeid)     11.0     0.926262  0.084206   3.246568   \n",
       "C(poolcnt)                    1.0     0.314823  0.314823  12.138060   \n",
       "C(pooltypeid10)               1.0     0.055052  0.055052   2.122541   \n",
       "C(pooltypeid2)                1.0     0.011633  0.011633   0.448506   \n",
       "C(pooltypeid7)                1.0     0.002461  0.002461   0.094900   \n",
       "C(fireplaceflag)              0.0     0.000000       NaN        NaN   \n",
       "C(hashottuborspa)             0.0     0.000000       NaN        NaN   \n",
       "Residual                  90255.0  2340.927063  0.025937        NaN   \n",
       "\n",
       "                                PR(>F)  \n",
       "C(airconditioningtypeid)  1.008665e-95  \n",
       "C(heatingorsystemtypeid)  1.893045e-04  \n",
       "C(poolcnt)                4.942655e-04  \n",
       "C(pooltypeid10)           1.451490e-01  \n",
       "C(pooltypeid2)            5.030468e-01  \n",
       "C(pooltypeid7)            7.580386e-01  \n",
       "C(fireplaceflag)                   NaN  \n",
       "C(hashottuborspa)                  NaN  \n",
       "Residual                           NaN  "
      ]
     },
     "execution_count": 197,
     "metadata": {},
     "output_type": "execute_result"
    }
   ],
   "source": [
    "sm.stats.anova_lm(cat_result).sort_values(by='PR(>F)')"
   ]
  },
  {
   "cell_type": "markdown",
   "metadata": {},
   "source": [
    "- 해당 컬럼의 중요도가 0이다 라는 귀무가설에 대한 신뢰수준을 나타내는 PR(>F) 부분에 대해서 점검을 한다.\n",
    "- 우선 중요도값이 NaN이 나온 컬럼들을 제거해준다.\n",
    "- 또한 자릿수가 e-01인 컬럼들도 제거해준다."
   ]
  },
  {
   "cell_type": "code",
   "execution_count": 214,
   "metadata": {},
   "outputs": [],
   "source": [
    "revised_cat_result = sm.OLS.from_formula('logerror ~ C(airconditioningtypeid) + C(heatingorsystemtypeid) + C(poolcnt)+ 0',data=train_df)\n",
    "revised_cat_result  = cat_model.fit()"
   ]
  },
  {
   "cell_type": "code",
   "execution_count": 215,
   "metadata": {
    "scrolled": true
   },
   "outputs": [
    {
     "name": "stdout",
     "output_type": "stream",
     "text": [
      "                            OLS Regression Results                            \n",
      "==============================================================================\n",
      "Dep. Variable:               logerror   R-squared:                       0.001\n",
      "Model:                            OLS   Adj. R-squared:                  0.000\n",
      "Method:                 Least Squares   F-statistic:                     2.755\n",
      "Date:                Wed, 04 Jul 2018   Prob (F-statistic):           5.91e-05\n",
      "Time:                        19:23:52   Log-Likelihood:                 36762.\n",
      "No. Observations:               90275   AIC:                        -7.348e+04\n",
      "Df Residuals:                   90255   BIC:                        -7.330e+04\n",
      "Df Model:                          19                                         \n",
      "Covariance Type:            nonrobust                                         \n",
      "====================================================================================================\n",
      "                                       coef    std err          t      P>|t|      [0.025      0.975]\n",
      "----------------------------------------------------------------------------------------------------\n",
      "C(airconditioningtypeid)[1.0]        0.0229      0.045      0.509      0.611      -0.065       0.111\n",
      "C(airconditioningtypeid)[3.0]        0.1192      0.168      0.708      0.479      -0.211       0.449\n",
      "C(airconditioningtypeid)[5.0]        0.0304      0.047      0.653      0.514      -0.061       0.122\n",
      "C(airconditioningtypeid)[9.0]        0.0192      0.167      0.115      0.909      -0.309       0.347\n",
      "C(airconditioningtypeid)[11.0]       0.0398      0.048      0.831      0.406      -0.054       0.134\n",
      "C(airconditioningtypeid)[13.0]       0.0264      0.045      0.584      0.559      -0.062       0.115\n",
      "C(heatingorsystemtypeid)[T.2.0]     -0.0092      0.045     -0.205      0.838      -0.097       0.079\n",
      "C(heatingorsystemtypeid)[T.6.0]     -0.0128      0.045     -0.283      0.777      -0.102       0.076\n",
      "C(heatingorsystemtypeid)[T.7.0]     -0.0151      0.045     -0.335      0.738      -0.103       0.073\n",
      "C(heatingorsystemtypeid)[T.10.0]    -0.0584      0.122     -0.477      0.634      -0.298       0.182\n",
      "C(heatingorsystemtypeid)[T.11.0]    -0.0380      0.167     -0.227      0.820      -0.366       0.290\n",
      "C(heatingorsystemtypeid)[T.12.0]    -0.0317      0.167     -0.190      0.850      -0.360       0.296\n",
      "C(heatingorsystemtypeid)[T.13.0]    -0.0240      0.049     -0.492      0.623      -0.119       0.072\n",
      "C(heatingorsystemtypeid)[T.14.0]    -0.0278      0.122     -0.227      0.820      -0.268       0.212\n",
      "C(heatingorsystemtypeid)[T.18.0]    -0.0029      0.056     -0.052      0.958      -0.112       0.106\n",
      "C(heatingorsystemtypeid)[T.20.0]    -0.0229      0.048     -0.478      0.633      -0.117       0.071\n",
      "C(heatingorsystemtypeid)[T.24.0]    -0.0339      0.045     -0.748      0.454      -0.123       0.055\n",
      "C(poolcnt)[T.1.0]                -5.116e+10   1.66e+11     -0.308      0.758   -3.77e+11    2.74e+11\n",
      "C(pooltypeid10)[T.1.0]              -0.0070      0.005     -1.458      0.145      -0.016       0.002\n",
      "C(pooltypeid2)[T.1.0]             5.116e+10   1.66e+11      0.308      0.758   -2.74e+11    3.77e+11\n",
      "C(pooltypeid7)[T.1.0]             5.116e+10   1.66e+11      0.308      0.758   -2.74e+11    3.77e+11\n",
      "==============================================================================\n",
      "Omnibus:                    66325.943   Durbin-Watson:                   1.969\n",
      "Prob(Omnibus):                  0.000   Jarque-Bera (JB):         64934400.597\n",
      "Skew:                           2.180   Prob(JB):                         0.00\n",
      "Kurtosis:                     134.317   Cond. No.                     7.16e+14\n",
      "==============================================================================\n",
      "\n",
      "Warnings:\n",
      "[1] Standard Errors assume that the covariance matrix of the errors is correctly specified.\n",
      "[2] The smallest eigenvalue is 3.13e-25. This might indicate that there are\n",
      "strong multicollinearity problems or that the design matrix is singular.\n"
     ]
    }
   ],
   "source": [
    "print(revised_cat_result.summary())"
   ]
  },
  {
   "cell_type": "markdown",
   "metadata": {},
   "source": [
    "조건수가 매우 크다"
   ]
  },
  {
   "cell_type": "markdown",
   "metadata": {},
   "source": [
    "## Numerical Data Feature Engineering"
   ]
  },
  {
   "cell_type": "code",
   "execution_count": 198,
   "metadata": {},
   "outputs": [],
   "source": [
    "numeric_model = sm.OLS.from_formula('logerror~ scale(bathroomcnt) + scale(calculatedbathnbr) + scale(threequarterbathnbr) + scale(fullbathcnt) + scale(bedroomcnt) + scale(roomcnt) + scale(garagecarcnt) + scale(garagetotalsqft) + scale(fireplacecnt) + scale(poolsizesum)',data=train_df)\n",
    "result = numeric_model.fit()"
   ]
  },
  {
   "cell_type": "code",
   "execution_count": 116,
   "metadata": {
    "scrolled": true
   },
   "outputs": [
    {
     "name": "stdout",
     "output_type": "stream",
     "text": [
      "                            OLS Regression Results                            \n",
      "==============================================================================\n",
      "Dep. Variable:               logerror   R-squared:                       0.001\n",
      "Model:                            OLS   Adj. R-squared:                  0.001\n",
      "Method:                 Least Squares   F-statistic:                     9.333\n",
      "Date:                Wed, 04 Jul 2018   Prob (F-statistic):           1.19e-15\n",
      "Time:                        08:22:28   Log-Likelihood:                 36782.\n",
      "No. Observations:               90275   AIC:                        -7.354e+04\n",
      "Df Residuals:                   90264   BIC:                        -7.344e+04\n",
      "Df Model:                          10                                         \n",
      "Covariance Type:            nonrobust                                         \n",
      "==============================================================================================\n",
      "                                 coef    std err          t      P>|t|      [0.025      0.975]\n",
      "----------------------------------------------------------------------------------------------\n",
      "Intercept                      0.0115      0.001     21.381      0.000       0.010       0.013\n",
      "scale(bathroomcnt)            -0.0043      0.003     -1.659      0.097      -0.009       0.001\n",
      "scale(calculatedbathnbr)   -5.349e+10   5.12e+10     -1.045      0.296   -1.54e+11    4.68e+10\n",
      "scale(threequarterbathnbr)  9.496e+09   9.08e+09      1.045      0.296   -8.31e+09    2.73e+10\n",
      "scale(fullbathcnt)          5.276e+10   5.05e+10      1.045      0.296   -4.62e+10    1.52e+11\n",
      "scale(bedroomcnt)              0.0023      0.001      3.075      0.002       0.001       0.004\n",
      "scale(roomcnt)                 0.0005      0.001      0.628      0.530      -0.001       0.002\n",
      "scale(garagecarcnt)            0.0012      0.001      1.637      0.102      -0.000       0.003\n",
      "scale(garagetotalsqft)        -0.0004      0.001     -0.461      0.645      -0.002       0.001\n",
      "scale(fireplacecnt)            0.0008      0.001      1.050      0.294      -0.001       0.002\n",
      "scale(poolsizesum)            -0.0011      0.001     -2.009      0.045      -0.002   -2.81e-05\n",
      "==============================================================================\n",
      "Omnibus:                    66090.065   Durbin-Watson:                   1.970\n",
      "Prob(Omnibus):                  0.000   Jarque-Bera (JB):         64964365.012\n",
      "Skew:                           2.164   Prob(JB):                         0.00\n",
      "Kurtosis:                     134.348   Cond. No.                     2.60e+14\n",
      "==============================================================================\n",
      "\n",
      "Warnings:\n",
      "[1] Standard Errors assume that the covariance matrix of the errors is correctly specified.\n",
      "[2] The smallest eigenvalue is 4.94e-24. This might indicate that there are\n",
      "strong multicollinearity problems or that the design matrix is singular.\n"
     ]
    }
   ],
   "source": [
    "print(result.summary())"
   ]
  },
  {
   "cell_type": "markdown",
   "metadata": {},
   "source": [
    "조건수가 매우 크다."
   ]
  },
  {
   "cell_type": "code",
   "execution_count": 199,
   "metadata": {},
   "outputs": [],
   "source": [
    "from statsmodels.stats.outliers_influence import variance_inflation_factor"
   ]
  },
  {
   "cell_type": "markdown",
   "metadata": {},
   "source": [
    "## VIF"
   ]
  },
  {
   "cell_type": "code",
   "execution_count": 200,
   "metadata": {},
   "outputs": [
    {
     "name": "stderr",
     "output_type": "stream",
     "text": [
      "/home/hskimim/anaconda3/lib/python3.6/site-packages/statsmodels/stats/outliers_influence.py:181: RuntimeWarning: divide by zero encountered in double_scalars\n",
      "  vif = 1. / (1. - r_squared_i)\n"
     ]
    },
    {
     "data": {
      "text/html": [
       "<div>\n",
       "<style scoped>\n",
       "    .dataframe tbody tr th:only-of-type {\n",
       "        vertical-align: middle;\n",
       "    }\n",
       "\n",
       "    .dataframe tbody tr th {\n",
       "        vertical-align: top;\n",
       "    }\n",
       "\n",
       "    .dataframe thead th {\n",
       "        text-align: right;\n",
       "    }\n",
       "</style>\n",
       "<table border=\"1\" class=\"dataframe\">\n",
       "  <thead>\n",
       "    <tr style=\"text-align: right;\">\n",
       "      <th></th>\n",
       "      <th>VIF Factor</th>\n",
       "      <th>features</th>\n",
       "    </tr>\n",
       "  </thead>\n",
       "  <tbody>\n",
       "    <tr>\n",
       "      <th>0</th>\n",
       "      <td>134.036496</td>\n",
       "      <td>bathroomcnt</td>\n",
       "    </tr>\n",
       "    <tr>\n",
       "      <th>1</th>\n",
       "      <td>inf</td>\n",
       "      <td>calculatedbathnbr</td>\n",
       "    </tr>\n",
       "    <tr>\n",
       "      <th>2</th>\n",
       "      <td>inf</td>\n",
       "      <td>threequarterbathnbr</td>\n",
       "    </tr>\n",
       "    <tr>\n",
       "      <th>3</th>\n",
       "      <td>inf</td>\n",
       "      <td>fullbathcnt</td>\n",
       "    </tr>\n",
       "    <tr>\n",
       "      <th>4</th>\n",
       "      <td>14.048889</td>\n",
       "      <td>bedroomcnt</td>\n",
       "    </tr>\n",
       "    <tr>\n",
       "      <th>5</th>\n",
       "      <td>2.353895</td>\n",
       "      <td>roomcnt</td>\n",
       "    </tr>\n",
       "    <tr>\n",
       "      <th>6</th>\n",
       "      <td>16.449328</td>\n",
       "      <td>garagecarcnt</td>\n",
       "    </tr>\n",
       "    <tr>\n",
       "      <th>7</th>\n",
       "      <td>10.889146</td>\n",
       "      <td>garagetotalsqft</td>\n",
       "    </tr>\n",
       "    <tr>\n",
       "      <th>8</th>\n",
       "      <td>1.933970</td>\n",
       "      <td>fireplacecnt</td>\n",
       "    </tr>\n",
       "    <tr>\n",
       "      <th>9</th>\n",
       "      <td>1.147959</td>\n",
       "      <td>poolsizesum</td>\n",
       "    </tr>\n",
       "  </tbody>\n",
       "</table>\n",
       "</div>"
      ],
      "text/plain": [
       "   VIF Factor             features\n",
       "0  134.036496          bathroomcnt\n",
       "1         inf    calculatedbathnbr\n",
       "2         inf  threequarterbathnbr\n",
       "3         inf          fullbathcnt\n",
       "4   14.048889           bedroomcnt\n",
       "5    2.353895              roomcnt\n",
       "6   16.449328         garagecarcnt\n",
       "7   10.889146      garagetotalsqft\n",
       "8    1.933970         fireplacecnt\n",
       "9    1.147959          poolsizesum"
      ]
     },
     "execution_count": 200,
     "metadata": {},
     "output_type": "execute_result"
    }
   ],
   "source": [
    "vif = pd.DataFrame()\n",
    "vif['VIF Factor'] = [variance_inflation_factor(numeric_dfX.values, i) for i in range(numeric_dfX.shape[1])]\n",
    "vif[\"features\"] = numeric_dfX.columns\n",
    "vif"
   ]
  },
  {
   "cell_type": "markdown",
   "metadata": {},
   "source": [
    "calculatedbathnbr , threequarterbathnbr , fullbathcnt 의 VIF가 inifinite로 나왔다. 이 컬럼들을 빼고 다시 OLS"
   ]
  },
  {
   "cell_type": "markdown",
   "metadata": {},
   "source": [
    "## F 검정을 사용한 변수 중요도 비교"
   ]
  },
  {
   "cell_type": "code",
   "execution_count": 202,
   "metadata": {
    "scrolled": false
   },
   "outputs": [
    {
     "data": {
      "text/html": [
       "<div>\n",
       "<style scoped>\n",
       "    .dataframe tbody tr th:only-of-type {\n",
       "        vertical-align: middle;\n",
       "    }\n",
       "\n",
       "    .dataframe tbody tr th {\n",
       "        vertical-align: top;\n",
       "    }\n",
       "\n",
       "    .dataframe thead th {\n",
       "        text-align: right;\n",
       "    }\n",
       "</style>\n",
       "<table border=\"1\" class=\"dataframe\">\n",
       "  <thead>\n",
       "    <tr style=\"text-align: right;\">\n",
       "      <th></th>\n",
       "      <th>sum_sq</th>\n",
       "      <th>df</th>\n",
       "      <th>F</th>\n",
       "      <th>PR(&gt;F)</th>\n",
       "    </tr>\n",
       "  </thead>\n",
       "  <tbody>\n",
       "    <tr>\n",
       "      <th>scale(bedroomcnt)</th>\n",
       "      <td>0.245190</td>\n",
       "      <td>1.0</td>\n",
       "      <td>9.458579</td>\n",
       "      <td>0.002102</td>\n",
       "    </tr>\n",
       "    <tr>\n",
       "      <th>scale(poolsizesum)</th>\n",
       "      <td>0.104638</td>\n",
       "      <td>1.0</td>\n",
       "      <td>4.036582</td>\n",
       "      <td>0.044527</td>\n",
       "    </tr>\n",
       "    <tr>\n",
       "      <th>scale(bathroomcnt)</th>\n",
       "      <td>0.071385</td>\n",
       "      <td>1.0</td>\n",
       "      <td>2.753773</td>\n",
       "      <td>0.097029</td>\n",
       "    </tr>\n",
       "    <tr>\n",
       "      <th>scale(garagecarcnt)</th>\n",
       "      <td>0.069429</td>\n",
       "      <td>1.0</td>\n",
       "      <td>2.678347</td>\n",
       "      <td>0.101725</td>\n",
       "    </tr>\n",
       "    <tr>\n",
       "      <th>scale(fireplacecnt)</th>\n",
       "      <td>0.028568</td>\n",
       "      <td>1.0</td>\n",
       "      <td>1.102038</td>\n",
       "      <td>0.293822</td>\n",
       "    </tr>\n",
       "    <tr>\n",
       "      <th>scale(calculatedbathnbr)</th>\n",
       "      <td>0.028324</td>\n",
       "      <td>1.0</td>\n",
       "      <td>1.092643</td>\n",
       "      <td>0.295889</td>\n",
       "    </tr>\n",
       "    <tr>\n",
       "      <th>scale(threequarterbathnbr)</th>\n",
       "      <td>0.028324</td>\n",
       "      <td>1.0</td>\n",
       "      <td>1.092643</td>\n",
       "      <td>0.295889</td>\n",
       "    </tr>\n",
       "    <tr>\n",
       "      <th>scale(fullbathcnt)</th>\n",
       "      <td>0.028324</td>\n",
       "      <td>1.0</td>\n",
       "      <td>1.092643</td>\n",
       "      <td>0.295889</td>\n",
       "    </tr>\n",
       "    <tr>\n",
       "      <th>scale(roomcnt)</th>\n",
       "      <td>0.010231</td>\n",
       "      <td>1.0</td>\n",
       "      <td>0.394677</td>\n",
       "      <td>0.529853</td>\n",
       "    </tr>\n",
       "    <tr>\n",
       "      <th>scale(garagetotalsqft)</th>\n",
       "      <td>0.005501</td>\n",
       "      <td>1.0</td>\n",
       "      <td>0.212194</td>\n",
       "      <td>0.645054</td>\n",
       "    </tr>\n",
       "    <tr>\n",
       "      <th>Residual</th>\n",
       "      <td>2339.865271</td>\n",
       "      <td>90264.0</td>\n",
       "      <td>NaN</td>\n",
       "      <td>NaN</td>\n",
       "    </tr>\n",
       "  </tbody>\n",
       "</table>\n",
       "</div>"
      ],
      "text/plain": [
       "                                 sum_sq       df         F    PR(>F)\n",
       "scale(bedroomcnt)              0.245190      1.0  9.458579  0.002102\n",
       "scale(poolsizesum)             0.104638      1.0  4.036582  0.044527\n",
       "scale(bathroomcnt)             0.071385      1.0  2.753773  0.097029\n",
       "scale(garagecarcnt)            0.069429      1.0  2.678347  0.101725\n",
       "scale(fireplacecnt)            0.028568      1.0  1.102038  0.293822\n",
       "scale(calculatedbathnbr)       0.028324      1.0  1.092643  0.295889\n",
       "scale(threequarterbathnbr)     0.028324      1.0  1.092643  0.295889\n",
       "scale(fullbathcnt)             0.028324      1.0  1.092643  0.295889\n",
       "scale(roomcnt)                 0.010231      1.0  0.394677  0.529853\n",
       "scale(garagetotalsqft)         0.005501      1.0  0.212194  0.645054\n",
       "Residual                    2339.865271  90264.0       NaN       NaN"
      ]
     },
     "execution_count": 202,
     "metadata": {},
     "output_type": "execute_result"
    }
   ],
   "source": [
    "sm.stats.anova_lm(result,typ=2).sort_values(by='PR(>F)')"
   ]
  },
  {
   "cell_type": "code",
   "execution_count": 204,
   "metadata": {},
   "outputs": [],
   "source": [
    "orgin_numeric_model = sm.OLS.from_formula('logerror~ scale(bathroomcnt) + scale(calculatedbathnbr) + scale(threequarterbathnbr) + scale(fullbathcnt) + scale(bedroomcnt) + scale(roomcnt) + scale(garagecarcnt) + scale(garagetotalsqft) + scale(fireplacecnt) + scale(poolsizesum)',data=train_df)\n",
    "revised_numeric_model = sm.OLS.from_formula('logerror~ scale(bathroomcnt)+ scale(bedroomcnt) + scale(garagecarcnt)+ scale(poolsizesum)',data=train_df)"
   ]
  },
  {
   "cell_type": "code",
   "execution_count": 209,
   "metadata": {
    "scrolled": true
   },
   "outputs": [
    {
     "name": "stdout",
     "output_type": "stream",
     "text": [
      "                            OLS Regression Results                            \n",
      "==============================================================================\n",
      "Dep. Variable:               logerror   R-squared:                       0.001\n",
      "Model:                            OLS   Adj. R-squared:                  0.001\n",
      "Method:                 Least Squares   F-statistic:                     20.90\n",
      "Date:                Wed, 04 Jul 2018   Prob (F-statistic):           3.05e-17\n",
      "Time:                        19:16:19   Log-Likelihood:                 36777.\n",
      "No. Observations:               90275   AIC:                        -7.354e+04\n",
      "Df Residuals:                   90270   BIC:                        -7.350e+04\n",
      "Df Model:                           4                                         \n",
      "Covariance Type:            nonrobust                                         \n",
      "=======================================================================================\n",
      "                          coef    std err          t      P>|t|      [0.025      0.975]\n",
      "---------------------------------------------------------------------------------------\n",
      "Intercept               0.0115      0.001     21.380      0.000       0.010       0.013\n",
      "scale(bathroomcnt)      0.0030      0.001      4.281      0.000       0.002       0.004\n",
      "scale(bedroomcnt)       0.0020      0.001      2.886      0.004       0.001       0.003\n",
      "scale(garagecarcnt)     0.0009      0.001      1.689      0.091      -0.000       0.002\n",
      "scale(poolsizesum)     -0.0008      0.001     -1.480      0.139      -0.002       0.000\n",
      "==============================================================================\n",
      "Omnibus:                    66210.532   Durbin-Watson:                   1.970\n",
      "Prob(Omnibus):                  0.000   Jarque-Bera (JB):         65014305.419\n",
      "Skew:                           2.172   Prob(JB):                         0.00\n",
      "Kurtosis:                     134.398   Cond. No.                         2.25\n",
      "==============================================================================\n",
      "\n",
      "Warnings:\n",
      "[1] Standard Errors assume that the covariance matrix of the errors is correctly specified.\n"
     ]
    }
   ],
   "source": [
    "revised_numeric_result = revised_numeric_model.fit()\n",
    "print(revised_numeric_result.summary())"
   ]
  },
  {
   "cell_type": "markdown",
   "metadata": {},
   "source": [
    "- 전체적으로 F test statistics 가 너무 높다.\n",
    "- F-test statistics 에 따르면 fireplacecnt, calculatedvathnbr, threequarterbathnbr, fullbathcnt, roomcnt, garagetotalsqft 이렇게 높다."
   ]
  },
  {
   "cell_type": "markdown",
   "metadata": {},
   "source": [
    "# Overall Test"
   ]
  },
  {
   "cell_type": "code",
   "execution_count": 217,
   "metadata": {},
   "outputs": [
    {
     "name": "stdout",
     "output_type": "stream",
     "text": [
      "                            OLS Regression Results                            \n",
      "==============================================================================\n",
      "Dep. Variable:               logerror   R-squared:                       0.001\n",
      "Model:                            OLS   Adj. R-squared:                  0.001\n",
      "Method:                 Least Squares   F-statistic:                     10.45\n",
      "Date:                Wed, 04 Jul 2018   Prob (F-statistic):           7.06e-18\n",
      "Time:                        19:25:16   Log-Likelihood:                 36788.\n",
      "No. Observations:               90275   AIC:                        -7.355e+04\n",
      "Df Residuals:                   90264   BIC:                        -7.345e+04\n",
      "Df Model:                          10                                         \n",
      "Covariance Type:            nonrobust                                         \n",
      "====================================================================================================\n",
      "                                       coef    std err          t      P>|t|      [0.025      0.975]\n",
      "----------------------------------------------------------------------------------------------------\n",
      "Intercept                            0.0126      0.001     20.703      0.000       0.011       0.014\n",
      "C(airconditioningtypeid)[T.3.0]      0.0942      0.161      0.585      0.559      -0.221       0.410\n",
      "C(airconditioningtypeid)[T.5.0]      0.0046      0.011      0.419      0.675      -0.017       0.026\n",
      "C(airconditioningtypeid)[T.9.0]     -0.0053      0.161     -0.033      0.974      -0.321       0.310\n",
      "C(airconditioningtypeid)[T.11.0]     0.0222      0.020      1.091      0.275      -0.018       0.062\n",
      "C(airconditioningtypeid)[T.13.0]     0.0029      0.004      0.755      0.450      -0.005       0.010\n",
      "C(poolcnt)[T.1.0]                   -0.0061      0.001     -4.373      0.000      -0.009      -0.003\n",
      "scale(bathroomcnt)                   0.0036      0.001      4.958      0.000       0.002       0.005\n",
      "scale(bedroomcnt)                    0.0018      0.001      2.612      0.009       0.000       0.003\n",
      "scale(garagecarcnt)                  0.0011      0.001      2.038      0.042     4.3e-05       0.002\n",
      "scale(poolsizesum)                  -0.0003      0.001     -0.618      0.536      -0.001       0.001\n",
      "==============================================================================\n",
      "Omnibus:                    66237.177   Durbin-Watson:                   1.970\n",
      "Prob(Omnibus):                  0.000   Jarque-Bera (JB):         65068152.922\n",
      "Skew:                           2.173   Prob(JB):                         0.00\n",
      "Kurtosis:                     134.453   Cond. No.                         402.\n",
      "==============================================================================\n",
      "\n",
      "Warnings:\n",
      "[1] Standard Errors assume that the covariance matrix of the errors is correctly specified.\n"
     ]
    }
   ],
   "source": [
    "inner_feature_model = sm.OLS.from_formula('logerror~ scale(bathroomcnt)+ scale(bedroomcnt) + scale(garagecarcnt)+ scale(poolsizesum) + C(airconditioningtypeid) + C(heatingorsystemtypeid) + C(poolcnt)',data=train_df)\n",
    "inner_feature_result = inner_feature_model.fit()\n",
    "print(inner_feature_result.summary())"
   ]
  },
  {
   "cell_type": "markdown",
   "metadata": {},
   "source": [
    "- 조건수는 줄였는데, 결정계수가 많이 낮다.\n",
    "- Ominbus test , Jarque-Bera 결과가 많이 높다.\n",
    "- F-statistic 이 많이 높다. "
   ]
  }
 ],
 "metadata": {
  "kernelspec": {
   "display_name": "Python 3",
   "language": "python",
   "name": "python3"
  },
  "language_info": {
   "codemirror_mode": {
    "name": "ipython",
    "version": 3
   },
   "file_extension": ".py",
   "mimetype": "text/x-python",
   "name": "python",
   "nbconvert_exporter": "python",
   "pygments_lexer": "ipython3",
   "version": "3.6.5"
  }
 },
 "nbformat": 4,
 "nbformat_minor": 2
}
