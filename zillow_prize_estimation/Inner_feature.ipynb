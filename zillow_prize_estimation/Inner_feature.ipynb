{
 "cells": [
  {
   "cell_type": "code",
   "execution_count": 1,
   "metadata": {},
   "outputs": [],
   "source": [
    "import numpy as np\n",
    "import pandas as pd\n",
    "import matplotlib as mpl\n",
    "import matplotlib.pylab as plt\n",
    "import seaborn as sns\n",
    "import scipy as sp\n",
    "import statsmodels.api as sm"
   ]
  },
  {
   "cell_type": "markdown",
   "metadata": {},
   "source": [
    "## 0) Data Load"
   ]
  },
  {
   "cell_type": "code",
   "execution_count": 2,
   "metadata": {},
   "outputs": [],
   "source": [
    "train_16 = pd.read_csv('train_2016_v2.csv',parse_dates=['transactiondate'],dtype={'parcelid':int})"
   ]
  },
  {
   "cell_type": "code",
   "execution_count": 3,
   "metadata": {
    "scrolled": true
   },
   "outputs": [],
   "source": [
    "prop_16 = pd.read_csv('properties_2016.csv',dtype={'fireplaceflag':object, 'taxdelinquencyflag':object, 'fireplaceflag':object, 'propertyzoningdesc':object, 'propertycountylandusecode':object, 'hashottuborspa':object})"
   ]
  },
  {
   "cell_type": "code",
   "execution_count": 4,
   "metadata": {},
   "outputs": [],
   "source": [
    "train_df1 = pd.merge(train_16,prop_16,on='parcelid', how ='left')"
   ]
  },
  {
   "cell_type": "code",
   "execution_count": 5,
   "metadata": {},
   "outputs": [],
   "source": [
    "train_df = train_df1.copy()"
   ]
  },
  {
   "cell_type": "markdown",
   "metadata": {},
   "source": [
    "train_17 = pd.read_csv('train_2017.csv',parse_dates=['transactiondate'],dtype={\"parcelid\": int})"
   ]
  },
  {
   "cell_type": "markdown",
   "metadata": {},
   "source": [
    "prop_17 = pd.read_csv('properties_2017.csv',dtype={\"parcelid\": int})"
   ]
  },
  {
   "cell_type": "markdown",
   "metadata": {},
   "source": [
    "train_df2 = pd.merge(train_17,prop_17,on='parcelid', how ='left',dtype={\"parcelid\": int})"
   ]
  },
  {
   "cell_type": "markdown",
   "metadata": {},
   "source": [
    "train_df = pd.concat([train_df1,train_df2])"
   ]
  },
  {
   "cell_type": "markdown",
   "metadata": {},
   "source": [
    "17년 데이터는 생략한 상태"
   ]
  },
  {
   "cell_type": "markdown",
   "metadata": {},
   "source": [
    "# 1) Analysis Outer-Feature"
   ]
  },
  {
   "cell_type": "markdown",
   "metadata": {},
   "source": [
    "## 1.1) Overview the Inner-feature data"
   ]
  },
  {
   "cell_type": "markdown",
   "metadata": {},
   "source": [
    "- 'architecturalstyletypeid'\n",
    "- 'bathroomcnt'\n",
    "- 'calculatedbathnbr'\n",
    "- 'threequarterbathnbr'\n",
    "- 'fullbathcnt'\n",
    "- 'bedroomcnt'\n",
    "- 'roomcnt’\n",
    "- 'garagecarcnt'\n",
    "- 'garagetotalsqft'\n",
    "- 'airconditioningtypeid'\n",
    "- 'fireplacecnt'\n",
    "- 'fireplaceflag'\n",
    "- 'hashottuborspa'\n",
    "- 'heatingorsystemtypeid'\n",
    "- 'poolcnt'\n",
    "- 'poolsizesum'\n",
    "- 'pooltypeid10'\n",
    "- 'pooltypeid2'\n",
    "- 'pooltypeid7'"
   ]
  },
  {
   "cell_type": "markdown",
   "metadata": {},
   "source": [
    "- inner_feature는 총 18개의 컬럼으로 이뤄져 있고, 분류 기준은 집 구성하는 미시적 요소들에 관한 것이다.\n",
    "- 화장실 갯수를 의미하는 컬럼이 중복된다.(bathroomcnt, calculatebathnbr)"
   ]
  },
  {
   "cell_type": "code",
   "execution_count": 10,
   "metadata": {},
   "outputs": [],
   "source": [
    "inner_feature= [\n",
    "    '에어컨 아이디',\n",
    "    '화장실 갯수',\n",
    "    '화장실 갯수',\n",
    "    '집 내 3/4 욕실 수 (샤워 + 세면대 + 화장실)',\n",
    "    '풀옵션 화장실의 갯수',\n",
    "    '침실 갯수',\n",
    "     '주거지에있는 총 객실 수',\n",
    "    '차고 갯수',\n",
    "    '차고 평방(크기)',\n",
    "    '에이컨 아이디',\n",
    "    '벽난로 수',\n",
    "    '벽난로가 있는지 없는지',\n",
    "    '난방 시스템의 유무',\n",
    "    '난방 시스템의 타입',\n",
    "    '수영장 갯수',\n",
    "    '수영장 크기',\n",
    "     '스파 또는 온천',\n",
    "     '스파 / 온수 욕조가있는 수영장',\n",
    "    ' 온수 욕조가없는 수영장'\n",
    "]"
   ]
  },
  {
   "cell_type": "code",
   "execution_count": 11,
   "metadata": {},
   "outputs": [],
   "source": [
    "inner_feature_col=[\n",
    "'airconditioningtypeid',\n",
    "'bathroomcnt',\n",
    "'calculatedbathnbr',\n",
    "'threequarterbathnbr',\n",
    "'fullbathcnt',\n",
    "'bedroomcnt',\n",
    "'roomcnt',\n",
    "'garagecarcnt',\n",
    "'garagetotalsqft',\n",
    "'airconditioningtypeid',\n",
    "'fireplacecnt',\n",
    "'fireplaceflag',\n",
    "'hashottuborspa',\n",
    "'heatingorsystemtypeid',\n",
    "'poolcnt',\n",
    "'poolsizesum',\n",
    "'pooltypeid10',\n",
    "'pooltypeid2',\n",
    "'pooltypeid7'\n",
    "]"
   ]
  },
  {
   "cell_type": "code",
   "execution_count": 12,
   "metadata": {},
   "outputs": [
    {
     "data": {
      "text/html": [
       "<div>\n",
       "<style scoped>\n",
       "    .dataframe tbody tr th:only-of-type {\n",
       "        vertical-align: middle;\n",
       "    }\n",
       "\n",
       "    .dataframe tbody tr th {\n",
       "        vertical-align: top;\n",
       "    }\n",
       "\n",
       "    .dataframe thead th {\n",
       "        text-align: right;\n",
       "    }\n",
       "</style>\n",
       "<table border=\"1\" class=\"dataframe\">\n",
       "  <thead>\n",
       "    <tr style=\"text-align: right;\">\n",
       "      <th></th>\n",
       "      <th>name</th>\n",
       "      <th>feature</th>\n",
       "    </tr>\n",
       "  </thead>\n",
       "  <tbody>\n",
       "    <tr>\n",
       "      <th>0</th>\n",
       "      <td>airconditioningtypeid</td>\n",
       "      <td>에어컨 아이디</td>\n",
       "    </tr>\n",
       "    <tr>\n",
       "      <th>1</th>\n",
       "      <td>bathroomcnt</td>\n",
       "      <td>화장실 갯수</td>\n",
       "    </tr>\n",
       "    <tr>\n",
       "      <th>2</th>\n",
       "      <td>calculatedbathnbr</td>\n",
       "      <td>화장실 갯수</td>\n",
       "    </tr>\n",
       "    <tr>\n",
       "      <th>3</th>\n",
       "      <td>threequarterbathnbr</td>\n",
       "      <td>집 내 3/4 욕실 수 (샤워 + 세면대 + 화장실)</td>\n",
       "    </tr>\n",
       "    <tr>\n",
       "      <th>4</th>\n",
       "      <td>fullbathcnt</td>\n",
       "      <td>풀옵션 화장실의 갯수</td>\n",
       "    </tr>\n",
       "    <tr>\n",
       "      <th>5</th>\n",
       "      <td>bedroomcnt</td>\n",
       "      <td>침실 갯수</td>\n",
       "    </tr>\n",
       "    <tr>\n",
       "      <th>6</th>\n",
       "      <td>roomcnt</td>\n",
       "      <td>주거지에있는 총 객실 수</td>\n",
       "    </tr>\n",
       "    <tr>\n",
       "      <th>7</th>\n",
       "      <td>garagecarcnt</td>\n",
       "      <td>차고 갯수</td>\n",
       "    </tr>\n",
       "    <tr>\n",
       "      <th>8</th>\n",
       "      <td>garagetotalsqft</td>\n",
       "      <td>차고 평방(크기)</td>\n",
       "    </tr>\n",
       "    <tr>\n",
       "      <th>9</th>\n",
       "      <td>airconditioningtypeid</td>\n",
       "      <td>에이컨 아이디</td>\n",
       "    </tr>\n",
       "    <tr>\n",
       "      <th>10</th>\n",
       "      <td>fireplacecnt</td>\n",
       "      <td>벽난로 수</td>\n",
       "    </tr>\n",
       "    <tr>\n",
       "      <th>11</th>\n",
       "      <td>fireplaceflag</td>\n",
       "      <td>벽난로가 있는지 없는지</td>\n",
       "    </tr>\n",
       "    <tr>\n",
       "      <th>12</th>\n",
       "      <td>hashottuborspa</td>\n",
       "      <td>난방 시스템의 유무</td>\n",
       "    </tr>\n",
       "    <tr>\n",
       "      <th>13</th>\n",
       "      <td>heatingorsystemtypeid</td>\n",
       "      <td>난방 시스템의 타입</td>\n",
       "    </tr>\n",
       "    <tr>\n",
       "      <th>14</th>\n",
       "      <td>poolcnt</td>\n",
       "      <td>수영장 갯수</td>\n",
       "    </tr>\n",
       "    <tr>\n",
       "      <th>15</th>\n",
       "      <td>poolsizesum</td>\n",
       "      <td>수영장 크기</td>\n",
       "    </tr>\n",
       "    <tr>\n",
       "      <th>16</th>\n",
       "      <td>pooltypeid10</td>\n",
       "      <td>스파 또는 온천</td>\n",
       "    </tr>\n",
       "    <tr>\n",
       "      <th>17</th>\n",
       "      <td>pooltypeid2</td>\n",
       "      <td>스파 / 온수 욕조가있는 수영장</td>\n",
       "    </tr>\n",
       "    <tr>\n",
       "      <th>18</th>\n",
       "      <td>pooltypeid7</td>\n",
       "      <td>온수 욕조가없는 수영장</td>\n",
       "    </tr>\n",
       "  </tbody>\n",
       "</table>\n",
       "</div>"
      ],
      "text/plain": [
       "                     name                        feature\n",
       "0   airconditioningtypeid                        에어컨 아이디\n",
       "1             bathroomcnt                         화장실 갯수\n",
       "2       calculatedbathnbr                         화장실 갯수\n",
       "3     threequarterbathnbr  집 내 3/4 욕실 수 (샤워 + 세면대 + 화장실)\n",
       "4             fullbathcnt                    풀옵션 화장실의 갯수\n",
       "5              bedroomcnt                          침실 갯수\n",
       "6                 roomcnt                  주거지에있는 총 객실 수\n",
       "7            garagecarcnt                          차고 갯수\n",
       "8         garagetotalsqft                      차고 평방(크기)\n",
       "9   airconditioningtypeid                        에이컨 아이디\n",
       "10           fireplacecnt                          벽난로 수\n",
       "11          fireplaceflag                   벽난로가 있는지 없는지\n",
       "12         hashottuborspa                     난방 시스템의 유무\n",
       "13  heatingorsystemtypeid                     난방 시스템의 타입\n",
       "14                poolcnt                         수영장 갯수\n",
       "15            poolsizesum                         수영장 크기\n",
       "16           pooltypeid10                       스파 또는 온천\n",
       "17            pooltypeid2              스파 / 온수 욕조가있는 수영장\n",
       "18            pooltypeid7                   온수 욕조가없는 수영장"
      ]
     },
     "execution_count": 12,
     "metadata": {},
     "output_type": "execute_result"
    }
   ],
   "source": [
    "inner_df = pd.DataFrame(columns=['name','feature'])\n",
    "inner_df.name = inner_feature_col\n",
    "inner_df.feature = inner_feature\n",
    "inner_df"
   ]
  },
  {
   "cell_type": "markdown",
   "metadata": {},
   "source": [
    "## 1.2) Datatype of Columns"
   ]
  },
  {
   "cell_type": "code",
   "execution_count": 13,
   "metadata": {
    "scrolled": false
   },
   "outputs": [
    {
     "name": "stdout",
     "output_type": "stream",
     "text": [
      "airconditioningtypeid    float64\n",
      "bathroomcnt              float64\n",
      "calculatedbathnbr        float64\n",
      "threequarterbathnbr      float64\n",
      "fullbathcnt              float64\n",
      "bedroomcnt               float64\n",
      "roomcnt                  float64\n",
      "garagecarcnt             float64\n",
      "garagetotalsqft          float64\n",
      "airconditioningtypeid    float64\n",
      "fireplacecnt             float64\n",
      "fireplaceflag             object\n",
      "hashottuborspa            object\n",
      "heatingorsystemtypeid    float64\n",
      "poolcnt                  float64\n",
      "poolsizesum              float64\n",
      "pooltypeid10             float64\n",
      "pooltypeid2              float64\n",
      "pooltypeid7              float64\n",
      "dtype: object\n",
      "\n",
      "Number of inner_feature_col:  19\n"
     ]
    }
   ],
   "source": [
    "print(train_df[inner_feature_col].dtypes,end='\\n\\n'),\n",
    "print('Number of inner_feature_col:  {}'.format(len(inner_feature_col)))"
   ]
  },
  {
   "cell_type": "markdown",
   "metadata": {},
   "source": [
    "- Inner_feature에는 18개의 컬럼이 있고, 두 개의 object 자료형과 16개의 float형이 있다.\n",
    "- numerical data, object data 를 가지고 있는 컬럼들을 나눠서 분석을 하도록 하겠다."
   ]
  },
  {
   "cell_type": "code",
   "execution_count": 14,
   "metadata": {},
   "outputs": [],
   "source": [
    "inner_numeric = []\n",
    "inner_object = []\n",
    "for col in inner_feature_col:\n",
    "    if train_df[col].dtypes == 'float64':\n",
    "        inner_numeric.append(col)\n",
    "    else:inner_object.append(col)"
   ]
  },
  {
   "cell_type": "code",
   "execution_count": 15,
   "metadata": {},
   "outputs": [
    {
     "name": "stdout",
     "output_type": "stream",
     "text": [
      "17\n"
     ]
    }
   ],
   "source": [
    "inner_numeric\n",
    "print(len(inner_numeric))"
   ]
  },
  {
   "cell_type": "code",
   "execution_count": 16,
   "metadata": {},
   "outputs": [
    {
     "name": "stdout",
     "output_type": "stream",
     "text": [
      "2\n"
     ]
    }
   ],
   "source": [
    "inner_object\n",
    "print(len(inner_object))"
   ]
  },
  {
   "cell_type": "markdown",
   "metadata": {},
   "source": [
    "## 1.3) Individual columns' feature analysis"
   ]
  },
  {
   "cell_type": "markdown",
   "metadata": {},
   "source": [
    "### scatter plot about numerical data"
   ]
  },
  {
   "cell_type": "code",
   "execution_count": 18,
   "metadata": {
    "scrolled": true
   },
   "outputs": [
    {
     "data": {
      "image/png": "[encoded data removed]",
      "text/plain": [
       "<Figure size 1440x1440 with 17 Axes>"
      ]
     },
     "metadata": {},
     "output_type": "display_data"
    }
   ],
   "source": [
    "plt.figure(figsize=(20,20))\n",
    "for idx,col in enumerate(inner_numeric):\n",
    "    plt.subplot(4,5,idx+1)\n",
    "    plt.scatter(train_df[col],train_df.logerror)\n",
    "    plt.xlabel(col)\n",
    "    plt.ylabel('logerror')\n",
    "plt.show()"
   ]
  },
  {
   "cell_type": "markdown",
   "metadata": {},
   "source": [
    "- float 자료형에 대한 scatterplot을 그려본 결과 대부분의 분포 형태가 continuous하지 않고, discrete한 분포를 띄고 있다고 보여진다.\n",
    "- 즉, numeric category를 가지고 있을 수 있는 컬럼이라고 생각하고, 카테고리의 갯수를 40개 미만으로 가지는 데이터에 대해서 다시 분포에 대해 시각화해본다."
   ]
  },
  {
   "cell_type": "code",
   "execution_count": 19,
   "metadata": {},
   "outputs": [
    {
     "name": "stdout",
     "output_type": "stream",
     "text": [
      "1.0     26668\n",
      "13.0     1833\n",
      "5.0       215\n",
      "11.0       63\n",
      "9.0         1\n",
      "3.0         1\n",
      "Name: airconditioningtypeid, dtype: int64\n",
      "2.0     36534\n",
      "3.0     19946\n",
      "1.0     15035\n",
      "2.5      8091\n",
      "4.0      3743\n",
      "1.5      1641\n",
      "0.0      1165\n",
      "5.0      1142\n",
      "3.5      1091\n",
      "4.5       795\n",
      "6.0       448\n",
      "5.5       253\n",
      "7.0       155\n",
      "8.0       114\n",
      "6.5        54\n",
      "9.0        36\n",
      "10.0       14\n",
      "7.5         9\n",
      "11.0        3\n",
      "12.0        3\n",
      "8.5         1\n",
      "20.0        1\n",
      "15.0        1\n",
      "Name: bathroomcnt, dtype: int64\n",
      "2.0     36534\n",
      "3.0     19946\n",
      "1.0     15035\n",
      "2.5      8084\n",
      "4.0      3743\n",
      "1.5      1636\n",
      "5.0      1142\n",
      "3.5      1088\n",
      "4.5       793\n",
      "6.0       448\n",
      "5.5       253\n",
      "7.0       155\n",
      "8.0       114\n",
      "6.5        54\n",
      "9.0        36\n",
      "10.0       14\n",
      "7.5         9\n",
      "11.0        3\n",
      "12.0        3\n",
      "8.5         1\n",
      "20.0        1\n",
      "15.0        1\n",
      "Name: calculatedbathnbr, dtype: int64\n",
      "1.0    11912\n",
      "2.0       90\n",
      "3.0        6\n",
      "4.0        1\n",
      "Name: threequarterbathnbr, dtype: int64\n",
      "2.0     44635\n",
      "3.0     21035\n",
      "1.0     16671\n",
      "4.0      4541\n",
      "5.0      1392\n",
      "6.0       490\n",
      "7.0       163\n",
      "8.0       112\n",
      "9.0        33\n",
      "10.0       13\n",
      "11.0        3\n",
      "12.0        3\n",
      "15.0        1\n",
      "20.0        1\n",
      "Name: fullbathcnt, dtype: int64\n",
      "3.0     35447\n",
      "2.0     22357\n",
      "4.0     20279\n",
      "5.0      5077\n",
      "1.0      3897\n",
      "0.0      1421\n",
      "6.0      1120\n",
      "8.0       274\n",
      "7.0       234\n",
      "9.0        91\n",
      "10.0       35\n",
      "12.0       22\n",
      "11.0       12\n",
      "16.0        4\n",
      "14.0        3\n",
      "13.0        1\n",
      "15.0        1\n",
      "Name: bedroomcnt, dtype: int64\n",
      "0.0     69700\n",
      "6.0      5353\n",
      "7.0      4487\n",
      "5.0      3486\n",
      "8.0      3410\n",
      "4.0      1673\n",
      "9.0      1356\n",
      "10.0      364\n",
      "3.0       271\n",
      "11.0      111\n",
      "12.0       33\n",
      "13.0       11\n",
      "2.0        10\n",
      "14.0        4\n",
      "1.0         3\n",
      "15.0        2\n",
      "18.0        1\n",
      "Name: roomcnt, dtype: int64\n",
      "2.0     21942\n",
      "1.0      6679\n",
      "3.0       663\n",
      "0.0       290\n",
      "4.0       262\n",
      "5.0        54\n",
      "6.0        16\n",
      "7.0        11\n",
      "8.0         7\n",
      "9.0         6\n",
      "11.0        2\n",
      "10.0        2\n",
      "13.0        1\n",
      "24.0        1\n",
      "14.0        1\n",
      "Name: garagecarcnt, dtype: int64\n",
      "1.0     26668\n",
      "13.0     1833\n",
      "5.0       215\n",
      "11.0       63\n",
      "9.0         1\n",
      "3.0         1\n",
      "Name: airconditioningtypeid, dtype: int64\n",
      "1.0    8165\n",
      "2.0    1106\n",
      "3.0     312\n",
      "4.0      21\n",
      "5.0       3\n",
      "Name: fireplacecnt, dtype: int64\n",
      "2.0     38303\n",
      "7.0     15519\n",
      "24.0     1071\n",
      "6.0       970\n",
      "20.0       97\n",
      "13.0       76\n",
      "18.0       25\n",
      "1.0        13\n",
      "14.0        2\n",
      "10.0        2\n",
      "11.0        1\n",
      "12.0        1\n",
      "Name: heatingorsystemtypeid, dtype: int64\n",
      "1.0    17901\n",
      "Name: poolcnt, dtype: int64\n",
      "1.0    1161\n",
      "Name: pooltypeid10, dtype: int64\n",
      "1.0    1204\n",
      "Name: pooltypeid2, dtype: int64\n",
      "1.0    16697\n",
      "Name: pooltypeid7, dtype: int64\n"
     ]
    },
    {
     "data": {
      "text/plain": [
       "15"
      ]
     },
     "execution_count": 19,
     "metadata": {},
     "output_type": "execute_result"
    }
   ],
   "source": [
    "discrete_inner_col = []\n",
    "for idx,col in enumerate(inner_numeric):\n",
    "    if len(train_df[col].value_counts())<40:\n",
    "        print(train_df[col].value_counts())\n",
    "        discrete_inner_col.append(col)\n",
    "len(discrete_inner_col)"
   ]
  },
  {
   "cell_type": "markdown",
   "metadata": {},
   "source": [
    "40 개 미만의 카테고리를 가지는 discrete data column 이 총 15개가 나왔다. 이 컬럼들에 대해서 stripplot,viloinplot을 적용해 시각화한다."
   ]
  },
  {
   "cell_type": "code",
   "execution_count": 21,
   "metadata": {},
   "outputs": [
    {
     "data": {
      "image/png": "[encoded data removed]",
      "text/plain": [
       "<Figure size 1440x1440 with 15 Axes>"
      ]
     },
     "metadata": {},
     "output_type": "display_data"
    }
   ],
   "source": [
    "plt.figure(figsize=(20,20))\n",
    "for idx,col in enumerate(discrete_inner_col):\n",
    "    plt.subplot(4,5,idx+1)\n",
    "    sns.stripplot(train_df[col],train_df.logerror)\n",
    "    plt.xlabel(col)\n",
    "    plt.ylabel('logerror')\n",
    "plt.show()"
   ]
  },
  {
   "cell_type": "code",
   "execution_count": 22,
   "metadata": {},
   "outputs": [
    {
     "data": {
      "image/png": "[encoded data removed]",
      "text/plain": [
       "<Figure size 1440x1440 with 15 Axes>"
      ]
     },
     "metadata": {},
     "output_type": "display_data"
    }
   ],
   "source": [
    "plt.figure(figsize=(20,20))\n",
    "for idx,col in enumerate(discrete_inner_col):\n",
    "    plt.subplot(4,5,idx+1)\n",
    "    sns.violinplot(train_df[col],train_df.logerror)\n",
    "    plt.xlabel(col)\n",
    "    plt.ylabel('logerror')\n",
    "plt.show()"
   ]
  },
  {
   "cell_type": "markdown",
   "metadata": {},
   "source": [
    "- 카테고리가 하나인 컬럼들이 존재한다.\n",
    "- 카테고리와 분포도를 감안하고 곧 실시할 missing_value가 얼마나 차지할지를 고려하여서 Data cleaning을 실시"
   ]
  },
  {
   "cell_type": "markdown",
   "metadata": {},
   "source": [
    "마지막으로, object datatype을 가지는 컬럼 2개에 대해서도 countplot으로 시각화를 한다."
   ]
  },
  {
   "cell_type": "code",
   "execution_count": 28,
   "metadata": {},
   "outputs": [
    {
     "data": {
      "image/png": "[encoded data removed]",
      "text/plain": [
       "<Figure size 720x720 with 2 Axes>"
      ]
     },
     "metadata": {},
     "output_type": "display_data"
    }
   ],
   "source": [
    "plt.figure(figsize=(10,10))\n",
    "for idx,col in enumerate(inner_object):\n",
    "    plt.subplot(2,1,idx+1)\n",
    "    sns.countplot(train_df[col],data=train_df)\n",
    "    plt.xlabel(col)\n",
    "    plt.ylabel('count')\n",
    "plt.show()"
   ]
  },
  {
   "cell_type": "markdown",
   "metadata": {},
   "source": [
    "- object datatype에 대한 column 의 countplot을 보면, 카테고리가 하나다. \n",
    "- 곧 실시할 data cleaning에서의 imputation strategy에 참고해야 할 사항이다."
   ]
  },
  {
   "cell_type": "markdown",
   "metadata": {},
   "source": [
    "# 2) Analysis Missing value "
   ]
  },
  {
   "cell_type": "markdown",
   "metadata": {},
   "source": [
    "우선 inner-feature 내의 컬럼들로 구성된 데이터 프레임 'inner_df'를 생성해보겠습니다."
   ]
  },
  {
   "cell_type": "code",
   "execution_count": 34,
   "metadata": {},
   "outputs": [
    {
     "data": {
      "text/html": [
       "<div>\n",
       "<style scoped>\n",
       "    .dataframe tbody tr th:only-of-type {\n",
       "        vertical-align: middle;\n",
       "    }\n",
       "\n",
       "    .dataframe tbody tr th {\n",
       "        vertical-align: top;\n",
       "    }\n",
       "\n",
       "    .dataframe thead th {\n",
       "        text-align: right;\n",
       "    }\n",
       "</style>\n",
       "<table border=\"1\" class=\"dataframe\">\n",
       "  <thead>\n",
       "    <tr style=\"text-align: right;\">\n",
       "      <th></th>\n",
       "      <th>airconditioningtypeid</th>\n",
       "      <th>bathroomcnt</th>\n",
       "      <th>calculatedbathnbr</th>\n",
       "      <th>threequarterbathnbr</th>\n",
       "      <th>fullbathcnt</th>\n",
       "      <th>bedroomcnt</th>\n",
       "      <th>roomcnt</th>\n",
       "      <th>garagecarcnt</th>\n",
       "      <th>garagetotalsqft</th>\n",
       "      <th>airconditioningtypeid</th>\n",
       "      <th>fireplacecnt</th>\n",
       "      <th>fireplaceflag</th>\n",
       "      <th>hashottuborspa</th>\n",
       "      <th>heatingorsystemtypeid</th>\n",
       "      <th>poolcnt</th>\n",
       "      <th>poolsizesum</th>\n",
       "      <th>pooltypeid10</th>\n",
       "      <th>pooltypeid2</th>\n",
       "      <th>pooltypeid7</th>\n",
       "    </tr>\n",
       "  </thead>\n",
       "  <tbody>\n",
       "    <tr>\n",
       "      <th>90270</th>\n",
       "      <td>1.0</td>\n",
       "      <td>1.0</td>\n",
       "      <td>1.0</td>\n",
       "      <td>NaN</td>\n",
       "      <td>1.0</td>\n",
       "      <td>1.0</td>\n",
       "      <td>0.0</td>\n",
       "      <td>NaN</td>\n",
       "      <td>NaN</td>\n",
       "      <td>1.0</td>\n",
       "      <td>NaN</td>\n",
       "      <td>NaN</td>\n",
       "      <td>NaN</td>\n",
       "      <td>2.0</td>\n",
       "      <td>1.0</td>\n",
       "      <td>NaN</td>\n",
       "      <td>NaN</td>\n",
       "      <td>NaN</td>\n",
       "      <td>1.0</td>\n",
       "    </tr>\n",
       "    <tr>\n",
       "      <th>90271</th>\n",
       "      <td>NaN</td>\n",
       "      <td>3.0</td>\n",
       "      <td>3.0</td>\n",
       "      <td>NaN</td>\n",
       "      <td>3.0</td>\n",
       "      <td>3.0</td>\n",
       "      <td>0.0</td>\n",
       "      <td>NaN</td>\n",
       "      <td>NaN</td>\n",
       "      <td>NaN</td>\n",
       "      <td>NaN</td>\n",
       "      <td>NaN</td>\n",
       "      <td>NaN</td>\n",
       "      <td>2.0</td>\n",
       "      <td>NaN</td>\n",
       "      <td>NaN</td>\n",
       "      <td>NaN</td>\n",
       "      <td>NaN</td>\n",
       "      <td>NaN</td>\n",
       "    </tr>\n",
       "    <tr>\n",
       "      <th>90272</th>\n",
       "      <td>NaN</td>\n",
       "      <td>2.0</td>\n",
       "      <td>2.0</td>\n",
       "      <td>NaN</td>\n",
       "      <td>2.0</td>\n",
       "      <td>4.0</td>\n",
       "      <td>0.0</td>\n",
       "      <td>NaN</td>\n",
       "      <td>NaN</td>\n",
       "      <td>NaN</td>\n",
       "      <td>NaN</td>\n",
       "      <td>NaN</td>\n",
       "      <td>NaN</td>\n",
       "      <td>NaN</td>\n",
       "      <td>NaN</td>\n",
       "      <td>NaN</td>\n",
       "      <td>NaN</td>\n",
       "      <td>NaN</td>\n",
       "      <td>NaN</td>\n",
       "    </tr>\n",
       "    <tr>\n",
       "      <th>90273</th>\n",
       "      <td>NaN</td>\n",
       "      <td>2.0</td>\n",
       "      <td>2.0</td>\n",
       "      <td>NaN</td>\n",
       "      <td>2.0</td>\n",
       "      <td>2.0</td>\n",
       "      <td>0.0</td>\n",
       "      <td>NaN</td>\n",
       "      <td>NaN</td>\n",
       "      <td>NaN</td>\n",
       "      <td>NaN</td>\n",
       "      <td>NaN</td>\n",
       "      <td>NaN</td>\n",
       "      <td>2.0</td>\n",
       "      <td>NaN</td>\n",
       "      <td>NaN</td>\n",
       "      <td>NaN</td>\n",
       "      <td>NaN</td>\n",
       "      <td>NaN</td>\n",
       "    </tr>\n",
       "    <tr>\n",
       "      <th>90274</th>\n",
       "      <td>NaN</td>\n",
       "      <td>1.0</td>\n",
       "      <td>1.0</td>\n",
       "      <td>NaN</td>\n",
       "      <td>1.0</td>\n",
       "      <td>3.0</td>\n",
       "      <td>0.0</td>\n",
       "      <td>NaN</td>\n",
       "      <td>NaN</td>\n",
       "      <td>NaN</td>\n",
       "      <td>NaN</td>\n",
       "      <td>NaN</td>\n",
       "      <td>NaN</td>\n",
       "      <td>7.0</td>\n",
       "      <td>NaN</td>\n",
       "      <td>NaN</td>\n",
       "      <td>NaN</td>\n",
       "      <td>NaN</td>\n",
       "      <td>NaN</td>\n",
       "    </tr>\n",
       "  </tbody>\n",
       "</table>\n",
       "</div>"
      ],
      "text/plain": [
       "       airconditioningtypeid  bathroomcnt  calculatedbathnbr  \\\n",
       "90270                    1.0          1.0                1.0   \n",
       "90271                    NaN          3.0                3.0   \n",
       "90272                    NaN          2.0                2.0   \n",
       "90273                    NaN          2.0                2.0   \n",
       "90274                    NaN          1.0                1.0   \n",
       "\n",
       "       threequarterbathnbr  fullbathcnt  bedroomcnt  roomcnt  garagecarcnt  \\\n",
       "90270                  NaN          1.0         1.0      0.0           NaN   \n",
       "90271                  NaN          3.0         3.0      0.0           NaN   \n",
       "90272                  NaN          2.0         4.0      0.0           NaN   \n",
       "90273                  NaN          2.0         2.0      0.0           NaN   \n",
       "90274                  NaN          1.0         3.0      0.0           NaN   \n",
       "\n",
       "       garagetotalsqft  airconditioningtypeid  fireplacecnt fireplaceflag  \\\n",
       "90270              NaN                    1.0           NaN           NaN   \n",
       "90271              NaN                    NaN           NaN           NaN   \n",
       "90272              NaN                    NaN           NaN           NaN   \n",
       "90273              NaN                    NaN           NaN           NaN   \n",
       "90274              NaN                    NaN           NaN           NaN   \n",
       "\n",
       "      hashottuborspa  heatingorsystemtypeid  poolcnt  poolsizesum  \\\n",
       "90270            NaN                    2.0      1.0          NaN   \n",
       "90271            NaN                    2.0      NaN          NaN   \n",
       "90272            NaN                    NaN      NaN          NaN   \n",
       "90273            NaN                    2.0      NaN          NaN   \n",
       "90274            NaN                    7.0      NaN          NaN   \n",
       "\n",
       "       pooltypeid10  pooltypeid2  pooltypeid7  \n",
       "90270           NaN          NaN          1.0  \n",
       "90271           NaN          NaN          NaN  \n",
       "90272           NaN          NaN          NaN  \n",
       "90273           NaN          NaN          NaN  \n",
       "90274           NaN          NaN          NaN  "
      ]
     },
     "execution_count": 34,
     "metadata": {},
     "output_type": "execute_result"
    }
   ],
   "source": [
    "inner_df = train_df[inner_feature_col]\n",
    "inner_df.tail()"
   ]
  },
  {
   "cell_type": "code",
   "execution_count": 26,
   "metadata": {},
   "outputs": [
    {
     "data": {
      "text/html": [
       "<div>\n",
       "<style scoped>\n",
       "    .dataframe tbody tr th:only-of-type {\n",
       "        vertical-align: middle;\n",
       "    }\n",
       "\n",
       "    .dataframe tbody tr th {\n",
       "        vertical-align: top;\n",
       "    }\n",
       "\n",
       "    .dataframe thead th {\n",
       "        text-align: right;\n",
       "    }\n",
       "</style>\n",
       "<table border=\"1\" class=\"dataframe\">\n",
       "  <thead>\n",
       "    <tr style=\"text-align: right;\">\n",
       "      <th></th>\n",
       "      <th>index</th>\n",
       "      <th>col</th>\n",
       "      <th>missing_cnt</th>\n",
       "      <th>missing_ratio</th>\n",
       "    </tr>\n",
       "  </thead>\n",
       "  <tbody>\n",
       "    <tr>\n",
       "      <th>0</th>\n",
       "      <td>1</td>\n",
       "      <td>bathroomcnt</td>\n",
       "      <td>0</td>\n",
       "      <td>0.000000</td>\n",
       "    </tr>\n",
       "    <tr>\n",
       "      <th>1</th>\n",
       "      <td>5</td>\n",
       "      <td>bedroomcnt</td>\n",
       "      <td>0</td>\n",
       "      <td>0.000000</td>\n",
       "    </tr>\n",
       "    <tr>\n",
       "      <th>2</th>\n",
       "      <td>6</td>\n",
       "      <td>roomcnt</td>\n",
       "      <td>0</td>\n",
       "      <td>0.000000</td>\n",
       "    </tr>\n",
       "    <tr>\n",
       "      <th>3</th>\n",
       "      <td>2</td>\n",
       "      <td>calculatedbathnbr</td>\n",
       "      <td>1182</td>\n",
       "      <td>0.013093</td>\n",
       "    </tr>\n",
       "    <tr>\n",
       "      <th>4</th>\n",
       "      <td>4</td>\n",
       "      <td>fullbathcnt</td>\n",
       "      <td>1182</td>\n",
       "      <td>0.013093</td>\n",
       "    </tr>\n",
       "    <tr>\n",
       "      <th>5</th>\n",
       "      <td>13</td>\n",
       "      <td>heatingorsystemtypeid</td>\n",
       "      <td>34195</td>\n",
       "      <td>0.378787</td>\n",
       "    </tr>\n",
       "    <tr>\n",
       "      <th>6</th>\n",
       "      <td>7</td>\n",
       "      <td>garagecarcnt</td>\n",
       "      <td>60338</td>\n",
       "      <td>0.668380</td>\n",
       "    </tr>\n",
       "    <tr>\n",
       "      <th>7</th>\n",
       "      <td>8</td>\n",
       "      <td>garagetotalsqft</td>\n",
       "      <td>60338</td>\n",
       "      <td>0.668380</td>\n",
       "    </tr>\n",
       "    <tr>\n",
       "      <th>8</th>\n",
       "      <td>0</td>\n",
       "      <td>airconditioningtypeid</td>\n",
       "      <td>61494</td>\n",
       "      <td>0.681185</td>\n",
       "    </tr>\n",
       "    <tr>\n",
       "      <th>9</th>\n",
       "      <td>9</td>\n",
       "      <td>airconditioningtypeid</td>\n",
       "      <td>61494</td>\n",
       "      <td>0.681185</td>\n",
       "    </tr>\n",
       "    <tr>\n",
       "      <th>10</th>\n",
       "      <td>14</td>\n",
       "      <td>poolcnt</td>\n",
       "      <td>72374</td>\n",
       "      <td>0.801706</td>\n",
       "    </tr>\n",
       "    <tr>\n",
       "      <th>11</th>\n",
       "      <td>18</td>\n",
       "      <td>pooltypeid7</td>\n",
       "      <td>73578</td>\n",
       "      <td>0.815043</td>\n",
       "    </tr>\n",
       "    <tr>\n",
       "      <th>12</th>\n",
       "      <td>3</td>\n",
       "      <td>threequarterbathnbr</td>\n",
       "      <td>78266</td>\n",
       "      <td>0.866973</td>\n",
       "    </tr>\n",
       "    <tr>\n",
       "      <th>13</th>\n",
       "      <td>10</td>\n",
       "      <td>fireplacecnt</td>\n",
       "      <td>80668</td>\n",
       "      <td>0.893581</td>\n",
       "    </tr>\n",
       "    <tr>\n",
       "      <th>14</th>\n",
       "      <td>12</td>\n",
       "      <td>hashottuborspa</td>\n",
       "      <td>87910</td>\n",
       "      <td>0.973802</td>\n",
       "    </tr>\n",
       "    <tr>\n",
       "      <th>15</th>\n",
       "      <td>17</td>\n",
       "      <td>pooltypeid2</td>\n",
       "      <td>89071</td>\n",
       "      <td>0.986663</td>\n",
       "    </tr>\n",
       "    <tr>\n",
       "      <th>16</th>\n",
       "      <td>16</td>\n",
       "      <td>pooltypeid10</td>\n",
       "      <td>89114</td>\n",
       "      <td>0.987139</td>\n",
       "    </tr>\n",
       "    <tr>\n",
       "      <th>17</th>\n",
       "      <td>15</td>\n",
       "      <td>poolsizesum</td>\n",
       "      <td>89306</td>\n",
       "      <td>0.989266</td>\n",
       "    </tr>\n",
       "    <tr>\n",
       "      <th>18</th>\n",
       "      <td>11</td>\n",
       "      <td>fireplaceflag</td>\n",
       "      <td>90053</td>\n",
       "      <td>0.997541</td>\n",
       "    </tr>\n",
       "  </tbody>\n",
       "</table>\n",
       "</div>"
      ],
      "text/plain": [
       "    index                    col  missing_cnt  missing_ratio\n",
       "0       1            bathroomcnt            0       0.000000\n",
       "1       5             bedroomcnt            0       0.000000\n",
       "2       6                roomcnt            0       0.000000\n",
       "3       2      calculatedbathnbr         1182       0.013093\n",
       "4       4            fullbathcnt         1182       0.013093\n",
       "5      13  heatingorsystemtypeid        34195       0.378787\n",
       "6       7           garagecarcnt        60338       0.668380\n",
       "7       8        garagetotalsqft        60338       0.668380\n",
       "8       0  airconditioningtypeid        61494       0.681185\n",
       "9       9  airconditioningtypeid        61494       0.681185\n",
       "10     14                poolcnt        72374       0.801706\n",
       "11     18            pooltypeid7        73578       0.815043\n",
       "12      3    threequarterbathnbr        78266       0.866973\n",
       "13     10           fireplacecnt        80668       0.893581\n",
       "14     12         hashottuborspa        87910       0.973802\n",
       "15     17            pooltypeid2        89071       0.986663\n",
       "16     16           pooltypeid10        89114       0.987139\n",
       "17     15            poolsizesum        89306       0.989266\n",
       "18     11          fireplaceflag        90053       0.997541"
      ]
     },
     "execution_count": 26,
     "metadata": {},
     "output_type": "execute_result"
    }
   ],
   "source": [
    "missing_inner_df = inner_df.isnull().sum().reset_index()\n",
    "missing_inner_df.columns = ['col','missing_cnt']\n",
    "missing_inner_df['missing_ratio'] = missing_inner_df.missing_cnt / len(inner_df)\n",
    "missing_inner_df.sort_values(by='missing_ratio',inplace=True)\n",
    "missing_inner_df.reset_index(inplace=True)\n",
    "missing_inner_df"
   ]
  },
  {
   "cell_type": "code",
   "execution_count": 27,
   "metadata": {},
   "outputs": [
    {
     "data": {
      "image/png": "[encoded data removed]",
      "text/plain": [
       "<Figure size 864x576 with 1 Axes>"
      ]
     },
     "metadata": {},
     "output_type": "display_data"
    }
   ],
   "source": [
    "plt.figure(figsize=(12,8))\n",
    "plt.barh(missing_inner_df.col,missing_inner_df.missing_ratio)\n",
    "plt.title('Missing value ratio in Inner feature')\n",
    "plt.xlabel('missing value ratio')\n",
    "plt.ylabel('columns')\n",
    "plt.tight_layout()\n",
    "plt.show()"
   ]
  },
  {
   "cell_type": "markdown",
   "metadata": {},
   "source": [
    "## 2.1) Fill the Missing data"
   ]
  },
  {
   "cell_type": "code",
   "execution_count": 89,
   "metadata": {},
   "outputs": [
    {
     "data": {
      "text/html": [
       "<div>\n",
       "<style scoped>\n",
       "    .dataframe tbody tr th:only-of-type {\n",
       "        vertical-align: middle;\n",
       "    }\n",
       "\n",
       "    .dataframe tbody tr th {\n",
       "        vertical-align: top;\n",
       "    }\n",
       "\n",
       "    .dataframe thead th {\n",
       "        text-align: right;\n",
       "    }\n",
       "</style>\n",
       "<table border=\"1\" class=\"dataframe\">\n",
       "  <thead>\n",
       "    <tr style=\"text-align: right;\">\n",
       "      <th></th>\n",
       "      <th>index</th>\n",
       "      <th>col</th>\n",
       "      <th>missing_cnt</th>\n",
       "      <th>missing_ratio</th>\n",
       "    </tr>\n",
       "  </thead>\n",
       "  <tbody>\n",
       "    <tr>\n",
       "      <th>14</th>\n",
       "      <td>12</td>\n",
       "      <td>hashottuborspa</td>\n",
       "      <td>87910</td>\n",
       "      <td>0.973802</td>\n",
       "    </tr>\n",
       "    <tr>\n",
       "      <th>15</th>\n",
       "      <td>17</td>\n",
       "      <td>pooltypeid2</td>\n",
       "      <td>89071</td>\n",
       "      <td>0.986663</td>\n",
       "    </tr>\n",
       "    <tr>\n",
       "      <th>16</th>\n",
       "      <td>16</td>\n",
       "      <td>pooltypeid10</td>\n",
       "      <td>89114</td>\n",
       "      <td>0.987139</td>\n",
       "    </tr>\n",
       "    <tr>\n",
       "      <th>17</th>\n",
       "      <td>15</td>\n",
       "      <td>poolsizesum</td>\n",
       "      <td>89306</td>\n",
       "      <td>0.989266</td>\n",
       "    </tr>\n",
       "    <tr>\n",
       "      <th>18</th>\n",
       "      <td>11</td>\n",
       "      <td>fireplaceflag</td>\n",
       "      <td>90053</td>\n",
       "      <td>0.997541</td>\n",
       "    </tr>\n",
       "  </tbody>\n",
       "</table>\n",
       "</div>"
      ],
      "text/plain": [
       "    index             col  missing_cnt  missing_ratio\n",
       "14     12  hashottuborspa        87910       0.973802\n",
       "15     17     pooltypeid2        89071       0.986663\n",
       "16     16    pooltypeid10        89114       0.987139\n",
       "17     15     poolsizesum        89306       0.989266\n",
       "18     11   fireplaceflag        90053       0.997541"
      ]
     },
     "execution_count": 89,
     "metadata": {},
     "output_type": "execute_result"
    }
   ],
   "source": [
    "missing_inner_df.tail()"
   ]
  },
  {
   "cell_type": "markdown",
   "metadata": {},
   "source": [
    "- 위의 missing_ratio를 보면 5개의 컬럼이 NaN값의 비율이 99%가 넘는다. 이는 두 가지 이유로 나눠질 수 있다.\n",
    "    - 0을 의미 -> 0으로 filling\n",
    "    - 기록이 누락되었음, 그냥 없는 데이터를 의미 -> deleting columns\n",
    "- missing_data에 대해서 delete가 아닌 filling을 선택할 때의 경우의 수\n",
    "    - mean imputation : continous data\n",
    "    - mode imputation : discrete data , categorical data\n",
    "    - 'None' or '0' imputation : missing_data means zero in quantitative or qualitative prospect. "
   ]
  },
  {
   "attachments": {},
   "cell_type": "markdown",
   "metadata": {},
   "source": [
    "#### bathroomcnt : 0.0%\n",
    "- Description: 화장실 갯수\n",
    "- Process: 해당 데이터는 missing_value가 없다. 별 다른 process없이 진행한다. 분포를 좀 더 살펴보면 집별로 화장실 갯수는 2개가 일반적(most common)임을 알 수 있다."
   ]
  },
  {
   "cell_type": "code",
   "execution_count": 38,
   "metadata": {
    "scrolled": true
   },
   "outputs": [
    {
     "data": {
      "text/plain": [
       "0"
      ]
     },
     "execution_count": 38,
     "metadata": {},
     "output_type": "execute_result"
    }
   ],
   "source": [
    "train_df.bathroomcnt.isnull().sum()"
   ]
  },
  {
   "cell_type": "code",
   "execution_count": 35,
   "metadata": {},
   "outputs": [
    {
     "data": {
      "text/plain": [
       "count    90275.000000\n",
       "mean         2.279474\n",
       "std          1.004271\n",
       "min          0.000000\n",
       "25%          2.000000\n",
       "50%          2.000000\n",
       "75%          3.000000\n",
       "max         20.000000\n",
       "Name: bathroomcnt, dtype: float64"
      ]
     },
     "execution_count": 35,
     "metadata": {},
     "output_type": "execute_result"
    }
   ],
   "source": [
    "train_df.bathroomcnt.describe()"
   ]
  },
  {
   "cell_type": "code",
   "execution_count": 36,
   "metadata": {},
   "outputs": [
    {
     "data": {
      "text/plain": [
       "4.0     3743\n",
       "2.5     8091\n",
       "1.0    15035\n",
       "3.0    19946\n",
       "2.0    36534\n",
       "Name: bathroomcnt, dtype: int64"
      ]
     },
     "execution_count": 36,
     "metadata": {},
     "output_type": "execute_result"
    }
   ],
   "source": [
    "train_df.bathroomcnt.value_counts().sort_values().tail()"
   ]
  },
  {
   "cell_type": "code",
   "execution_count": 37,
   "metadata": {},
   "outputs": [
    {
     "data": {
      "text/plain": [
       "23"
      ]
     },
     "execution_count": 37,
     "metadata": {},
     "output_type": "execute_result"
    }
   ],
   "source": [
    "len(train_df.bathroomcnt.value_counts())"
   ]
  },
  {
   "cell_type": "markdown",
   "metadata": {},
   "source": [
    "#### bedroomcnt\t : 0.0%\n",
    "- Description: 침실 갯수\n",
    "- Process: 해당 데이터는 missing_value가 없다. 별 다른 process없이 진행한다. 분포를 좀 더 살펴보면 집별로 침실 갯수는 3개가 일반적(most common)임을 알 수 있다."
   ]
  },
  {
   "cell_type": "code",
   "execution_count": 40,
   "metadata": {},
   "outputs": [
    {
     "data": {
      "text/plain": [
       "0"
      ]
     },
     "execution_count": 40,
     "metadata": {},
     "output_type": "execute_result"
    }
   ],
   "source": [
    "train_df.bedroomcnt.isnull().sum()"
   ]
  },
  {
   "cell_type": "code",
   "execution_count": 41,
   "metadata": {},
   "outputs": [
    {
     "data": {
      "text/plain": [
       "count    90275.000000\n",
       "mean         3.031869\n",
       "std          1.156436\n",
       "min          0.000000\n",
       "25%          2.000000\n",
       "50%          3.000000\n",
       "75%          4.000000\n",
       "max         16.000000\n",
       "Name: bedroomcnt, dtype: float64"
      ]
     },
     "execution_count": 41,
     "metadata": {},
     "output_type": "execute_result"
    }
   ],
   "source": [
    "train_df.bedroomcnt.describe()"
   ]
  },
  {
   "cell_type": "code",
   "execution_count": 42,
   "metadata": {},
   "outputs": [
    {
     "data": {
      "text/plain": [
       "1.0     3897\n",
       "5.0     5077\n",
       "4.0    20279\n",
       "2.0    22357\n",
       "3.0    35447\n",
       "Name: bedroomcnt, dtype: int64"
      ]
     },
     "execution_count": 42,
     "metadata": {},
     "output_type": "execute_result"
    }
   ],
   "source": [
    "train_df.bedroomcnt.value_counts().sort_values().tail()"
   ]
  },
  {
   "cell_type": "code",
   "execution_count": 43,
   "metadata": {},
   "outputs": [
    {
     "data": {
      "text/plain": [
       "17"
      ]
     },
     "execution_count": 43,
     "metadata": {},
     "output_type": "execute_result"
    }
   ],
   "source": [
    "len(train_df.bedroomcnt.value_counts())"
   ]
  },
  {
   "cell_type": "markdown",
   "metadata": {},
   "source": [
    "#### roomcnt\t : 0.0%\n",
    "- Description: 주거지에있는 총 객실 수\n",
    "- Process: 해당 데이터는 missing_value가 없다. 별 다른 process없이 진행한다. 분포를 좀 더 살펴보면 위의 다른 컬럼들과는 달리 0값이 많이 나오고 그 다음이 6개의 객실이 많이 나온다. 즉슨, 객실을 가지고 있지 않은 집이 일반적이며 객실이 있는 집들은 그 갯수가 많은 경향성을 띄고 있다고 해석할 수 있다. 집 값에 영향을 미칠 수 있다고 생각한다."
   ]
  },
  {
   "cell_type": "code",
   "execution_count": 44,
   "metadata": {},
   "outputs": [
    {
     "data": {
      "text/plain": [
       "0"
      ]
     },
     "execution_count": 44,
     "metadata": {},
     "output_type": "execute_result"
    }
   ],
   "source": [
    "train_df.roomcnt.isnull().sum()"
   ]
  },
  {
   "cell_type": "code",
   "execution_count": 45,
   "metadata": {},
   "outputs": [
    {
     "data": {
      "text/plain": [
       "count    90275.000000\n",
       "mean         1.478516\n",
       "std          2.819627\n",
       "min          0.000000\n",
       "25%          0.000000\n",
       "50%          0.000000\n",
       "75%          0.000000\n",
       "max         18.000000\n",
       "Name: roomcnt, dtype: float64"
      ]
     },
     "execution_count": 45,
     "metadata": {},
     "output_type": "execute_result"
    }
   ],
   "source": [
    "train_df.roomcnt.describe()"
   ]
  },
  {
   "cell_type": "code",
   "execution_count": 46,
   "metadata": {},
   "outputs": [
    {
     "data": {
      "text/plain": [
       "8.0     3410\n",
       "5.0     3486\n",
       "7.0     4487\n",
       "6.0     5353\n",
       "0.0    69700\n",
       "Name: roomcnt, dtype: int64"
      ]
     },
     "execution_count": 46,
     "metadata": {},
     "output_type": "execute_result"
    }
   ],
   "source": [
    "train_df.roomcnt.value_counts().sort_values().tail()"
   ]
  },
  {
   "cell_type": "code",
   "execution_count": 47,
   "metadata": {},
   "outputs": [
    {
     "data": {
      "text/plain": [
       "17"
      ]
     },
     "execution_count": 47,
     "metadata": {},
     "output_type": "execute_result"
    }
   ],
   "source": [
    "len(train_df.roomcnt.value_counts())"
   ]
  },
  {
   "cell_type": "markdown",
   "metadata": {},
   "source": [
    "#### calculatedbathnbr\t : 1.3%\n",
    "- Description: 화장실 갯수\n",
    "- Process: 해당 데이터는 위의 bathroomcnt와 같은 것을 의미하는 컬럼이다. 이 컬럼에 대해서 briefing을 해보고, bathroomcnt와의 correl분석을 해보겠다."
   ]
  },
  {
   "cell_type": "code",
   "execution_count": 48,
   "metadata": {},
   "outputs": [
    {
     "data": {
      "text/plain": [
       "count    89093.000000\n",
       "mean         2.309216\n",
       "std          0.976172\n",
       "min          1.000000\n",
       "25%          2.000000\n",
       "50%          2.000000\n",
       "75%          3.000000\n",
       "max         20.000000\n",
       "Name: calculatedbathnbr, dtype: float64"
      ]
     },
     "execution_count": 48,
     "metadata": {},
     "output_type": "execute_result"
    }
   ],
   "source": [
    "train_df.calculatedbathnbr.describe()"
   ]
  },
  {
   "cell_type": "code",
   "execution_count": 49,
   "metadata": {},
   "outputs": [
    {
     "data": {
      "text/plain": [
       "4.0     3743\n",
       "2.5     8084\n",
       "1.0    15035\n",
       "3.0    19946\n",
       "2.0    36534\n",
       "Name: calculatedbathnbr, dtype: int64"
      ]
     },
     "execution_count": 49,
     "metadata": {},
     "output_type": "execute_result"
    }
   ],
   "source": [
    "train_df.calculatedbathnbr.value_counts().sort_values().tail()"
   ]
  },
  {
   "cell_type": "code",
   "execution_count": 50,
   "metadata": {},
   "outputs": [
    {
     "data": {
      "text/plain": [
       "22"
      ]
     },
     "execution_count": 50,
     "metadata": {},
     "output_type": "execute_result"
    }
   ],
   "source": [
    "len(train_df.calculatedbathnbr.value_counts())"
   ]
  },
  {
   "cell_type": "code",
   "execution_count": 95,
   "metadata": {},
   "outputs": [
    {
     "data": {
      "image/png": "[encoded data removed]",
      "text/plain": [
       "<Figure size 432x288 with 1 Axes>"
      ]
     },
     "metadata": {},
     "output_type": "display_data"
    }
   ],
   "source": [
    "plt.scatter(train_df.bathroomcnt,train_df.calculatedbathnbr)\n",
    "plt.show()"
   ]
  },
  {
   "cell_type": "markdown",
   "metadata": {},
   "source": [
    "위의 표에서 보기와 같이 두 컬럼은 상관성이 높은 통계치를 가지고 있다. 따라서 missing_value ratio가 더 높은 calculatedbathnbr column을 `delete`한다."
   ]
  },
  {
   "cell_type": "markdown",
   "metadata": {},
   "source": [
    "#### fullbathcnt\t : 1.3%\n",
    "- Description: 풀옵션 화장실의 갯수\n",
    "- Process: 위의 bathroomcnt column과 샘플 측면에서 어떤 것들이 다르게 드러나는지 비교해서 확인해보겠다."
   ]
  },
  {
   "cell_type": "code",
   "execution_count": 56,
   "metadata": {},
   "outputs": [
    {
     "data": {
      "text/plain": [
       "count    89093.000000\n",
       "mean         2.241231\n",
       "std          0.963142\n",
       "min          1.000000\n",
       "25%          2.000000\n",
       "50%          2.000000\n",
       "75%          3.000000\n",
       "max         20.000000\n",
       "Name: fullbathcnt, dtype: float64"
      ]
     },
     "execution_count": 56,
     "metadata": {},
     "output_type": "execute_result"
    }
   ],
   "source": [
    "train_df.fullbathcnt.describe()"
   ]
  },
  {
   "cell_type": "code",
   "execution_count": 57,
   "metadata": {},
   "outputs": [
    {
     "data": {
      "text/plain": [
       "5.0     1392\n",
       "4.0     4541\n",
       "1.0    16671\n",
       "3.0    21035\n",
       "2.0    44635\n",
       "Name: fullbathcnt, dtype: int64"
      ]
     },
     "execution_count": 57,
     "metadata": {},
     "output_type": "execute_result"
    }
   ],
   "source": [
    "train_df.fullbathcnt.value_counts().sort_values().tail()"
   ]
  },
  {
   "cell_type": "code",
   "execution_count": 58,
   "metadata": {},
   "outputs": [
    {
     "data": {
      "text/plain": [
       "14"
      ]
     },
     "execution_count": 58,
     "metadata": {},
     "output_type": "execute_result"
    }
   ],
   "source": [
    "len(train_df.fullbathcnt.value_counts())"
   ]
  },
  {
   "cell_type": "code",
   "execution_count": 94,
   "metadata": {
    "scrolled": true
   },
   "outputs": [
    {
     "data": {
      "image/png": "[encoded data removed]",
      "text/plain": [
       "<Figure size 432x288 with 1 Axes>"
      ]
     },
     "metadata": {},
     "output_type": "display_data"
    }
   ],
   "source": [
    "plt.scatter(train_df.bathroomcnt,train_df.fullbathcnt)\n",
    "plt.show()"
   ]
  },
  {
   "cell_type": "markdown",
   "metadata": {},
   "source": [
    "위의 표에서 보기와 같이 두 컬럼은 상관성이 높은 통계치를 가지고 있다. 따라서 missing_value ratio가 더 높은 fullbathcnt column을 `delete`한다."
   ]
  },
  {
   "cell_type": "markdown",
   "metadata": {},
   "source": [
    "#### heatingorsystemtypeid\t : 37.8%\n",
    "- Description: 난방 시스템의 타입\n",
    "- Process: describe method, count_value method를 통해 본결과 난방 시스템은 'Central'이라는 시스템이 가장 일반적으로(most common) 많이 사용되기 때문에, missing_value에 mode값을 넣어준다."
   ]
  },
  {
   "cell_type": "code",
   "execution_count": 63,
   "metadata": {},
   "outputs": [],
   "source": [
    "train_df.heatingorsystemtypeid = train_df.heatingorsystemtypeid.fillna(train_df.heatingorsystemtypeid.mode()[0])"
   ]
  },
  {
   "cell_type": "code",
   "execution_count": 60,
   "metadata": {},
   "outputs": [
    {
     "data": {
      "text/plain": [
       "count    56080.000000\n",
       "mean         3.926979\n",
       "std          3.684382\n",
       "min          1.000000\n",
       "25%          2.000000\n",
       "50%          2.000000\n",
       "75%          7.000000\n",
       "max         24.000000\n",
       "Name: heatingorsystemtypeid, dtype: float64"
      ]
     },
     "execution_count": 60,
     "metadata": {},
     "output_type": "execute_result"
    }
   ],
   "source": [
    "train_df.heatingorsystemtypeid.describe()"
   ]
  },
  {
   "cell_type": "code",
   "execution_count": 61,
   "metadata": {},
   "outputs": [
    {
     "data": {
      "text/plain": [
       "20.0       97\n",
       "6.0       970\n",
       "24.0     1071\n",
       "7.0     15519\n",
       "2.0     38303\n",
       "Name: heatingorsystemtypeid, dtype: int64"
      ]
     },
     "execution_count": 61,
     "metadata": {},
     "output_type": "execute_result"
    }
   ],
   "source": [
    "train_df.heatingorsystemtypeid.value_counts().sort_values().tail()"
   ]
  },
  {
   "cell_type": "code",
   "execution_count": 62,
   "metadata": {},
   "outputs": [
    {
     "data": {
      "text/plain": [
       "12"
      ]
     },
     "execution_count": 62,
     "metadata": {},
     "output_type": "execute_result"
    }
   ],
   "source": [
    "len(train_df.heatingorsystemtypeid.value_counts())"
   ]
  },
  {
   "cell_type": "markdown",
   "metadata": {},
   "source": [
    "#### garagecarcnt : 66.83%\n",
    "- Description: 차고 갯수\n",
    "- Process: discrete data로써 2개의 차고를 가지고 있는 집들이 가장 많기 때문에 (usual) mode값으로 filling_NaN 을 해준다."
   ]
  },
  {
   "cell_type": "code",
   "execution_count": 67,
   "metadata": {},
   "outputs": [],
   "source": [
    "train_df.garagecarcnt = train_df.garagecarcnt.fillna(train_df.garagecarcnt.mode()[0])"
   ]
  },
  {
   "cell_type": "code",
   "execution_count": 64,
   "metadata": {},
   "outputs": [
    {
     "data": {
      "text/plain": [
       "count    29937.000000\n",
       "mean         1.812005\n",
       "std          0.608761\n",
       "min          0.000000\n",
       "25%          2.000000\n",
       "50%          2.000000\n",
       "75%          2.000000\n",
       "max         24.000000\n",
       "Name: garagecarcnt, dtype: float64"
      ]
     },
     "execution_count": 64,
     "metadata": {},
     "output_type": "execute_result"
    }
   ],
   "source": [
    "train_df.garagecarcnt.describe()"
   ]
  },
  {
   "cell_type": "code",
   "execution_count": 65,
   "metadata": {},
   "outputs": [
    {
     "data": {
      "text/plain": [
       "4.0      262\n",
       "0.0      290\n",
       "3.0      663\n",
       "1.0     6679\n",
       "2.0    21942\n",
       "Name: garagecarcnt, dtype: int64"
      ]
     },
     "execution_count": 65,
     "metadata": {},
     "output_type": "execute_result"
    }
   ],
   "source": [
    "train_df.garagecarcnt.value_counts().sort_values().tail()"
   ]
  },
  {
   "cell_type": "code",
   "execution_count": 66,
   "metadata": {},
   "outputs": [
    {
     "data": {
      "text/plain": [
       "15"
      ]
     },
     "execution_count": 66,
     "metadata": {},
     "output_type": "execute_result"
    }
   ],
   "source": [
    "len(train_df.garagecarcnt.value_counts())"
   ]
  },
  {
   "cell_type": "markdown",
   "metadata": {},
   "source": [
    "#### garagetotalsqft : 66.83%\n",
    "- Description: 차고 평방(크기)\n",
    "- Process: 차고 갯수를 나타내는 컬럼과 크기를 나타내는 컬럼의 missing_value 크기가 같다. zillow측에서 조사할 때 쌍으로 같이 조사한 것으로 보인다. 또한, values의 수가 70이며 sqft(volume)을 측정한 것으로 continuous data이다. 또한, min 값이 0이며 하위 25%까지 0값이 있는 것으로 보아 차고가 없으면 0이라고 따로 기제를 한 것이다. 이에 따라 missing_value에는 mean값으로 채워준다."
   ]
  },
  {
   "cell_type": "code",
   "execution_count": 75,
   "metadata": {},
   "outputs": [
    {
     "ename": "TypeError",
     "evalue": "'float' object is not subscriptable",
     "output_type": "error",
     "traceback": [
      "\u001b[0;31m---------------------------------------------------------------------------\u001b[0m",
      "\u001b[0;31mTypeError\u001b[0m                                 Traceback (most recent call last)",
      "\u001b[0;32m<ipython-input-75-6489d6b26006>\u001b[0m in \u001b[0;36m<module>\u001b[0;34m()\u001b[0m\n\u001b[0;32m----> 1\u001b[0;31m \u001b[0mtrain_df\u001b[0m\u001b[0;34m.\u001b[0m\u001b[0mgaragetotalsqft\u001b[0m \u001b[0;34m=\u001b[0m \u001b[0mtrain_df\u001b[0m\u001b[0;34m.\u001b[0m\u001b[0mgaragetotalsqft\u001b[0m\u001b[0;34m.\u001b[0m\u001b[0mfillna\u001b[0m\u001b[0;34m(\u001b[0m\u001b[0mtrain_df\u001b[0m\u001b[0;34m.\u001b[0m\u001b[0mgaragetotalsqft\u001b[0m\u001b[0;34m.\u001b[0m\u001b[0mmean\u001b[0m\u001b[0;34m(\u001b[0m\u001b[0;34m)\u001b[0m\u001b[0;34m[\u001b[0m\u001b[0;36m0\u001b[0m\u001b[0;34m]\u001b[0m\u001b[0;34m)\u001b[0m\u001b[0;34m\u001b[0m\u001b[0m\n\u001b[0m",
      "\u001b[0;31mTypeError\u001b[0m: 'float' object is not subscriptable"
     ]
    }
   ],
   "source": [
    "train_df.garagetotalsqft = train_df.garagetotalsqft.fillna(train_df.garagetotalsqft.mean()[0])"
   ]
  },
  {
   "cell_type": "code",
   "execution_count": 72,
   "metadata": {},
   "outputs": [
    {
     "data": {
      "text/plain": [
       "count    29937.000000\n",
       "mean       345.521228\n",
       "std        267.015918\n",
       "min          0.000000\n",
       "25%          0.000000\n",
       "50%        433.000000\n",
       "75%        484.000000\n",
       "max       7339.000000\n",
       "Name: garagetotalsqft, dtype: float64"
      ]
     },
     "execution_count": 72,
     "metadata": {},
     "output_type": "execute_result"
    }
   ],
   "source": [
    "train_df.garagetotalsqft.describe()"
   ]
  },
  {
   "cell_type": "code",
   "execution_count": 73,
   "metadata": {},
   "outputs": [
    {
     "data": {
      "text/plain": [
       "462.0     728\n",
       "360.0     735\n",
       "441.0     796\n",
       "400.0     970\n",
       "0.0      9209\n",
       "Name: garagetotalsqft, dtype: int64"
      ]
     },
     "execution_count": 73,
     "metadata": {},
     "output_type": "execute_result"
    }
   ],
   "source": [
    "train_df.garagetotalsqft.value_counts().sort_values().tail()"
   ]
  },
  {
   "cell_type": "code",
   "execution_count": 74,
   "metadata": {},
   "outputs": [
    {
     "data": {
      "text/plain": [
       "870"
      ]
     },
     "execution_count": 74,
     "metadata": {},
     "output_type": "execute_result"
    }
   ],
   "source": [
    "len(train_df.garagetotalsqft.value_counts())"
   ]
  },
  {
   "cell_type": "markdown",
   "metadata": {},
   "source": [
    "#### airconditioningtypeid : 68.16%\n",
    "- Description: 에이컨 아이디\n",
    "- Process: 통계치를 보게 되면, 압도적으로 1번 항목인, 'Central'이 많다. 이에 따라 missing_value에 mode값인 1을 취해준다."
   ]
  },
  {
   "cell_type": "code",
   "execution_count": 79,
   "metadata": {},
   "outputs": [],
   "source": [
    "train_df.airconditioningtypeid = train_df.airconditioningtypeid.fillna(train_df.airconditioningtypeid.mode()[0])"
   ]
  },
  {
   "cell_type": "code",
   "execution_count": 76,
   "metadata": {},
   "outputs": [
    {
     "data": {
      "text/plain": [
       "count    28781.000000\n",
       "mean         1.816372\n",
       "std          2.974168\n",
       "min          1.000000\n",
       "25%          1.000000\n",
       "50%          1.000000\n",
       "75%          1.000000\n",
       "max         13.000000\n",
       "Name: airconditioningtypeid, dtype: float64"
      ]
     },
     "execution_count": 76,
     "metadata": {},
     "output_type": "execute_result"
    }
   ],
   "source": [
    "train_df.airconditioningtypeid.describe()"
   ]
  },
  {
   "cell_type": "code",
   "execution_count": 77,
   "metadata": {},
   "outputs": [
    {
     "data": {
      "text/plain": [
       "3.0         1\n",
       "11.0       63\n",
       "5.0       215\n",
       "13.0     1833\n",
       "1.0     26668\n",
       "Name: airconditioningtypeid, dtype: int64"
      ]
     },
     "execution_count": 77,
     "metadata": {},
     "output_type": "execute_result"
    }
   ],
   "source": [
    "train_df.airconditioningtypeid.value_counts().sort_values().tail()"
   ]
  },
  {
   "cell_type": "code",
   "execution_count": 78,
   "metadata": {},
   "outputs": [
    {
     "data": {
      "text/plain": [
       "6"
      ]
     },
     "execution_count": 78,
     "metadata": {},
     "output_type": "execute_result"
    }
   ],
   "source": [
    "len(train_df.airconditioningtypeid.value_counts())"
   ]
  },
  {
   "cell_type": "markdown",
   "metadata": {},
   "source": [
    "#### poolcnt : 80.17%\n",
    "- Description: 수영장 갯수\n",
    "- Process: 통계치에서 1만 있는 데이터가 나온다. 여기서 없는 데이터는 수영장이 없는 집이라고 생각할 수 있다. 따라서 missing_value에는 0을 넣는다."
   ]
  },
  {
   "cell_type": "code",
   "execution_count": 84,
   "metadata": {},
   "outputs": [],
   "source": [
    "train_df.poolcnt = train_df.poolcnt.fillna(0)"
   ]
  },
  {
   "cell_type": "code",
   "execution_count": 83,
   "metadata": {},
   "outputs": [
    {
     "data": {
      "text/plain": [
       "count    17901.0\n",
       "mean         1.0\n",
       "std          0.0\n",
       "min          1.0\n",
       "25%          1.0\n",
       "50%          1.0\n",
       "75%          1.0\n",
       "max          1.0\n",
       "Name: poolcnt, dtype: float64"
      ]
     },
     "execution_count": 83,
     "metadata": {},
     "output_type": "execute_result"
    }
   ],
   "source": [
    "train_df.poolcnt.describe()"
   ]
  },
  {
   "cell_type": "code",
   "execution_count": 81,
   "metadata": {},
   "outputs": [
    {
     "data": {
      "text/plain": [
       "1.0    17901\n",
       "Name: poolcnt, dtype: int64"
      ]
     },
     "execution_count": 81,
     "metadata": {},
     "output_type": "execute_result"
    }
   ],
   "source": [
    "train_df.poolcnt.value_counts().sort_values().tail()"
   ]
  },
  {
   "cell_type": "code",
   "execution_count": 82,
   "metadata": {},
   "outputs": [
    {
     "data": {
      "text/plain": [
       "1"
      ]
     },
     "execution_count": 82,
     "metadata": {},
     "output_type": "execute_result"
    }
   ],
   "source": [
    "len(train_df.poolcnt.value_counts())"
   ]
  },
  {
   "cell_type": "markdown",
   "metadata": {},
   "source": [
    "#### pooltypeid7 : 81.50%\n",
    "- Description: 온수 욕조가없는 수영장\n",
    "- Process: 통계치에서 1만 있는 데이터가 나온다. 여기서 없는 데이터는 수영장이 없는 집이라고 생각할 수 있다. 따라서 missing_value에는 0을 넣는다."
   ]
  },
  {
   "cell_type": "code",
   "execution_count": 88,
   "metadata": {},
   "outputs": [],
   "source": [
    "train_df.pooltypeid7 = train_df.pooltypeid7.fillna(0)"
   ]
  },
  {
   "cell_type": "code",
   "execution_count": 85,
   "metadata": {},
   "outputs": [
    {
     "data": {
      "text/plain": [
       "count    16697.0\n",
       "mean         1.0\n",
       "std          0.0\n",
       "min          1.0\n",
       "25%          1.0\n",
       "50%          1.0\n",
       "75%          1.0\n",
       "max          1.0\n",
       "Name: pooltypeid7, dtype: float64"
      ]
     },
     "execution_count": 85,
     "metadata": {},
     "output_type": "execute_result"
    }
   ],
   "source": [
    "train_df.pooltypeid7.describe()"
   ]
  },
  {
   "cell_type": "code",
   "execution_count": 86,
   "metadata": {},
   "outputs": [
    {
     "data": {
      "text/plain": [
       "1.0    16697\n",
       "Name: pooltypeid7, dtype: int64"
      ]
     },
     "execution_count": 86,
     "metadata": {},
     "output_type": "execute_result"
    }
   ],
   "source": [
    "train_df.pooltypeid7.value_counts().sort_values().tail()"
   ]
  },
  {
   "cell_type": "code",
   "execution_count": 87,
   "metadata": {},
   "outputs": [
    {
     "data": {
      "text/plain": [
       "1"
      ]
     },
     "execution_count": 87,
     "metadata": {},
     "output_type": "execute_result"
    }
   ],
   "source": [
    "len(train_df.pooltypeid7.value_counts())"
   ]
  },
  {
   "cell_type": "markdown",
   "metadata": {},
   "source": [
    "#### threequarterbathnbr : 86.69%\n",
    "- Description:집 내 3/4 욕실 수 (샤워 + 세면대 + 화장실)\n",
    "- Process: 이번에도 욕실의 수이다. bathroomcnt와 scatterplot으로 함께 나타내보면, 별다른 상관성을 지니고 있지는 않는 것으로 보인다. discrete value들을 보면 1-4까지 있고 0 값이 없으므로 missing_value에 0을 넣는다."
   ]
  },
  {
   "cell_type": "code",
   "execution_count": 97,
   "metadata": {},
   "outputs": [],
   "source": [
    "train_df.threequarterbathnbr = train_df.threequarterbathnbr.fillna(0)"
   ]
  },
  {
   "cell_type": "code",
   "execution_count": 90,
   "metadata": {},
   "outputs": [
    {
     "data": {
      "text/plain": [
       "count    12009.000000\n",
       "mean         1.008743\n",
       "std          0.100830\n",
       "min          1.000000\n",
       "25%          1.000000\n",
       "50%          1.000000\n",
       "75%          1.000000\n",
       "max          4.000000\n",
       "Name: threequarterbathnbr, dtype: float64"
      ]
     },
     "execution_count": 90,
     "metadata": {},
     "output_type": "execute_result"
    }
   ],
   "source": [
    "train_df.threequarterbathnbr.describe()"
   ]
  },
  {
   "cell_type": "code",
   "execution_count": 91,
   "metadata": {},
   "outputs": [
    {
     "data": {
      "text/plain": [
       "4.0        1\n",
       "3.0        6\n",
       "2.0       90\n",
       "1.0    11912\n",
       "Name: threequarterbathnbr, dtype: int64"
      ]
     },
     "execution_count": 91,
     "metadata": {},
     "output_type": "execute_result"
    }
   ],
   "source": [
    "train_df.threequarterbathnbr.value_counts().sort_values().tail()"
   ]
  },
  {
   "cell_type": "code",
   "execution_count": 92,
   "metadata": {},
   "outputs": [
    {
     "data": {
      "text/plain": [
       "4"
      ]
     },
     "execution_count": 92,
     "metadata": {},
     "output_type": "execute_result"
    }
   ],
   "source": [
    "len(train_df.threequarterbathnbr.value_counts())"
   ]
  },
  {
   "cell_type": "code",
   "execution_count": 96,
   "metadata": {
    "scrolled": true
   },
   "outputs": [
    {
     "data": {
      "image/png": "[encoded data removed]",
      "text/plain": [
       "<Figure size 432x288 with 1 Axes>"
      ]
     },
     "metadata": {},
     "output_type": "display_data"
    }
   ],
   "source": [
    "plt.scatter(train_df.bathroomcnt,train_df.threequarterbathnbr)\n",
    "plt.show()"
   ]
  },
  {
   "cell_type": "markdown",
   "metadata": {},
   "source": [
    "#### hashottuborspa :97.38%\n",
    "- Description:난방 시스템의 유무\n",
    "- Process: 해당 컬럼은 True or False 형태의 dtype:Object 인 컬럼이다. True = 1, False = 0으로 변환시켜준다."
   ]
  },
  {
   "cell_type": "code",
   "execution_count": 113,
   "metadata": {},
   "outputs": [
    {
     "data": {
      "text/plain": [
       "0    87910\n",
       "1     2365\n",
       "Name: hashottuborspa, dtype: int64"
      ]
     },
     "execution_count": 113,
     "metadata": {},
     "output_type": "execute_result"
    }
   ],
   "source": [
    "# train_df.hashottuborspa = train_df.hashottuborspa.fillna(0)\n",
    "# train_df.hashottuborspa[train_df.hashottuborspa == 'true'] = 1\n",
    "train_df.hashottuborspa.value_counts()"
   ]
  },
  {
   "cell_type": "code",
   "execution_count": 98,
   "metadata": {},
   "outputs": [
    {
     "data": {
      "text/plain": [
       "count     2365\n",
       "unique       1\n",
       "top       true\n",
       "freq      2365\n",
       "Name: hashottuborspa, dtype: object"
      ]
     },
     "execution_count": 98,
     "metadata": {},
     "output_type": "execute_result"
    }
   ],
   "source": [
    "train_df.hashottuborspa.describe()"
   ]
  },
  {
   "cell_type": "code",
   "execution_count": 99,
   "metadata": {},
   "outputs": [
    {
     "data": {
      "text/plain": [
       "true    2365\n",
       "Name: hashottuborspa, dtype: int64"
      ]
     },
     "execution_count": 99,
     "metadata": {},
     "output_type": "execute_result"
    }
   ],
   "source": [
    "train_df.hashottuborspa.value_counts().sort_values().tail()"
   ]
  },
  {
   "cell_type": "code",
   "execution_count": 100,
   "metadata": {},
   "outputs": [
    {
     "data": {
      "text/plain": [
       "1"
      ]
     },
     "execution_count": 100,
     "metadata": {},
     "output_type": "execute_result"
    }
   ],
   "source": [
    "len(train_df.hashottuborspa.value_counts())"
   ]
  },
  {
   "cell_type": "markdown",
   "metadata": {},
   "source": [
    "#### fireplacecnt :89.35%\n",
    "- Description:벽난로 수\n",
    "- Process: 해당 컬럼의 discrete value을 살펴보면 1-5까지가 있다. 즉 missing_value의 의미는 벽난로가 없는 집을 의미한다. NaN -> 0"
   ]
  },
  {
   "cell_type": "code",
   "execution_count": 117,
   "metadata": {},
   "outputs": [],
   "source": [
    "train_df.fireplacecnt  = train_df.fireplacecnt .fillna(0)"
   ]
  },
  {
   "cell_type": "code",
   "execution_count": 114,
   "metadata": {},
   "outputs": [
    {
     "data": {
      "text/plain": [
       "count    9607.000000\n",
       "mean        1.187884\n",
       "std         0.484173\n",
       "min         1.000000\n",
       "25%         1.000000\n",
       "50%         1.000000\n",
       "75%         1.000000\n",
       "max         5.000000\n",
       "Name: fireplacecnt, dtype: float64"
      ]
     },
     "execution_count": 114,
     "metadata": {},
     "output_type": "execute_result"
    }
   ],
   "source": [
    "train_df.fireplacecnt.describe()"
   ]
  },
  {
   "cell_type": "code",
   "execution_count": 115,
   "metadata": {},
   "outputs": [
    {
     "data": {
      "text/plain": [
       "5.0       3\n",
       "4.0      21\n",
       "3.0     312\n",
       "2.0    1106\n",
       "1.0    8165\n",
       "Name: fireplacecnt, dtype: int64"
      ]
     },
     "execution_count": 115,
     "metadata": {},
     "output_type": "execute_result"
    }
   ],
   "source": [
    "train_df.fireplacecnt.value_counts().sort_values().tail()"
   ]
  },
  {
   "cell_type": "code",
   "execution_count": 116,
   "metadata": {},
   "outputs": [
    {
     "data": {
      "text/plain": [
       "5"
      ]
     },
     "execution_count": 116,
     "metadata": {},
     "output_type": "execute_result"
    }
   ],
   "source": [
    "len(train_df.fireplacecnt.value_counts())"
   ]
  },
  {
   "cell_type": "markdown",
   "metadata": {},
   "source": [
    "####  pooltypeid2 :  98.66%\n",
    "- Description: 스파 / 온수 욕조가있는 수영장\n",
    "- Process: 있다 없다로 나타내기 위해서 1이라는 데이터만 있는 상태이다. 없는 NaN값에 0을 넣어준다. 그런데, missing_value 비율이 매우 높은 상태에서 0값을 많이 넣어주면 정보력이 없어지게 된다. 따라서 컬럼 `delete`"
   ]
  },
  {
   "cell_type": "code",
   "execution_count": 118,
   "metadata": {},
   "outputs": [
    {
     "data": {
      "text/plain": [
       "count    1204.0\n",
       "mean        1.0\n",
       "std         0.0\n",
       "min         1.0\n",
       "25%         1.0\n",
       "50%         1.0\n",
       "75%         1.0\n",
       "max         1.0\n",
       "Name: pooltypeid2, dtype: float64"
      ]
     },
     "execution_count": 118,
     "metadata": {},
     "output_type": "execute_result"
    }
   ],
   "source": [
    "train_df.pooltypeid2.describe()"
   ]
  },
  {
   "cell_type": "code",
   "execution_count": 119,
   "metadata": {},
   "outputs": [
    {
     "data": {
      "text/plain": [
       "1.0    1204\n",
       "Name: pooltypeid2, dtype: int64"
      ]
     },
     "execution_count": 119,
     "metadata": {},
     "output_type": "execute_result"
    }
   ],
   "source": [
    "train_df.pooltypeid2.value_counts().sort_values().tail()"
   ]
  },
  {
   "cell_type": "code",
   "execution_count": 120,
   "metadata": {},
   "outputs": [
    {
     "data": {
      "text/plain": [
       "1"
      ]
     },
     "execution_count": 120,
     "metadata": {},
     "output_type": "execute_result"
    }
   ],
   "source": [
    "len(train_df.pooltypeid2.value_counts())"
   ]
  },
  {
   "cell_type": "markdown",
   "metadata": {},
   "source": [
    "#### pooltypeid10 : 98.71%\n",
    "- Description:   온수 욕조가없는 수영장\n",
    "- Process: 있다 없다로 나타내기 위해서 1이라는 데이터만 있는 상태이다. 없는 NaN값에 0을 넣어준다. 그런데, missing_value 비율이 매우 높은 상태에서 0값을 많이 넣어주면 정보력이 없어지게 된다. 따라서 컬럼 `delete`"
   ]
  },
  {
   "cell_type": "code",
   "execution_count": 121,
   "metadata": {},
   "outputs": [
    {
     "data": {
      "text/plain": [
       "count    1161.0\n",
       "mean        1.0\n",
       "std         0.0\n",
       "min         1.0\n",
       "25%         1.0\n",
       "50%         1.0\n",
       "75%         1.0\n",
       "max         1.0\n",
       "Name: pooltypeid10, dtype: float64"
      ]
     },
     "execution_count": 121,
     "metadata": {},
     "output_type": "execute_result"
    }
   ],
   "source": [
    "train_df.pooltypeid10.describe()"
   ]
  },
  {
   "cell_type": "code",
   "execution_count": 122,
   "metadata": {},
   "outputs": [
    {
     "data": {
      "text/plain": [
       "1.0    1161\n",
       "Name: pooltypeid10, dtype: int64"
      ]
     },
     "execution_count": 122,
     "metadata": {},
     "output_type": "execute_result"
    }
   ],
   "source": [
    "train_df.pooltypeid10.value_counts().sort_values().tail()"
   ]
  },
  {
   "cell_type": "code",
   "execution_count": 123,
   "metadata": {},
   "outputs": [
    {
     "data": {
      "text/plain": [
       "1"
      ]
     },
     "execution_count": 123,
     "metadata": {},
     "output_type": "execute_result"
    }
   ],
   "source": [
    "len(train_df.pooltypeid10.value_counts())"
   ]
  },
  {
   "cell_type": "markdown",
   "metadata": {},
   "source": [
    "#### poolsizesum : 98.92%\n",
    "- Description:  수영장 크기\n",
    "- Process: value_counts결과값이 매우 다양하다. 없는 데이터는 NaN 에 0을 넣으므로써 수영장이 없는 집임을 나타낼 수 있다. 하지만, missing_value_ratio가 너무 커서 0을 넣으면 정보력이 없어지게 된다. 그러므로 `delete`"
   ]
  },
  {
   "cell_type": "code",
   "execution_count": 124,
   "metadata": {},
   "outputs": [
    {
     "data": {
      "text/plain": [
       "count     969.000000\n",
       "mean      519.827657\n",
       "std       155.054210\n",
       "min        28.000000\n",
       "25%       420.000000\n",
       "50%       500.000000\n",
       "75%       600.000000\n",
       "max      1750.000000\n",
       "Name: poolsizesum, dtype: float64"
      ]
     },
     "execution_count": 124,
     "metadata": {},
     "output_type": "execute_result"
    }
   ],
   "source": [
    "train_df.poolsizesum.describe()"
   ]
  },
  {
   "cell_type": "code",
   "execution_count": 125,
   "metadata": {},
   "outputs": [
    {
     "data": {
      "text/plain": [
       "600.0     35\n",
       "500.0     36\n",
       "800.0     39\n",
       "400.0     41\n",
       "450.0    105\n",
       "Name: poolsizesum, dtype: int64"
      ]
     },
     "execution_count": 125,
     "metadata": {},
     "output_type": "execute_result"
    }
   ],
   "source": [
    "train_df.poolsizesum.value_counts().sort_values().tail()"
   ]
  },
  {
   "cell_type": "code",
   "execution_count": 126,
   "metadata": {},
   "outputs": [
    {
     "data": {
      "text/plain": [
       "273"
      ]
     },
     "execution_count": 126,
     "metadata": {},
     "output_type": "execute_result"
    }
   ],
   "source": [
    "len(train_df.poolsizesum.value_counts())"
   ]
  },
  {
   "cell_type": "markdown",
   "metadata": {},
   "source": [
    "#### fireplaceflag : 99.75%\n",
    "- Description:  벽난로가 있는지 없는지\n",
    "- Process: True or False 로 나뉘어져 있는 데이터이며, False를 나타내는 데이터가 누락된 것으로 보인다. 이 값들을 무언가로 채우게 되면, False값이 월등하게 많아지게 되서, 정보력이 없어진다. 따라서 `delete`"
   ]
  },
  {
   "cell_type": "code",
   "execution_count": 127,
   "metadata": {
    "scrolled": true
   },
   "outputs": [
    {
     "data": {
      "text/plain": [
       "count      222\n",
       "unique       1\n",
       "top       true\n",
       "freq       222\n",
       "Name: fireplaceflag, dtype: object"
      ]
     },
     "execution_count": 127,
     "metadata": {},
     "output_type": "execute_result"
    }
   ],
   "source": [
    "train_df.fireplaceflag.describe()"
   ]
  },
  {
   "cell_type": "code",
   "execution_count": 128,
   "metadata": {},
   "outputs": [
    {
     "data": {
      "text/plain": [
       "true    222\n",
       "Name: fireplaceflag, dtype: int64"
      ]
     },
     "execution_count": 128,
     "metadata": {},
     "output_type": "execute_result"
    }
   ],
   "source": [
    "train_df.fireplaceflag.value_counts().sort_values().tail()"
   ]
  },
  {
   "cell_type": "code",
   "execution_count": 129,
   "metadata": {
    "scrolled": true
   },
   "outputs": [
    {
     "data": {
      "text/plain": [
       "1"
      ]
     },
     "execution_count": 129,
     "metadata": {},
     "output_type": "execute_result"
    }
   ],
   "source": [
    "len(train_df.fireplaceflag.value_counts())"
   ]
  },
  {
   "cell_type": "markdown",
   "metadata": {},
   "source": [
    "# Data Cleaning"
   ]
  },
  {
   "cell_type": "code",
   "execution_count": 130,
   "metadata": {},
   "outputs": [
    {
     "data": {
      "text/plain": [
       "['airconditioningtypeid',\n",
       " 'bathroomcnt',\n",
       " 'threequarterbathnbr',\n",
       " 'bedroomcnt',\n",
       " 'roomcnt',\n",
       " 'garagecarcnt',\n",
       " 'garagetotalsqft',\n",
       " 'airconditioningtypeid',\n",
       " 'fireplacecnt',\n",
       " 'hashottuborspa',\n",
       " 'heatingorsystemtypeid',\n",
       " 'poolcnt',\n",
       " 'pooltypeid7']"
      ]
     },
     "execution_count": 130,
     "metadata": {},
     "output_type": "execute_result"
    }
   ],
   "source": [
    "deleted_col = ['calculatedbathnbr','fullbathcnt','pooltypeid2','pooltypeid10','poolsizesum','fireplaceflag']\n",
    "for deleted in deleted_col:\n",
    "    inner_feature_col.remove(deleted)\n",
    "inner_feature_col"
   ]
  },
  {
   "cell_type": "code",
   "execution_count": 131,
   "metadata": {},
   "outputs": [
    {
     "data": {
      "text/html": [
       "<div>\n",
       "<style scoped>\n",
       "    .dataframe tbody tr th:only-of-type {\n",
       "        vertical-align: middle;\n",
       "    }\n",
       "\n",
       "    .dataframe tbody tr th {\n",
       "        vertical-align: top;\n",
       "    }\n",
       "\n",
       "    .dataframe thead th {\n",
       "        text-align: right;\n",
       "    }\n",
       "</style>\n",
       "<table border=\"1\" class=\"dataframe\">\n",
       "  <thead>\n",
       "    <tr style=\"text-align: right;\">\n",
       "      <th></th>\n",
       "      <th>parcelid</th>\n",
       "      <th>logerror</th>\n",
       "      <th>transactiondate</th>\n",
       "      <th>airconditioningtypeid</th>\n",
       "      <th>architecturalstyletypeid</th>\n",
       "      <th>basementsqft</th>\n",
       "      <th>bathroomcnt</th>\n",
       "      <th>bedroomcnt</th>\n",
       "      <th>buildingclasstypeid</th>\n",
       "      <th>buildingqualitytypeid</th>\n",
       "      <th>...</th>\n",
       "      <th>yearbuilt</th>\n",
       "      <th>numberofstories</th>\n",
       "      <th>structuretaxvaluedollarcnt</th>\n",
       "      <th>taxvaluedollarcnt</th>\n",
       "      <th>assessmentyear</th>\n",
       "      <th>landtaxvaluedollarcnt</th>\n",
       "      <th>taxamount</th>\n",
       "      <th>taxdelinquencyflag</th>\n",
       "      <th>taxdelinquencyyear</th>\n",
       "      <th>censustractandblock</th>\n",
       "    </tr>\n",
       "  </thead>\n",
       "  <tbody>\n",
       "    <tr>\n",
       "      <th>90270</th>\n",
       "      <td>10774160</td>\n",
       "      <td>-0.0356</td>\n",
       "      <td>2016-12-30</td>\n",
       "      <td>1.0</td>\n",
       "      <td>NaN</td>\n",
       "      <td>NaN</td>\n",
       "      <td>1.0</td>\n",
       "      <td>1.0</td>\n",
       "      <td>NaN</td>\n",
       "      <td>4.0</td>\n",
       "      <td>...</td>\n",
       "      <td>2.0</td>\n",
       "      <td>NaN</td>\n",
       "      <td>43800.0</td>\n",
       "      <td>191000.0</td>\n",
       "      <td>2015.0</td>\n",
       "      <td>147200.0</td>\n",
       "      <td>2495.24</td>\n",
       "      <td>NaN</td>\n",
       "      <td>NaN</td>\n",
       "      <td>6.037132e+13</td>\n",
       "    </tr>\n",
       "    <tr>\n",
       "      <th>90271</th>\n",
       "      <td>12046695</td>\n",
       "      <td>0.0070</td>\n",
       "      <td>2016-12-30</td>\n",
       "      <td>1.0</td>\n",
       "      <td>NaN</td>\n",
       "      <td>NaN</td>\n",
       "      <td>3.0</td>\n",
       "      <td>3.0</td>\n",
       "      <td>NaN</td>\n",
       "      <td>4.0</td>\n",
       "      <td>...</td>\n",
       "      <td>2.0</td>\n",
       "      <td>NaN</td>\n",
       "      <td>117893.0</td>\n",
       "      <td>161111.0</td>\n",
       "      <td>2015.0</td>\n",
       "      <td>43218.0</td>\n",
       "      <td>1886.54</td>\n",
       "      <td>NaN</td>\n",
       "      <td>NaN</td>\n",
       "      <td>6.037301e+13</td>\n",
       "    </tr>\n",
       "    <tr>\n",
       "      <th>90272</th>\n",
       "      <td>12995401</td>\n",
       "      <td>-0.2679</td>\n",
       "      <td>2016-12-30</td>\n",
       "      <td>1.0</td>\n",
       "      <td>NaN</td>\n",
       "      <td>NaN</td>\n",
       "      <td>2.0</td>\n",
       "      <td>4.0</td>\n",
       "      <td>NaN</td>\n",
       "      <td>7.0</td>\n",
       "      <td>...</td>\n",
       "      <td>2.0</td>\n",
       "      <td>NaN</td>\n",
       "      <td>22008.0</td>\n",
       "      <td>38096.0</td>\n",
       "      <td>2015.0</td>\n",
       "      <td>16088.0</td>\n",
       "      <td>1925.70</td>\n",
       "      <td>Y</td>\n",
       "      <td>14.0</td>\n",
       "      <td>6.037433e+13</td>\n",
       "    </tr>\n",
       "    <tr>\n",
       "      <th>90273</th>\n",
       "      <td>11402105</td>\n",
       "      <td>0.0602</td>\n",
       "      <td>2016-12-30</td>\n",
       "      <td>1.0</td>\n",
       "      <td>NaN</td>\n",
       "      <td>NaN</td>\n",
       "      <td>2.0</td>\n",
       "      <td>2.0</td>\n",
       "      <td>NaN</td>\n",
       "      <td>4.0</td>\n",
       "      <td>...</td>\n",
       "      <td>2.0</td>\n",
       "      <td>NaN</td>\n",
       "      <td>132991.0</td>\n",
       "      <td>165869.0</td>\n",
       "      <td>2015.0</td>\n",
       "      <td>32878.0</td>\n",
       "      <td>2285.57</td>\n",
       "      <td>NaN</td>\n",
       "      <td>NaN</td>\n",
       "      <td>6.037601e+13</td>\n",
       "    </tr>\n",
       "    <tr>\n",
       "      <th>90274</th>\n",
       "      <td>12566293</td>\n",
       "      <td>0.4207</td>\n",
       "      <td>2016-12-30</td>\n",
       "      <td>1.0</td>\n",
       "      <td>NaN</td>\n",
       "      <td>NaN</td>\n",
       "      <td>1.0</td>\n",
       "      <td>3.0</td>\n",
       "      <td>NaN</td>\n",
       "      <td>7.0</td>\n",
       "      <td>...</td>\n",
       "      <td>2.0</td>\n",
       "      <td>NaN</td>\n",
       "      <td>66258.0</td>\n",
       "      <td>163037.0</td>\n",
       "      <td>2015.0</td>\n",
       "      <td>96779.0</td>\n",
       "      <td>2560.96</td>\n",
       "      <td>NaN</td>\n",
       "      <td>NaN</td>\n",
       "      <td>6.037544e+13</td>\n",
       "    </tr>\n",
       "  </tbody>\n",
       "</table>\n",
       "<p>5 rows × 54 columns</p>\n",
       "</div>"
      ],
      "text/plain": [
       "       parcelid  logerror transactiondate  airconditioningtypeid  \\\n",
       "90270  10774160   -0.0356      2016-12-30                    1.0   \n",
       "90271  12046695    0.0070      2016-12-30                    1.0   \n",
       "90272  12995401   -0.2679      2016-12-30                    1.0   \n",
       "90273  11402105    0.0602      2016-12-30                    1.0   \n",
       "90274  12566293    0.4207      2016-12-30                    1.0   \n",
       "\n",
       "       architecturalstyletypeid  basementsqft  bathroomcnt  bedroomcnt  \\\n",
       "90270                       NaN           NaN          1.0         1.0   \n",
       "90271                       NaN           NaN          3.0         3.0   \n",
       "90272                       NaN           NaN          2.0         4.0   \n",
       "90273                       NaN           NaN          2.0         2.0   \n",
       "90274                       NaN           NaN          1.0         3.0   \n",
       "\n",
       "       buildingclasstypeid  buildingqualitytypeid         ...           \\\n",
       "90270                  NaN                    4.0         ...            \n",
       "90271                  NaN                    4.0         ...            \n",
       "90272                  NaN                    7.0         ...            \n",
       "90273                  NaN                    4.0         ...            \n",
       "90274                  NaN                    7.0         ...            \n",
       "\n",
       "       yearbuilt  numberofstories  structuretaxvaluedollarcnt  \\\n",
       "90270        2.0              NaN                     43800.0   \n",
       "90271        2.0              NaN                    117893.0   \n",
       "90272        2.0              NaN                     22008.0   \n",
       "90273        2.0              NaN                    132991.0   \n",
       "90274        2.0              NaN                     66258.0   \n",
       "\n",
       "       taxvaluedollarcnt  assessmentyear  landtaxvaluedollarcnt  taxamount  \\\n",
       "90270           191000.0          2015.0               147200.0    2495.24   \n",
       "90271           161111.0          2015.0                43218.0    1886.54   \n",
       "90272            38096.0          2015.0                16088.0    1925.70   \n",
       "90273           165869.0          2015.0                32878.0    2285.57   \n",
       "90274           163037.0          2015.0                96779.0    2560.96   \n",
       "\n",
       "       taxdelinquencyflag  taxdelinquencyyear  censustractandblock  \n",
       "90270                 NaN                 NaN         6.037132e+13  \n",
       "90271                 NaN                 NaN         6.037301e+13  \n",
       "90272                   Y                14.0         6.037433e+13  \n",
       "90273                 NaN                 NaN         6.037601e+13  \n",
       "90274                 NaN                 NaN         6.037544e+13  \n",
       "\n",
       "[5 rows x 54 columns]"
      ]
     },
     "execution_count": 131,
     "metadata": {},
     "output_type": "execute_result"
    }
   ],
   "source": [
    "train_df.drop(columns=['calculatedbathnbr','fullbathcnt','pooltypeid2','pooltypeid10','poolsizesum','fireplaceflag'],inplace=True)\n",
    "train_df.tail()"
   ]
  },
  {
   "cell_type": "code",
   "execution_count": 132,
   "metadata": {},
   "outputs": [
    {
     "data": {
      "text/html": [
       "<div>\n",
       "<style scoped>\n",
       "    .dataframe tbody tr th:only-of-type {\n",
       "        vertical-align: middle;\n",
       "    }\n",
       "\n",
       "    .dataframe tbody tr th {\n",
       "        vertical-align: top;\n",
       "    }\n",
       "\n",
       "    .dataframe thead th {\n",
       "        text-align: right;\n",
       "    }\n",
       "</style>\n",
       "<table border=\"1\" class=\"dataframe\">\n",
       "  <thead>\n",
       "    <tr style=\"text-align: right;\">\n",
       "      <th></th>\n",
       "      <th>airconditioningtypeid</th>\n",
       "      <th>bathroomcnt</th>\n",
       "      <th>threequarterbathnbr</th>\n",
       "      <th>bedroomcnt</th>\n",
       "      <th>roomcnt</th>\n",
       "      <th>garagecarcnt</th>\n",
       "      <th>garagetotalsqft</th>\n",
       "      <th>airconditioningtypeid</th>\n",
       "      <th>fireplacecnt</th>\n",
       "      <th>hashottuborspa</th>\n",
       "      <th>heatingorsystemtypeid</th>\n",
       "      <th>poolcnt</th>\n",
       "      <th>pooltypeid7</th>\n",
       "    </tr>\n",
       "  </thead>\n",
       "  <tbody>\n",
       "    <tr>\n",
       "      <th>90270</th>\n",
       "      <td>1.0</td>\n",
       "      <td>1.0</td>\n",
       "      <td>0.0</td>\n",
       "      <td>1.0</td>\n",
       "      <td>0.0</td>\n",
       "      <td>2.0</td>\n",
       "      <td>NaN</td>\n",
       "      <td>1.0</td>\n",
       "      <td>0.0</td>\n",
       "      <td>0</td>\n",
       "      <td>2.0</td>\n",
       "      <td>1.0</td>\n",
       "      <td>1.0</td>\n",
       "    </tr>\n",
       "    <tr>\n",
       "      <th>90271</th>\n",
       "      <td>1.0</td>\n",
       "      <td>3.0</td>\n",
       "      <td>0.0</td>\n",
       "      <td>3.0</td>\n",
       "      <td>0.0</td>\n",
       "      <td>2.0</td>\n",
       "      <td>NaN</td>\n",
       "      <td>1.0</td>\n",
       "      <td>0.0</td>\n",
       "      <td>0</td>\n",
       "      <td>2.0</td>\n",
       "      <td>0.0</td>\n",
       "      <td>0.0</td>\n",
       "    </tr>\n",
       "    <tr>\n",
       "      <th>90272</th>\n",
       "      <td>1.0</td>\n",
       "      <td>2.0</td>\n",
       "      <td>0.0</td>\n",
       "      <td>4.0</td>\n",
       "      <td>0.0</td>\n",
       "      <td>2.0</td>\n",
       "      <td>NaN</td>\n",
       "      <td>1.0</td>\n",
       "      <td>0.0</td>\n",
       "      <td>0</td>\n",
       "      <td>NaN</td>\n",
       "      <td>0.0</td>\n",
       "      <td>0.0</td>\n",
       "    </tr>\n",
       "    <tr>\n",
       "      <th>90273</th>\n",
       "      <td>1.0</td>\n",
       "      <td>2.0</td>\n",
       "      <td>0.0</td>\n",
       "      <td>2.0</td>\n",
       "      <td>0.0</td>\n",
       "      <td>2.0</td>\n",
       "      <td>NaN</td>\n",
       "      <td>1.0</td>\n",
       "      <td>0.0</td>\n",
       "      <td>0</td>\n",
       "      <td>2.0</td>\n",
       "      <td>0.0</td>\n",
       "      <td>0.0</td>\n",
       "    </tr>\n",
       "    <tr>\n",
       "      <th>90274</th>\n",
       "      <td>1.0</td>\n",
       "      <td>1.0</td>\n",
       "      <td>0.0</td>\n",
       "      <td>3.0</td>\n",
       "      <td>0.0</td>\n",
       "      <td>2.0</td>\n",
       "      <td>NaN</td>\n",
       "      <td>1.0</td>\n",
       "      <td>0.0</td>\n",
       "      <td>0</td>\n",
       "      <td>7.0</td>\n",
       "      <td>0.0</td>\n",
       "      <td>0.0</td>\n",
       "    </tr>\n",
       "  </tbody>\n",
       "</table>\n",
       "</div>"
      ],
      "text/plain": [
       "       airconditioningtypeid  bathroomcnt  threequarterbathnbr  bedroomcnt  \\\n",
       "90270                    1.0          1.0                  0.0         1.0   \n",
       "90271                    1.0          3.0                  0.0         3.0   \n",
       "90272                    1.0          2.0                  0.0         4.0   \n",
       "90273                    1.0          2.0                  0.0         2.0   \n",
       "90274                    1.0          1.0                  0.0         3.0   \n",
       "\n",
       "       roomcnt  garagecarcnt  garagetotalsqft  airconditioningtypeid  \\\n",
       "90270      0.0           2.0              NaN                    1.0   \n",
       "90271      0.0           2.0              NaN                    1.0   \n",
       "90272      0.0           2.0              NaN                    1.0   \n",
       "90273      0.0           2.0              NaN                    1.0   \n",
       "90274      0.0           2.0              NaN                    1.0   \n",
       "\n",
       "       fireplacecnt hashottuborspa  heatingorsystemtypeid  poolcnt  \\\n",
       "90270           0.0              0                    2.0      1.0   \n",
       "90271           0.0              0                    2.0      0.0   \n",
       "90272           0.0              0                    NaN      0.0   \n",
       "90273           0.0              0                    2.0      0.0   \n",
       "90274           0.0              0                    7.0      0.0   \n",
       "\n",
       "       pooltypeid7  \n",
       "90270          1.0  \n",
       "90271          0.0  \n",
       "90272          0.0  \n",
       "90273          0.0  \n",
       "90274          0.0  "
      ]
     },
     "execution_count": 132,
     "metadata": {},
     "output_type": "execute_result"
    }
   ],
   "source": [
    "train_df[inner_feature_col].tail()"
   ]
  }
 ],
 "metadata": {
  "kernelspec": {
   "display_name": "Python 3",
   "language": "python",
   "name": "python3"
  },
  "language_info": {
   "codemirror_mode": {
    "name": "ipython",
    "version": 3
   },
   "file_extension": ".py",
   "mimetype": "text/x-python",
   "name": "python",
   "nbconvert_exporter": "python",
   "pygments_lexer": "ipython3",
   "version": "3.6.5"
  }
 },
 "nbformat": 4,
 "nbformat_minor": 2
}
