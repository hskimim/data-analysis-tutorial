{
 "cells": [
  {
   "cell_type": "code",
   "execution_count": 1,
   "metadata": {},
   "outputs": [],
   "source": [
    "import numpy as np\n",
    "import pandas as pd\n",
    "import matplotlib as mpl\n",
    "import matplotlib.pylab as plt\n",
    "import seaborn as sns\n",
    "import scipy as sp\n",
    "import statsmodels.api as sm"
   ]
  },
  {
   "cell_type": "markdown",
   "metadata": {},
   "source": [
    "## 0) Data Load"
   ]
  },
  {
   "cell_type": "code",
   "execution_count": 2,
   "metadata": {
    "scrolled": true
   },
   "outputs": [],
   "source": [
    "train_16 = pd.read_csv('train_2016_v2.csv',parse_dates=['transactiondate'],dtype={'parcelid':int})"
   ]
  },
  {
   "cell_type": "code",
   "execution_count": 3,
   "metadata": {},
   "outputs": [],
   "source": [
    "prop_16 = pd.read_csv('properties_2016.csv',dtype={'fireplaceflag':object, 'taxdelinquencyflag':object, 'fireplaceflag':object, 'propertyzoningdesc':object, 'propertycountylandusecode':object, 'hashottuborspa':object})"
   ]
  },
  {
   "cell_type": "code",
   "execution_count": 4,
   "metadata": {},
   "outputs": [],
   "source": [
    "train_df1 = pd.merge(train_16,prop_16,on='parcelid', how ='left')"
   ]
  },
  {
   "cell_type": "code",
   "execution_count": 5,
   "metadata": {},
   "outputs": [],
   "source": [
    "train_df = train_df1.copy()"
   ]
  },
  {
   "cell_type": "markdown",
   "metadata": {},
   "source": [
    "train_17 = pd.read_csv('train_2017.csv',parse_dates=['transactiondate'])"
   ]
  },
  {
   "cell_type": "markdown",
   "metadata": {
    "scrolled": true
   },
   "source": [
    "prop_17 = pd.read_csv('properties_2017.csv')"
   ]
  },
  {
   "cell_type": "markdown",
   "metadata": {},
   "source": [
    "train_df2 = pd.merge(train_17,prop_17,on='parcelid', how ='left')"
   ]
  },
  {
   "cell_type": "markdown",
   "metadata": {},
   "source": [
    "train_df = pd.concat([train_df1,train_df2])"
   ]
  },
  {
   "cell_type": "markdown",
   "metadata": {},
   "source": [
    "train_df.head()"
   ]
  },
  {
   "cell_type": "markdown",
   "metadata": {},
   "source": [
    "# 1) Analysis Outer-Feature"
   ]
  },
  {
   "cell_type": "markdown",
   "metadata": {},
   "source": [
    "## 1.1) Overview the Outer-feature data"
   ]
  },
  {
   "cell_type": "markdown",
   "metadata": {},
   "source": [
    "- 'architecturalstyletypeid'\n",
    "- 'buildingqualitytypeid'\n",
    "- 'buildingclasstypeid'\n",
    "- 'decktypeid'\n",
    "- 'numberofstories'\n",
    "- 'storytypeid'\n",
    "- 'typeconstructiontypeid'\n",
    "- 'unitcnt'\n",
    "- 'yardbuildingsqft17'\n",
    "- 'yardbuildingsqft26'\n",
    "- 'yearbuilt'"
   ]
  },
  {
   "cell_type": "markdown",
   "metadata": {},
   "source": [
    "outer feature는 총 12개의 컬럼으로 이뤄져 있고, 분류 기준은 집의 전체적인 구조(structure)적인 부분에서 관찰될 수 있는 특징에 관한 것입니다."
   ]
  },
  {
   "cell_type": "code",
   "execution_count": 6,
   "metadata": {},
   "outputs": [
    {
     "data": {
      "text/plain": [
       "9"
      ]
     },
     "execution_count": 6,
     "metadata": {},
     "output_type": "execute_result"
    }
   ],
   "source": [
    "outer_feature=[\n",
    "'건축 양식 아이디',\n",
    "'건물 상태에 대한 평가 (최고부터 최악까지 평가가 매겨져 있다.)',\n",
    "'건물 뼈대에 어떤 타입의 재료가 쓰였는지',\n",
    "'집 마당 부근에 있는 갑판(테라스같은 것을 의미)',\n",
    "'집의 층 수 (story or level이라고 표현한다.)',\n",
    "'집의 층 수 (story or level이라고 표현한다.)',\n",
    "'주택 건설에 사용 된 건축 자재의 유형',\n",
    "'구조가 구축 된 단위 수 (예 : 2 = 이중, 3 = 삼중 등)',\n",
    "'주거지가 지어진 해']\n",
    "len(outer_feature)"
   ]
  },
  {
   "cell_type": "code",
   "execution_count": 7,
   "metadata": {},
   "outputs": [
    {
     "data": {
      "text/plain": [
       "9"
      ]
     },
     "execution_count": 7,
     "metadata": {},
     "output_type": "execute_result"
    }
   ],
   "source": [
    "outer_feature_col = [\n",
    "'architecturalstyletypeid',\n",
    "'buildingqualitytypeid',\n",
    "'buildingclasstypeid',\n",
    "'decktypeid',\n",
    "'numberofstories',\n",
    "'storytypeid',\n",
    "'typeconstructiontypeid',\n",
    "'unitcnt',\n",
    "'yearbuilt']\n",
    "len(outer_feature_col)"
   ]
  },
  {
   "cell_type": "code",
   "execution_count": 8,
   "metadata": {},
   "outputs": [
    {
     "data": {
      "text/html": [
       "<div>\n",
       "<style scoped>\n",
       "    .dataframe tbody tr th:only-of-type {\n",
       "        vertical-align: middle;\n",
       "    }\n",
       "\n",
       "    .dataframe tbody tr th {\n",
       "        vertical-align: top;\n",
       "    }\n",
       "\n",
       "    .dataframe thead th {\n",
       "        text-align: right;\n",
       "    }\n",
       "</style>\n",
       "<table border=\"1\" class=\"dataframe\">\n",
       "  <thead>\n",
       "    <tr style=\"text-align: right;\">\n",
       "      <th></th>\n",
       "      <th>name</th>\n",
       "      <th>feature</th>\n",
       "    </tr>\n",
       "  </thead>\n",
       "  <tbody>\n",
       "    <tr>\n",
       "      <th>0</th>\n",
       "      <td>architecturalstyletypeid</td>\n",
       "      <td>건축 양식 아이디</td>\n",
       "    </tr>\n",
       "    <tr>\n",
       "      <th>1</th>\n",
       "      <td>buildingqualitytypeid</td>\n",
       "      <td>건물 상태에 대한 평가 (최고부터 최악까지 평가가 매겨져 있다.)</td>\n",
       "    </tr>\n",
       "    <tr>\n",
       "      <th>2</th>\n",
       "      <td>buildingclasstypeid</td>\n",
       "      <td>건물 뼈대에 어떤 타입의 재료가 쓰였는지</td>\n",
       "    </tr>\n",
       "    <tr>\n",
       "      <th>3</th>\n",
       "      <td>decktypeid</td>\n",
       "      <td>집 마당 부근에 있는 갑판(테라스같은 것을 의미)</td>\n",
       "    </tr>\n",
       "    <tr>\n",
       "      <th>4</th>\n",
       "      <td>numberofstories</td>\n",
       "      <td>집의 층 수 (story or level이라고 표현한다.)</td>\n",
       "    </tr>\n",
       "    <tr>\n",
       "      <th>5</th>\n",
       "      <td>storytypeid</td>\n",
       "      <td>집의 층 수 (story or level이라고 표현한다.)</td>\n",
       "    </tr>\n",
       "    <tr>\n",
       "      <th>6</th>\n",
       "      <td>typeconstructiontypeid</td>\n",
       "      <td>주택 건설에 사용 된 건축 자재의 유형</td>\n",
       "    </tr>\n",
       "    <tr>\n",
       "      <th>7</th>\n",
       "      <td>unitcnt</td>\n",
       "      <td>구조가 구축 된 단위 수 (예 : 2 = 이중, 3 = 삼중 등)</td>\n",
       "    </tr>\n",
       "    <tr>\n",
       "      <th>8</th>\n",
       "      <td>yearbuilt</td>\n",
       "      <td>주거지가 지어진 해</td>\n",
       "    </tr>\n",
       "  </tbody>\n",
       "</table>\n",
       "</div>"
      ],
      "text/plain": [
       "                       name                               feature\n",
       "0  architecturalstyletypeid                             건축 양식 아이디\n",
       "1     buildingqualitytypeid  건물 상태에 대한 평가 (최고부터 최악까지 평가가 매겨져 있다.)\n",
       "2       buildingclasstypeid                건물 뼈대에 어떤 타입의 재료가 쓰였는지\n",
       "3                decktypeid           집 마당 부근에 있는 갑판(테라스같은 것을 의미)\n",
       "4           numberofstories      집의 층 수 (story or level이라고 표현한다.)\n",
       "5               storytypeid      집의 층 수 (story or level이라고 표현한다.)\n",
       "6    typeconstructiontypeid                 주택 건설에 사용 된 건축 자재의 유형\n",
       "7                   unitcnt  구조가 구축 된 단위 수 (예 : 2 = 이중, 3 = 삼중 등)\n",
       "8                 yearbuilt                            주거지가 지어진 해"
      ]
     },
     "execution_count": 8,
     "metadata": {},
     "output_type": "execute_result"
    }
   ],
   "source": [
    "outer_df = pd.DataFrame(columns=['name','feature'])\n",
    "outer_df.name = outer_feature_col\n",
    "outer_df.feature = outer_feature\n",
    "outer_df"
   ]
  },
  {
   "cell_type": "markdown",
   "metadata": {},
   "source": [
    "## 1.2) Datatype of Columns"
   ]
  },
  {
   "cell_type": "code",
   "execution_count": 9,
   "metadata": {},
   "outputs": [
    {
     "name": "stdout",
     "output_type": "stream",
     "text": [
      "architecturalstyletypeid    float64\n",
      "buildingqualitytypeid       float64\n",
      "buildingclasstypeid         float64\n",
      "decktypeid                  float64\n",
      "numberofstories             float64\n",
      "storytypeid                 float64\n",
      "typeconstructiontypeid      float64\n",
      "unitcnt                     float64\n",
      "yearbuilt                   float64\n",
      "dtype: object\n",
      "\n",
      "Number of outer_feature_col:  9\n"
     ]
    }
   ],
   "source": [
    "print(train_df[outer_feature_col].dtypes,end='\\n\\n'),\n",
    "print('Number of outer_feature_col:  {}'.format(len(outer_feature_col)))"
   ]
  },
  {
   "cell_type": "markdown",
   "metadata": {},
   "source": [
    "outer-feature의 자료형은 모두 float형입니다."
   ]
  },
  {
   "cell_type": "markdown",
   "metadata": {},
   "source": [
    "## 1.3) Individual columns' feature analysis"
   ]
  },
  {
   "cell_type": "markdown",
   "metadata": {},
   "source": [
    "### scatter plot about numerical data"
   ]
  },
  {
   "cell_type": "code",
   "execution_count": 10,
   "metadata": {
    "scrolled": true
   },
   "outputs": [
    {
     "data": {
      "image/png": "[encoded data removed]",
      "text/plain": [
       "<Figure size 1440x1440 with 9 Axes>"
      ]
     },
     "metadata": {},
     "output_type": "display_data"
    }
   ],
   "source": [
    "plt.figure(figsize=(20,20))\n",
    "for idx,col in enumerate(outer_feature_col):\n",
    "    plt.subplot(3,4,idx+1)\n",
    "    plt.scatter(train_df[col],train_df.logerror)\n",
    "    plt.xlabel(col)\n",
    "    plt.ylabel('logerror')\n",
    "plt.show()"
   ]
  },
  {
   "cell_type": "markdown",
   "metadata": {},
   "source": [
    "- 자료형은 numerical data로 나왔지만 scatter plot으로 봤을 때, 분포도가 continuous 하지 않고 discrete한 데이터라는 것을 알 수 있다.\n",
    "- discrete data는 float형으로 이뤄진 category를 가지고 있다고 할 수 있고, 이는 후에 나올 data cleaning에도 유의하게 보아야 할 정보다.\n",
    "- 이러한 자료들을 value_counts 명령어로 확인해보겠다. discrete 한지 안한지에 대해서 기준을 두는데, 그 기준은 category가 40개를 넘지 않는 것으로 하겠다.\n",
    "- 위의 조건을 만족하는 컬럼을 discrete_outer_col이라는 리스트에 넣고 이 컬럼들을 시각화해보겠다."
   ]
  },
  {
   "cell_type": "code",
   "execution_count": 11,
   "metadata": {
    "scrolled": true
   },
   "outputs": [
    {
     "name": "stdout",
     "output_type": "stream",
     "text": [
      "7.0     221\n",
      "8.0      16\n",
      "2.0      11\n",
      "21.0      8\n",
      "3.0       4\n",
      "10.0      1\n",
      "Name: architecturalstyletypeid, dtype: int64\n",
      "7.0     29310\n",
      "4.0     23839\n",
      "1.0      2627\n",
      "10.0     1461\n",
      "12.0      119\n",
      "8.0         5\n",
      "6.0         2\n",
      "11.0        1\n",
      "Name: buildingqualitytypeid, dtype: int64\n",
      "4.0    16\n",
      "Name: buildingclasstypeid, dtype: int64\n",
      "66.0    658\n",
      "Name: decktypeid, dtype: int64\n",
      "1.0    12016\n",
      "2.0     8044\n",
      "3.0      508\n",
      "4.0        2\n",
      "Name: numberofstories, dtype: int64\n",
      "7.0    43\n",
      "Name: storytypeid, dtype: int64\n",
      "6.0     296\n",
      "4.0       2\n",
      "13.0      1\n",
      "Name: typeconstructiontypeid, dtype: int64\n",
      "1.0      54503\n",
      "2.0       2354\n",
      "4.0        871\n",
      "3.0        619\n",
      "6.0          1\n",
      "5.0          1\n",
      "9.0          1\n",
      "11.0         1\n",
      "143.0        1\n",
      "70.0         1\n",
      "Name: unitcnt, dtype: int64\n"
     ]
    },
    {
     "data": {
      "text/plain": [
       "8"
      ]
     },
     "execution_count": 11,
     "metadata": {},
     "output_type": "execute_result"
    }
   ],
   "source": [
    "discrete_outer_col = []\n",
    "for idx,col in enumerate(outer_feature_col):\n",
    "    if len(train_df[col].value_counts())<40:\n",
    "        print(train_df[col].value_counts())\n",
    "        discrete_outer_col.append(col)\n",
    "len(discrete_outer_col)"
   ]
  },
  {
   "cell_type": "code",
   "execution_count": 12,
   "metadata": {
    "scrolled": false
   },
   "outputs": [
    {
     "data": {
      "image/png": "[encoded data removed]",
      "text/plain": [
       "<Figure size 1440x1440 with 8 Axes>"
      ]
     },
     "metadata": {},
     "output_type": "display_data"
    }
   ],
   "source": [
    "plt.figure(figsize=(20,20))\n",
    "for idx,col in enumerate(discrete_outer_col):\n",
    "    plt.subplot(3,3,idx+1)\n",
    "    sns.stripplot(train_df[col],train_df.logerror)\n",
    "    plt.xlabel(col)\n",
    "    plt.ylabel('logerror')\n",
    "plt.show()"
   ]
  },
  {
   "cell_type": "code",
   "execution_count": 13,
   "metadata": {
    "scrolled": false
   },
   "outputs": [
    {
     "data": {
      "image/png": "[encoded data removed]",
      "text/plain": [
       "<Figure size 1440x1440 with 8 Axes>"
      ]
     },
     "metadata": {},
     "output_type": "display_data"
    }
   ],
   "source": [
    "plt.figure(figsize=(20,20))\n",
    "for idx,col in enumerate(discrete_outer_col):\n",
    "    plt.subplot(3,3,idx+1)\n",
    "    sns.violinplot(train_df[col],train_df.logerror)\n",
    "    plt.xlabel(col)\n",
    "    plt.ylabel('logerror')\n",
    "plt.show()"
   ]
  },
  {
   "cell_type": "markdown",
   "metadata": {},
   "source": [
    "- discrete data 에 대해서 plot을 그려보니, 카테고리 자체가 1개인 컬럼이 존재한다는 것과 multiple(2개 이상)한 카테고리를 가지고 있지만, 그 분포가 치우쳐져있는 컬럼이 있다는 것을 파악할 수 있다.\n",
    "- 이와 같은 특성은 곧 실시한 data cleaning에서 감안해야 할 부분이다."
   ]
  },
  {
   "cell_type": "code",
   "execution_count": 14,
   "metadata": {},
   "outputs": [
    {
     "name": "stdout",
     "output_type": "stream",
     "text": [
      "6.0     296\n",
      "4.0       2\n",
      "13.0      1\n",
      "Name: typeconstructiontypeid, dtype: int64\n",
      "7.0     221\n",
      "8.0      16\n",
      "2.0      11\n",
      "21.0      8\n",
      "3.0       4\n",
      "10.0      1\n",
      "Name: architecturalstyletypeid, dtype: int64\n"
     ]
    }
   ],
   "source": [
    "print(train_df.typeconstructiontypeid.value_counts())\n",
    "print(train_df.architecturalstyletypeid.value_counts())"
   ]
  },
  {
   "cell_type": "markdown",
   "metadata": {},
   "source": [
    "## 1.4)Analysis discrete variable\n",
    "- BuildingClassTypeID column의 category는 4번 하나만 존재한다. `Buildings having wood or wood and steel frames` 의 특성만을 가지고 있고 이는 Data cleaning 과정에서 고려할 사항이다.\n",
    "- TypeconstructiontypeID column의 cateory는 4,6,13번이다. value_counts를 통해 그 빈도를 알아보게 되면, 전체적인 missing_value가 매우 높지만, 상대적으로 6번 `Frame` 컬럼의 density가 가장 높다. 이는 Data cleaning 과정에서 고려할 사항이다.\n",
    "- architecturalstyletypeid column에서의 분포는 다른 컬럼들보다는 다양하지만, density는 7번 `Contemporary` 가 가장 높다."
   ]
  },
  {
   "cell_type": "markdown",
   "metadata": {},
   "source": [
    "# 2) Analysis Missing value "
   ]
  },
  {
   "cell_type": "markdown",
   "metadata": {},
   "source": [
    "우선 outer-feature 내의 컬럼들로 구성된 데이터 프레임 'outer_df'를 생성해보겠습니다."
   ]
  },
  {
   "cell_type": "code",
   "execution_count": 15,
   "metadata": {
    "scrolled": false
   },
   "outputs": [
    {
     "data": {
      "text/html": [
       "<div>\n",
       "<style scoped>\n",
       "    .dataframe tbody tr th:only-of-type {\n",
       "        vertical-align: middle;\n",
       "    }\n",
       "\n",
       "    .dataframe tbody tr th {\n",
       "        vertical-align: top;\n",
       "    }\n",
       "\n",
       "    .dataframe thead th {\n",
       "        text-align: right;\n",
       "    }\n",
       "</style>\n",
       "<table border=\"1\" class=\"dataframe\">\n",
       "  <thead>\n",
       "    <tr style=\"text-align: right;\">\n",
       "      <th></th>\n",
       "      <th>architecturalstyletypeid</th>\n",
       "      <th>buildingqualitytypeid</th>\n",
       "      <th>buildingclasstypeid</th>\n",
       "      <th>decktypeid</th>\n",
       "      <th>numberofstories</th>\n",
       "      <th>storytypeid</th>\n",
       "      <th>typeconstructiontypeid</th>\n",
       "      <th>unitcnt</th>\n",
       "      <th>yearbuilt</th>\n",
       "    </tr>\n",
       "  </thead>\n",
       "  <tbody>\n",
       "    <tr>\n",
       "      <th>90270</th>\n",
       "      <td>NaN</td>\n",
       "      <td>4.0</td>\n",
       "      <td>NaN</td>\n",
       "      <td>NaN</td>\n",
       "      <td>NaN</td>\n",
       "      <td>NaN</td>\n",
       "      <td>NaN</td>\n",
       "      <td>1.0</td>\n",
       "      <td>1979.0</td>\n",
       "    </tr>\n",
       "    <tr>\n",
       "      <th>90271</th>\n",
       "      <td>NaN</td>\n",
       "      <td>4.0</td>\n",
       "      <td>NaN</td>\n",
       "      <td>NaN</td>\n",
       "      <td>NaN</td>\n",
       "      <td>NaN</td>\n",
       "      <td>NaN</td>\n",
       "      <td>1.0</td>\n",
       "      <td>1965.0</td>\n",
       "    </tr>\n",
       "    <tr>\n",
       "      <th>90272</th>\n",
       "      <td>NaN</td>\n",
       "      <td>7.0</td>\n",
       "      <td>NaN</td>\n",
       "      <td>NaN</td>\n",
       "      <td>NaN</td>\n",
       "      <td>NaN</td>\n",
       "      <td>NaN</td>\n",
       "      <td>2.0</td>\n",
       "      <td>1924.0</td>\n",
       "    </tr>\n",
       "    <tr>\n",
       "      <th>90273</th>\n",
       "      <td>NaN</td>\n",
       "      <td>4.0</td>\n",
       "      <td>NaN</td>\n",
       "      <td>NaN</td>\n",
       "      <td>NaN</td>\n",
       "      <td>NaN</td>\n",
       "      <td>NaN</td>\n",
       "      <td>1.0</td>\n",
       "      <td>1981.0</td>\n",
       "    </tr>\n",
       "    <tr>\n",
       "      <th>90274</th>\n",
       "      <td>NaN</td>\n",
       "      <td>7.0</td>\n",
       "      <td>NaN</td>\n",
       "      <td>NaN</td>\n",
       "      <td>NaN</td>\n",
       "      <td>NaN</td>\n",
       "      <td>NaN</td>\n",
       "      <td>1.0</td>\n",
       "      <td>1947.0</td>\n",
       "    </tr>\n",
       "  </tbody>\n",
       "</table>\n",
       "</div>"
      ],
      "text/plain": [
       "       architecturalstyletypeid  buildingqualitytypeid  buildingclasstypeid  \\\n",
       "90270                       NaN                    4.0                  NaN   \n",
       "90271                       NaN                    4.0                  NaN   \n",
       "90272                       NaN                    7.0                  NaN   \n",
       "90273                       NaN                    4.0                  NaN   \n",
       "90274                       NaN                    7.0                  NaN   \n",
       "\n",
       "       decktypeid  numberofstories  storytypeid  typeconstructiontypeid  \\\n",
       "90270         NaN              NaN          NaN                     NaN   \n",
       "90271         NaN              NaN          NaN                     NaN   \n",
       "90272         NaN              NaN          NaN                     NaN   \n",
       "90273         NaN              NaN          NaN                     NaN   \n",
       "90274         NaN              NaN          NaN                     NaN   \n",
       "\n",
       "       unitcnt  yearbuilt  \n",
       "90270      1.0     1979.0  \n",
       "90271      1.0     1965.0  \n",
       "90272      2.0     1924.0  \n",
       "90273      1.0     1981.0  \n",
       "90274      1.0     1947.0  "
      ]
     },
     "execution_count": 15,
     "metadata": {},
     "output_type": "execute_result"
    }
   ],
   "source": [
    "outer_df = train_df[outer_feature_col]\n",
    "outer_df.tail()"
   ]
  },
  {
   "cell_type": "code",
   "execution_count": 16,
   "metadata": {},
   "outputs": [
    {
     "data": {
      "text/html": [
       "<div>\n",
       "<style scoped>\n",
       "    .dataframe tbody tr th:only-of-type {\n",
       "        vertical-align: middle;\n",
       "    }\n",
       "\n",
       "    .dataframe tbody tr th {\n",
       "        vertical-align: top;\n",
       "    }\n",
       "\n",
       "    .dataframe thead th {\n",
       "        text-align: right;\n",
       "    }\n",
       "</style>\n",
       "<table border=\"1\" class=\"dataframe\">\n",
       "  <thead>\n",
       "    <tr style=\"text-align: right;\">\n",
       "      <th></th>\n",
       "      <th>architecturalstyletypeid</th>\n",
       "      <th>buildingqualitytypeid</th>\n",
       "      <th>buildingclasstypeid</th>\n",
       "      <th>decktypeid</th>\n",
       "      <th>numberofstories</th>\n",
       "      <th>storytypeid</th>\n",
       "      <th>typeconstructiontypeid</th>\n",
       "      <th>unitcnt</th>\n",
       "      <th>yearbuilt</th>\n",
       "    </tr>\n",
       "  </thead>\n",
       "  <tbody>\n",
       "    <tr>\n",
       "      <th>count</th>\n",
       "      <td>261.000000</td>\n",
       "      <td>57364.000000</td>\n",
       "      <td>16.0</td>\n",
       "      <td>658.0</td>\n",
       "      <td>20570.000000</td>\n",
       "      <td>43.0</td>\n",
       "      <td>299.000000</td>\n",
       "      <td>58353.000000</td>\n",
       "      <td>89519.000000</td>\n",
       "    </tr>\n",
       "    <tr>\n",
       "      <th>mean</th>\n",
       "      <td>7.229885</td>\n",
       "      <td>5.565407</td>\n",
       "      <td>4.0</td>\n",
       "      <td>66.0</td>\n",
       "      <td>1.440739</td>\n",
       "      <td>7.0</td>\n",
       "      <td>6.010033</td>\n",
       "      <td>1.110414</td>\n",
       "      <td>1968.532870</td>\n",
       "    </tr>\n",
       "    <tr>\n",
       "      <th>std</th>\n",
       "      <td>2.716196</td>\n",
       "      <td>1.900602</td>\n",
       "      <td>0.0</td>\n",
       "      <td>0.0</td>\n",
       "      <td>0.544498</td>\n",
       "      <td>0.0</td>\n",
       "      <td>0.437235</td>\n",
       "      <td>0.797235</td>\n",
       "      <td>23.763475</td>\n",
       "    </tr>\n",
       "    <tr>\n",
       "      <th>min</th>\n",
       "      <td>2.000000</td>\n",
       "      <td>1.000000</td>\n",
       "      <td>4.0</td>\n",
       "      <td>66.0</td>\n",
       "      <td>1.000000</td>\n",
       "      <td>7.0</td>\n",
       "      <td>4.000000</td>\n",
       "      <td>1.000000</td>\n",
       "      <td>1885.000000</td>\n",
       "    </tr>\n",
       "    <tr>\n",
       "      <th>25%</th>\n",
       "      <td>7.000000</td>\n",
       "      <td>4.000000</td>\n",
       "      <td>4.0</td>\n",
       "      <td>66.0</td>\n",
       "      <td>1.000000</td>\n",
       "      <td>7.0</td>\n",
       "      <td>6.000000</td>\n",
       "      <td>1.000000</td>\n",
       "      <td>1953.000000</td>\n",
       "    </tr>\n",
       "    <tr>\n",
       "      <th>50%</th>\n",
       "      <td>7.000000</td>\n",
       "      <td>7.000000</td>\n",
       "      <td>4.0</td>\n",
       "      <td>66.0</td>\n",
       "      <td>1.000000</td>\n",
       "      <td>7.0</td>\n",
       "      <td>6.000000</td>\n",
       "      <td>1.000000</td>\n",
       "      <td>1970.000000</td>\n",
       "    </tr>\n",
       "    <tr>\n",
       "      <th>75%</th>\n",
       "      <td>7.000000</td>\n",
       "      <td>7.000000</td>\n",
       "      <td>4.0</td>\n",
       "      <td>66.0</td>\n",
       "      <td>2.000000</td>\n",
       "      <td>7.0</td>\n",
       "      <td>6.000000</td>\n",
       "      <td>1.000000</td>\n",
       "      <td>1987.000000</td>\n",
       "    </tr>\n",
       "    <tr>\n",
       "      <th>max</th>\n",
       "      <td>21.000000</td>\n",
       "      <td>12.000000</td>\n",
       "      <td>4.0</td>\n",
       "      <td>66.0</td>\n",
       "      <td>4.000000</td>\n",
       "      <td>7.0</td>\n",
       "      <td>13.000000</td>\n",
       "      <td>143.000000</td>\n",
       "      <td>2015.000000</td>\n",
       "    </tr>\n",
       "  </tbody>\n",
       "</table>\n",
       "</div>"
      ],
      "text/plain": [
       "       architecturalstyletypeid  buildingqualitytypeid  buildingclasstypeid  \\\n",
       "count                261.000000           57364.000000                 16.0   \n",
       "mean                   7.229885               5.565407                  4.0   \n",
       "std                    2.716196               1.900602                  0.0   \n",
       "min                    2.000000               1.000000                  4.0   \n",
       "25%                    7.000000               4.000000                  4.0   \n",
       "50%                    7.000000               7.000000                  4.0   \n",
       "75%                    7.000000               7.000000                  4.0   \n",
       "max                   21.000000              12.000000                  4.0   \n",
       "\n",
       "       decktypeid  numberofstories  storytypeid  typeconstructiontypeid  \\\n",
       "count       658.0     20570.000000         43.0              299.000000   \n",
       "mean         66.0         1.440739          7.0                6.010033   \n",
       "std           0.0         0.544498          0.0                0.437235   \n",
       "min          66.0         1.000000          7.0                4.000000   \n",
       "25%          66.0         1.000000          7.0                6.000000   \n",
       "50%          66.0         1.000000          7.0                6.000000   \n",
       "75%          66.0         2.000000          7.0                6.000000   \n",
       "max          66.0         4.000000          7.0               13.000000   \n",
       "\n",
       "            unitcnt     yearbuilt  \n",
       "count  58353.000000  89519.000000  \n",
       "mean       1.110414   1968.532870  \n",
       "std        0.797235     23.763475  \n",
       "min        1.000000   1885.000000  \n",
       "25%        1.000000   1953.000000  \n",
       "50%        1.000000   1970.000000  \n",
       "75%        1.000000   1987.000000  \n",
       "max      143.000000   2015.000000  "
      ]
     },
     "execution_count": 16,
     "metadata": {},
     "output_type": "execute_result"
    }
   ],
   "source": [
    "outer_df.describe()"
   ]
  },
  {
   "cell_type": "code",
   "execution_count": 17,
   "metadata": {
    "scrolled": false
   },
   "outputs": [
    {
     "data": {
      "text/html": [
       "<div>\n",
       "<style scoped>\n",
       "    .dataframe tbody tr th:only-of-type {\n",
       "        vertical-align: middle;\n",
       "    }\n",
       "\n",
       "    .dataframe tbody tr th {\n",
       "        vertical-align: top;\n",
       "    }\n",
       "\n",
       "    .dataframe thead th {\n",
       "        text-align: right;\n",
       "    }\n",
       "</style>\n",
       "<table border=\"1\" class=\"dataframe\">\n",
       "  <thead>\n",
       "    <tr style=\"text-align: right;\">\n",
       "      <th></th>\n",
       "      <th>col</th>\n",
       "      <th>missing_cnt</th>\n",
       "      <th>missing_ratio</th>\n",
       "    </tr>\n",
       "  </thead>\n",
       "  <tbody>\n",
       "    <tr>\n",
       "      <th>0</th>\n",
       "      <td>yearbuilt</td>\n",
       "      <td>756</td>\n",
       "      <td>0.008374</td>\n",
       "    </tr>\n",
       "    <tr>\n",
       "      <th>1</th>\n",
       "      <td>unitcnt</td>\n",
       "      <td>31922</td>\n",
       "      <td>0.353608</td>\n",
       "    </tr>\n",
       "    <tr>\n",
       "      <th>2</th>\n",
       "      <td>buildingqualitytypeid</td>\n",
       "      <td>32911</td>\n",
       "      <td>0.364564</td>\n",
       "    </tr>\n",
       "    <tr>\n",
       "      <th>3</th>\n",
       "      <td>numberofstories</td>\n",
       "      <td>69705</td>\n",
       "      <td>0.772141</td>\n",
       "    </tr>\n",
       "    <tr>\n",
       "      <th>4</th>\n",
       "      <td>decktypeid</td>\n",
       "      <td>89617</td>\n",
       "      <td>0.992711</td>\n",
       "    </tr>\n",
       "    <tr>\n",
       "      <th>5</th>\n",
       "      <td>typeconstructiontypeid</td>\n",
       "      <td>89976</td>\n",
       "      <td>0.996688</td>\n",
       "    </tr>\n",
       "    <tr>\n",
       "      <th>6</th>\n",
       "      <td>architecturalstyletypeid</td>\n",
       "      <td>90014</td>\n",
       "      <td>0.997109</td>\n",
       "    </tr>\n",
       "    <tr>\n",
       "      <th>7</th>\n",
       "      <td>storytypeid</td>\n",
       "      <td>90232</td>\n",
       "      <td>0.999524</td>\n",
       "    </tr>\n",
       "    <tr>\n",
       "      <th>8</th>\n",
       "      <td>buildingclasstypeid</td>\n",
       "      <td>90259</td>\n",
       "      <td>0.999823</td>\n",
       "    </tr>\n",
       "  </tbody>\n",
       "</table>\n",
       "</div>"
      ],
      "text/plain": [
       "                        col  missing_cnt  missing_ratio\n",
       "0                 yearbuilt          756       0.008374\n",
       "1                   unitcnt        31922       0.353608\n",
       "2     buildingqualitytypeid        32911       0.364564\n",
       "3           numberofstories        69705       0.772141\n",
       "4                decktypeid        89617       0.992711\n",
       "5    typeconstructiontypeid        89976       0.996688\n",
       "6  architecturalstyletypeid        90014       0.997109\n",
       "7               storytypeid        90232       0.999524\n",
       "8       buildingclasstypeid        90259       0.999823"
      ]
     },
     "execution_count": 17,
     "metadata": {},
     "output_type": "execute_result"
    }
   ],
   "source": [
    "missing_outer_df = outer_df.isnull().sum().reset_index()\n",
    "missing_outer_df.columns = ['col','missing_cnt']\n",
    "missing_outer_df['missing_ratio'] = missing_outer_df.missing_cnt / len(outer_df)\n",
    "missing_outer_df.sort_values(by='missing_ratio',inplace=True)\n",
    "missing_outer_df.reset_index(drop=True,inplace=True)\n",
    "missing_outer_df"
   ]
  },
  {
   "cell_type": "code",
   "execution_count": 18,
   "metadata": {
    "scrolled": false
   },
   "outputs": [
    {
     "data": {
      "image/png": "[encoded data removed]",
      "text/plain": [
       "<Figure size 864x576 with 1 Axes>"
      ]
     },
     "metadata": {},
     "output_type": "display_data"
    }
   ],
   "source": [
    "plt.figure(figsize=(12,8))\n",
    "plt.barh(missing_outer_df.col,missing_outer_df.missing_ratio)\n",
    "plt.title('Missing value ratio in Outer feature')\n",
    "plt.xlabel('missing value ratio')\n",
    "plt.ylabel('columns')\n",
    "plt.tight_layout()\n",
    "plt.show()"
   ]
  },
  {
   "cell_type": "markdown",
   "metadata": {},
   "source": [
    "## 2.1) Fill the Missing data"
   ]
  },
  {
   "cell_type": "code",
   "execution_count": 19,
   "metadata": {},
   "outputs": [
    {
     "data": {
      "text/html": [
       "<div>\n",
       "<style scoped>\n",
       "    .dataframe tbody tr th:only-of-type {\n",
       "        vertical-align: middle;\n",
       "    }\n",
       "\n",
       "    .dataframe tbody tr th {\n",
       "        vertical-align: top;\n",
       "    }\n",
       "\n",
       "    .dataframe thead th {\n",
       "        text-align: right;\n",
       "    }\n",
       "</style>\n",
       "<table border=\"1\" class=\"dataframe\">\n",
       "  <thead>\n",
       "    <tr style=\"text-align: right;\">\n",
       "      <th></th>\n",
       "      <th>col</th>\n",
       "      <th>missing_cnt</th>\n",
       "      <th>missing_ratio</th>\n",
       "    </tr>\n",
       "  </thead>\n",
       "  <tbody>\n",
       "    <tr>\n",
       "      <th>0</th>\n",
       "      <td>yearbuilt</td>\n",
       "      <td>756</td>\n",
       "      <td>0.008374</td>\n",
       "    </tr>\n",
       "    <tr>\n",
       "      <th>1</th>\n",
       "      <td>unitcnt</td>\n",
       "      <td>31922</td>\n",
       "      <td>0.353608</td>\n",
       "    </tr>\n",
       "    <tr>\n",
       "      <th>2</th>\n",
       "      <td>buildingqualitytypeid</td>\n",
       "      <td>32911</td>\n",
       "      <td>0.364564</td>\n",
       "    </tr>\n",
       "    <tr>\n",
       "      <th>3</th>\n",
       "      <td>numberofstories</td>\n",
       "      <td>69705</td>\n",
       "      <td>0.772141</td>\n",
       "    </tr>\n",
       "    <tr>\n",
       "      <th>4</th>\n",
       "      <td>decktypeid</td>\n",
       "      <td>89617</td>\n",
       "      <td>0.992711</td>\n",
       "    </tr>\n",
       "    <tr>\n",
       "      <th>5</th>\n",
       "      <td>typeconstructiontypeid</td>\n",
       "      <td>89976</td>\n",
       "      <td>0.996688</td>\n",
       "    </tr>\n",
       "    <tr>\n",
       "      <th>6</th>\n",
       "      <td>architecturalstyletypeid</td>\n",
       "      <td>90014</td>\n",
       "      <td>0.997109</td>\n",
       "    </tr>\n",
       "    <tr>\n",
       "      <th>7</th>\n",
       "      <td>storytypeid</td>\n",
       "      <td>90232</td>\n",
       "      <td>0.999524</td>\n",
       "    </tr>\n",
       "    <tr>\n",
       "      <th>8</th>\n",
       "      <td>buildingclasstypeid</td>\n",
       "      <td>90259</td>\n",
       "      <td>0.999823</td>\n",
       "    </tr>\n",
       "  </tbody>\n",
       "</table>\n",
       "</div>"
      ],
      "text/plain": [
       "                        col  missing_cnt  missing_ratio\n",
       "0                 yearbuilt          756       0.008374\n",
       "1                   unitcnt        31922       0.353608\n",
       "2     buildingqualitytypeid        32911       0.364564\n",
       "3           numberofstories        69705       0.772141\n",
       "4                decktypeid        89617       0.992711\n",
       "5    typeconstructiontypeid        89976       0.996688\n",
       "6  architecturalstyletypeid        90014       0.997109\n",
       "7               storytypeid        90232       0.999524\n",
       "8       buildingclasstypeid        90259       0.999823"
      ]
     },
     "execution_count": 19,
     "metadata": {},
     "output_type": "execute_result"
    }
   ],
   "source": [
    "missing_outer_df"
   ]
  },
  {
   "cell_type": "markdown",
   "metadata": {},
   "source": [
    "- 위의 missing_ratio를 보면 6개의 컬럼이 NaN값의 비율이 99%가 넘는다. 이는 두 가지 이유로 나눠질 수 있다.\n",
    "    - 0을 의미 -> 0으로 filling\n",
    "    - 기록이 누락되었음, 그냥 없는 데이터를 의미 -> deleting columns\n",
    "- missing_data에 대해서 delete가 아닌 filling을 선택할 때의 경우의 수\n",
    "    - mean imputation : continous data\n",
    "    - mode imputation : discrete data(categorical)\n",
    "    - 'None' or '0' imputation : missing_data means zero in quantitative or qualitative prospect. "
   ]
  },
  {
   "cell_type": "markdown",
   "metadata": {},
   "source": [
    "#### yearbuilt : 0.8%\n",
    "- Description:  주거지가 지어진 해\n",
    "- Process: 카테고리가 130개로 매우 많지만, 년도를 나타내는 discrete data이기 때문에, mode 값으로 fill the miss한다."
   ]
  },
  {
   "cell_type": "code",
   "execution_count": 20,
   "metadata": {},
   "outputs": [],
   "source": [
    "train_df.yearbuilt = train_df.yearbuilt.fillna(train_df.yearbuilt.mode()[0])"
   ]
  },
  {
   "cell_type": "code",
   "execution_count": 21,
   "metadata": {},
   "outputs": [
    {
     "data": {
      "text/plain": [
       "count    90275.000000\n",
       "mean      1968.419540\n",
       "std         23.695875\n",
       "min       1885.000000\n",
       "25%       1953.000000\n",
       "50%       1969.000000\n",
       "75%       1987.000000\n",
       "max       2015.000000\n",
       "Name: yearbuilt, dtype: float64"
      ]
     },
     "execution_count": 21,
     "metadata": {},
     "output_type": "execute_result"
    }
   ],
   "source": [
    "train_df.yearbuilt.describe()"
   ]
  },
  {
   "cell_type": "code",
   "execution_count": 22,
   "metadata": {},
   "outputs": [
    {
     "data": {
      "text/plain": [
       "1964.0    1919\n",
       "1954.0    1940\n",
       "1950.0    1994\n",
       "1989.0    2058\n",
       "1955.0    3017\n",
       "Name: yearbuilt, dtype: int64"
      ]
     },
     "execution_count": 22,
     "metadata": {},
     "output_type": "execute_result"
    }
   ],
   "source": [
    "train_df.yearbuilt.value_counts().sort_values().tail()"
   ]
  },
  {
   "cell_type": "code",
   "execution_count": 23,
   "metadata": {},
   "outputs": [
    {
     "data": {
      "text/plain": [
       "130"
      ]
     },
     "execution_count": 23,
     "metadata": {},
     "output_type": "execute_result"
    }
   ],
   "source": [
    "len(train_df.yearbuilt.value_counts())"
   ]
  },
  {
   "cell_type": "markdown",
   "metadata": {},
   "source": [
    "#### unitcnt 35%\n",
    "- Description: 구조가 구축 된 단위 수 (예 : 2 = 이중, 3 = 삼중 등)\n",
    "- Process: 1중 구조가 가장 많으므로 이러한 구조가 일반적(common)인 것임을 알 수 있다."
   ]
  },
  {
   "cell_type": "code",
   "execution_count": 24,
   "metadata": {},
   "outputs": [],
   "source": [
    "train_df.unitcnt = train_df.unitcnt.fillna(train_df.unitcnt.mode()[0])"
   ]
  },
  {
   "cell_type": "code",
   "execution_count": 25,
   "metadata": {},
   "outputs": [
    {
     "data": {
      "text/plain": [
       "count    90275.000000\n",
       "mean         1.071371\n",
       "std          0.643133\n",
       "min          1.000000\n",
       "25%          1.000000\n",
       "50%          1.000000\n",
       "75%          1.000000\n",
       "max        143.000000\n",
       "Name: unitcnt, dtype: float64"
      ]
     },
     "execution_count": 25,
     "metadata": {},
     "output_type": "execute_result"
    }
   ],
   "source": [
    "train_df.unitcnt.describe()"
   ]
  },
  {
   "cell_type": "code",
   "execution_count": 26,
   "metadata": {},
   "outputs": [
    {
     "data": {
      "text/plain": [
       "1.0      86425\n",
       "2.0       2354\n",
       "4.0        871\n",
       "3.0        619\n",
       "6.0          1\n",
       "5.0          1\n",
       "9.0          1\n",
       "11.0         1\n",
       "143.0        1\n",
       "70.0         1\n",
       "Name: unitcnt, dtype: int64"
      ]
     },
     "execution_count": 26,
     "metadata": {},
     "output_type": "execute_result"
    }
   ],
   "source": [
    "train_df.unitcnt.value_counts()"
   ]
  },
  {
   "cell_type": "code",
   "execution_count": 27,
   "metadata": {},
   "outputs": [
    {
     "data": {
      "text/plain": [
       "10"
      ]
     },
     "execution_count": 27,
     "metadata": {},
     "output_type": "execute_result"
    }
   ],
   "source": [
    "len(train_df.unitcnt.value_counts())"
   ]
  },
  {
   "cell_type": "markdown",
   "metadata": {},
   "source": [
    "#### buildingqualitytypeid : 36%\n",
    "- Description: 건물 상태에 대한 평가 (최고부터 최악까지 평가가 매겨져 있다.)\n",
    "- Process: 7점이 가장 많지만, 상태에 대한 평가이기 때문에, 평균값인 5점으로 filling 한다."
   ]
  },
  {
   "cell_type": "code",
   "execution_count": 28,
   "metadata": {},
   "outputs": [],
   "source": [
    "train_df.buildingqualitytypeid = train_df.buildingqualitytypeid.fillna(train_df.buildingqualitytypeid.mean())"
   ]
  },
  {
   "cell_type": "code",
   "execution_count": 29,
   "metadata": {},
   "outputs": [
    {
     "data": {
      "text/plain": [
       "count    90275.000000\n",
       "mean         5.565407\n",
       "std          1.515046\n",
       "min          1.000000\n",
       "25%          4.000000\n",
       "50%          5.565407\n",
       "75%          7.000000\n",
       "max         12.000000\n",
       "Name: buildingqualitytypeid, dtype: float64"
      ]
     },
     "execution_count": 29,
     "metadata": {},
     "output_type": "execute_result"
    }
   ],
   "source": [
    "train_df.buildingqualitytypeid.describe()"
   ]
  },
  {
   "cell_type": "code",
   "execution_count": 30,
   "metadata": {
    "scrolled": true
   },
   "outputs": [
    {
     "data": {
      "text/plain": [
       "5.565407     32911\n",
       "7.000000     29310\n",
       "4.000000     23839\n",
       "1.000000      2627\n",
       "10.000000     1461\n",
       "12.000000      119\n",
       "8.000000         5\n",
       "6.000000         2\n",
       "11.000000        1\n",
       "Name: buildingqualitytypeid, dtype: int64"
      ]
     },
     "execution_count": 30,
     "metadata": {},
     "output_type": "execute_result"
    }
   ],
   "source": [
    "train_df.buildingqualitytypeid.value_counts()"
   ]
  },
  {
   "cell_type": "code",
   "execution_count": 31,
   "metadata": {},
   "outputs": [
    {
     "data": {
      "text/plain": [
       "9"
      ]
     },
     "execution_count": 31,
     "metadata": {},
     "output_type": "execute_result"
    }
   ],
   "source": [
    "len(train_df.buildingqualitytypeid.value_counts())"
   ]
  },
  {
   "cell_type": "markdown",
   "metadata": {},
   "source": [
    "#### numberofstories 77.2%\n",
    "- Description: 집의 층 수 (story or level이라고 표현한다.)\n",
    "- Process: 집의 층 수가 몇 개인지에 대한 컬럼이다. 주로 1층과 2층집이 많은 것을 감안해 mode값을 넣어준다."
   ]
  },
  {
   "cell_type": "code",
   "execution_count": 32,
   "metadata": {},
   "outputs": [],
   "source": [
    "train_df.numberofstories = train_df.numberofstories.fillna(train_df.numberofstories.mode()[0])"
   ]
  },
  {
   "cell_type": "code",
   "execution_count": 33,
   "metadata": {},
   "outputs": [
    {
     "data": {
      "text/plain": [
       "count    90275.000000\n",
       "mean         1.100426\n",
       "std          0.318951\n",
       "min          1.000000\n",
       "25%          1.000000\n",
       "50%          1.000000\n",
       "75%          1.000000\n",
       "max          4.000000\n",
       "Name: numberofstories, dtype: float64"
      ]
     },
     "execution_count": 33,
     "metadata": {},
     "output_type": "execute_result"
    }
   ],
   "source": [
    "train_df.numberofstories.describe()"
   ]
  },
  {
   "cell_type": "code",
   "execution_count": 34,
   "metadata": {},
   "outputs": [
    {
     "data": {
      "text/plain": [
       "1.0    81721\n",
       "2.0     8044\n",
       "3.0      508\n",
       "4.0        2\n",
       "Name: numberofstories, dtype: int64"
      ]
     },
     "execution_count": 34,
     "metadata": {},
     "output_type": "execute_result"
    }
   ],
   "source": [
    "train_df.numberofstories.value_counts()"
   ]
  },
  {
   "cell_type": "code",
   "execution_count": 35,
   "metadata": {},
   "outputs": [
    {
     "data": {
      "text/plain": [
       "4"
      ]
     },
     "execution_count": 35,
     "metadata": {},
     "output_type": "execute_result"
    }
   ],
   "source": [
    "len(train_df.numberofstories.value_counts())"
   ]
  },
  {
   "cell_type": "markdown",
   "metadata": {},
   "source": [
    "- 앞으로 나올 컬럼들은 결손값들이 99% 이상인 컬럼들이다.\n",
    "    - 데이터가 누락된 것이다.\n",
    "    - 0을 의미하는 값들이다."
   ]
  },
  {
   "cell_type": "markdown",
   "metadata": {},
   "source": [
    "#### typeconstructiontypeid 99.6%\n",
    "- Description: census tract와 블록 ID 결합 - 또한 확장에 의한 블록 그룹 할당 포함\n",
    "- Process: typeID에는 0번이 없다(1~18). 가지고 있는 데이터가 대표성을 지니고 있지 않으므로 None을 채워준다."
   ]
  },
  {
   "cell_type": "code",
   "execution_count": 36,
   "metadata": {},
   "outputs": [],
   "source": [
    "train_df.typeconstructiontypeid = train_df.typeconstructiontypeid.fillna('None')"
   ]
  },
  {
   "cell_type": "code",
   "execution_count": 37,
   "metadata": {},
   "outputs": [
    {
     "data": {
      "text/plain": [
       "count     90275\n",
       "unique        4\n",
       "top        None\n",
       "freq      89976\n",
       "Name: typeconstructiontypeid, dtype: object"
      ]
     },
     "execution_count": 37,
     "metadata": {},
     "output_type": "execute_result"
    }
   ],
   "source": [
    "train_df.typeconstructiontypeid.describe()"
   ]
  },
  {
   "cell_type": "code",
   "execution_count": 38,
   "metadata": {},
   "outputs": [
    {
     "data": {
      "text/plain": [
       "None    89976\n",
       "6.0       296\n",
       "4.0         2\n",
       "13.0        1\n",
       "Name: typeconstructiontypeid, dtype: int64"
      ]
     },
     "execution_count": 38,
     "metadata": {},
     "output_type": "execute_result"
    }
   ],
   "source": [
    "train_df.typeconstructiontypeid.value_counts()"
   ]
  },
  {
   "cell_type": "code",
   "execution_count": 39,
   "metadata": {},
   "outputs": [
    {
     "data": {
      "text/plain": [
       "4"
      ]
     },
     "execution_count": 39,
     "metadata": {},
     "output_type": "execute_result"
    }
   ],
   "source": [
    "len(train_df.typeconstructiontypeid.value_counts())"
   ]
  },
  {
   "cell_type": "code",
   "execution_count": 40,
   "metadata": {},
   "outputs": [],
   "source": [
    "train_df.typeconstructiontypeid = train_df.typeconstructiontypeid.astype('object')"
   ]
  },
  {
   "cell_type": "markdown",
   "metadata": {},
   "source": [
    "#### architecturalstyletypeid 99.7%\n",
    "- Description: 건축 양식 아이디\n",
    "- Process: 위의 컬럼과 마찬가지로 0번 ID는 존재하지 않는다. (1~27) 7번 ID가 가장많지만 missing_value가 너무 많아, 대표성을 지니지 못한다. None 값을 채워준다."
   ]
  },
  {
   "cell_type": "code",
   "execution_count": 41,
   "metadata": {},
   "outputs": [],
   "source": [
    "train_df.architecturalstyletypeid = train_df.architecturalstyletypeid.fillna('None')"
   ]
  },
  {
   "cell_type": "code",
   "execution_count": 42,
   "metadata": {},
   "outputs": [
    {
     "data": {
      "text/plain": [
       "count     90275\n",
       "unique        7\n",
       "top        None\n",
       "freq      90014\n",
       "Name: architecturalstyletypeid, dtype: object"
      ]
     },
     "execution_count": 42,
     "metadata": {},
     "output_type": "execute_result"
    }
   ],
   "source": [
    "train_df.architecturalstyletypeid.describe()"
   ]
  },
  {
   "cell_type": "code",
   "execution_count": 43,
   "metadata": {},
   "outputs": [
    {
     "data": {
      "text/plain": [
       "None    90014\n",
       "7.0       221\n",
       "8.0        16\n",
       "2.0        11\n",
       "21.0        8\n",
       "3.0         4\n",
       "10.0        1\n",
       "Name: architecturalstyletypeid, dtype: int64"
      ]
     },
     "execution_count": 43,
     "metadata": {},
     "output_type": "execute_result"
    }
   ],
   "source": [
    "train_df.architecturalstyletypeid.value_counts()"
   ]
  },
  {
   "cell_type": "code",
   "execution_count": 44,
   "metadata": {},
   "outputs": [
    {
     "data": {
      "text/plain": [
       "7"
      ]
     },
     "execution_count": 44,
     "metadata": {},
     "output_type": "execute_result"
    }
   ],
   "source": [
    "len(train_df.architecturalstyletypeid.value_counts())"
   ]
  },
  {
   "cell_type": "code",
   "execution_count": 45,
   "metadata": {},
   "outputs": [],
   "source": [
    "train_df.architecturalstyletypeid = train_df.architecturalstyletypeid.astype('object')"
   ]
  },
  {
   "cell_type": "markdown",
   "metadata": {},
   "source": [
    "#### storytypeid\n",
    "- Description: 집의 층 수 (story or level이라고 표현한다.)\n",
    "- Process: 집의 층수를 나타내는 컬럼인데, 7의 데이터밖에 없어 대표성을 가지지 못한다. None값으로 채워준다."
   ]
  },
  {
   "cell_type": "code",
   "execution_count": 46,
   "metadata": {},
   "outputs": [],
   "source": [
    "train_df.storytypeid = train_df.storytypeid.fillna('None')"
   ]
  },
  {
   "cell_type": "code",
   "execution_count": 47,
   "metadata": {},
   "outputs": [
    {
     "data": {
      "text/plain": [
       "count     90275\n",
       "unique        2\n",
       "top        None\n",
       "freq      90232\n",
       "Name: storytypeid, dtype: object"
      ]
     },
     "execution_count": 47,
     "metadata": {},
     "output_type": "execute_result"
    }
   ],
   "source": [
    "train_df.storytypeid.describe()"
   ]
  },
  {
   "cell_type": "code",
   "execution_count": 48,
   "metadata": {},
   "outputs": [
    {
     "data": {
      "text/plain": [
       "7.0        43\n",
       "None    90232\n",
       "Name: storytypeid, dtype: int64"
      ]
     },
     "execution_count": 48,
     "metadata": {},
     "output_type": "execute_result"
    }
   ],
   "source": [
    "train_df.storytypeid.value_counts().sort_values().tail()"
   ]
  },
  {
   "cell_type": "code",
   "execution_count": 49,
   "metadata": {},
   "outputs": [
    {
     "data": {
      "text/plain": [
       "2"
      ]
     },
     "execution_count": 49,
     "metadata": {},
     "output_type": "execute_result"
    }
   ],
   "source": [
    "len(train_df.storytypeid.value_counts())"
   ]
  },
  {
   "cell_type": "code",
   "execution_count": 50,
   "metadata": {},
   "outputs": [],
   "source": [
    "train_df.storytypeid = train_df.storytypeid.astype('object')"
   ]
  },
  {
   "cell_type": "markdown",
   "metadata": {},
   "source": [
    "#### buildingclasstypeid\n",
    "- Description: 건물 뼈대에 어떤 타입의 재료가 쓰였는지\n",
    "- Process: TypeID는 건물 뼈대에 따라 1~5의 ID를 가지는데 4를 최빈값으로 가지지만, 대표성을 지니지 못한다.None으로 채워준다."
   ]
  },
  {
   "cell_type": "code",
   "execution_count": 51,
   "metadata": {},
   "outputs": [],
   "source": [
    "train_df.buildingclasstypeid = train_df.buildingclasstypeid.fillna('None')"
   ]
  },
  {
   "cell_type": "code",
   "execution_count": 52,
   "metadata": {},
   "outputs": [
    {
     "data": {
      "text/plain": [
       "count     90275\n",
       "unique        2\n",
       "top        None\n",
       "freq      90259\n",
       "Name: buildingclasstypeid, dtype: object"
      ]
     },
     "execution_count": 52,
     "metadata": {},
     "output_type": "execute_result"
    }
   ],
   "source": [
    "train_df.buildingclasstypeid.describe()"
   ]
  },
  {
   "cell_type": "code",
   "execution_count": 53,
   "metadata": {},
   "outputs": [
    {
     "data": {
      "text/plain": [
       "4.0        16\n",
       "None    90259\n",
       "Name: buildingclasstypeid, dtype: int64"
      ]
     },
     "execution_count": 53,
     "metadata": {},
     "output_type": "execute_result"
    }
   ],
   "source": [
    "train_df.buildingclasstypeid.value_counts().sort_values().tail()"
   ]
  },
  {
   "cell_type": "code",
   "execution_count": 54,
   "metadata": {},
   "outputs": [
    {
     "data": {
      "text/plain": [
       "2"
      ]
     },
     "execution_count": 54,
     "metadata": {},
     "output_type": "execute_result"
    }
   ],
   "source": [
    "len(train_df.buildingclasstypeid.value_counts())"
   ]
  },
  {
   "cell_type": "code",
   "execution_count": 55,
   "metadata": {},
   "outputs": [],
   "source": [
    "train_df.buildingclasstypeid = train_df.buildingclasstypeid.astype('object')"
   ]
  },
  {
   "cell_type": "markdown",
   "metadata": {},
   "source": [
    "#### decktypeID : 89.61%\n",
    "- Description: 집 마당 부근에 있는 갑판(테라스와 유사)\n",
    "- Process: 컬럼의 이름에서 명시하다시피 typeID에 관한 컬럼이다. 66 typeID가 최빈값으로 존재하지만, 대표성을 가지지 못한다. None으로 채워준다."
   ]
  },
  {
   "cell_type": "code",
   "execution_count": 56,
   "metadata": {},
   "outputs": [],
   "source": [
    "train_df.decktypeid = train_df.decktypeid.fillna('None')"
   ]
  },
  {
   "cell_type": "code",
   "execution_count": 57,
   "metadata": {},
   "outputs": [
    {
     "data": {
      "text/plain": [
       "count     90275\n",
       "unique        2\n",
       "top        None\n",
       "freq      89617\n",
       "Name: decktypeid, dtype: object"
      ]
     },
     "execution_count": 57,
     "metadata": {},
     "output_type": "execute_result"
    }
   ],
   "source": [
    "train_df.decktypeid.describe()"
   ]
  },
  {
   "cell_type": "code",
   "execution_count": 58,
   "metadata": {},
   "outputs": [
    {
     "data": {
      "text/plain": [
       "66.0      658\n",
       "None    89617\n",
       "Name: decktypeid, dtype: int64"
      ]
     },
     "execution_count": 58,
     "metadata": {},
     "output_type": "execute_result"
    }
   ],
   "source": [
    "train_df.decktypeid.value_counts().sort_values().tail()"
   ]
  },
  {
   "cell_type": "code",
   "execution_count": 59,
   "metadata": {},
   "outputs": [
    {
     "data": {
      "text/plain": [
       "2"
      ]
     },
     "execution_count": 59,
     "metadata": {},
     "output_type": "execute_result"
    }
   ],
   "source": [
    "len(train_df.decktypeid.value_counts())"
   ]
  },
  {
   "cell_type": "code",
   "execution_count": 60,
   "metadata": {},
   "outputs": [],
   "source": [
    "train_df.decktypeid = train_df.decktypeid.astype('object')"
   ]
  },
  {
   "cell_type": "markdown",
   "metadata": {},
   "source": [
    "## Feature Correlation\n",
    "- 종속 변수 y vs 독립 변수 x\n",
    "    - correlation barh plot\n",
    "- 독립 변수 x vs 독립 변수 x\n",
    "    - heatmap"
   ]
  },
  {
   "cell_type": "code",
   "execution_count": 62,
   "metadata": {},
   "outputs": [
    {
     "data": {
      "text/plain": [
       "(4, 5)"
      ]
     },
     "execution_count": 62,
     "metadata": {},
     "output_type": "execute_result"
    }
   ],
   "source": [
    "numerical_features = [col for col in outer_feature_col if train_df[col].dtypes != 'object']\n",
    "categorical_features = [col for col in outer_feature_col if train_df[col].dtypes == 'object']\n",
    "len(numerical_features),len(categorical_features)"
   ]
  },
  {
   "cell_type": "markdown",
   "metadata": {},
   "source": [
    "### Numerical columns VS Logerror  Correlation plot"
   ]
  },
  {
   "cell_type": "code",
   "execution_count": 63,
   "metadata": {},
   "outputs": [
    {
     "data": {
      "text/plain": [
       "4"
      ]
     },
     "execution_count": 63,
     "metadata": {},
     "output_type": "execute_result"
    }
   ],
   "source": [
    "correl_val = []\n",
    "for col in numerical_features:\n",
    "    correl_val.append(np.corrcoef(train_df['logerror'],train_df[col])[0][1])\n",
    "len(correl_val)"
   ]
  },
  {
   "cell_type": "code",
   "execution_count": 64,
   "metadata": {},
   "outputs": [
    {
     "data": {
      "image/png": "[encoded data removed]",
      "text/plain": [
       "<Figure size 864x576 with 1 Axes>"
      ]
     },
     "metadata": {},
     "output_type": "display_data"
    }
   ],
   "source": [
    "plt.figure(figsize=(12,8))\n",
    "plt.grid(True)\n",
    "plt.barh(numerical_features,correl_val)\n",
    "plt.show()"
   ]
  },
  {
   "cell_type": "markdown",
   "metadata": {},
   "source": [
    "## Columns vs Columns heatmap"
   ]
  },
  {
   "cell_type": "code",
   "execution_count": 65,
   "metadata": {},
   "outputs": [
    {
     "data": {
      "image/png": "[encoded data removed]",
      "text/plain": [
       "<Figure size 720x576 with 2 Axes>"
      ]
     },
     "metadata": {},
     "output_type": "display_data"
    }
   ],
   "source": [
    "corrmat = train_df[numerical_features].corr(method = 'spearman')\n",
    "plt.figure(figsize=(10,8))\n",
    "sns.heatmap(corrmat,annot=True)\n",
    "plt.show()"
   ]
  }
 ],
 "metadata": {
  "kernelspec": {
   "display_name": "Python 3",
   "language": "python",
   "name": "python3"
  },
  "language_info": {
   "codemirror_mode": {
    "name": "ipython",
    "version": 3
   },
   "file_extension": ".py",
   "mimetype": "text/x-python",
   "name": "python",
   "nbconvert_exporter": "python",
   "pygments_lexer": "ipython3",
   "version": "3.6.5"
  }
 },
 "nbformat": 4,
 "nbformat_minor": 2
}
