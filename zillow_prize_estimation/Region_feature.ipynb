{
 "cells": [
  {
   "cell_type": "code",
   "execution_count": 3,
   "metadata": {},
   "outputs": [],
   "source": [
    "import numpy as np\n",
    "import pandas as pd\n",
    "import matplotlib as mpl\n",
    "import matplotlib.pylab as plt\n",
    "import seaborn as sns\n",
    "import scipy as sp\n",
    "import statsmodels.api as sm"
   ]
  },
  {
   "cell_type": "markdown",
   "metadata": {},
   "source": [
    "## 0) Data Load"
   ]
  },
  {
   "cell_type": "code",
   "execution_count": 5,
   "metadata": {},
   "outputs": [],
   "source": [
    "train_16 = pd.read_csv('train_2016_v2.csv',parse_dates=['transactiondate'],dtype={'parcelid':int})"
   ]
  },
  {
   "cell_type": "code",
   "execution_count": 6,
   "metadata": {},
   "outputs": [],
   "source": [
    "prop_16 = pd.read_csv('properties_2016.csv',dtype={'fireplaceflag':object, 'taxdelinquencyflag':object, 'fireplaceflag':object, 'propertyzoningdesc':object, 'propertycountylandusecode':object, 'hashottuborspa':object})"
   ]
  },
  {
   "cell_type": "code",
   "execution_count": 7,
   "metadata": {},
   "outputs": [],
   "source": [
    "train_df1 = pd.merge(train_16,prop_16,on='parcelid', how ='left')"
   ]
  },
  {
   "cell_type": "code",
   "execution_count": 8,
   "metadata": {},
   "outputs": [],
   "source": [
    "train_df = train_df1.copy()"
   ]
  },
  {
   "cell_type": "markdown",
   "metadata": {},
   "source": [
    "17년 데이터는 생략한 상태"
   ]
  },
  {
   "cell_type": "markdown",
   "metadata": {},
   "source": [
    "# 1) Analysis Region-Feature"
   ]
  },
  {
   "cell_type": "markdown",
   "metadata": {},
   "source": [
    "- Title :` <real estate feature>`\n",
    "- 'propertycountylandusecode'\n",
    "- 'propertylandusetypeid'\n",
    "- 'propertyzoningdesc'\n",
    "- 'rawcensustractandblock'\n",
    "- 'censustractandblock'\n",
    "-  Title : `< Location feature>`\n",
    "- 'latitude'\n",
    "- 'longitude'\n",
    "- Title : `<address feature>`\n",
    "- 'fips'\n",
    "- 'regionidcounty'\n",
    "- 'regionidcity'\n",
    "- 'regionidzip'\n",
    "- 'regionidneighborhood'\n",
    "- `initially, I divided three features named region, location,adress but, I'd like to try three things into one characteristic in this EDA.`"
   ]
  },
  {
   "cell_type": "markdown",
   "metadata": {},
   "source": [
    "region feature는 총 12 개의 컬럼으로 이뤄져있고, 분류 기준은 지역, 주소, 부동산에 관련된 것으로 통합적으로 지역에 관련된 컬럼입니다."
   ]
  },
  {
   "cell_type": "code",
   "execution_count": 9,
   "metadata": {},
   "outputs": [],
   "source": [
    "region_feature = [\n",
    "    'county land use code : 지역이 어떻게 개발되고 사용될 지에 대한 regulation',\n",
    "     '토지가 어떻게 사용되는지에 대한 타입',\n",
    "     '해당 부동산에 대해 허용 된 토지 용도 (구역 설정)에 대한 설명',\n",
    "    'Raw Census tract와 블록 ID 결합 - 또한 확장에 의한 블록 그룹 할당 포함',\n",
    "     'Census tract와 블록 ID 결합 - 또한 확장에 의한 블록 그룹 할당 포함',\n",
    "     '소포 중도 위도에 10e6을 곱한 값',\n",
    "     '소포 중도 경도에 10e6을 곱한 값',\n",
    "    '연방 정보 처리 규정(연방에서 해당 지역을 어떻게 정보 처리하는지에 대한 것)',\n",
    "     '해당 부동산이 위치하는 카운티(county:Second-level administrative division)',\n",
    "     '해당 부동산이있는 도시 (있는 경우)',\n",
    "    '해당 부동산이 위치한 우편 번호',\n",
    "    '해당 부동산이 위치한 동네'\n",
    "\n",
    "]"
   ]
  },
  {
   "cell_type": "code",
   "execution_count": 10,
   "metadata": {},
   "outputs": [],
   "source": [
    "region_feature_col = [\n",
    "    'propertycountylandusecode',\n",
    "    'propertylandusetypeid',\n",
    "    'propertyzoningdesc',\n",
    "    'rawcensustractandblock',\n",
    "    'censustractandblock',\n",
    "    'latitude',\n",
    "    'longitude',\n",
    "    'fips',\n",
    "    'regionidcounty',\n",
    "    'regionidcity',\n",
    "    'regionidzip',\n",
    "    'regionidneighborhood'\n",
    "    \n",
    "\n",
    "]"
   ]
  },
  {
   "cell_type": "code",
   "execution_count": 11,
   "metadata": {},
   "outputs": [
    {
     "data": {
      "text/html": [
       "<div>\n",
       "<style scoped>\n",
       "    .dataframe tbody tr th:only-of-type {\n",
       "        vertical-align: middle;\n",
       "    }\n",
       "\n",
       "    .dataframe tbody tr th {\n",
       "        vertical-align: top;\n",
       "    }\n",
       "\n",
       "    .dataframe thead th {\n",
       "        text-align: right;\n",
       "    }\n",
       "</style>\n",
       "<table border=\"1\" class=\"dataframe\">\n",
       "  <thead>\n",
       "    <tr style=\"text-align: right;\">\n",
       "      <th></th>\n",
       "      <th>name</th>\n",
       "      <th>feature</th>\n",
       "    </tr>\n",
       "  </thead>\n",
       "  <tbody>\n",
       "    <tr>\n",
       "      <th>0</th>\n",
       "      <td>propertycountylandusecode</td>\n",
       "      <td>county land use code : 지역이 어떻게 개발되고 사용될 지에 대한 ...</td>\n",
       "    </tr>\n",
       "    <tr>\n",
       "      <th>1</th>\n",
       "      <td>propertylandusetypeid</td>\n",
       "      <td>토지가 어떻게 사용되는지에 대한 타입</td>\n",
       "    </tr>\n",
       "    <tr>\n",
       "      <th>2</th>\n",
       "      <td>propertyzoningdesc</td>\n",
       "      <td>해당 부동산에 대해 허용 된 토지 용도 (구역 설정)에 대한 설명</td>\n",
       "    </tr>\n",
       "    <tr>\n",
       "      <th>3</th>\n",
       "      <td>rawcensustractandblock</td>\n",
       "      <td>Raw Census tract와 블록 ID 결합 - 또한 확장에 의한 블록 그룹 할...</td>\n",
       "    </tr>\n",
       "    <tr>\n",
       "      <th>4</th>\n",
       "      <td>censustractandblock</td>\n",
       "      <td>Census tract와 블록 ID 결합 - 또한 확장에 의한 블록 그룹 할당 포함</td>\n",
       "    </tr>\n",
       "    <tr>\n",
       "      <th>5</th>\n",
       "      <td>latitude</td>\n",
       "      <td>소포 중도 위도에 10e6을 곱한 값</td>\n",
       "    </tr>\n",
       "    <tr>\n",
       "      <th>6</th>\n",
       "      <td>longitude</td>\n",
       "      <td>소포 중도 경도에 10e6을 곱한 값</td>\n",
       "    </tr>\n",
       "    <tr>\n",
       "      <th>7</th>\n",
       "      <td>fips</td>\n",
       "      <td>연방 정보 처리 규정(연방에서 해당 지역을 어떻게 정보 처리하는지에 대한 것)</td>\n",
       "    </tr>\n",
       "    <tr>\n",
       "      <th>8</th>\n",
       "      <td>regionidcounty</td>\n",
       "      <td>해당 부동산이 위치하는 카운티(county:Second-level administr...</td>\n",
       "    </tr>\n",
       "    <tr>\n",
       "      <th>9</th>\n",
       "      <td>regionidcity</td>\n",
       "      <td>해당 부동산이있는 도시 (있는 경우)</td>\n",
       "    </tr>\n",
       "    <tr>\n",
       "      <th>10</th>\n",
       "      <td>regionidzip</td>\n",
       "      <td>해당 부동산이 위치한 우편 번호</td>\n",
       "    </tr>\n",
       "    <tr>\n",
       "      <th>11</th>\n",
       "      <td>regionidneighborhood</td>\n",
       "      <td>해당 부동산이 위치한 동네</td>\n",
       "    </tr>\n",
       "  </tbody>\n",
       "</table>\n",
       "</div>"
      ],
      "text/plain": [
       "                         name  \\\n",
       "0   propertycountylandusecode   \n",
       "1       propertylandusetypeid   \n",
       "2          propertyzoningdesc   \n",
       "3      rawcensustractandblock   \n",
       "4         censustractandblock   \n",
       "5                    latitude   \n",
       "6                   longitude   \n",
       "7                        fips   \n",
       "8              regionidcounty   \n",
       "9                regionidcity   \n",
       "10                regionidzip   \n",
       "11       regionidneighborhood   \n",
       "\n",
       "                                              feature  \n",
       "0   county land use code : 지역이 어떻게 개발되고 사용될 지에 대한 ...  \n",
       "1                                토지가 어떻게 사용되는지에 대한 타입  \n",
       "2                해당 부동산에 대해 허용 된 토지 용도 (구역 설정)에 대한 설명  \n",
       "3   Raw Census tract와 블록 ID 결합 - 또한 확장에 의한 블록 그룹 할...  \n",
       "4      Census tract와 블록 ID 결합 - 또한 확장에 의한 블록 그룹 할당 포함  \n",
       "5                                소포 중도 위도에 10e6을 곱한 값  \n",
       "6                                소포 중도 경도에 10e6을 곱한 값  \n",
       "7         연방 정보 처리 규정(연방에서 해당 지역을 어떻게 정보 처리하는지에 대한 것)  \n",
       "8   해당 부동산이 위치하는 카운티(county:Second-level administr...  \n",
       "9                                해당 부동산이있는 도시 (있는 경우)  \n",
       "10                                  해당 부동산이 위치한 우편 번호  \n",
       "11                                     해당 부동산이 위치한 동네  "
      ]
     },
     "execution_count": 11,
     "metadata": {},
     "output_type": "execute_result"
    }
   ],
   "source": [
    "region_df = pd.DataFrame(columns=['name','feature'])\n",
    "region_df.name = region_feature_col\n",
    "region_df.feature = region_feature\n",
    "region_df"
   ]
  },
  {
   "cell_type": "markdown",
   "metadata": {},
   "source": [
    "- region_feature에는 12개의 컬럼이 있고, 두 개의 object 자료형과 10개의 float형이 있다.\n",
    "- numerical data, object data 를 가지고 있는 컬럼들을 나눠서 분석을 하도록 하겠다."
   ]
  },
  {
   "cell_type": "code",
   "execution_count": 12,
   "metadata": {
    "scrolled": true
   },
   "outputs": [
    {
     "name": "stdout",
     "output_type": "stream",
     "text": [
      "propertycountylandusecode     object\n",
      "propertylandusetypeid        float64\n",
      "propertyzoningdesc            object\n",
      "rawcensustractandblock       float64\n",
      "censustractandblock          float64\n",
      "latitude                     float64\n",
      "longitude                    float64\n",
      "fips                         float64\n",
      "regionidcounty               float64\n",
      "regionidcity                 float64\n",
      "regionidzip                  float64\n",
      "regionidneighborhood         float64\n",
      "dtype: object\n",
      "\n",
      "Number of tax_feature_col:  12\n"
     ]
    }
   ],
   "source": [
    "print(train_df[region_feature_col].dtypes,end='\\n\\n'),\n",
    "print('Number of tax_feature_col:  {}'.format(len(region_feature_col)))"
   ]
  },
  {
   "cell_type": "code",
   "execution_count": 13,
   "metadata": {},
   "outputs": [],
   "source": [
    "region_numeric = []\n",
    "region_object = []\n",
    "for col in region_feature_col:\n",
    "    if train_df[col].dtypes == 'float64':\n",
    "        region_numeric.append(col)\n",
    "    else:region_object.append(col)"
   ]
  },
  {
   "cell_type": "code",
   "execution_count": 14,
   "metadata": {},
   "outputs": [
    {
     "name": "stdout",
     "output_type": "stream",
     "text": [
      "10\n"
     ]
    }
   ],
   "source": [
    "region_numeric\n",
    "print(len(region_numeric))"
   ]
  },
  {
   "cell_type": "code",
   "execution_count": 15,
   "metadata": {},
   "outputs": [
    {
     "name": "stdout",
     "output_type": "stream",
     "text": [
      "2\n"
     ]
    }
   ],
   "source": [
    "region_object\n",
    "print(len(region_object))"
   ]
  },
  {
   "cell_type": "markdown",
   "metadata": {},
   "source": [
    "## 1.3) Individual columns' feature analysis"
   ]
  },
  {
   "cell_type": "markdown",
   "metadata": {},
   "source": [
    "### scatter plot about numerical data"
   ]
  },
  {
   "cell_type": "code",
   "execution_count": 25,
   "metadata": {},
   "outputs": [
    {
     "data": {
      "image/png": "[encoded data removed]",
      "text/plain": [
       "<Figure size 1440x1440 with 10 Axes>"
      ]
     },
     "metadata": {},
     "output_type": "display_data"
    }
   ],
   "source": [
    "plt.figure(figsize=(20,20))\n",
    "for idx,col in enumerate(region_numeric):\n",
    "    plt.subplot(4,3,idx+1)\n",
    "    plt.scatter(train_df[col],train_df.logerror)\n",
    "    plt.xlabel(col)\n",
    "    plt.ylabel('logerror')\n",
    "plt.show()"
   ]
  },
  {
   "cell_type": "markdown",
   "metadata": {},
   "source": [
    "- float 자료형에 대한 scatterplot을 그려본 결과 분포의 형태가 continuous하지 않고, discrete한 분포를 띄고 있다.\n",
    "- 즉, numeric category를 가지고 있을 수 있는 컬럼이라고 생각하고, 카테고리의 갯수를 20개 미만으로 가지는 데이터에 대해서 다시 분포에 대해 시각화해본다."
   ]
  },
  {
   "cell_type": "code",
   "execution_count": 16,
   "metadata": {},
   "outputs": [
    {
     "name": "stdout",
     "output_type": "stream",
     "text": [
      "261.0    60637\n",
      "266.0    22815\n",
      "246.0     2376\n",
      "269.0     2334\n",
      "248.0      879\n",
      "247.0      629\n",
      "265.0      356\n",
      "263.0       84\n",
      "260.0       62\n",
      "275.0       46\n",
      "267.0       28\n",
      "31.0        17\n",
      "264.0       11\n",
      "47.0         1\n",
      "Name: propertylandusetypeid, dtype: int64\n",
      "6037.0    58574\n",
      "6059.0    24505\n",
      "6111.0     7196\n",
      "Name: fips, dtype: int64\n",
      "3101.0    58574\n",
      "1286.0    24505\n",
      "2061.0     7196\n",
      "Name: regionidcounty, dtype: int64\n"
     ]
    },
    {
     "data": {
      "text/plain": [
       "3"
      ]
     },
     "execution_count": 16,
     "metadata": {},
     "output_type": "execute_result"
    }
   ],
   "source": [
    "discrete_region_col = []\n",
    "for idx,col in enumerate(region_feature_col):\n",
    "    if len(train_df[col].value_counts())<40:\n",
    "        print(train_df[col].value_counts())\n",
    "        discrete_region_col.append(col)\n",
    "len(discrete_region_col)"
   ]
  },
  {
   "cell_type": "markdown",
   "metadata": {},
   "source": [
    "40 개 미만의 카테고리를 가지는 discrete data column 이 총 3개가 나왔다. 이 컬럼들에 대해서 stripplot,viloinplot을 적용해 시각화한다."
   ]
  },
  {
   "cell_type": "code",
   "execution_count": 27,
   "metadata": {
    "scrolled": false
   },
   "outputs": [
    {
     "data": {
      "image/png": "[encoded data removed]",
      "text/plain": [
       "<Figure size 1440x1440 with 3 Axes>"
      ]
     },
     "metadata": {},
     "output_type": "display_data"
    }
   ],
   "source": [
    "plt.figure(figsize=(20,20))\n",
    "for idx,col in enumerate(discrete_region_col):\n",
    "    plt.subplot(2,2,idx+1)\n",
    "    sns.stripplot(train_df[col],train_df.logerror)\n",
    "    plt.xlabel(col)\n",
    "    plt.ylabel('logerror')\n",
    "plt.show()"
   ]
  },
  {
   "cell_type": "code",
   "execution_count": 28,
   "metadata": {
    "scrolled": false
   },
   "outputs": [
    {
     "data": {
      "image/png": "[encoded data removed]",
      "text/plain": [
       "<Figure size 1440x1440 with 3 Axes>"
      ]
     },
     "metadata": {},
     "output_type": "display_data"
    }
   ],
   "source": [
    "plt.figure(figsize=(20,20))\n",
    "for idx,col in enumerate(discrete_region_col):\n",
    "    plt.subplot(2,2,idx+1)\n",
    "    sns.violinplot(train_df[col],train_df.logerror)\n",
    "    plt.xlabel(col)\n",
    "    plt.ylabel('logerror')\n",
    "plt.show()"
   ]
  },
  {
   "cell_type": "markdown",
   "metadata": {},
   "source": [
    "- category를 나누는 기준이 40개를 지정했지만, discrete data의 카테고리는 많지 않고 분포도 고른 것으로 파악된다."
   ]
  },
  {
   "cell_type": "markdown",
   "metadata": {},
   "source": [
    "# 2) Analysis Missing value "
   ]
  },
  {
   "cell_type": "markdown",
   "metadata": {},
   "source": [
    "우선 outer-feature 내의 컬럼들로 구성된 데이터 프레임 'outer_df'를 생성해보겠습니다."
   ]
  },
  {
   "cell_type": "code",
   "execution_count": 17,
   "metadata": {},
   "outputs": [
    {
     "data": {
      "text/html": [
       "<div>\n",
       "<style scoped>\n",
       "    .dataframe tbody tr th:only-of-type {\n",
       "        vertical-align: middle;\n",
       "    }\n",
       "\n",
       "    .dataframe tbody tr th {\n",
       "        vertical-align: top;\n",
       "    }\n",
       "\n",
       "    .dataframe thead th {\n",
       "        text-align: right;\n",
       "    }\n",
       "</style>\n",
       "<table border=\"1\" class=\"dataframe\">\n",
       "  <thead>\n",
       "    <tr style=\"text-align: right;\">\n",
       "      <th></th>\n",
       "      <th>propertycountylandusecode</th>\n",
       "      <th>propertylandusetypeid</th>\n",
       "      <th>propertyzoningdesc</th>\n",
       "      <th>rawcensustractandblock</th>\n",
       "      <th>censustractandblock</th>\n",
       "      <th>latitude</th>\n",
       "      <th>longitude</th>\n",
       "      <th>fips</th>\n",
       "      <th>regionidcounty</th>\n",
       "      <th>regionidcity</th>\n",
       "      <th>regionidzip</th>\n",
       "      <th>regionidneighborhood</th>\n",
       "    </tr>\n",
       "  </thead>\n",
       "  <tbody>\n",
       "    <tr>\n",
       "      <th>90270</th>\n",
       "      <td>010C</td>\n",
       "      <td>266.0</td>\n",
       "      <td>LARD1.5</td>\n",
       "      <td>6.037132e+07</td>\n",
       "      <td>6.037132e+13</td>\n",
       "      <td>34203000.0</td>\n",
       "      <td>-118562000.0</td>\n",
       "      <td>6037.0</td>\n",
       "      <td>3101.0</td>\n",
       "      <td>12447.0</td>\n",
       "      <td>96364.0</td>\n",
       "      <td>40548.0</td>\n",
       "    </tr>\n",
       "    <tr>\n",
       "      <th>90271</th>\n",
       "      <td>0100</td>\n",
       "      <td>261.0</td>\n",
       "      <td>GLR1RY</td>\n",
       "      <td>6.037301e+07</td>\n",
       "      <td>6.037301e+13</td>\n",
       "      <td>34198744.0</td>\n",
       "      <td>-118224849.0</td>\n",
       "      <td>6037.0</td>\n",
       "      <td>3101.0</td>\n",
       "      <td>45457.0</td>\n",
       "      <td>96327.0</td>\n",
       "      <td>274580.0</td>\n",
       "    </tr>\n",
       "    <tr>\n",
       "      <th>90272</th>\n",
       "      <td>0200</td>\n",
       "      <td>246.0</td>\n",
       "      <td>EMR3YY</td>\n",
       "      <td>6.037433e+07</td>\n",
       "      <td>6.037433e+13</td>\n",
       "      <td>34075655.0</td>\n",
       "      <td>-118025537.0</td>\n",
       "      <td>6037.0</td>\n",
       "      <td>3101.0</td>\n",
       "      <td>51861.0</td>\n",
       "      <td>96478.0</td>\n",
       "      <td>NaN</td>\n",
       "    </tr>\n",
       "    <tr>\n",
       "      <th>90273</th>\n",
       "      <td>010C</td>\n",
       "      <td>266.0</td>\n",
       "      <td>INR4*</td>\n",
       "      <td>6.037601e+07</td>\n",
       "      <td>6.037601e+13</td>\n",
       "      <td>33963900.0</td>\n",
       "      <td>-118367000.0</td>\n",
       "      <td>6037.0</td>\n",
       "      <td>3101.0</td>\n",
       "      <td>45888.0</td>\n",
       "      <td>96133.0</td>\n",
       "      <td>NaN</td>\n",
       "    </tr>\n",
       "    <tr>\n",
       "      <th>90274</th>\n",
       "      <td>0100</td>\n",
       "      <td>261.0</td>\n",
       "      <td>CARS*</td>\n",
       "      <td>6.037544e+07</td>\n",
       "      <td>6.037544e+13</td>\n",
       "      <td>33838933.0</td>\n",
       "      <td>-118219093.0</td>\n",
       "      <td>6037.0</td>\n",
       "      <td>3101.0</td>\n",
       "      <td>NaN</td>\n",
       "      <td>96244.0</td>\n",
       "      <td>NaN</td>\n",
       "    </tr>\n",
       "  </tbody>\n",
       "</table>\n",
       "</div>"
      ],
      "text/plain": [
       "      propertycountylandusecode  propertylandusetypeid propertyzoningdesc  \\\n",
       "90270                      010C                  266.0            LARD1.5   \n",
       "90271                      0100                  261.0             GLR1RY   \n",
       "90272                      0200                  246.0             EMR3YY   \n",
       "90273                      010C                  266.0              INR4*   \n",
       "90274                      0100                  261.0              CARS*   \n",
       "\n",
       "       rawcensustractandblock  censustractandblock    latitude    longitude  \\\n",
       "90270            6.037132e+07         6.037132e+13  34203000.0 -118562000.0   \n",
       "90271            6.037301e+07         6.037301e+13  34198744.0 -118224849.0   \n",
       "90272            6.037433e+07         6.037433e+13  34075655.0 -118025537.0   \n",
       "90273            6.037601e+07         6.037601e+13  33963900.0 -118367000.0   \n",
       "90274            6.037544e+07         6.037544e+13  33838933.0 -118219093.0   \n",
       "\n",
       "         fips  regionidcounty  regionidcity  regionidzip  regionidneighborhood  \n",
       "90270  6037.0          3101.0       12447.0      96364.0               40548.0  \n",
       "90271  6037.0          3101.0       45457.0      96327.0              274580.0  \n",
       "90272  6037.0          3101.0       51861.0      96478.0                   NaN  \n",
       "90273  6037.0          3101.0       45888.0      96133.0                   NaN  \n",
       "90274  6037.0          3101.0           NaN      96244.0                   NaN  "
      ]
     },
     "execution_count": 17,
     "metadata": {},
     "output_type": "execute_result"
    }
   ],
   "source": [
    "region_df = train_df[region_feature_col]\n",
    "region_df.tail()"
   ]
  },
  {
   "cell_type": "code",
   "execution_count": 18,
   "metadata": {},
   "outputs": [
    {
     "data": {
      "text/html": [
       "<div>\n",
       "<style scoped>\n",
       "    .dataframe tbody tr th:only-of-type {\n",
       "        vertical-align: middle;\n",
       "    }\n",
       "\n",
       "    .dataframe tbody tr th {\n",
       "        vertical-align: top;\n",
       "    }\n",
       "\n",
       "    .dataframe thead th {\n",
       "        text-align: right;\n",
       "    }\n",
       "</style>\n",
       "<table border=\"1\" class=\"dataframe\">\n",
       "  <thead>\n",
       "    <tr style=\"text-align: right;\">\n",
       "      <th></th>\n",
       "      <th>col</th>\n",
       "      <th>missing_cnt</th>\n",
       "      <th>missing_ratio</th>\n",
       "    </tr>\n",
       "  </thead>\n",
       "  <tbody>\n",
       "    <tr>\n",
       "      <th>0</th>\n",
       "      <td>propertylandusetypeid</td>\n",
       "      <td>0</td>\n",
       "      <td>0.000000</td>\n",
       "    </tr>\n",
       "    <tr>\n",
       "      <th>1</th>\n",
       "      <td>rawcensustractandblock</td>\n",
       "      <td>0</td>\n",
       "      <td>0.000000</td>\n",
       "    </tr>\n",
       "    <tr>\n",
       "      <th>2</th>\n",
       "      <td>latitude</td>\n",
       "      <td>0</td>\n",
       "      <td>0.000000</td>\n",
       "    </tr>\n",
       "    <tr>\n",
       "      <th>3</th>\n",
       "      <td>longitude</td>\n",
       "      <td>0</td>\n",
       "      <td>0.000000</td>\n",
       "    </tr>\n",
       "    <tr>\n",
       "      <th>4</th>\n",
       "      <td>fips</td>\n",
       "      <td>0</td>\n",
       "      <td>0.000000</td>\n",
       "    </tr>\n",
       "    <tr>\n",
       "      <th>5</th>\n",
       "      <td>regionidcounty</td>\n",
       "      <td>0</td>\n",
       "      <td>0.000000</td>\n",
       "    </tr>\n",
       "    <tr>\n",
       "      <th>6</th>\n",
       "      <td>propertycountylandusecode</td>\n",
       "      <td>1</td>\n",
       "      <td>0.000011</td>\n",
       "    </tr>\n",
       "    <tr>\n",
       "      <th>7</th>\n",
       "      <td>regionidzip</td>\n",
       "      <td>35</td>\n",
       "      <td>0.000388</td>\n",
       "    </tr>\n",
       "    <tr>\n",
       "      <th>8</th>\n",
       "      <td>censustractandblock</td>\n",
       "      <td>605</td>\n",
       "      <td>0.006702</td>\n",
       "    </tr>\n",
       "    <tr>\n",
       "      <th>9</th>\n",
       "      <td>regionidcity</td>\n",
       "      <td>1803</td>\n",
       "      <td>0.019972</td>\n",
       "    </tr>\n",
       "    <tr>\n",
       "      <th>10</th>\n",
       "      <td>propertyzoningdesc</td>\n",
       "      <td>31962</td>\n",
       "      <td>0.354052</td>\n",
       "    </tr>\n",
       "    <tr>\n",
       "      <th>11</th>\n",
       "      <td>regionidneighborhood</td>\n",
       "      <td>54263</td>\n",
       "      <td>0.601086</td>\n",
       "    </tr>\n",
       "  </tbody>\n",
       "</table>\n",
       "</div>"
      ],
      "text/plain": [
       "                          col  missing_cnt  missing_ratio\n",
       "0       propertylandusetypeid            0       0.000000\n",
       "1      rawcensustractandblock            0       0.000000\n",
       "2                    latitude            0       0.000000\n",
       "3                   longitude            0       0.000000\n",
       "4                        fips            0       0.000000\n",
       "5              regionidcounty            0       0.000000\n",
       "6   propertycountylandusecode            1       0.000011\n",
       "7                 regionidzip           35       0.000388\n",
       "8         censustractandblock          605       0.006702\n",
       "9                regionidcity         1803       0.019972\n",
       "10         propertyzoningdesc        31962       0.354052\n",
       "11       regionidneighborhood        54263       0.601086"
      ]
     },
     "execution_count": 18,
     "metadata": {},
     "output_type": "execute_result"
    }
   ],
   "source": [
    "missing_region_df = region_df.isnull().sum().reset_index()\n",
    "missing_region_df.columns = ['col','missing_cnt']\n",
    "missing_region_df['missing_ratio'] = missing_region_df.missing_cnt / len(region_df)\n",
    "missing_region_df.sort_values(by='missing_ratio',inplace=True)\n",
    "missing_region_df.reset_index(drop=True,inplace=True)\n",
    "missing_region_df"
   ]
  },
  {
   "cell_type": "code",
   "execution_count": 19,
   "metadata": {
    "scrolled": false
   },
   "outputs": [
    {
     "data": {
      "image/png": "[encoded data removed]",
      "text/plain": [
       "<Figure size 864x576 with 1 Axes>"
      ]
     },
     "metadata": {},
     "output_type": "display_data"
    }
   ],
   "source": [
    "plt.figure(figsize=(12,8))\n",
    "plt.barh(missing_region_df.col,missing_region_df.missing_ratio)\n",
    "plt.title('Missing value ratio in Region feature')\n",
    "plt.xlabel('missing value ratio')\n",
    "plt.ylabel('columns')\n",
    "plt.tight_layout()\n",
    "plt.show()"
   ]
  },
  {
   "cell_type": "markdown",
   "metadata": {},
   "source": [
    "## 2.1) Fill the Missing data"
   ]
  },
  {
   "cell_type": "code",
   "execution_count": 20,
   "metadata": {},
   "outputs": [
    {
     "data": {
      "text/html": [
       "<div>\n",
       "<style scoped>\n",
       "    .dataframe tbody tr th:only-of-type {\n",
       "        vertical-align: middle;\n",
       "    }\n",
       "\n",
       "    .dataframe tbody tr th {\n",
       "        vertical-align: top;\n",
       "    }\n",
       "\n",
       "    .dataframe thead th {\n",
       "        text-align: right;\n",
       "    }\n",
       "</style>\n",
       "<table border=\"1\" class=\"dataframe\">\n",
       "  <thead>\n",
       "    <tr style=\"text-align: right;\">\n",
       "      <th></th>\n",
       "      <th>col</th>\n",
       "      <th>missing_cnt</th>\n",
       "      <th>missing_ratio</th>\n",
       "    </tr>\n",
       "  </thead>\n",
       "  <tbody>\n",
       "    <tr>\n",
       "      <th>0</th>\n",
       "      <td>propertylandusetypeid</td>\n",
       "      <td>0</td>\n",
       "      <td>0.000000</td>\n",
       "    </tr>\n",
       "    <tr>\n",
       "      <th>1</th>\n",
       "      <td>rawcensustractandblock</td>\n",
       "      <td>0</td>\n",
       "      <td>0.000000</td>\n",
       "    </tr>\n",
       "    <tr>\n",
       "      <th>2</th>\n",
       "      <td>latitude</td>\n",
       "      <td>0</td>\n",
       "      <td>0.000000</td>\n",
       "    </tr>\n",
       "    <tr>\n",
       "      <th>3</th>\n",
       "      <td>longitude</td>\n",
       "      <td>0</td>\n",
       "      <td>0.000000</td>\n",
       "    </tr>\n",
       "    <tr>\n",
       "      <th>4</th>\n",
       "      <td>fips</td>\n",
       "      <td>0</td>\n",
       "      <td>0.000000</td>\n",
       "    </tr>\n",
       "    <tr>\n",
       "      <th>5</th>\n",
       "      <td>regionidcounty</td>\n",
       "      <td>0</td>\n",
       "      <td>0.000000</td>\n",
       "    </tr>\n",
       "    <tr>\n",
       "      <th>6</th>\n",
       "      <td>propertycountylandusecode</td>\n",
       "      <td>1</td>\n",
       "      <td>0.000011</td>\n",
       "    </tr>\n",
       "    <tr>\n",
       "      <th>7</th>\n",
       "      <td>regionidzip</td>\n",
       "      <td>35</td>\n",
       "      <td>0.000388</td>\n",
       "    </tr>\n",
       "    <tr>\n",
       "      <th>8</th>\n",
       "      <td>censustractandblock</td>\n",
       "      <td>605</td>\n",
       "      <td>0.006702</td>\n",
       "    </tr>\n",
       "    <tr>\n",
       "      <th>9</th>\n",
       "      <td>regionidcity</td>\n",
       "      <td>1803</td>\n",
       "      <td>0.019972</td>\n",
       "    </tr>\n",
       "    <tr>\n",
       "      <th>10</th>\n",
       "      <td>propertyzoningdesc</td>\n",
       "      <td>31962</td>\n",
       "      <td>0.354052</td>\n",
       "    </tr>\n",
       "    <tr>\n",
       "      <th>11</th>\n",
       "      <td>regionidneighborhood</td>\n",
       "      <td>54263</td>\n",
       "      <td>0.601086</td>\n",
       "    </tr>\n",
       "  </tbody>\n",
       "</table>\n",
       "</div>"
      ],
      "text/plain": [
       "                          col  missing_cnt  missing_ratio\n",
       "0       propertylandusetypeid            0       0.000000\n",
       "1      rawcensustractandblock            0       0.000000\n",
       "2                    latitude            0       0.000000\n",
       "3                   longitude            0       0.000000\n",
       "4                        fips            0       0.000000\n",
       "5              regionidcounty            0       0.000000\n",
       "6   propertycountylandusecode            1       0.000011\n",
       "7                 regionidzip           35       0.000388\n",
       "8         censustractandblock          605       0.006702\n",
       "9                regionidcity         1803       0.019972\n",
       "10         propertyzoningdesc        31962       0.354052\n",
       "11       regionidneighborhood        54263       0.601086"
      ]
     },
     "execution_count": 20,
     "metadata": {},
     "output_type": "execute_result"
    }
   ],
   "source": [
    "missing_region_df"
   ]
  },
  {
   "cell_type": "markdown",
   "metadata": {},
   "source": [
    "- 위의 missing_ratio를 보면 5개의 컬럼이 NaN값의 비율이 99%가 넘는다. 이는 두 가지 이유로 나눠질 수 있다.\n",
    "    - 0을 의미 -> 0으로 filling\n",
    "    - 기록이 누락되었음, 그냥 없는 데이터를 의미 -> deleting columns\n",
    "- missing_data에 대해서 delete가 아닌 filling을 선택할 때의 경우의 수\n",
    "    - mean imputation : continous data\n",
    "    - mode imputation : discrete data , categorical data\n",
    "    - 'None' or '0' imputation : missing_data means zero in quantitative or qualitative prospect. "
   ]
  },
  {
   "cell_type": "code",
   "execution_count": 22,
   "metadata": {},
   "outputs": [
    {
     "data": {
      "text/html": [
       "<div>\n",
       "<style scoped>\n",
       "    .dataframe tbody tr th:only-of-type {\n",
       "        vertical-align: middle;\n",
       "    }\n",
       "\n",
       "    .dataframe tbody tr th {\n",
       "        vertical-align: top;\n",
       "    }\n",
       "\n",
       "    .dataframe thead th {\n",
       "        text-align: right;\n",
       "    }\n",
       "</style>\n",
       "<table border=\"1\" class=\"dataframe\">\n",
       "  <thead>\n",
       "    <tr style=\"text-align: right;\">\n",
       "      <th></th>\n",
       "      <th>propertycountylandusecode</th>\n",
       "      <th>propertylandusetypeid</th>\n",
       "      <th>propertyzoningdesc</th>\n",
       "      <th>rawcensustractandblock</th>\n",
       "      <th>censustractandblock</th>\n",
       "      <th>latitude</th>\n",
       "      <th>longitude</th>\n",
       "      <th>fips</th>\n",
       "      <th>regionidcounty</th>\n",
       "      <th>regionidcity</th>\n",
       "      <th>regionidzip</th>\n",
       "      <th>regionidneighborhood</th>\n",
       "    </tr>\n",
       "  </thead>\n",
       "  <tbody>\n",
       "    <tr>\n",
       "      <th>90270</th>\n",
       "      <td>010C</td>\n",
       "      <td>266.0</td>\n",
       "      <td>LARD1.5</td>\n",
       "      <td>6.037132e+07</td>\n",
       "      <td>6.037132e+13</td>\n",
       "      <td>34203000.0</td>\n",
       "      <td>-118562000.0</td>\n",
       "      <td>6037.0</td>\n",
       "      <td>3101.0</td>\n",
       "      <td>12447.0</td>\n",
       "      <td>96364.0</td>\n",
       "      <td>40548.0</td>\n",
       "    </tr>\n",
       "    <tr>\n",
       "      <th>90271</th>\n",
       "      <td>0100</td>\n",
       "      <td>261.0</td>\n",
       "      <td>GLR1RY</td>\n",
       "      <td>6.037301e+07</td>\n",
       "      <td>6.037301e+13</td>\n",
       "      <td>34198744.0</td>\n",
       "      <td>-118224849.0</td>\n",
       "      <td>6037.0</td>\n",
       "      <td>3101.0</td>\n",
       "      <td>45457.0</td>\n",
       "      <td>96327.0</td>\n",
       "      <td>274580.0</td>\n",
       "    </tr>\n",
       "    <tr>\n",
       "      <th>90272</th>\n",
       "      <td>0200</td>\n",
       "      <td>246.0</td>\n",
       "      <td>EMR3YY</td>\n",
       "      <td>6.037433e+07</td>\n",
       "      <td>6.037433e+13</td>\n",
       "      <td>34075655.0</td>\n",
       "      <td>-118025537.0</td>\n",
       "      <td>6037.0</td>\n",
       "      <td>3101.0</td>\n",
       "      <td>51861.0</td>\n",
       "      <td>96478.0</td>\n",
       "      <td>NaN</td>\n",
       "    </tr>\n",
       "    <tr>\n",
       "      <th>90273</th>\n",
       "      <td>010C</td>\n",
       "      <td>266.0</td>\n",
       "      <td>INR4*</td>\n",
       "      <td>6.037601e+07</td>\n",
       "      <td>6.037601e+13</td>\n",
       "      <td>33963900.0</td>\n",
       "      <td>-118367000.0</td>\n",
       "      <td>6037.0</td>\n",
       "      <td>3101.0</td>\n",
       "      <td>45888.0</td>\n",
       "      <td>96133.0</td>\n",
       "      <td>NaN</td>\n",
       "    </tr>\n",
       "    <tr>\n",
       "      <th>90274</th>\n",
       "      <td>0100</td>\n",
       "      <td>261.0</td>\n",
       "      <td>CARS*</td>\n",
       "      <td>6.037544e+07</td>\n",
       "      <td>6.037544e+13</td>\n",
       "      <td>33838933.0</td>\n",
       "      <td>-118219093.0</td>\n",
       "      <td>6037.0</td>\n",
       "      <td>3101.0</td>\n",
       "      <td>NaN</td>\n",
       "      <td>96244.0</td>\n",
       "      <td>NaN</td>\n",
       "    </tr>\n",
       "  </tbody>\n",
       "</table>\n",
       "</div>"
      ],
      "text/plain": [
       "      propertycountylandusecode  propertylandusetypeid propertyzoningdesc  \\\n",
       "90270                      010C                  266.0            LARD1.5   \n",
       "90271                      0100                  261.0             GLR1RY   \n",
       "90272                      0200                  246.0             EMR3YY   \n",
       "90273                      010C                  266.0              INR4*   \n",
       "90274                      0100                  261.0              CARS*   \n",
       "\n",
       "       rawcensustractandblock  censustractandblock    latitude    longitude  \\\n",
       "90270            6.037132e+07         6.037132e+13  34203000.0 -118562000.0   \n",
       "90271            6.037301e+07         6.037301e+13  34198744.0 -118224849.0   \n",
       "90272            6.037433e+07         6.037433e+13  34075655.0 -118025537.0   \n",
       "90273            6.037601e+07         6.037601e+13  33963900.0 -118367000.0   \n",
       "90274            6.037544e+07         6.037544e+13  33838933.0 -118219093.0   \n",
       "\n",
       "         fips  regionidcounty  regionidcity  regionidzip  regionidneighborhood  \n",
       "90270  6037.0          3101.0       12447.0      96364.0               40548.0  \n",
       "90271  6037.0          3101.0       45457.0      96327.0              274580.0  \n",
       "90272  6037.0          3101.0       51861.0      96478.0                   NaN  \n",
       "90273  6037.0          3101.0       45888.0      96133.0                   NaN  \n",
       "90274  6037.0          3101.0           NaN      96244.0                   NaN  "
      ]
     },
     "execution_count": 22,
     "metadata": {},
     "output_type": "execute_result"
    }
   ],
   "source": [
    "region_df.tail()"
   ]
  },
  {
   "cell_type": "markdown",
   "metadata": {},
   "source": [
    "#### propertycountylandusecode : 0.0%\n",
    "- Description: 'county land use code : 지역이 어떻게 개발되고 사용되는지에 규제하는 것에 대한 정보가 있는 코드'\n",
    "- Process: object datatype으로 code 종류는 77개가 있다. missing_value가 1개가 있으므로 mode값으로 채워넣어준다."
   ]
  },
  {
   "cell_type": "code",
   "execution_count": 70,
   "metadata": {},
   "outputs": [],
   "source": [
    "train_df.propertycountylandusecode = train_df.propertycountylandusecode.fillna(train_df.propertycountylandusecode.mode()[0])"
   ]
  },
  {
   "cell_type": "code",
   "execution_count": 60,
   "metadata": {},
   "outputs": [
    {
     "data": {
      "text/plain": [
       "1"
      ]
     },
     "execution_count": 60,
     "metadata": {},
     "output_type": "execute_result"
    }
   ],
   "source": [
    "train_df.propertycountylandusecode.isnull().sum()"
   ]
  },
  {
   "cell_type": "code",
   "execution_count": 61,
   "metadata": {},
   "outputs": [
    {
     "data": {
      "text/plain": [
       "count     90274\n",
       "unique       77\n",
       "top        0100\n",
       "freq      30846\n",
       "Name: propertycountylandusecode, dtype: object"
      ]
     },
     "execution_count": 61,
     "metadata": {},
     "output_type": "execute_result"
    }
   ],
   "source": [
    "train_df.propertycountylandusecode.describe()"
   ]
  },
  {
   "cell_type": "code",
   "execution_count": 64,
   "metadata": {},
   "outputs": [
    {
     "data": {
      "text/plain": [
       "34       5946\n",
       "0101     7435\n",
       "010C    10264\n",
       "122     15383\n",
       "0100    30846\n",
       "Name: propertycountylandusecode, dtype: int64"
      ]
     },
     "execution_count": 64,
     "metadata": {},
     "output_type": "execute_result"
    }
   ],
   "source": [
    "train_df.propertycountylandusecode.value_counts().sort_values().tail()"
   ]
  },
  {
   "cell_type": "code",
   "execution_count": 66,
   "metadata": {},
   "outputs": [
    {
     "data": {
      "text/plain": [
       "77"
      ]
     },
     "execution_count": 66,
     "metadata": {},
     "output_type": "execute_result"
    }
   ],
   "source": [
    "len(train_df.propertycountylandusecode.value_counts().sort_values())"
   ]
  },
  {
   "cell_type": "markdown",
   "metadata": {},
   "source": [
    "#### propertylandusetypeid : 0.0%\n",
    "- Description: '토지가 어떻게 사용되는지에 대한 타입'\n",
    "- Process: missing_value가 없다. 통계치를 살펴보게 되면, 'single family residential' 즉, 단독주택의 비율이 가장 높다. 그 다음으로는 분양 아파트가 높다."
   ]
  },
  {
   "cell_type": "code",
   "execution_count": 80,
   "metadata": {},
   "outputs": [
    {
     "data": {
      "text/plain": [
       "0"
      ]
     },
     "execution_count": 80,
     "metadata": {},
     "output_type": "execute_result"
    }
   ],
   "source": [
    "train_df.propertylandusetypeid.isnull().sum()"
   ]
  },
  {
   "cell_type": "code",
   "execution_count": 79,
   "metadata": {},
   "outputs": [
    {
     "data": {
      "text/plain": [
       "count    90275.000000\n",
       "mean       261.832179\n",
       "std          5.182901\n",
       "min         31.000000\n",
       "25%        261.000000\n",
       "50%        261.000000\n",
       "75%        266.000000\n",
       "max        275.000000\n",
       "Name: propertylandusetypeid, dtype: float64"
      ]
     },
     "execution_count": 79,
     "metadata": {},
     "output_type": "execute_result"
    }
   ],
   "source": [
    "train_df.propertylandusetypeid.describe()"
   ]
  },
  {
   "cell_type": "code",
   "execution_count": 78,
   "metadata": {},
   "outputs": [
    {
     "data": {
      "text/plain": [
       "248.0      879\n",
       "269.0     2334\n",
       "246.0     2376\n",
       "266.0    22815\n",
       "261.0    60637\n",
       "Name: propertylandusetypeid, dtype: int64"
      ]
     },
     "execution_count": 78,
     "metadata": {},
     "output_type": "execute_result"
    }
   ],
   "source": [
    "train_df.propertylandusetypeid.value_counts().sort_values().tail()"
   ]
  },
  {
   "cell_type": "markdown",
   "metadata": {},
   "source": [
    "- 이 다음으로 다룰 두 개의 컬럼은 각각 'rawcensustractandblock' 과 'censustractandblock' 이다. \n",
    "- 주석의 내용이 같아 `비교`가 필요하다.\n",
    "- 지역의 위치 특성에 따라서 census tract를 나누고, 이에 따라서 block code를 지정한다."
   ]
  },
  {
   "cell_type": "markdown",
   "metadata": {},
   "source": [
    "#### censustractandblock : 0.67%\n",
    "- Description: ' Census tract와 블록 ID 결합 - 또한 확장에 의한 블록 그룹 할당 포함\n",
    "#### rawcensustractandblock : 0.00%\n",
    "- Description: 'Census tract와 블록 ID 결합 - 또한 확장에 의한 블록 그룹 할당 포함\n",
    "#### process \n",
    "- 해당 두 컬럼은 코드를 나타내는 것이기 때문에 string타입으로 변환하여 비교한다. 두 컬럼의 str타입을 비교해 보면 rawcensustract에서 '.' 을 없애주면 censustract와 같아지는 것을 알 수 있다. 따라서 코드의 표현 방식은 다르지만, 의미하는 지역특성과 속성은 같다고 판단된다.다만 value_count를 해보면 기제된 코드의 종류가 rawcensustract code가 약 250개 정도 많다. 따라서 missing_value가 없는 rawcensus를 채택하고, censustractandblock column은 `delete`"
   ]
  },
  {
   "cell_type": "code",
   "execution_count": 97,
   "metadata": {},
   "outputs": [
    {
     "name": "stdout",
     "output_type": "stream",
     "text": [
      "census null cnt: 605\n",
      "rawcensus null cnt: 0\n"
     ]
    }
   ],
   "source": [
    "print('census null cnt: {}'.format(train_df.censustractandblock.isnull().sum())),\n",
    "print('rawcensus null cnt: {}'.format(train_df.rawcensustractandblock.isnull().sum()))"
   ]
  },
  {
   "cell_type": "code",
   "execution_count": 65,
   "metadata": {},
   "outputs": [
    {
     "data": {
      "text/plain": [
       "90270    60371317011005.0\n",
       "90271    60373008002017.0\n",
       "90272    60374327001008.0\n",
       "90273    60376014013000.0\n",
       "90274    60375440011011.0\n",
       "Name: censustractandblock, dtype: object"
      ]
     },
     "execution_count": 65,
     "metadata": {},
     "output_type": "execute_result"
    }
   ],
   "source": [
    "train_df.censustractandblock.astype('str').tail()"
   ]
  },
  {
   "cell_type": "code",
   "execution_count": 66,
   "metadata": {},
   "outputs": [
    {
     "data": {
      "text/plain": [
       "90270    60371317.01100501\n",
       "90271    60373008.00201701\n",
       "90272      60374327.001008\n",
       "90273         60376014.013\n",
       "90274      60375440.011011\n",
       "Name: rawcensustractandblock, dtype: object"
      ]
     },
     "execution_count": 66,
     "metadata": {},
     "output_type": "execute_result"
    }
   ],
   "source": [
    "train_df.rawcensustractandblock.astype('str').tail()"
   ]
  },
  {
   "cell_type": "code",
   "execution_count": 108,
   "metadata": {},
   "outputs": [
    {
     "name": "stdout",
     "output_type": "stream",
     "text": [
      "42398\n",
      "42647\n"
     ]
    }
   ],
   "source": [
    "print(len(train_df.censustractandblock.value_counts()),end='\\n'),\n",
    "print(len(train_df.rawcensustractandblock.value_counts()))"
   ]
  },
  {
   "cell_type": "markdown",
   "metadata": {},
   "source": [
    "- 위도를 나타내는 latitude와 경도를 나타내는 longtitude 컬럼 또한 pair하게 묶어서 분석한다.\n",
    "- 두 컬럼 모두 10e6을 곱해주어 scaling process도 이미 되어 있다."
   ]
  },
  {
   "cell_type": "markdown",
   "metadata": {},
   "source": [
    "#### longtitude : 0.00%\n",
    "- Description : 소포 중도 경도에 10e6을 곱한  \n",
    "#### latitude : 0.00%\n",
    "- Description : 소포 중도 위도에 10e6을 곱한 값\n",
    "#### Process :  \n",
    "- missing_value가 없으므로, 별다른 process는 필요하지 않다. "
   ]
  },
  {
   "cell_type": "code",
   "execution_count": 50,
   "metadata": {},
   "outputs": [
    {
     "name": "stdout",
     "output_type": "stream",
     "text": [
      "census null cnt: 0\n",
      "rawcensus null cnt: 0\n"
     ]
    }
   ],
   "source": [
    "print('longtitude null cnt: {}'.format(train_df.longitude.isnull().sum())),\n",
    "print('latitude null cnt: {}'.format(train_df.latitude.isnull().sum()))"
   ]
  },
  {
   "cell_type": "code",
   "execution_count": 51,
   "metadata": {},
   "outputs": [
    {
     "name": "stdout",
     "output_type": "stream",
     "text": [
      "count    9.027500e+04\n",
      "mean    -1.181989e+08\n",
      "std      3.606032e+05\n",
      "min     -1.194479e+08\n",
      "25%     -1.184117e+08\n",
      "50%     -1.181734e+08\n",
      "75%     -1.179216e+08\n",
      "max     -1.175549e+08\n",
      "Name: longitude, dtype: float64\n",
      "\n",
      "\n",
      "count    9.027500e+04\n",
      "mean     3.400541e+07\n",
      "std      2.649654e+05\n",
      "min      3.333930e+07\n",
      "25%      3.381154e+07\n",
      "50%      3.402150e+07\n",
      "75%      3.417274e+07\n",
      "max      3.481601e+07\n",
      "Name: latitude, dtype: float64\n"
     ]
    }
   ],
   "source": [
    "print((train_df.longitude.describe()),end='\\n\\n\\n'),\n",
    "print((train_df.latitude.describe()))"
   ]
  },
  {
   "cell_type": "code",
   "execution_count": 52,
   "metadata": {},
   "outputs": [
    {
     "name": "stdout",
     "output_type": "stream",
     "text": [
      "-118466000.0    63\n",
      "-118390000.0    70\n",
      "-118383000.0    71\n",
      "-118389000.0    76\n",
      "-118445000.0    82\n",
      "Name: longitude, dtype: int64\n",
      "\n",
      "\n",
      "33667397.0    31\n",
      "33785200.0    34\n",
      "33578836.0    34\n",
      "33665651.0    41\n",
      "33984600.0    67\n",
      "Name: latitude, dtype: int64\n"
     ]
    }
   ],
   "source": [
    "print(train_df.longitude.value_counts().sort_values().tail(),end='\\n\\n\\n'),\n",
    "print(train_df.latitude.value_counts().sort_values().tail())"
   ]
  },
  {
   "cell_type": "code",
   "execution_count": 53,
   "metadata": {},
   "outputs": [
    {
     "name": "stdout",
     "output_type": "stream",
     "text": [
      "71900\n",
      "73312\n"
     ]
    }
   ],
   "source": [
    "print(len(train_df.longitude.value_counts()),end='\\n'),\n",
    "print(len(train_df.latitude.value_counts()))"
   ]
  },
  {
   "cell_type": "code",
   "execution_count": null,
   "metadata": {},
   "outputs": [],
   "source": [
    "sns.countplot(longitude,data=train_df)\n",
    "sns.countplot(latitude,data=train_df)\n",
    "plt.show()"
   ]
  },
  {
   "cell_type": "markdown",
   "metadata": {},
   "source": [
    "#### regionidcounty\t : 0.00%\n",
    "- Description : 해당 부동산이 위치하는 카운티(county:Second-level administrative division)\n",
    "- Process : missing_value가 없기 때문에 처리해야 할 프로세스는 없지만, 통계치를 보게 되면, 3 가지 값으로 나뉘게 된다. fips에서 처리하는 지역의 county fips code이다. 이를 통해 zillow 에서 조사한 지역이 세 곳이며, 세 지역에 대해서 골고루 조사가 된 것은 아닌 것을 알 수 있다. 또한, 지역이 나뉘므로 이에 따른 logerror와의 상관성을 분석해볼 수 있다."
   ]
  },
  {
   "cell_type": "code",
   "execution_count": 23,
   "metadata": {},
   "outputs": [
    {
     "data": {
      "text/plain": [
       "count    90275.000000\n",
       "mean      2525.420770\n",
       "std        805.694842\n",
       "min       1286.000000\n",
       "25%       1286.000000\n",
       "50%       3101.000000\n",
       "75%       3101.000000\n",
       "max       3101.000000\n",
       "Name: regionidcounty, dtype: float64"
      ]
     },
     "execution_count": 23,
     "metadata": {},
     "output_type": "execute_result"
    }
   ],
   "source": [
    "train_df.regionidcounty.describe()"
   ]
  },
  {
   "cell_type": "code",
   "execution_count": 24,
   "metadata": {},
   "outputs": [
    {
     "data": {
      "text/plain": [
       "2061.0     7196\n",
       "1286.0    24505\n",
       "3101.0    58574\n",
       "Name: regionidcounty, dtype: int64"
      ]
     },
     "execution_count": 24,
     "metadata": {},
     "output_type": "execute_result"
    }
   ],
   "source": [
    "train_df.regionidcounty.value_counts().sort_values().tail()"
   ]
  },
  {
   "cell_type": "code",
   "execution_count": 25,
   "metadata": {},
   "outputs": [
    {
     "data": {
      "text/plain": [
       "3"
      ]
     },
     "execution_count": 25,
     "metadata": {},
     "output_type": "execute_result"
    }
   ],
   "source": [
    "len(train_df.regionidcounty.value_counts())"
   ]
  },
  {
   "cell_type": "markdown",
   "metadata": {},
   "source": [
    "#### fips : 0.00%\n",
    "- Description : 연방 정보 처리 규정(연방에서 해당 지역을 어떻게 정보 처리하는지에 대한 것)\n",
    "- Process : missing_value가 없기 때문에 처리해야 할 프로세스는 없지만, 통계치를 보게 되면, 3 가지 값으로 나뉘게 된다. fips에서 처리하는 지역의 county fips code이다. 이를 통해 zillow 에서 조사한 지역이 세 곳이며, 세 지역에 대해서 골고루 조사가 된 것은 아닌 것을 알 수 있다. 또한, 지역이 나뉘므로 이에 따른 logerror와의 상관성을 분석해볼 수 있다."
   ]
  },
  {
   "cell_type": "code",
   "execution_count": 26,
   "metadata": {},
   "outputs": [
    {
     "data": {
      "text/plain": [
       "count    90275.000000\n",
       "mean      6048.870551\n",
       "std         20.663461\n",
       "min       6037.000000\n",
       "25%       6037.000000\n",
       "50%       6037.000000\n",
       "75%       6059.000000\n",
       "max       6111.000000\n",
       "Name: fips, dtype: float64"
      ]
     },
     "execution_count": 26,
     "metadata": {},
     "output_type": "execute_result"
    }
   ],
   "source": [
    "train_df.fips.describe()"
   ]
  },
  {
   "cell_type": "code",
   "execution_count": 27,
   "metadata": {},
   "outputs": [
    {
     "data": {
      "text/plain": [
       "6111.0     7196\n",
       "6059.0    24505\n",
       "6037.0    58574\n",
       "Name: fips, dtype: int64"
      ]
     },
     "execution_count": 27,
     "metadata": {},
     "output_type": "execute_result"
    }
   ],
   "source": [
    "train_df.fips.value_counts().sort_values().tail()"
   ]
  },
  {
   "cell_type": "code",
   "execution_count": 28,
   "metadata": {},
   "outputs": [
    {
     "data": {
      "text/plain": [
       "3"
      ]
     },
     "execution_count": 28,
     "metadata": {},
     "output_type": "execute_result"
    }
   ],
   "source": [
    "len(train_df.fips.value_counts())"
   ]
  },
  {
   "cell_type": "markdown",
   "metadata": {},
   "source": [
    "#### propertycountylandusecode : 0.00%\n",
    "- Description :county land use code는 어떻게 지역이 개발되고 사용될지에 대한 규제이다.\n",
    "- Process : missing_value가 없으므로 별다른 process는 필요하지 않다. 겹치는 county land use code 값을 가지는 건물이 있으므로 이는, 근접한 건물들이 많다는 것을 의미한다."
   ]
  },
  {
   "cell_type": "code",
   "execution_count": 29,
   "metadata": {},
   "outputs": [
    {
     "data": {
      "text/plain": [
       "count     90274\n",
       "unique       77\n",
       "top        0100\n",
       "freq      30846\n",
       "Name: propertycountylandusecode, dtype: object"
      ]
     },
     "execution_count": 29,
     "metadata": {},
     "output_type": "execute_result"
    }
   ],
   "source": [
    "train_df.propertycountylandusecode.describe()"
   ]
  },
  {
   "cell_type": "code",
   "execution_count": 83,
   "metadata": {
    "scrolled": true
   },
   "outputs": [
    {
     "data": {
      "text/plain": [
       "34       5946\n",
       "0101     7435\n",
       "010C    10264\n",
       "122     15383\n",
       "0100    30846\n",
       "Name: propertycountylandusecode, dtype: int64"
      ]
     },
     "execution_count": 83,
     "metadata": {},
     "output_type": "execute_result"
    }
   ],
   "source": [
    "train_df.propertycountylandusecode.value_counts().sort_values().tail()"
   ]
  },
  {
   "cell_type": "code",
   "execution_count": 31,
   "metadata": {},
   "outputs": [
    {
     "data": {
      "text/plain": [
       "77"
      ]
     },
     "execution_count": 31,
     "metadata": {},
     "output_type": "execute_result"
    }
   ],
   "source": [
    "len(train_df.propertycountylandusecode.value_counts())"
   ]
  },
  {
   "cell_type": "markdown",
   "metadata": {},
   "source": [
    "#### regionzip : 0.0388%\n",
    "- Description :  해당 부동산이 위치한 우편 번호\n",
    "- Process : 통계치를 보게 되면, 도시를 코드로 나타내었다. postal code(우편 번호)로 나타낸 것이다. missing_value는 매우 낮은 수준임으로 mode값으로 NaN 값을 채워준다."
   ]
  },
  {
   "cell_type": "code",
   "execution_count": 78,
   "metadata": {},
   "outputs": [],
   "source": [
    "train_df.regionidzip = train_df.regionidzip.fillna(train_df.regionidzip.mode()[0])"
   ]
  },
  {
   "cell_type": "code",
   "execution_count": 47,
   "metadata": {
    "scrolled": false
   },
   "outputs": [
    {
     "data": {
      "text/plain": [
       "count     90240.000000\n",
       "mean      96586.131184\n",
       "std        3661.339094\n",
       "min       95982.000000\n",
       "25%       96193.000000\n",
       "50%       96393.000000\n",
       "75%       96987.000000\n",
       "max      399675.000000\n",
       "Name: regionidzip, dtype: float64"
      ]
     },
     "execution_count": 47,
     "metadata": {},
     "output_type": "execute_result"
    }
   ],
   "source": [
    "train_df.regionidzip.describe()"
   ]
  },
  {
   "cell_type": "code",
   "execution_count": 48,
   "metadata": {},
   "outputs": [
    {
     "data": {
      "text/plain": [
       "97318.0    726\n",
       "97329.0    760\n",
       "96974.0    824\n",
       "96987.0    902\n",
       "97319.0    912\n",
       "Name: regionidzip, dtype: int64"
      ]
     },
     "execution_count": 48,
     "metadata": {},
     "output_type": "execute_result"
    }
   ],
   "source": [
    "train_df.regionidzip.value_counts().sort_values().tail()"
   ]
  },
  {
   "cell_type": "code",
   "execution_count": 49,
   "metadata": {},
   "outputs": [
    {
     "data": {
      "text/plain": [
       "388"
      ]
     },
     "execution_count": 49,
     "metadata": {},
     "output_type": "execute_result"
    }
   ],
   "source": [
    "len(train_df.regionidzip.value_counts())"
   ]
  },
  {
   "cell_type": "markdown",
   "metadata": {},
   "source": [
    "#### regionidcity : 1.99%\n",
    "- Description :  해당 건물이 있는 도시 (있는 경우)\n",
    "- Process : 통계치를 보게 되면, 도시를 코드로 나타내었다. zip code(우편 번호)로 나타낸 것이다. missing_value는 2%로 낮은 수준임으로 mode값으로 NaN값을 채워준다."
   ]
  },
  {
   "cell_type": "code",
   "execution_count": 77,
   "metadata": {},
   "outputs": [],
   "source": [
    "train_df.regionidcity = train_df.regionidcity.fillna(train_df.regionidcity.mode()[0])"
   ]
  },
  {
   "cell_type": "code",
   "execution_count": 34,
   "metadata": {
    "scrolled": true
   },
   "outputs": [
    {
     "data": {
      "text/plain": [
       "count     88472.000000\n",
       "mean      33761.332851\n",
       "std       46672.393863\n",
       "min        3491.000000\n",
       "25%       12447.000000\n",
       "50%       25218.000000\n",
       "75%       45457.000000\n",
       "max      396556.000000\n",
       "Name: regionidcity, dtype: float64"
      ]
     },
     "execution_count": 34,
     "metadata": {},
     "output_type": "execute_result"
    }
   ],
   "source": [
    "train_df.regionidcity.describe()"
   ]
  },
  {
   "cell_type": "code",
   "execution_count": 35,
   "metadata": {},
   "outputs": [
    {
     "data": {
      "text/plain": [
       "5534.0      2035\n",
       "54311.0     2128\n",
       "52650.0     2132\n",
       "46298.0     3000\n",
       "12447.0    20559\n",
       "Name: regionidcity, dtype: int64"
      ]
     },
     "execution_count": 35,
     "metadata": {},
     "output_type": "execute_result"
    }
   ],
   "source": [
    "train_df.regionidcity.value_counts().sort_values().tail()"
   ]
  },
  {
   "cell_type": "code",
   "execution_count": 36,
   "metadata": {},
   "outputs": [
    {
     "data": {
      "text/plain": [
       "177"
      ]
     },
     "execution_count": 36,
     "metadata": {},
     "output_type": "execute_result"
    }
   ],
   "source": [
    "len(train_df.regionidcity.value_counts())"
   ]
  },
  {
   "cell_type": "markdown",
   "metadata": {},
   "source": [
    "### postal code vs zip code\n",
    "- postal code : 우편물에 부착된 바코드(Barcode)를 의미한다.\n",
    "- zip code : 일반적인 우편 번호를 의미한다.\n",
    "- 두 코드 모두 우편번호를 의미하기 때문에, regionidcity , regionidzip 두 컬럼 사이의 상관관계를 분석해볼 필요가 있다."
   ]
  },
  {
   "cell_type": "markdown",
   "metadata": {},
   "source": [
    "#### propertyzoningdesc :35.40%\n",
    "- Description :  해당 부동산에 대해 허용 된 토지 용도 (구역 설정)에 대한 설명\n",
    "- Process : Zoning은 지역의 속성(위치,용도)에 따라서 구분해놓은 것으로 이에 따른 description이 담겨 있는 컬럼이다. missing_value는 이에 대한 자료가 누락된 것으로 None값을 채워넣는다."
   ]
  },
  {
   "cell_type": "code",
   "execution_count": 80,
   "metadata": {},
   "outputs": [],
   "source": [
    "train_df.propertyzoningdesc = train_df.propertyzoningdesc.fillna('None')"
   ]
  },
  {
   "cell_type": "code",
   "execution_count": 37,
   "metadata": {
    "scrolled": true
   },
   "outputs": [
    {
     "data": {
      "text/plain": [
       "count     58313\n",
       "unique     1996\n",
       "top        LAR1\n",
       "freq       7678\n",
       "Name: propertyzoningdesc, dtype: object"
      ]
     },
     "execution_count": 37,
     "metadata": {},
     "output_type": "execute_result"
    }
   ],
   "source": [
    "train_df.propertyzoningdesc.describe()"
   ]
  },
  {
   "cell_type": "code",
   "execution_count": 38,
   "metadata": {},
   "outputs": [
    {
     "data": {
      "text/plain": [
       "LARD1.5    1305\n",
       "LBR1N      1459\n",
       "LARS       1503\n",
       "LAR3       2801\n",
       "LAR1       7678\n",
       "Name: propertyzoningdesc, dtype: int64"
      ]
     },
     "execution_count": 38,
     "metadata": {},
     "output_type": "execute_result"
    }
   ],
   "source": [
    "train_df.propertyzoningdesc.value_counts().sort_values().tail()"
   ]
  },
  {
   "cell_type": "code",
   "execution_count": 39,
   "metadata": {},
   "outputs": [
    {
     "data": {
      "text/plain": [
       "1996"
      ]
     },
     "execution_count": 39,
     "metadata": {},
     "output_type": "execute_result"
    }
   ],
   "source": [
    "len(train_df.propertyzoningdesc.value_counts())"
   ]
  },
  {
   "cell_type": "markdown",
   "metadata": {},
   "source": [
    "#### regionneighborhood : 60.10%\n",
    "- Description : 해당 지역이 위치한 곳의 인접 이웃의 수\n",
    "- Process : 통계치를 보게 되면 이웃의 수에 대한 통계치임에도 불구하고 인접 이웃의 수가 같은 집이 많다는 것을 알 수 있다. 따라서 조사한 집의 위치가 서로 가까운 곳도 존재함을 알 수 있다. missing_value에는 mean값을 넣어준다."
   ]
  },
  {
   "cell_type": "code",
   "execution_count": 75,
   "metadata": {},
   "outputs": [],
   "source": [
    "train_df.regionidneighborhood = train_df.regionidneighborhood.fillna(np.mean(train_df.regionidneighborhood))"
   ]
  },
  {
   "cell_type": "code",
   "execution_count": 44,
   "metadata": {
    "scrolled": false
   },
   "outputs": [
    {
     "data": {
      "text/plain": [
       "count     36012.000000\n",
       "mean     190646.540237\n",
       "std      166228.910572\n",
       "min        6952.000000\n",
       "25%       46736.000000\n",
       "50%      118887.000000\n",
       "75%      274800.000000\n",
       "max      764167.000000\n",
       "Name: regionidneighborhood, dtype: float64"
      ]
     },
     "execution_count": 44,
     "metadata": {},
     "output_type": "execute_result"
    }
   ],
   "source": [
    "train_df.regionidneighborhood.describe()"
   ]
  },
  {
   "cell_type": "code",
   "execution_count": 68,
   "metadata": {},
   "outputs": [
    {
     "data": {
      "text/plain": [
       "48200.0     653\n",
       "37739.0     715\n",
       "48570.0     753\n",
       "27080.0     755\n",
       "118208.0    773\n",
       "Name: regionidneighborhood, dtype: int64"
      ]
     },
     "execution_count": 68,
     "metadata": {},
     "output_type": "execute_result"
    }
   ],
   "source": [
    "train_df.regionidneighborhood.value_counts().sort_values().tail()"
   ]
  },
  {
   "cell_type": "code",
   "execution_count": 46,
   "metadata": {
    "scrolled": true
   },
   "outputs": [
    {
     "data": {
      "text/plain": [
       "494"
      ]
     },
     "execution_count": 46,
     "metadata": {},
     "output_type": "execute_result"
    }
   ],
   "source": [
    "len(train_df.regionidneighborhood.value_counts())"
   ]
  },
  {
   "cell_type": "markdown",
   "metadata": {},
   "source": [
    "# Data Cleaning"
   ]
  },
  {
   "cell_type": "code",
   "execution_count": null,
   "metadata": {},
   "outputs": [],
   "source": [
    "deleted_col = ['calculatedbathnbr','fullbathcnt','pooltypeid2','pooltypeid10','poolsizesum','fireplaceflag']\n",
    "for deleted in deleted_col:\n",
    "    inner_feature_col.remove(deleted)\n",
    "inner_feature_col"
   ]
  },
  {
   "cell_type": "code",
   "execution_count": null,
   "metadata": {},
   "outputs": [],
   "source": [
    "train_df.drop(columns=['calculatedbathnbr','fullbathcnt','pooltypeid2','pooltypeid10','poolsizesum','fireplaceflag'],inplace=True)\n",
    "train_df.tail()"
   ]
  },
  {
   "cell_type": "code",
   "execution_count": null,
   "metadata": {},
   "outputs": [],
   "source": [
    "train_df[inner_feature_col].tail()"
   ]
  }
 ],
 "metadata": {
  "kernelspec": {
   "display_name": "Python 3",
   "language": "python",
   "name": "python3"
  },
  "language_info": {
   "codemirror_mode": {
    "name": "ipython",
    "version": 3
   },
   "file_extension": ".py",
   "mimetype": "text/x-python",
   "name": "python",
   "nbconvert_exporter": "python",
   "pygments_lexer": "ipython3",
   "version": "3.6.5"
  }
 },
 "nbformat": 4,
 "nbformat_minor": 2
}
