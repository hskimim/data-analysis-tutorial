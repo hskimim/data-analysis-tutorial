{
 "cells": [
  {
   "cell_type": "markdown",
   "metadata": {},
   "source": [
    "## Numpy practice:\n",
    "- Numpy: Calculate\n",
    "    - basic calculate\n",
    "    - braodcasting\n",
    "    - functions\n",
    "    - performance"
   ]
  },
  {
   "cell_type": "code",
   "execution_count": 1,
   "metadata": {},
   "outputs": [],
   "source": [
    "import numpy as np"
   ]
  },
  {
   "cell_type": "code",
   "execution_count": 3,
   "metadata": {},
   "outputs": [
    {
     "data": {
      "text/plain": [
       "[3, 6, 9, 12, 15]"
      ]
     },
     "execution_count": 3,
     "metadata": {},
     "output_type": "execute_result"
    }
   ],
   "source": [
    "ls=[1,2,3,4,5]\n",
    "for idx in range(len(ls)):\n",
    "    ls[idx]=ls[idx]*3\n",
    "ls\n",
    "# in list case"
   ]
  },
  {
   "cell_type": "code",
   "execution_count": 6,
   "metadata": {},
   "outputs": [
    {
     "name": "stdout",
     "output_type": "stream",
     "text": [
      "[1 2 3 4 5]\n",
      "[ 3  6  9 12 15]\n"
     ]
    }
   ],
   "source": [
    "na=np.array([1,2,3,4,5])\n",
    "print(na)\n",
    "print(na*3)\n",
    "# array case, much intuitive!"
   ]
  },
  {
   "cell_type": "code",
   "execution_count": 9,
   "metadata": {},
   "outputs": [
    {
     "name": "stdout",
     "output_type": "stream",
     "text": [
      "[ 2  6 12 20 30]\n"
     ]
    }
   ],
   "source": [
    "na1=np.array([1,2,3,4,5])\n",
    "na2=np.array([2,3,4,5,6])\n",
    "print(na1*na2)\n",
    "# mapping the component muplication"
   ]
  },
  {
   "cell_type": "code",
   "execution_count": 10,
   "metadata": {},
   "outputs": [
    {
     "data": {
      "text/plain": [
       "(array([False, False, False, False, False]),\n",
       " array([False, False, False, False,  True]))"
      ]
     },
     "execution_count": 10,
     "metadata": {},
     "output_type": "execute_result"
    }
   ],
   "source": [
    "na1==9,na2>5"
   ]
  },
  {
   "cell_type": "code",
   "execution_count": 11,
   "metadata": {},
   "outputs": [
    {
     "name": "stdout",
     "output_type": "stream",
     "text": [
      "[2 3 4 5 6]\n",
      "6\n"
     ]
    }
   ],
   "source": [
    "print(na2)\n",
    "print(na2[idx])"
   ]
  },
  {
   "cell_type": "code",
   "execution_count": 14,
   "metadata": {},
   "outputs": [
    {
     "name": "stdout",
     "output_type": "stream",
     "text": [
      "[ True False  True  True False]\n",
      "[1 3 4]\n"
     ]
    }
   ],
   "source": [
    "na1=np.array([1,2,3,4,5])\n",
    "na2=np.array([1,3,3,4,4])\n",
    "print(na1==na2)\n",
    "print(na1[na1==na2]) #extract the True value."
   ]
  },
  {
   "cell_type": "code",
   "execution_count": 16,
   "metadata": {},
   "outputs": [
    {
     "name": "stdout",
     "output_type": "stream",
     "text": [
      "False\n",
      "True\n"
     ]
    }
   ],
   "source": [
    "na1=np.array([1,2,3,4,5])\n",
    "na2=np.array([1,3,3,4,5])\n",
    "print(np.all(na1==na2))#if there is no False value, then return the True\n",
    "print(np.any(na1==na2))#if there is at least one True value, then return the True"
   ]
  },
  {
   "cell_type": "markdown",
   "metadata": {},
   "source": [
    "### functions\n",
    "- min,max,argmin,armax\n",
    "- sum,mean,median,std,var\n",
    "- all,any\n",
    "- quartile\n",
    "- exp,log"
   ]
  },
  {
   "cell_type": "code",
   "execution_count": 26,
   "metadata": {},
   "outputs": [
    {
     "name": "stdout",
     "output_type": "stream",
     "text": [
      "r_num: [[1 2 8]\n",
      " [7 5 2]]\n",
      "min:  1\n",
      "max:  8\n",
      "argmin:  0\n",
      "argmax:  2\n",
      "mean:  4.166666666666667\n",
      "sum:  25\n",
      "sum_axis_0:  [ 8  7 10]\n",
      "sum_axis_1:  [11 14]\n",
      "median:  3.5\n",
      "std:  2.6718699236468995\n",
      "var:  7.138888888888888\n"
     ]
    }
   ],
   "source": [
    "r=np.random.rand(2,3)\n",
    "r_num=(r*10).astype('int64')\n",
    "print(\"r_num:\",r_num)\n",
    "print(\"min: \",r_num.min())\n",
    "print(\"max: \",r_num.max())\n",
    "print(\"argmin: \",r_num.argmin())#the index of min value\n",
    "print(\"argmax: \",r_num.argmax())#the index of max value\n",
    "print(\"mean: \",r_num.mean())\n",
    "print(\"sum: \",np.sum(r_num))\n",
    "print(\"sum_axis_0: \",np.sum(r_num,axis=0))#sum culmulatively perspective of col\n",
    "print(\"sum_axis_1: \",np.sum(r_num,axis=1))#sum culmulatively perspective of row\n",
    "print(\"median: \",np.median(r_num))\n",
    "print(\"std: \",np.std(r_num))\n",
    "print(\"var: \",np.var(r_num))"
   ]
  },
  {
   "cell_type": "code",
   "execution_count": 28,
   "metadata": {},
   "outputs": [
    {
     "name": "stdout",
     "output_type": "stream",
     "text": [
      "[  0   1   2   3   4   5   6   7   8   9  10  11  12  13  14  15  16  17\n",
      "  18  19  20  21  22  23  24  25  26  27  28  29  30  31  32  33  34  35\n",
      "  36  37  38  39  40  41  42  43  44  45  46  47  48  49  50  51  52  53\n",
      "  54  55  56  57  58  59  60  61  62  63  64  65  66  67  68  69  70  71\n",
      "  72  73  74  75  76  77  78  79  80  81  82  83  84  85  86  87  88  89\n",
      "  90  91  92  93  94  95  96  97  98  99 100]\n"
     ]
    },
    {
     "data": {
      "text/plain": [
       "(25.0, 45.0)"
      ]
     },
     "execution_count": 28,
     "metadata": {},
     "output_type": "execute_result"
    }
   ],
   "source": [
    "# quartile\n",
    "na=np.array([num for num in range(0,100+1)])\n",
    "print(na)\n",
    "np.percentile(na,25),np.percentile(na,45)"
   ]
  },
  {
   "cell_type": "code",
   "execution_count": 31,
   "metadata": {},
   "outputs": [
    {
     "name": "stdout",
     "output_type": "stream",
     "text": [
      "[1 2 3 4 5]\n",
      "[  2.71828183   7.3890561   20.08553692  54.59815003 148.4131591 ]\n"
     ]
    }
   ],
   "source": [
    "#exponential function\n",
    "na=np.arange(1,6)\n",
    "print(na)\n",
    "print(np.exp(na))#e**1,e**2,e**3,e**4,e**5"
   ]
  },
  {
   "cell_type": "code",
   "execution_count": 33,
   "metadata": {},
   "outputs": [
    {
     "name": "stdout",
     "output_type": "stream",
     "text": [
      "[1 2 3 4 5]\n",
      "[0.         0.69314718 1.09861229 1.38629436 1.60943791]\n"
     ]
    }
   ],
   "source": [
    "# logarithm function\n",
    "na=np.arange(1,6)\n",
    "print(na)\n",
    "print(np.log(na))\n",
    "# in log function log10 is default, \n",
    "# log1,log2,log3,log4,log5 in default value."
   ]
  },
  {
   "cell_type": "code",
   "execution_count": 34,
   "metadata": {},
   "outputs": [],
   "source": [
    "ls=[]\n",
    "size=int(1E7)\n",
    "for data in range(size):\n",
    "    ls.append(data)\n",
    "na=np.array(ls)"
   ]
  },
  {
   "cell_type": "code",
   "execution_count": 35,
   "metadata": {},
   "outputs": [
    {
     "name": "stdout",
     "output_type": "stream",
     "text": [
      "4666667\n",
      "Wall time: 1.57 s\n"
     ]
    }
   ],
   "source": [
    "%%time\n",
    "count=0\n",
    "for idx in range(len(ls)):\n",
    "    if (ls[idx]%3==0) or (ls[idx]%5==0):\n",
    "        count+=1\n",
    "print(count)"
   ]
  },
  {
   "cell_type": "code",
   "execution_count": 37,
   "metadata": {},
   "outputs": [
    {
     "name": "stdout",
     "output_type": "stream",
     "text": [
      "4666667\n",
      "Wall time: 141 ms\n"
     ]
    }
   ],
   "source": [
    "%%time\n",
    "count=len(na[(na%3==0) | (na%5==0)])\n",
    "print(count)\n",
    "#list comprehension's speed is much faster! \n",
    "# And we should use performance &,| instead of and, or"
   ]
  },
  {
   "cell_type": "markdown",
   "metadata": {},
   "source": [
    "## correlation coefficient\n",
    "- Pearson correltion coefficient\n",
    "- Spearson correlation coefficient"
   ]
  },
  {
   "cell_type": "code",
   "execution_count": 44,
   "metadata": {},
   "outputs": [
    {
     "data": {
      "text/plain": [
       "array([0, 0, 1, 2, 2, 2, 4, 4, 4, 5, 6, 7, 7, 7, 7, 8, 8, 9, 9, 9])"
      ]
     },
     "execution_count": 44,
     "metadata": {},
     "output_type": "execute_result"
    }
   ],
   "source": [
    "data1=np.random.randint(10,size=20)\n",
    "data1.sort()\n",
    "data1"
   ]
  },
  {
   "cell_type": "code",
   "execution_count": 49,
   "metadata": {},
   "outputs": [
    {
     "data": {
      "text/plain": [
       "array([19, 15, 12, 11,  9,  8,  8,  8,  7,  7,  6,  6,  5,  4,  3,  2,  1,\n",
       "        0,  0,  0])"
      ]
     },
     "execution_count": 49,
     "metadata": {},
     "output_type": "execute_result"
    }
   ],
   "source": [
    "data2=np.random.randint(20,size=20)\n",
    "data2.sort()\n",
    "data2=data2[::-1]#reverse sorting\n",
    "data2#it doesn't return so, we should allocate the variable"
   ]
  },
  {
   "cell_type": "code",
   "execution_count": 54,
   "metadata": {},
   "outputs": [
    {
     "name": "stdout",
     "output_type": "stream",
     "text": [
      "[0 0 1 2 2 2 4 4 4 5 6 7 7 7 7 8 8 9 9 9]\n",
      "[19 15 12 11  9  8  8  8  7  7  6  6  5  4  3  2  1  0  0  0]\n",
      "[[ 1.         -0.94651127]\n",
      " [-0.94651127  1.        ]]\n",
      "[ 1.         -0.94651127]\n",
      "-0.9465112701524614\n"
     ]
    }
   ],
   "source": [
    "print(data1)\n",
    "print(data2)\n",
    "print(np.corrcoef(data1,data2))\n",
    "print(np.corrcoef(data1,data2)[0])\n",
    "print(np.corrcoef(data1,data2)[0][1])"
   ]
  },
  {
   "cell_type": "code",
   "execution_count": 85,
   "metadata": {},
   "outputs": [
    {
     "name": "stdout",
     "output_type": "stream",
     "text": [
      "[[ 8  8 18  1 18]\n",
      " [ 5  8 18  6  2]\n",
      " [13  4 19 16  6]\n",
      " [ 5  9  6 13  9]\n",
      " [ 4  9  2 15 15]]\n",
      "[[15  3  8 19 19]\n",
      " [16 16  6 14 11]\n",
      " [ 4  7 15 17  2]\n",
      " [13  3  6 13 16]\n",
      " [18 19 15  2  8]]\n"
     ]
    }
   ],
   "source": [
    "na1=np.random.randint(1,20,size=(5,5))\n",
    "na2=np.random.randint(1,20,size=(5,5))\n",
    "print(na1)\n",
    "print(na2)"
   ]
  },
  {
   "cell_type": "code",
   "execution_count": 86,
   "metadata": {},
   "outputs": [
    {
     "name": "stdout",
     "output_type": "stream",
     "text": [
      "[[ 1.          0.3162961  -0.06788656 -0.54656215 -0.2933633  -0.14143091\n",
      "  -0.7416202  -0.33721959 -0.02251506  0.25827275]\n",
      " [ 0.3162961   1.          0.6033713  -0.3482869  -0.69881035 -0.60281548\n",
      "  -0.67424542  0.62059734 -0.68292996  0.31966626]\n",
      " [-0.06788656  0.6033713   1.         -0.12675121 -0.42497412  0.18997184\n",
      "  -0.50528399  0.74060851  0.05282244 -0.23775869]\n",
      " [-0.54656215 -0.3482869  -0.12675121  1.          0.85919926  0.34264839\n",
      "   0.2233567   0.4070295   0.18463724 -0.79286742]\n",
      " [-0.2933633  -0.69881035 -0.42497412  0.85919926  1.          0.56651766\n",
      "   0.27462597 -0.06823485  0.50873329 -0.77246089]\n",
      " [-0.14143091 -0.60281548  0.18997184  0.34264839  0.56651766  1.\n",
      "   0.03847122 -0.0740519   0.97247816 -0.76406281]\n",
      " [-0.7416202  -0.67424542 -0.50528399  0.2233567   0.27462597  0.03847122\n",
      "   1.         -0.3641949   0.08046064  0.13765388]\n",
      " [-0.33721959  0.62059734  0.74060851  0.4070295  -0.06823485 -0.0740519\n",
      "  -0.3641949   1.         -0.29569926 -0.40420694]\n",
      " [-0.02251506 -0.68292996  0.05282244  0.18463724  0.50873329  0.97247816\n",
      "   0.08046064 -0.29569926  1.         -0.61783129]\n",
      " [ 0.25827275  0.31966626 -0.23775869 -0.79286742 -0.77246089 -0.76406281\n",
      "   0.13765388 -0.40420694 -0.61783129  1.        ]]\n",
      "(10, 10)\n"
     ]
    }
   ],
   "source": [
    "correl=np.corrcoef(na1,na2)\n",
    "print(correl)\n",
    "print(correl.shape)"
   ]
  },
  {
   "cell_type": "code",
   "execution_count": null,
   "metadata": {},
   "outputs": [],
   "source": []
  },
  {
   "cell_type": "code",
   "execution_count": null,
   "metadata": {},
   "outputs": [],
   "source": []
  },
  {
   "cell_type": "code",
   "execution_count": null,
   "metadata": {},
   "outputs": [],
   "source": []
  }
 ],
 "metadata": {
  "kernelspec": {
   "display_name": "Python 3",
   "language": "python",
   "name": "python3"
  },
  "language_info": {
   "codemirror_mode": {
    "name": "ipython",
    "version": 3
   },
   "file_extension": ".py",
   "mimetype": "text/x-python",
   "name": "python",
   "nbconvert_exporter": "python",
   "pygments_lexer": "ipython3",
   "version": "3.6.4"
  }
 },
 "nbformat": 4,
 "nbformat_minor": 2
}
