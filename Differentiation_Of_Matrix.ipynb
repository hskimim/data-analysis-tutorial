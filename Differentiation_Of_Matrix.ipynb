{
 "cells": [
  {
   "cell_type": "markdown",
   "metadata": {},
   "source": [
    "### 행렬의 미분\n",
    "- 데이터 분석에는 독립 변수나, 종속 변수에 스칼라(scalar)값뿐만 아니라 (오히려 이 경우가 더 특수하다.) 데이터 세트 즉, 함수도 행렬의 원소가 될 수 있다.\n",
    "- 이러한 행렬을 입력이나 출력으로 가지는 함수를 미분하는 것을 행렬 미분이라고 하겠다."
   ]
  },
  {
   "cell_type": "markdown",
   "metadata": {},
   "source": [
    "- 행렬의 미분의 경우(case):\n",
    "    - 스칼라를 벡터로 미분\n",
    "    - 벡터를 스칼라로 미분\n",
    "    - 벡터를 벡터로 미분\n",
    "    - 스칼라를 행렬로 미분\n",
    "    - etc"
   ]
  },
  {
   "cell_type": "markdown",
   "metadata": {},
   "source": [
    "##### 스칼라를 벡터로 미분하는 경우\n",
    "- 다변수 함수 (f(x,y))\n",
    "- gradient vector\n",
    "스칼라를 벡터로 미분하는 경우에 결과를 열 벡터로 표시한다. 이렇게 만들어진 벡터를 'gradient vector'라고 한다."
   ]
  },
  {
   "cell_type": "markdown",
   "metadata": {},
   "source": [
    "- 다변수 함수를 plot으로 나타내는 경우: contour plot, surface plot\n",
    "- 다변수 함수를 미분하여 plot으로 나타내는 경우: quiver plot\n",
    "- Quiver plot: Contour plot 위에 Gradient vector를 화살표로 나타낸 것을 의미한다."
   ]
  },
  {
   "cell_type": "markdown",
   "metadata": {},
   "source": [
    "### Characteristics of Quiver plot:\n",
    "- gradient vector(아래로는 g로 하겠다.)의 방향은 함수 곡면의 기울기가 가장 큰 방향, 즉 단위 길이당 함수 값이 가장 크게 증가하는 방향을 가리킨다.\n",
    "- g의 방향은 등고선(isoline)의 방향과 Orthogonal하다.\n",
    "    - 등고선 자체의 기울기는 '0'이다. 이유는 기울기가 같은 line을 의미하는 것이 등고선이기 때문이다.(당연한 말씀이라는 이야기다.)\n",
    "- g의 크기는 기울기의 크기를 의미한다. 즉, g의 크기가 클수록 surface의 곡면의 크기가 크다."
   ]
  },
  {
   "cell_type": "markdown",
   "metadata": {},
   "source": [
    "### 연습 문제 1\n",
    "다음 함수의 Gradient vector를 구하라"
   ]
  },
  {
   "cell_type": "code",
   "execution_count": 15,
   "metadata": {},
   "outputs": [],
   "source": [
    "import numpy as np\n",
    "import matplotlib as mpl\n",
    "import matplotlib.pyplot as plt\n",
    "import scipy as sp\n",
    "import sympy \n",
    "sympy.init_printing(use_latex='mathjax')"
   ]
  },
  {
   "cell_type": "code",
   "execution_count": 11,
   "metadata": {},
   "outputs": [],
   "source": [
    "x,y,z=sympy.symbols('x y z')"
   ]
  },
  {
   "cell_type": "code",
   "execution_count": 14,
   "metadata": {},
   "outputs": [
    {
     "data": {
      "text/latex": [
       "$$x y z$$"
      ],
      "text/plain": [
       "x⋅y⋅z"
      ]
     },
     "execution_count": 14,
     "metadata": {},
     "output_type": "execute_result"
    }
   ],
   "source": [
    "f_1=x+y+z\n",
    "f_1\n",
    "f_2=x*y*z\n",
    "f_2"
   ]
  },
  {
   "cell_type": "code",
   "execution_count": 17,
   "metadata": {},
   "outputs": [
    {
     "data": {
      "text/plain": [
       "array([1, 1, 1], dtype=object)"
      ]
     },
     "execution_count": 17,
     "metadata": {},
     "output_type": "execute_result"
    }
   ],
   "source": [
    "f_1x=sympy.diff(f_1,x)\n",
    "f_1y=sympy.diff(f_1,y)\n",
    "f_1z=sympy.diff(f_1,z)\n",
    "f_1gradient=np.array([f_1x,f_1y,f_1z])\n",
    "f_1gradient"
   ]
  },
  {
   "cell_type": "code",
   "execution_count": 18,
   "metadata": {},
   "outputs": [
    {
     "data": {
      "text/plain": [
       "array([y*z, x*z, x*y], dtype=object)"
      ]
     },
     "execution_count": 18,
     "metadata": {},
     "output_type": "execute_result"
    }
   ],
   "source": [
    "f_2x=sympy.diff(f_2,x)\n",
    "f_2y=sympy.diff(f_2,y)\n",
    "f_2z=sympy.diff(f_2,z)\n",
    "f_2gradient=np.array([f_2x,f_2y,f_2z])\n",
    "f_2gradient"
   ]
  },
  {
   "cell_type": "markdown",
   "metadata": {},
   "source": [
    "## 행렬 미분 법칙\n",
    "- 행렬 미분 법칙은 크게 총 4가지가 있다. 그 중 1,2번째 법칙은 다변수 함수를 미분하여 gradient vector를 구할 때 유용하게 쓰이는 법칙들이다."
   ]
  },
  {
   "cell_type": "markdown",
   "metadata": {},
   "source": [
    "벡터 미분 규칙 1 : 선형 모형 (linear system)\n",
    "- 선형 모형을 미분하면 가중치 벡터가 된다.\n",
    "    - sympy.diff(np.dot(w.T,x),x)=w\n",
    "    - w는 가중치 벡터, x는 벡터 즉,np.dot(w.T,x)는 linear system\n",
    "- 아래에 증명을 해보겠습니다~!!"
   ]
  },
  {
   "cell_type": "code",
   "execution_count": 23,
   "metadata": {},
   "outputs": [],
   "source": [
    "x,y,z=sympy.symbols('x y z')"
   ]
  },
  {
   "cell_type": "code",
   "execution_count": 26,
   "metadata": {},
   "outputs": [
    {
     "data": {
      "text/latex": [
       "$$2 x + 3 y + 4 z$$"
      ],
      "text/plain": [
       "2⋅x + 3⋅y + 4⋅z"
      ]
     },
     "execution_count": 26,
     "metadata": {},
     "output_type": "execute_result"
    }
   ],
   "source": [
    "w=np.array([2,3,4])\n",
    "X=np.array([x,y,z])\n",
    "f_1=np.dot(w.T,X)\n",
    "f_1"
   ]
  },
  {
   "cell_type": "code",
   "execution_count": 27,
   "metadata": {},
   "outputs": [
    {
     "data": {
      "text/plain": [
       "array([2, 3, 4], dtype=object)"
      ]
     },
     "execution_count": 27,
     "metadata": {},
     "output_type": "execute_result"
    }
   ],
   "source": [
    "f_1x=sympy.diff(f_1,x)\n",
    "f_1y=sympy.diff(f_1,y)\n",
    "f_1z=sympy.diff(f_1,z)\n",
    "f_1g=np.array([f_1x,f_1y,f_1z])\n",
    "f_1g # proof is over!"
   ]
  },
  {
   "cell_type": "markdown",
   "metadata": {},
   "source": [
    "### 벡터 미분 규칙 2: 이차 형식\n",
    "- 이차 형식을 미분하면 행렬과 벡터의 곱으로 나타난다.\n",
    "- sympy.diff(np.dot(x.T,A,x),x)=np.dot((A+A.T),x)\n",
    "- 아래에 증명을 해보겠습니다!!"
   ]
  },
  {
   "cell_type": "code",
   "execution_count": 36,
   "metadata": {},
   "outputs": [
    {
     "data": {
      "text/plain": [
       "array([x, y, z], dtype=object)"
      ]
     },
     "execution_count": 36,
     "metadata": {},
     "output_type": "execute_result"
    }
   ],
   "source": [
    "X=np.array([x,y,z])\n",
    "A=np.array([[1,2,3],[4,5,6],[8,9,1]])"
   ]
  },
  {
   "cell_type": "code",
   "execution_count": 48,
   "metadata": {},
   "outputs": [
    {
     "data": {
      "text/latex": [
       "$$\\left ( 2 x + 6 y + 11 z, \\quad 6 x + 10 y + 15 z, \\quad 11 x + 15 y + 2 z\\right )$$"
      ],
      "text/plain": [
       "(2⋅x + 6⋅y + 11⋅z, 6⋅x + 10⋅y + 15⋅z, 11⋅x + 15⋅y + 2⋅z)"
      ]
     },
     "execution_count": 48,
     "metadata": {},
     "output_type": "execute_result"
    }
   ],
   "source": [
    "result=np.dot(np.dot(X.T,A),X)\n",
    "r1=sympy.diff(result,x)\n",
    "r2=sympy.diff(result,y)\n",
    "r3=sympy.diff(result,z)\n",
    "r1,r2,r3"
   ]
  },
  {
   "cell_type": "code",
   "execution_count": 50,
   "metadata": {},
   "outputs": [
    {
     "data": {
      "text/plain": [
       "array([2*x + 6*y + 11*z, 6*x + 10*y + 15*z, 11*x + 15*y + 2*z],\n",
       "      dtype=object)"
      ]
     },
     "execution_count": 50,
     "metadata": {},
     "output_type": "execute_result"
    }
   ],
   "source": [
    "np.dot((A+A.T),X)\n",
    "#Proof is over!"
   ]
  },
  {
   "cell_type": "markdown",
   "metadata": {},
   "source": [
    "### 벡터를 스칼라로 미분하는 경우\n",
    "- 위의 경우와는 반대로 종속 변수가 (다차원)벡터이고, 독립 변수가 스칼라인 경우는 그냥 함수가 여러개라고 생각하면 된다.\n",
    "    -- ex) y1=f1(x), y2=f2(x), y3=f3(x)...\n",
    "- 벡터를 스칼라로 미분하는 경우에는 결과를 '행' 벡터로 표시한다."
   ]
  },
  {
   "cell_type": "markdown",
   "metadata": {},
   "source": [
    "### 벡터를 벡터로 미분하는 경우\n",
    "- 함수의 종속 변수와 독립 변수가 모두 (다차원)벡터 데이터인 경우\n",
    "- 독립변수 * 종속변수의 경우의 수의 미분 경우의 수가 존재한다.\n",
    "- 도함수의 형태 : Matrix --> Jacobian matrix\n",
    "    - gradient vector의 transpose한 형태\n",
    "    - gradient vector.T의 수: 종속 변수의 갯수\n",
    "    - \n",
    "- `np.array([gradient1.T, gradient2.T, gradient3.T,...grandientN.T])`"
   ]
  },
  {
   "cell_type": "markdown",
   "metadata": {},
   "source": [
    "### 다변수 함수의 2차 도함수(Hessian matrix)\n",
    "- gradient vector를 독립 변수 벡터로 미분한 것\n",
    "- gradient vector form을 위의 야코비안처럼 transpose하지 않고 그대로 column vector의 form을 유지한 채, 다변수 함수의 미분을 적용해주면 됩니다!! (말을 잘 못하죠?! 예시를 봅시다!)\n",
    "- N=2일 경우 example!\n",
    "\n",
    "`Hessian_example=np.array([\n",
    "            [sympy.diff(f,x_1,x_1),sympy.diff(f,x_1,x_2),sympy.diff(f,x_2,x_2)],\n",
    "            [sympy.diff(f,x_2,x_1),sympy.diff(f,x_2,x_2),sympy.diff(f,x_2,x_3)],\n",
    "            [sympy.diff(f,x_3,x_1),sympy.diff(f,x_3,x_2),sympy.diff(f,x_3,x_3)]'\n",
    "            ])`\n",
    "- 간단히 설명하면 matrix의 index에 따라서 2차 미분을 해주면 된다고 생각하면 됩니다~!!"
   ]
  },
  {
   "cell_type": "markdown",
   "metadata": {},
   "source": [
    "### 행렬 미분 규칙 3 : 행렬 곱의 대각성분\n",
    "- 두 square matrix를 곱해서 만들어진 trace는 스칼라입니다. 이 스칼라를 곱셈의 뒤 행렬로 미분하면 앞의 행렬의 전치 행렬이 나옵니다.(뭔...)\n",
    "- sympy.diff(np.trace(np.dot(B.T,A)),A)=B.T\n",
    "- 아래의 증명을 한 번 볼까요?!"
   ]
  },
  {
   "cell_type": "markdown",
   "metadata": {},
   "source": [
    "`A=np.array([[a,b],[z,k]])`\n",
    "`B=np.array([[x,y],[i,j]])`\n",
    "`np.dot(B.T,A)=array([[ax+bz],[ay+bk]],[[cx+dz],[cy+dk]])`\n",
    "`trace=ax+bz+cy+dk`\n",
    "`sympy.diff(trace,A)=array([[x,z],[y,k])=B.T`"
   ]
  },
  {
   "cell_type": "markdown",
   "metadata": {},
   "source": [
    "tr(np.dot(B.T,A))=sigma i to N , sigma i to N (b_ji,a_ij)\n",
    "sympy.diff(np.trace(np.dot(B.T,A)),a_ij)=b_ji=B.T"
   ]
  },
  {
   "cell_type": "markdown",
   "metadata": {},
   "source": [
    "### 행렬 미분 규칙 4 : 행렬식의 로그\n",
    "- determinant는 scalar이고, 이 값의 log도 scalar이다. 이 값을 원래의 행렬로 미분하면 원래 행렬의 inverse의 tranpose가 된다.(뭐여)\n",
    "- `sympy.diff(np.log(np.det(A)),A)=np.transpose(np.inv(A))`\n",
    "- 한 스텝씩 해봅시다!!"
   ]
  },
  {
   "cell_type": "markdown",
   "metadata": {},
   "source": [
    "logarithmic function을 미분하면?\n",
    "sympy.diff(log(f(x)))=sympy.diff(f,x)/f 가 됩니다. 쉽게 말하면 log n의 미분은 n^/n입니다!!"
   ]
  },
  {
   "cell_type": "markdown",
   "metadata": {},
   "source": [
    "- 또한, determinant 대해서 알아보면, Cofactor expansion 이 기억나실지 잘 모르겠지만,`det(A)=a_1i*C_1i+a_2i*C_2i+...+a_in*C_in`\n",
    "\n",
    "- 따라서, `sympy.diff(det(A),A)=C` 이게 뽀인트입니다! determinant를 해당 행렬로 편미분하면 그 행렬의 코팩터가 됩니다!!\n",
    "\n",
    "- inverse matrix decomposition: `np.inv(A)=1/np.dot(np.det(A) , Cofactor.T)`\n",
    "- Therefore the equation about Cofactor `C=np.dot(np.det(A),np.inv(A).T)`"
   ]
  },
  {
   "cell_type": "markdown",
   "metadata": {},
   "source": [
    "여태까지 나온 세 가지 공식을 짬뽕해보면,\n",
    "- `sympy.diff(np.det(A),A)= Cofactor = np.dot(np.det(A),np.inv(A).T)`\n",
    "- `sympy.diff(np.log(np.det(A)),A)=np.dot(np.det(A),np.inv(A).T)/np.det(A) = np.inv(A).T`\n",
    "\n",
    "- 죄송합니다... 설명을 잘 못해요...그래도 위의 세 가지 공식을 알고 step 별로 밟아나가면 해낼 수 있습니다!!"
   ]
  }
 ],
 "metadata": {
  "kernelspec": {
   "display_name": "Python 3",
   "language": "python",
   "name": "python3"
  },
  "language_info": {
   "codemirror_mode": {
    "name": "ipython",
    "version": 3
   },
   "file_extension": ".py",
   "mimetype": "text/x-python",
   "name": "python",
   "nbconvert_exporter": "python",
   "pygments_lexer": "ipython3",
   "version": "3.6.4"
  }
 },
 "nbformat": 4,
 "nbformat_minor": 2
}
