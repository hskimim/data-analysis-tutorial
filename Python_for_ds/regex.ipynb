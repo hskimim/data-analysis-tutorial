{
 "cells": [
  {
   "cell_type": "markdown",
   "metadata": {},
   "source": [
    "#### 정규표현식 - regex\n",
    "- 문자열을 처리할 때 특정 패턴으로 문자열을 처리하는 방법입니다.\n",
    "\n",
    "- 정규표현식 함수\n",
    "    - match : 문자열의 가장 앞에서 일치하는 패턴 찾기\n",
    "    - search : 문자열에서 가장 첫 번째로 일치하는 패턴 찾기\n",
    "    - findall : 일치하는 패턴을 모두 찾기\n",
    "    - split : 문자열을 특정 패턴으로 나누기\n",
    "    - sub : 특정 패턴에 맞는 문자열을 대체\n",
    "    \n",
    "- Pattern\n",
    "    - 중고나라 예시)\n",
    "    - 01o일이삼3구칠82 -> (정규표현 식 패턴 + sub ) -> 01012339782"
   ]
  },
  {
   "cell_type": "code",
   "execution_count": 3,
   "metadata": {},
   "outputs": [],
   "source": [
    "import re\n",
    "s= \"fast campus datascience fighting. datascience fighting. fast campus fighting\""
   ]
  },
  {
   "cell_type": "markdown",
   "metadata": {},
   "source": [
    "####  1. match"
   ]
  },
  {
   "cell_type": "code",
   "execution_count": 6,
   "metadata": {},
   "outputs": [
    {
     "name": "stdout",
     "output_type": "stream",
     "text": [
      "result1:  <_sre.SRE_Match object; span=(0, 4), match='fast'>\n",
      "result2:  None\n"
     ]
    }
   ],
   "source": [
    "# 가장 앞에서부터 일치하는 패턴 찾기\n",
    "result1=re.match('fast',s) #(패턴, 문자열)\n",
    "result2=re.match('campus',s)#(패턴, 문자열)\n",
    "print(\"result1: \",result1)\n",
    "print(\"result2: \",result2)"
   ]
  },
  {
   "cell_type": "markdown",
   "metadata": {},
   "source": [
    "#### 2. search"
   ]
  },
  {
   "cell_type": "code",
   "execution_count": 7,
   "metadata": {},
   "outputs": [
    {
     "name": "stdout",
     "output_type": "stream",
     "text": [
      "result1:  <_sre.SRE_Match object; span=(0, 4), match='fast'>\n",
      "result2:  <_sre.SRE_Match object; span=(5, 11), match='campus'>\n"
     ]
    }
   ],
   "source": [
    "#문자열에서 가장 첫 번째로 일치하는 패턴 찾기\n",
    "result1=re.search('fast',s) #(패턴, 문자열)\n",
    "result2=re.search('campus',s)#(패턴, 문자열)\n",
    "print(\"result1: \",result1)\n",
    "print(\"result2: \",result2)"
   ]
  },
  {
   "cell_type": "markdown",
   "metadata": {},
   "source": [
    "#### 3. findall"
   ]
  },
  {
   "cell_type": "code",
   "execution_count": 9,
   "metadata": {},
   "outputs": [
    {
     "name": "stdout",
     "output_type": "stream",
     "text": [
      "result1:  ['fast', 'fast'] 2\n",
      "result2:  ['campus', 'campus'] 2\n"
     ]
    }
   ],
   "source": [
    "#일치하는 모든 패턴 찾기\n",
    "result1=re.findall('fast',s) #(패턴, 문자열)\n",
    "result2=re.findall('campus',s)#(패턴, 문자열)\n",
    "print(\"result1: \",result1,len(result1))\n",
    "print(\"result2: \",result2,len(result2))"
   ]
  },
  {
   "cell_type": "markdown",
   "metadata": {},
   "source": [
    "#### 4. split"
   ]
  },
  {
   "cell_type": "markdown",
   "metadata": {},
   "source": [
    "- 문자열을 특정 패턴으로 나누기\n",
    "-  패턴으로 문자열을 나눠서 리스트로 만들어 줍니다.\n",
    "- 여러가지 문자로 나누고 싶을 때, string.split(\",\",\"%\") chaining을 이용해서 여러 번 써줘야 합니다.\n",
    "- regex에서는 패턴을 이용해서 한 번만 함수를 호출해도 됩니다."
   ]
  },
  {
   "cell_type": "code",
   "execution_count": 15,
   "metadata": {},
   "outputs": [
    {
     "data": {
      "text/plain": [
       "['fast ', 'mpus data science fighting!']"
      ]
     },
     "execution_count": 15,
     "metadata": {},
     "output_type": "execute_result"
    }
   ],
   "source": [
    "s1='fast campus data science fighting!'\n",
    "result = re.split('ca',s1)#(패턴,문자열)\n",
    "result #지금은 문자열을 넣어서 sting.split과 같지만, 패턴을 넣으면 다르다!"
   ]
  },
  {
   "cell_type": "markdown",
   "metadata": {},
   "source": [
    "#### 5. sub"
   ]
  },
  {
   "cell_type": "code",
   "execution_count": 17,
   "metadata": {},
   "outputs": [
    {
     "data": {
      "text/plain": [
       "'slow campus data science fighting!'"
      ]
     },
     "execution_count": 17,
     "metadata": {},
     "output_type": "execute_result"
    }
   ],
   "source": [
    "#일치하는 패턴을 대체\n",
    "s1='fast campus data science fighting!'\n",
    "result=re.sub('fast','slow',s1) #fast를 slow로 바꾼다. #(패턴, 바꿀 str, str)\n",
    "result"
   ]
  },
  {
   "cell_type": "markdown",
   "metadata": {},
   "source": [
    "#### 6. Pattern\n",
    "- 6.1 문자\n",
    "    - 숫자인지 문자인지 특수 문자인지 등을 구분\n",
    "    -`\\d` : 숫자\n",
    "    - `\\D` : 비숫자\n",
    "    - `\\w` : 숫자,문자,_\n",
    "    - `\\W` : 숫자, 문자,_ 제외\n",
    "    - `\\s` : 공백 문자\n",
    "    - `\\S` : 비공백 문자\n",
    "- 6.2 지정자\n",
    "    - 범위가 몇 회 반복과 같은 패턴을 구분 \n",
    "    "
   ]
  },
  {
   "cell_type": "code",
   "execution_count": 22,
   "metadata": {},
   "outputs": [
    {
     "data": {
      "text/plain": [
       "(100,\n",
       " '0123456789abcdefghijklmnopqrstuvwxyzABCDEFGHIJKLMNOPQRSTUVWXYZ!\"#$%&\\'()*+,-./:;<=>?@[\\\\]^_`{|}~ \\t\\n\\r\\x0b\\x0c')"
      ]
     },
     "execution_count": 22,
     "metadata": {},
     "output_type": "execute_result"
    }
   ],
   "source": [
    "import string\n",
    "pt=string.printable\n",
    "len(pt),pt"
   ]
  },
  {
   "cell_type": "code",
   "execution_count": 29,
   "metadata": {},
   "outputs": [
    {
     "name": "stdout",
     "output_type": "stream",
     "text": [
      "0123456789\n"
     ]
    }
   ],
   "source": [
    "# \\d, \\D - 숫자와 비숫자를 찾는 패턴\n",
    "result=re.findall('\\d',pt) #숫자\n",
    "result\n",
    "print(''.join(result))"
   ]
  },
  {
   "cell_type": "code",
   "execution_count": 30,
   "metadata": {
    "scrolled": true
   },
   "outputs": [
    {
     "name": "stdout",
     "output_type": "stream",
     "text": [
      "abcdefghijklmnopqrstuvwxyzABCDEFGHIJKLMNOPQRSTUVWXYZ!\"#$%&'()*+,-./:;<=>?@[\\]^_`{|}~ \t\n",
      "\r",
      "\u000b",
      "\f",
      "\n"
     ]
    }
   ],
   "source": [
    "result=re.findall('\\D',pt) #비숫자\n",
    "print(''.join(result))"
   ]
  },
  {
   "cell_type": "code",
   "execution_count": 31,
   "metadata": {},
   "outputs": [
    {
     "name": "stdout",
     "output_type": "stream",
     "text": [
      "0123456789abcdefghijklmnopqrstuvwxyzABCDEFGHIJKLMNOPQRSTUVWXYZ_\n"
     ]
    }
   ],
   "source": [
    "result=re.findall('\\w',pt)#숫자,문자,_ -- 식별자의 특성을 공통적으로 가지고 있습니다.\n",
    "print(''.join(result))"
   ]
  },
  {
   "cell_type": "code",
   "execution_count": 32,
   "metadata": {},
   "outputs": [
    {
     "name": "stdout",
     "output_type": "stream",
     "text": [
      "!\"#$%&'()*+,-./:;<=>?@[\\]^`{|}~ \t\n",
      "\r",
      "\u000b",
      "\f",
      "\n"
     ]
    }
   ],
   "source": [
    "result=re.findall('\\W',pt)#숫자,문자,_ 제외 -- 식별자의 특성이 모두 없습니다.\n",
    "print(''.join(result))"
   ]
  },
  {
   "cell_type": "code",
   "execution_count": 33,
   "metadata": {},
   "outputs": [
    {
     "name": "stdout",
     "output_type": "stream",
     "text": [
      " \t\n",
      "\r",
      "\u000b",
      "\f",
      "\n"
     ]
    }
   ],
   "source": [
    "result=re.findall('\\s',pt) #공백\n",
    "print(''.join(result))"
   ]
  },
  {
   "cell_type": "code",
   "execution_count": 34,
   "metadata": {},
   "outputs": [
    {
     "name": "stdout",
     "output_type": "stream",
     "text": [
      "0123456789abcdefghijklmnopqrstuvwxyzABCDEFGHIJKLMNOPQRSTUVWXYZ!\"#$%&'()*+,-./:;<=>?@[\\]^_`{|}~\n"
     ]
    }
   ],
   "source": [
    "result=re.findall('\\S',pt) #비공백\n",
    "print(''.join(result))"
   ]
  },
  {
   "cell_type": "markdown",
   "metadata": {},
   "source": [
    "#### 5.2 지정자\n",
    "- `[]`: 문자\n",
    "- `-` : 범위\n",
    "- `.` : 하나의 문자\n",
    "- `?` : 0회 또는 1회 반복\n",
    "- `*` : 0회 이상 반복\n",
    "- `+` : 1회 이상 반복\n",
    "- `{m,n}` : m~n회 반복\n",
    "- `()` : 그룹핑\n"
   ]
  },
  {
   "cell_type": "code",
   "execution_count": 36,
   "metadata": {},
   "outputs": [
    {
     "data": {
      "text/plain": [
       "['1', '2', '3', '4', 'a', 'b', 'c', 'd']"
      ]
     },
     "execution_count": 36,
     "metadata": {},
     "output_type": "execute_result"
    }
   ],
   "source": [
    "# [] : 문자\n",
    "re.findall(\"[1234abcd]\",pt)"
   ]
  },
  {
   "cell_type": "code",
   "execution_count": 51,
   "metadata": {},
   "outputs": [
    {
     "data": {
      "text/plain": [
       "(['0', '1', '2', '3', '4', '5', '6', '7', '8', '9'],\n",
       " 'abcdefghijklmnopqrstuvwxyzABCDEFGHIJKLMNOPQRSTUVWXYZ')"
      ]
     },
     "execution_count": 51,
     "metadata": {},
     "output_type": "execute_result"
    }
   ],
   "source": [
    "# - : 범위\n",
    "result1 = re.findall(\"[0-9]\",pt)\n",
    "result2 = re.findall(\"[a-zA-Z]\",pt)\n",
    "result1, \"\".join(result2)"
   ]
  },
  {
   "cell_type": "code",
   "execution_count": 53,
   "metadata": {},
   "outputs": [
    {
     "name": "stdout",
     "output_type": "stream",
     "text": [
      "aab ['aab']\n",
      "a0b ['a0b']\n",
      "abc []\n"
     ]
    }
   ],
   "source": [
    "# . : 문자 하나\n",
    "ls=[\"aab\", \"a0b\", \"abc\"]\n",
    "for s in ls:\n",
    "    result=re.findall('a.b',s) #a+모든문자하나+b\n",
    "    print(s,result)"
   ]
  },
  {
   "cell_type": "code",
   "execution_count": 54,
   "metadata": {},
   "outputs": [
    {
     "name": "stdout",
     "output_type": "stream",
     "text": [
      "123aab123 ['aab']\n",
      "1412a0b12413 ['a0b']\n",
      "1346ab1346c []\n"
     ]
    }
   ],
   "source": [
    "# . : 문자 하나\n",
    "ls=[\"123aab123\", \"1412a0b12413\", \"1346ab1346c\"]\n",
    "for s in ls:\n",
    "    result=re.findall('a.b',s) #a+모든 문자하나+b\n",
    "    print(s,result)"
   ]
  },
  {
   "cell_type": "code",
   "execution_count": 56,
   "metadata": {},
   "outputs": [
    {
     "name": "stdout",
     "output_type": "stream",
     "text": [
      "aab ['aab']\n",
      "a3b ['a3b']\n",
      "abc ['ab']\n",
      "accb []\n"
     ]
    }
   ],
   "source": [
    "# ? : 0회 또는 1회 반복\n",
    "ls=[\"aab\", \"a3b\", \"abc\", \"accb\"]\n",
    "for s in ls:\n",
    "    result=re.findall('a.?b',s) #a+모든 문자하나+b\n",
    "    print(s,result)"
   ]
  },
  {
   "cell_type": "code",
   "execution_count": 59,
   "metadata": {},
   "outputs": [
    {
     "name": "stdout",
     "output_type": "stream",
     "text": [
      "aab ['ab']\n",
      "a3b ['a3b']\n",
      "a8b []\n",
      "abc ['ab']\n",
      "accb []\n"
     ]
    }
   ],
   "source": [
    "# ? : 0회 또는 1회 반복\n",
    "# [] : 문자 # - : 범위 # . : 문자 하나\n",
    "l = [\"aab\", \"a3b\", \"a8b\", \"abc\", \"accb\"]\n",
    "for s in l:\n",
    "    result = re.findall('a[0-4]?b', s) # a + 0-4숫자 0개 또는 1개 + b\n",
    "    print(s, result)"
   ]
  },
  {
   "cell_type": "code",
   "execution_count": 62,
   "metadata": {},
   "outputs": [
    {
     "name": "stdout",
     "output_type": "stream",
     "text": [
      "ac ['ac']\n",
      "abc ['abc']\n",
      "abbbbc ['abbbbc']\n",
      "a3bec []\n"
     ]
    }
   ],
   "source": [
    "# * : 0회 이상 반복\n",
    "l = [\"ac\",\"abc\",\"abbbbc\",\"a3bec\"]\n",
    "for s in l:\n",
    "    result = re.findall('ab*c', s) # a + b가 0회이상 반복 + c\n",
    "    print(s, result)"
   ]
  },
  {
   "cell_type": "code",
   "execution_count": 63,
   "metadata": {},
   "outputs": [
    {
     "name": "stdout",
     "output_type": "stream",
     "text": [
      "ac []\n",
      "abc ['abc']\n",
      "abbbbc ['abbbbc']\n",
      "a3bec []\n"
     ]
    }
   ],
   "source": [
    "# +: 1회 이상 반복\n",
    "l = [\"ac\",\"abc\",\"abbbbc\",\"a3bec\"]\n",
    "for s in l:\n",
    "    result = re.findall('ab+c', s) # a + b가 0회이상 반복 + c\n",
    "    print(s, result)"
   ]
  },
  {
   "cell_type": "code",
   "execution_count": 67,
   "metadata": {},
   "outputs": [
    {
     "name": "stdout",
     "output_type": "stream",
     "text": [
      "ac []\n",
      "abcasd []\n",
      "abbc []\n",
      "abbbc ['abbbc']\n",
      "abbbbbbc ['abbbbbbc']\n"
     ]
    }
   ],
   "source": [
    "#{mn} : m~n 회 반복\n",
    "l = [\"ac\",\"abcasd\",\"abbc\",\"abbbc\",\"abbbbbbc\"]\n",
    "for s in l:\n",
    "    result = re.findall('ab{3,8}c', s) # a + b가 3회~ 8회 반복 + c\n",
    "    print(s, result)"
   ]
  },
  {
   "cell_type": "code",
   "execution_count": 68,
   "metadata": {},
   "outputs": [
    {
     "name": "stdout",
     "output_type": "stream",
     "text": [
      "aaa5.djfi [('5', 'dj')]\n",
      "abdddc5 []\n",
      "1abbbbc []\n",
      "a3.bec [('3', 'be')]\n"
     ]
    }
   ],
   "source": [
    "# () : grouping\n",
    "l = [\"aaa5.djfi\",\"abdddc5\",\"1abbbbc\",\"a3.bec\"]\n",
    "for s in l:\n",
    "    result = re.findall('([0-9]+)[.]([a-z]{2})', s) # 숫자 1회이상 + . + 문자 2회\n",
    "    print(s, result)"
   ]
  },
  {
   "cell_type": "markdown",
   "metadata": {},
   "source": [
    "example"
   ]
  },
  {
   "cell_type": "code",
   "execution_count": 73,
   "metadata": {},
   "outputs": [
    {
     "data": {
      "text/plain": [
       "['pdj1224@daum.com', 'radajin1224@gmail.com']"
      ]
     },
     "execution_count": 73,
     "metadata": {},
     "output_type": "execute_result"
    }
   ],
   "source": [
    "#이메일 주소 찾기\n",
    "s = \"저의 이메일 주소는 pdj1224@daum.com 입니다. 또한 radajin1224@gmail.com 역시\\\n",
    "마찬가지 입니다.\"\n",
    "p=\"[0-9a-z-A-Z]+@[0-9a-z]+\\.[0-9a-z]+\"\n",
    "re.findall(p,s)"
   ]
  },
  {
   "cell_type": "code",
   "execution_count": 79,
   "metadata": {},
   "outputs": [
    {
     "data": {
      "text/plain": [
       "'저의 주민번호는 761211-*******입니다'"
      ]
     },
     "execution_count": 79,
     "metadata": {},
     "output_type": "execute_result"
    }
   ],
   "source": [
    "# 주민등록번호: group 으로 나눠서 변경: 761211-1023334 -> 761211 -*******\n",
    "# () 그룹핑을 사용\n",
    "s= '저의 주민번호는 761211-1023334'\n",
    "p=\"([0-9]{6})-([0-9]{7})\"\n",
    "re.findall(p,s) #주민번호 찾기\n",
    "re.sub(p,\"\\g<1>-*******입니다\",s) # \\g<1> : 그룹핑 첫번째 데이터 사용"
   ]
  },
  {
   "cell_type": "code",
   "execution_count": null,
   "metadata": {},
   "outputs": [],
   "source": [
    "#전화번호 추출해서 바꾸기\n",
    "# 01o일이삼3구칠82 -> (정규표현 식 패턴 + sub ) -> 01012339782"
   ]
  },
  {
   "cell_type": "code",
   "execution_count": 82,
   "metadata": {},
   "outputs": [],
   "source": [
    "s=\"안녕하세요. 저의 전화번호는 영일공-48구삼삼7이사 입니다. 또한 010사팔구삼삼구삼일입\\\n",
    "니다.\""
   ]
  },
  {
   "cell_type": "code",
   "execution_count": 86,
   "metadata": {},
   "outputs": [],
   "source": [
    "p=\"[0-9영공일이둘삼사오육칠팔구빵]{3}[-]?[0-9영공일이둘삼사오육칠팔구빵]{3,4}\\\n",
    "[-]?[0-9영공일이둘삼사오육칠팔구빵]{4}\"\n",
    "#문자열 패턴"
   ]
  },
  {
   "cell_type": "code",
   "execution_count": 87,
   "metadata": {},
   "outputs": [
    {
     "data": {
      "text/plain": [
       "['영일공-48구삼삼7이사', '010사팔구삼삼구삼일']"
      ]
     },
     "execution_count": 87,
     "metadata": {},
     "output_type": "execute_result"
    }
   ],
   "source": [
    "numbers=re.findall(p,s)\n",
    "numbers"
   ]
  },
  {
   "cell_type": "code",
   "execution_count": 88,
   "metadata": {},
   "outputs": [],
   "source": [
    "dic={\n",
    "    \"영\":0,\n",
    "    \"공\":0,\n",
    "    '일':1,\n",
    "    \"이\":2,\n",
    "    '둘':2,\n",
    "    '삼':3,\n",
    "    \"사\":4,\n",
    "    '오':5,\n",
    "    '육':6,\n",
    "    '칠':7,\n",
    "    '팔':8,\n",
    "    '구':9,\n",
    "    '빵':0\n",
    "}"
   ]
  },
  {
   "cell_type": "code",
   "execution_count": 92,
   "metadata": {},
   "outputs": [
    {
     "name": "stdout",
     "output_type": "stream",
     "text": [
      "01048933724\n",
      "01048933931\n"
     ]
    }
   ],
   "source": [
    "result=[]\n",
    "for number in numbers:\n",
    "    for key,value in dic.items():\n",
    "        number=number.replace(key,str(value))\n",
    "    number=number.replace(\"-\",\"\")\n",
    "    print(number)"
   ]
  }
 ],
 "metadata": {
  "kernelspec": {
   "display_name": "Python 3",
   "language": "python",
   "name": "python3"
  },
  "language_info": {
   "codemirror_mode": {
    "name": "ipython",
    "version": 3
   },
   "file_extension": ".py",
   "mimetype": "text/x-python",
   "name": "python",
   "nbconvert_exporter": "python",
   "pygments_lexer": "ipython3",
   "version": "3.6.4"
  }
 },
 "nbformat": 4,
 "nbformat_minor": 2
}
