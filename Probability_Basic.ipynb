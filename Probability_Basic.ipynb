{
 "cells": [
  {
   "cell_type": "markdown",
   "metadata": {},
   "source": [
    "## SET\n",
    "- 집합과 원소\n",
    "    - 구별 가능한 객체의 모임을 set이라고 하고, 그 집합에 포함된 객체를 element라고 합니다.\n",
    "- 파이썬에서는 `set`과 `frozenset` 자료형으로 집합을 나타냅니다.\n",
    "    - set : mutable datatype\n",
    "    - frozenset : immutable datatype\n",
    "    immutable 자료형만 딕셔너리 자료형의 키나 set 자료형의 원소가 될 수 있습니다."
   ]
  },
  {
   "cell_type": "code",
   "execution_count": 4,
   "metadata": {},
   "outputs": [
    {
     "data": {
      "text/plain": [
       "{1, 2, 3}"
      ]
     },
     "execution_count": 4,
     "metadata": {},
     "output_type": "execute_result"
    }
   ],
   "source": [
    "A=set([1,2,3,3,2])\n",
    "A\n",
    "# 중복된 값은 없어집니다!"
   ]
  },
  {
   "cell_type": "code",
   "execution_count": 5,
   "metadata": {},
   "outputs": [
    {
     "data": {
      "text/plain": [
       "frozenset({'H', 'T'})"
      ]
     },
     "execution_count": 5,
     "metadata": {},
     "output_type": "execute_result"
    }
   ],
   "source": [
    "B=frozenset(['H','T'])\n",
    "B"
   ]
  },
  {
   "cell_type": "markdown",
   "metadata": {},
   "source": [
    "### 집합의 크기(cardinality)\n",
    "- 집합이 가지는 원소의 갯수를 말합니다. || 기호나 card 기호를 사용하여 나타냅니다!\n",
    "- |A| = card(A) =3\n",
    "- In Python? = len(A)"
   ]
  },
  {
   "cell_type": "code",
   "execution_count": 6,
   "metadata": {},
   "outputs": [
    {
     "name": "stdout",
     "output_type": "stream",
     "text": [
      "3\n",
      "2\n"
     ]
    }
   ],
   "source": [
    "print(len(A))\n",
    "print(len(B))"
   ]
  },
  {
   "cell_type": "markdown",
   "metadata": {},
   "source": [
    "### 합집합과 교집합\n",
    "- union : 집합의 원소를 모두 포함하는 집합을 말합니다. `union` ,`&`\n",
    "- intersection : 두 사건 모두에 속하는 원소로만 이루어진 집합을 말합니다. `intersection` `|`"
   ]
  },
  {
   "cell_type": "code",
   "execution_count": 7,
   "metadata": {},
   "outputs": [],
   "source": [
    "A1=set([1,2,3,4])\n",
    "A2=set([2,4,6])\n",
    "A3=set([1,2,3])\n",
    "A4=set([2,3,4,5,6])"
   ]
  },
  {
   "cell_type": "code",
   "execution_count": 8,
   "metadata": {},
   "outputs": [
    {
     "data": {
      "text/plain": [
       "{1, 2, 3, 4, 6}"
      ]
     },
     "execution_count": 8,
     "metadata": {},
     "output_type": "execute_result"
    }
   ],
   "source": [
    "A1.union(A2)"
   ]
  },
  {
   "cell_type": "code",
   "execution_count": 9,
   "metadata": {},
   "outputs": [
    {
     "data": {
      "text/plain": [
       "{1, 2, 3, 4, 6}"
      ]
     },
     "execution_count": 9,
     "metadata": {},
     "output_type": "execute_result"
    }
   ],
   "source": [
    "A2 | A1"
   ]
  },
  {
   "cell_type": "code",
   "execution_count": 10,
   "metadata": {},
   "outputs": [
    {
     "data": {
      "text/plain": [
       "{2, 3}"
      ]
     },
     "execution_count": 10,
     "metadata": {},
     "output_type": "execute_result"
    }
   ],
   "source": [
    "A3.intersection(A4)"
   ]
  },
  {
   "cell_type": "code",
   "execution_count": 11,
   "metadata": {},
   "outputs": [
    {
     "data": {
      "text/plain": [
       "{2, 3}"
      ]
     },
     "execution_count": 11,
     "metadata": {},
     "output_type": "execute_result"
    }
   ],
   "source": [
    "A4 & A3"
   ]
  },
  {
   "cell_type": "markdown",
   "metadata": {},
   "source": [
    "### 전체집합, 부분집합, 여집합\n",
    "- 부분집합 : 어떤 집합의 원소 중 일부만을 포함하는 집합입니다\n",
    "- 전체집합 \" 원래의 집합을 전체집합이라고 합니다.(represent with 'omega')\n",
    "    - 모든 집합은 자기 자신의 부분집합인데, 원소의 크기가 더 작은 부분집합, \n",
    "    하위 레벨의 부분집합을 진부분집합(proper subset)이라고 합니다.\n",
    "\n",
    "- 두 집합이 부분집합인지를 알아보는 Python code : `issubset`\n",
    "- 부등식 연산자 : issubset과 같은 연산 실행\n",
    "- 등호가 없는 부등식 연산자 : proper subset 연산"
   ]
  },
  {
   "cell_type": "code",
   "execution_count": 17,
   "metadata": {},
   "outputs": [
    {
     "data": {
      "text/plain": [
       "True"
      ]
     },
     "execution_count": 17,
     "metadata": {},
     "output_type": "execute_result"
    }
   ],
   "source": [
    "A3.issubset(A1)"
   ]
  },
  {
   "cell_type": "code",
   "execution_count": 18,
   "metadata": {},
   "outputs": [
    {
     "data": {
      "text/plain": [
       "True"
      ]
     },
     "execution_count": 18,
     "metadata": {},
     "output_type": "execute_result"
    }
   ],
   "source": [
    "A3 <= A1"
   ]
  },
  {
   "cell_type": "code",
   "execution_count": 19,
   "metadata": {},
   "outputs": [
    {
     "data": {
      "text/plain": [
       "False"
      ]
     },
     "execution_count": 19,
     "metadata": {},
     "output_type": "execute_result"
    }
   ],
   "source": [
    "A3.issubset(A2)"
   ]
  },
  {
   "cell_type": "code",
   "execution_count": 20,
   "metadata": {},
   "outputs": [
    {
     "data": {
      "text/plain": [
       "False"
      ]
     },
     "execution_count": 20,
     "metadata": {},
     "output_type": "execute_result"
    }
   ],
   "source": [
    "A3 <= A2"
   ]
  },
  {
   "cell_type": "code",
   "execution_count": 21,
   "metadata": {},
   "outputs": [
    {
     "data": {
      "text/plain": [
       "True"
      ]
     },
     "execution_count": 21,
     "metadata": {},
     "output_type": "execute_result"
    }
   ],
   "source": [
    "A3 <= A3"
   ]
  },
  {
   "cell_type": "markdown",
   "metadata": {},
   "source": [
    "### 차집합과 여집합\n",
    "- 어떤 집합 A에 속하면서 다른 집합 B에는 속하지 않는 원소로 이루어진 A의 부분집합을 A에서 B를 뺀 차집합(difference)라고 하며 `A-B`라고 합니다.\n",
    "- 전체집합 omega에서 부분집합 A를 뺀 나머지(complement)를 A에 대한 여집합이라고 합니다. omega-A=complement of A"
   ]
  },
  {
   "cell_type": "code",
   "execution_count": 22,
   "metadata": {},
   "outputs": [
    {
     "data": {
      "text/plain": [
       "{1, 3}"
      ]
     },
     "execution_count": 22,
     "metadata": {},
     "output_type": "execute_result"
    }
   ],
   "source": [
    "A1.difference(A2)"
   ]
  },
  {
   "cell_type": "code",
   "execution_count": 23,
   "metadata": {},
   "outputs": [
    {
     "data": {
      "text/plain": [
       "{1, 3}"
      ]
     },
     "execution_count": 23,
     "metadata": {},
     "output_type": "execute_result"
    }
   ],
   "source": [
    "A1-A2"
   ]
  },
  {
   "cell_type": "markdown",
   "metadata": {},
   "source": [
    "### 공집합\n",
    "- 아무런 원소도 포함하지 않는 집합을 공집합 (null set)이라고 하며 phi로 나타냅니다.\n",
    "- 공집합은 모든 집합의 부분집합이 됩니다!! "
   ]
  },
  {
   "cell_type": "code",
   "execution_count": 25,
   "metadata": {},
   "outputs": [
    {
     "data": {
      "text/plain": [
       "set()"
      ]
     },
     "execution_count": 25,
     "metadata": {},
     "output_type": "execute_result"
    }
   ],
   "source": [
    "nullset=set([])\n",
    "nullset"
   ]
  },
  {
   "cell_type": "code",
   "execution_count": 26,
   "metadata": {},
   "outputs": [
    {
     "data": {
      "text/plain": [
       "True"
      ]
     },
     "execution_count": 26,
     "metadata": {},
     "output_type": "execute_result"
    }
   ],
   "source": [
    "nullset < A1"
   ]
  },
  {
   "cell_type": "code",
   "execution_count": 28,
   "metadata": {},
   "outputs": [
    {
     "data": {
      "text/plain": [
       "set()"
      ]
     },
     "execution_count": 28,
     "metadata": {},
     "output_type": "execute_result"
    }
   ],
   "source": [
    "nullset.intersection(A1)"
   ]
  },
  {
   "cell_type": "code",
   "execution_count": 29,
   "metadata": {},
   "outputs": [
    {
     "data": {
      "text/plain": [
       "{1, 2, 3, 4}"
      ]
     },
     "execution_count": 29,
     "metadata": {},
     "output_type": "execute_result"
    }
   ],
   "source": [
    "nullset.union(A1)"
   ]
  },
  {
   "cell_type": "markdown",
   "metadata": {},
   "source": [
    "### 부분집합의 수\n",
    " - 2**N 개가 됩니다!!\n",
    " -ex) set1=set([1,2,3])\n",
    "        s1=set([])\n",
    "        s2=set([1])\n",
    "        s3=set([2])\n",
    "        s4=set([3])\n",
    "        s5=set([2,3])\n",
    "        s6=set([1,2])\n",
    "        s7=set([1,3])\n",
    "        s8=set(1,2,3])"
   ]
  },
  {
   "cell_type": "markdown",
   "metadata": {},
   "source": [
    "### 합집합과 교집합의 분배 법칙\n",
    "- 곱셈과 덧셈의 분배 법칙처럼 교집합과 합집합도 괄호를 풀어내는 분배법칙이 성립합니다.\n",
    "A.union(B.intersection(C)=(A.union(B)).intersection(A.union(C))\n",
    "A.intersection(B.intersection(C))=(A.intersection(b)).union(A.intersection(C))"
   ]
  },
  {
   "cell_type": "markdown",
   "metadata": {},
   "source": [
    "### 확률의 수학적 정의\n",
    "- 확률 표본(sample) \n",
    "    - 풀고자 하는 문제에서 발생할 수 있고 선택될 수 있는 하나의 현상을 의미합니다.\n",
    "- 표본 공간(sample space)\n",
    "    - 모든 표본의 집합들을 의미합니다. 대분자 오메가로 표기합니다."
   ]
  },
  {
   "cell_type": "markdown",
   "metadata": {},
   "source": [
    "##### 사건\n",
    "- 사건(event)\n",
    "    - 표본 공간의 부분집합(subset of 'omega'), 대문자 알파벳으로 표기합니다."
   ]
  },
  {
   "cell_type": "code",
   "execution_count": 31,
   "metadata": {},
   "outputs": [],
   "source": [
    "A=frozenset([])\n",
    "B=frozenset(['H'])\n",
    "C=frozenset(['T'])\n",
    "D=frozenset(['H','T'])\n",
    "SP=set([A,B,C,D])\n",
    "# 표본 A,B,C,D의 집합 SP의 부분집합, 사건 A,B,C,D"
   ]
  },
  {
   "cell_type": "markdown",
   "metadata": {},
   "source": [
    "#### 확률(probability)\n",
    "- 사건(부분집합)을 입력하면 숫자(확률값)이 출력되는 함수입니다.\n",
    "\n",
    "#### 콜모고르프의 공리(Kolmogorov's axioms)\n",
    "-  모든 사건에 대해 확률은 실수이고, positive semi definite하다.\n",
    "-  표본공간이라는 사건에 대한 확률은 1이다.\n",
    "-  공통 원소가 없는 독립적인 두 사건의 합집합의 확률은 각각의 사건의 확률의 합이다."
   ]
  },
  {
   "cell_type": "code",
   "execution_count": 34,
   "metadata": {},
   "outputs": [
    {
     "data": {
      "text/plain": [
       "{frozenset(): 0,\n",
       " frozenset({'H'}): 0.4,\n",
       " frozenset({'T'}): 0.6,\n",
       " frozenset({'H', 'T'}): 1}"
      ]
     },
     "execution_count": 34,
     "metadata": {},
     "output_type": "execute_result"
    }
   ],
   "source": [
    "# 딕셔너리를 사용하여 확률 함수 구현하기!!\n",
    "A=frozenset([])\n",
    "B=frozenset(['H'])\n",
    "C=frozenset(['T'])\n",
    "D=frozenset(['H','T'])\n",
    "P={A:0,B:0.4,C:0.6,D:1}\n",
    "P"
   ]
  },
  {
   "cell_type": "markdown",
   "metadata": {},
   "source": [
    "##### 확률에 대해 사람들이 흔히 가지고 있는 오해!!!\n",
    "- 확률은 표본이 아닌 사건을 입력으로 가지는 함수입니다!!\n",
    "- 표본에 대해 확률값을 출력하게 되면,\n",
    "    - P(1)=1/6 -- 이 수식은 틀렸습니다!!\n",
    "- 사건(부분집합)에 대해 확률값을 정의하면,\n",
    "    - P({1})=1/6 --이 수식이 올바른 것입니다!!"
   ]
  },
  {
   "cell_type": "markdown",
   "metadata": {},
   "source": [
    "#### 단순사건과 확률질량함수\n",
    "- 단순사건(atomic event, elementary event)\n",
    "    - 표본을 1개만 가지는 사건\n",
    "- 확률질량함수(probability mass function)\n",
    "    - 표본이 숫자인 경우, 사건 대신 숫자를 입력하여 확률값을 출력으로 가지는 P\n",
    "    - 유한하며,단순 사건에 경우에서만 정의되는 함수입니다.\n",
    "\n",
    "- 유한개의 사건만 있을 경우, 콜모고르프의 공리를 이용해서 모든 단순사건의 확률값을 알면 다른 모든 사건의 확률값을 계산할 수 있습니다.\n"
   ]
  },
  {
   "cell_type": "markdown",
   "metadata": {},
   "source": [
    "#### 확률의 의미\n",
    "- 빈도주의 (Frequentist) 관점 \n",
    "- 베이지안 (Bayesian) 관점"
   ]
  },
  {
   "cell_type": "markdown",
   "metadata": {},
   "source": [
    "#### 빈도주의 관점에서 확률의 의미\n",
    "- `반복`적으로 선택된 표본이 사건A의 원소가 될 `경향(propensity)`을 그 사건의 확률이라고 해석합니다.\n",
    "- 동전으로 head and tail 의 확률이 각각 0.5라면, 동전을 100,000번 던지면 head:50,000번, tail: 50,000번이 나오는 경향을 가진다! 라고 확률을 해석하는 것입니다."
   ]
  },
  {
   "cell_type": "markdown",
   "metadata": {},
   "source": [
    "#### 베이지안 관점에서 확률의 의미\n",
    "- `이미 발생한 사건의 진실에 대해 알고자 하는 노력`입니다.\n",
    "- 미래에 특정한 사건에 속하는 일이 발생할 가능성(빈도주의)이 아니라, 이미 발생한 일이 `특정한 사건에 속할 가능성`에 대한 것입니다.\n",
    "- 이미 발생한 일이 특정한 사건에 속한다는 가설(hypothesis), 명제(proposition), 혹은 주장(assertion)의 `신뢰도`라고 해석합니다.\n",
    "\n",
    "- ex) 4자 선다형 객관식 문제를 풀 때,\n",
    "        - 1번은 절대로 답이 아니다!, 그러므로 1번의 확률은 0\n",
    "        - 2,3번은 그럴 듯 한데... \n",
    "        - 4번의 가능성은 2,3번의 절반도 안되보인다..\n",
    "        - 그렇다면 2,3번의 정답일 확률은 0.4 , 4번의 확률은 0.2로구만!!\n",
    "- 어떤 것에 대한 확률, 예로 들어 확률 P({4})(4번일 확률)은 빈도와는 전혀 관계가 없으며, 단지 4번이 정답이다 라는 `주장에 대한 신뢰도`일 뿐입니다.!!"
   ]
  },
  {
   "cell_type": "markdown",
   "metadata": {},
   "source": [
    "#### 사건의 이미 in Bayesian:\n",
    "- 이 사건에 속한 후보 집합 안에 발생한 표본이 있다!"
   ]
  },
  {
   "cell_type": "markdown",
   "metadata": {},
   "source": [
    "#### 사건의 발생 in Bayesian:\n",
    "- 사건, 즉 후보군 안에 정말로 선택된 표본이 있음을 알게 된 것이다!\n",
    "- 해당 사건이 말하고 있는 것이 사실임을 알게 되었다!--추가적 정보가 들어왔음!"
   ]
  },
  {
   "cell_type": "markdown",
   "metadata": {},
   "source": [
    "### 확률의 성질\n",
    "- 공집합의 확률\n",
    "- 여집합의 확률\n",
    "- 포함-배제 원리\n",
    "- 전체 확률의 법칙"
   ]
  },
  {
   "cell_type": "markdown",
   "metadata": {},
   "source": [
    "### 성질 1. 공집합의 확률\n",
    "- 공집합인 사건의 확률은 0이다."
   ]
  },
  {
   "cell_type": "markdown",
   "metadata": {},
   "source": [
    "### 성질 2. 여집합의 확률\n",
    "- 여집합인 사건의 확률은 (1- 원래 사건의 확률)과 같다."
   ]
  },
  {
   "cell_type": "markdown",
   "metadata": {},
   "source": [
    "### 성질 3. 포함 - 배제 원리\n",
    "- 두 사건의 합집합의 확률은 각 사건의 확률의 합에서 두 사건의 교집합의 확률은 뺀 것과 같다."
   ]
  },
  {
   "cell_type": "markdown",
   "metadata": {},
   "source": [
    "### 성질 4. 전체 확률의 법칙\n",
    "- 복수의 사건 C_i가 \n",
    "    - 서로 서로소이고,\n",
    "    - 모두 합쳤을 때 전체 표본 공간이면,\n",
    "- 모든 사건 A에 대하여 sigma_i(P(A.intersection(C_i)=P(A)가 성립한다."
   ]
  },
  {
   "cell_type": "markdown",
   "metadata": {},
   "source": [
    "## 결합 확률과 조건부 확률"
   ]
  },
  {
   "cell_type": "markdown",
   "metadata": {},
   "source": [
    "#### 결합 확률(joint probability)\n",
    "- 사건 A와 B가 동시에 발생할 확률입니다.\n",
    "- P(A.intersection(B)) 또는 P(A,B)로 표기합니다."
   ]
  },
  {
   "cell_type": "markdown",
   "metadata": {},
   "source": [
    "#### 조건부 확률(coditional probabiltiy)\n",
    "- 사건 B에 대한 사건 A의 조건부 확률을 P(A|B)로 표기합니다.\n",
    "- P(A|B) = P(A,B)/P(B) 로 정의합니다.\n",
    "- 표본 공간이 위의 예시의 경우 Omega -> B로 변환된 것으로 생각하면 됩니다.\n",
    "- 사건 A의 확률,신뢰도를 Omega라는 전체 표본 공간에서 B라는 새로운 표본 공간으로 Normoalize한 값이라고 생각하면 됩니다!"
   ]
  },
  {
   "cell_type": "markdown",
   "metadata": {},
   "source": [
    "### 독립(independent)\n",
    "- P(A,B)와 같은 joint probability가 P(A)P(A) 와 같은 관계가 성립되면 독립으로 정의합니다.\n",
    "- 사건 A와 사건 B의 확률이 independent하다면 조건부 확률은 다음과 같이 주어집니다.\n",
    "    - P(A|B) = P(A,B)/P(B) = P(A)P(B)/P(B) = P(A)\n",
    "    - 즉, 사건 A는 사건 B의 발생 여부에 관계없으며 영향을 받지 않음을 의미합니다."
   ]
  },
  {
   "cell_type": "markdown",
   "metadata": {},
   "source": [
    "### 원인과 결과, 근거와 추론, 가정과 조건부 결론\n",
    "- conditional probabiltiy의 정의 P(A|B) = P(A,B)/P(B)에서 B,A는 각각 다음과 같이 생각할 수 있습니다.\n",
    "    - B : 가정, 원인, 근거\n",
    "    - A : 가정에 따른 조건부 결론, 결과, 추론\n"
   ]
  },
  {
   "cell_type": "markdown",
   "metadata": {},
   "source": [
    "또한 조건부 확률의 정의를 바꿔쓰면 `P(A,B)=P(A|B)P(B)`가 되는데, 이는 A,B가 모두 발생할 확률(joint probabiltiy)는 B라는 사건이 발생할 확률과 그 사건이 발생한 경우 다시 A가 발생할 경우의 곱을 의미합니다."
   ]
  },
  {
   "cell_type": "markdown",
   "metadata": {},
   "source": [
    "### pgmpy package(install only by pip not by conda)\n",
    "- Probabilistic Graphical Models in Python\n",
    "- `JointProbabiltiyDistribution(variables,cardinality, values)`--결합 확률 모형\n",
    "- `marginal_distribution(values,inplace=True)` -- 주변 확률 모형\n",
    "- `conditional_distribution(values, inplace =True)` -- 조건부 확률 모형"
   ]
  },
  {
   "cell_type": "code",
   "execution_count": 1,
   "metadata": {},
   "outputs": [],
   "source": [
    "from pgmpy.factors.discrete import JointProbabilityDistribution as JPD"
   ]
  },
  {
   "cell_type": "code",
   "execution_count": 8,
   "metadata": {},
   "outputs": [
    {
     "name": "stdout",
     "output_type": "stream",
     "text": [
      "╒═════╤═════╤══════════╕\n",
      "│ X   │ Y   │   P(X,Y) │\n",
      "╞═════╪═════╪══════════╡\n",
      "│ X_0 │ Y_0 │   0.1500 │\n",
      "├─────┼─────┼──────────┤\n",
      "│ X_0 │ Y_1 │   0.4500 │\n",
      "├─────┼─────┼──────────┤\n",
      "│ X_1 │ Y_0 │   0.3500 │\n",
      "├─────┼─────┼──────────┤\n",
      "│ X_1 │ Y_1 │   0.0500 │\n",
      "╘═════╧═════╧══════════╛\n"
     ]
    }
   ],
   "source": [
    "j1=JPD(['X','Y'],[2,2],np.array([3,9,7,1])/20)\n",
    "print(j1)"
   ]
  },
  {
   "cell_type": "markdown",
   "metadata": {},
   "source": [
    "- marginal_distribution과 conditional_distribution의 component 중 `inplace = True`로 하면 아래의 예시에서 j1 객체를 바로 marginal 또는 conditional 한 distribution으로 바꿔주고 `inplace = False`인 경우에는 m1x와 같은 변수에 marginal of conditional distribution의 객체를 return 해서 대입해줍니다!!"
   ]
  },
  {
   "cell_type": "code",
   "execution_count": 6,
   "metadata": {},
   "outputs": [
    {
     "name": "stdout",
     "output_type": "stream",
     "text": [
      "╒═════╤════════╕\n",
      "│ X   │   P(X) │\n",
      "╞═════╪════════╡\n",
      "│ X_0 │ 0.6000 │\n",
      "├─────┼────────┤\n",
      "│ X_1 │ 0.4000 │\n",
      "╘═════╧════════╛\n"
     ]
    }
   ],
   "source": [
    "m1x=j1.marginal_distribution(['X'],inplace=False)\n",
    "print(m1x)\n",
    "# X에 대한 margianal distribution을 구하자!"
   ]
  },
  {
   "cell_type": "code",
   "execution_count": 13,
   "metadata": {},
   "outputs": [
    {
     "name": "stdout",
     "output_type": "stream",
     "text": [
      "╒═════╤════════╕\n",
      "│ Y   │   P(Y) │\n",
      "╞═════╪════════╡\n",
      "│ Y_0 │ 0.5000 │\n",
      "├─────┼────────┤\n",
      "│ Y_1 │ 0.5000 │\n",
      "╘═════╧════════╛\n"
     ]
    }
   ],
   "source": [
    "m1y=j1.marginal_distribution(['Y'],inplace=False)\n",
    "print(m1y)\n",
    "# Y에 대한 margianal distribution을 구하자!"
   ]
  },
  {
   "cell_type": "code",
   "execution_count": 14,
   "metadata": {},
   "outputs": [
    {
     "name": "stdout",
     "output_type": "stream",
     "text": [
      "╒═════╤════════╕\n",
      "│ Y   │   P(Y) │\n",
      "╞═════╪════════╡\n",
      "│ Y_0 │ 0.2500 │\n",
      "├─────┼────────┤\n",
      "│ Y_1 │ 0.7500 │\n",
      "╘═════╧════════╛\n"
     ]
    }
   ],
   "source": [
    "c1x0=j1.conditional_distribution([('X',0)],inplace=False)\n",
    "print(c1x0)\n",
    "# X_0을 new sample space, or condition으로 하는 conditional probability table(conditional_distribution)을 만들어보자!"
   ]
  },
  {
   "cell_type": "code",
   "execution_count": 19,
   "metadata": {},
   "outputs": [
    {
     "data": {
      "text/plain": [
       "False"
      ]
     },
     "execution_count": 19,
     "metadata": {},
     "output_type": "execute_result"
    }
   ],
   "source": [
    "j1.check_independence(['X'],['Y'])\n",
    "# JointProbabilityDistribution의 module 중 사건 X와 Y가 서로 \n",
    "# independent한지 알려주는 method입니다!!"
   ]
  },
  {
   "cell_type": "code",
   "execution_count": 21,
   "metadata": {},
   "outputs": [
    {
     "name": "stdout",
     "output_type": "stream",
     "text": [
      "╒═════╤═════╤══════════╕\n",
      "│ X   │ Y   │   P(X,Y) │\n",
      "╞═════╪═════╪══════════╡\n",
      "│ X_0 │ Y_0 │   0.3000 │\n",
      "├─────┼─────┼──────────┤\n",
      "│ X_0 │ Y_1 │   0.3000 │\n",
      "├─────┼─────┼──────────┤\n",
      "│ X_1 │ Y_0 │   0.2000 │\n",
      "├─────┼─────┼──────────┤\n",
      "│ X_1 │ Y_1 │   0.2000 │\n",
      "╘═════╧═════╧══════════╛\n"
     ]
    }
   ],
   "source": [
    "j2=JPD(['X','Y'],(2,2),np.array([6,6,4,4])/20)\n",
    "print(j2)\n",
    "# independent한 JPD를 만들어보았습니다!!"
   ]
  },
  {
   "cell_type": "code",
   "execution_count": 22,
   "metadata": {},
   "outputs": [
    {
     "data": {
      "text/plain": [
       "True"
      ]
     },
     "execution_count": 22,
     "metadata": {},
     "output_type": "execute_result"
    }
   ],
   "source": [
    "j2.check_independence(['X'],['Y'])"
   ]
  }
 ],
 "metadata": {
  "kernelspec": {
   "display_name": "Python 3",
   "language": "python",
   "name": "python3"
  },
  "language_info": {
   "codemirror_mode": {
    "name": "ipython",
    "version": 3
   },
   "file_extension": ".py",
   "mimetype": "text/x-python",
   "name": "python",
   "nbconvert_exporter": "python",
   "pygments_lexer": "ipython3",
   "version": "3.6.4"
  }
 },
 "nbformat": 4,
 "nbformat_minor": 2
}
