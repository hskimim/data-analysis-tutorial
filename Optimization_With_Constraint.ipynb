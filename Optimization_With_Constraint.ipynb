{
 "cells": [
  {
   "cell_type": "markdown",
   "metadata": {},
   "source": [
    "## Constrained optimization\n",
    "- 등식 제한 조건이 있는 최적화 문제 \n",
    "- 부등식 제한 조건이 있는 최적화 문제"
   ]
  },
  {
   "cell_type": "markdown",
   "metadata": {},
   "source": [
    "X^=argmin_x(f(x))\n",
    "g_j(x)=0\n",
    "- 등식(방정식) 제한 조건이 있는 경우입니다!"
   ]
  },
  {
   "cell_type": "markdown",
   "metadata": {},
   "source": [
    "이렇게 등식 제한 조건이 있는 경우 `라그랑주 승수법(Lagrange multiplier)`을 사용하여 최적화를 합니다.\n",
    "- `f(x) +  sigma 1 to j lambda_j * (g_j(x)) lambda_j`\n",
    "- 앞으로 lambda 를 LB라고 notate하겠습니다!"
   ]
  },
  {
   "cell_type": "markdown",
   "metadata": {},
   "source": [
    "연습 문제 1"
   ]
  },
  {
   "cell_type": "code",
   "execution_count": 24,
   "metadata": {},
   "outputs": [],
   "source": [
    "import numpy as np\n",
    "import sympy\n",
    "import scipy as sp\n",
    "sympy.init_printing(use_latex='mathjax')"
   ]
  },
  {
   "cell_type": "code",
   "execution_count": 18,
   "metadata": {},
   "outputs": [],
   "source": [
    "x,y,lb=sympy.symbols('x y lb')"
   ]
  },
  {
   "cell_type": "code",
   "execution_count": 16,
   "metadata": {},
   "outputs": [
    {
     "data": {
      "text/latex": [
       "$$- \\log{\\left (x \\right )} - \\log{\\left (y \\right )}$$"
      ],
      "text/plain": [
       "-log(x) - log(y)"
      ]
     },
     "execution_count": 16,
     "metadata": {},
     "output_type": "execute_result"
    }
   ],
   "source": [
    "g=x+y-1\n",
    "g\n",
    "f=-1*(sympy.log(x)) + -1*(sympy.log(y))\n",
    "f"
   ]
  },
  {
   "cell_type": "code",
   "execution_count": 20,
   "metadata": {},
   "outputs": [
    {
     "data": {
      "text/latex": [
       "$$lb \\left(x + y - 1\\right) - \\log{\\left (x \\right )} - \\log{\\left (y \\right )}$$"
      ],
      "text/plain": [
       "lb⋅(x + y - 1) - log(x) - log(y)"
      ]
     },
     "execution_count": 20,
     "metadata": {},
     "output_type": "execute_result"
    }
   ],
   "source": [
    "# use langrange multiplier\n",
    "h=f+(lb*g)\n",
    "h"
   ]
  },
  {
   "cell_type": "markdown",
   "metadata": {},
   "source": [
    "위의 h함수를 계산하기 위해서는 친히 손으로 계산해주어야 하는데, 무척이나 다행이도 패키지 내에서 라그랑주 승수를 Optimize 해주는 method가 존재합니다!!(고마워 파이썬!)"
   ]
  },
  {
   "cell_type": "code",
   "execution_count": 22,
   "metadata": {},
   "outputs": [],
   "source": [
    "def f1array(x):\n",
    "    return x[0] ** 2 + x[1] ** 2\n",
    "\n",
    "def eq_constraint(x):\n",
    "    return x[0] + x[1] - 1"
   ]
  },
  {
   "cell_type": "markdown",
   "metadata": {},
   "source": [
    "Scipy의 optimize 서브패키지에서 제한 최적화 문제를 풀기위한 `fmin_slsqp` 명령을 사용합니다! `fmin_slsqp` 가 제한 최적화를 의미합니다!!"
   ]
  },
  {
   "cell_type": "code",
   "execution_count": 25,
   "metadata": {},
   "outputs": [
    {
     "name": "stdout",
     "output_type": "stream",
     "text": [
      "Optimization terminated successfully.    (Exit mode 0)\n",
      "            Current function value: 0.5000000000000002\n",
      "            Iterations: 2\n",
      "            Function evaluations: 8\n",
      "            Gradient evaluations: 2\n"
     ]
    },
    {
     "data": {
      "text/plain": [
       "array([0.5, 0.5])"
      ]
     },
     "execution_count": 25,
     "metadata": {},
     "output_type": "execute_result"
    }
   ],
   "source": [
    "sp.optimize.fmin_slsqp(f1array, np.array([1, 1]), eqcons=[eq_constraint])"
   ]
  },
  {
   "cell_type": "markdown",
   "metadata": {},
   "source": [
    "### 부등식 제한 조건이 있는 최적화 문제\n",
    "- Optimization problem with inequality problem"
   ]
  },
  {
   "cell_type": "markdown",
   "metadata": {},
   "source": [
    "X^=argmin_xf(x)\n",
    "g_j(x)<=0\n",
    "h=f(x) + sigma 1 to M LB_j * g_j(x)--lagrange multiplier\n",
    "여기다가~\n",
    "- KKT(Karush-Kuhn_Tucker) condition is added!"
   ]
  },
  {
   "cell_type": "markdown",
   "metadata": {},
   "source": [
    "#### KKT Condition\n",
    "- 모든 독립 변수에 대한 미분이 0 -- 위의 Langrange와 같은 조건입니다!\n",
    "- 모든 라그랑지 승수와 부등식의 곱이 0\n",
    "    - LB_j * sympy.diff(h,LB_j) = LB * gradient_j = 0\n",
    "- 목적함수에 대한 미분값이 반드시 0이 될 필요가 없다!\n",
    "    - 최적화 결과에 전혀 영향을 주지 않는 쓸모없는 제한 조건일 때 (LB=0)\n",
    "    - 최적화 결과에 영향을 주는 `등식`인 제한 조건(gradient_j=0)\n",
    "- 음수가 아닌 라그랑지 승수 (LB >=0)\n",
    "    - strong duality"
   ]
  },
  {
   "cell_type": "markdown",
   "metadata": {},
   "source": [
    "- fmin_slsqp 명령은 이렇게 부등식 제한 조건이 있는 경우에도 사용할 수 있습니다!\n",
    "- 단 ieqcons 인수에 들어가는 부등호의 부호가 위에서 서술한 것과 달리 `0 또는 양수`여야 합니다!! ( g≥0 )"
   ]
  },
  {
   "cell_type": "code",
   "execution_count": 27,
   "metadata": {},
   "outputs": [],
   "source": [
    "def f2(x):\n",
    "    return np.sqrt((x[0] - 4) ** 2 + (x[1] - 2) ** 2)\n",
    "\n",
    "def ieq_constraint(x):\n",
    "    return np.atleast_1d(1 - np.sum(np.abs(x)))"
   ]
  },
  {
   "cell_type": "code",
   "execution_count": 28,
   "metadata": {},
   "outputs": [
    {
     "name": "stdout",
     "output_type": "stream",
     "text": [
      "Optimization terminated successfully.    (Exit mode 0)\n",
      "            Current function value: 3.605551280732028\n",
      "            Iterations: 11\n",
      "            Function evaluations: 77\n",
      "            Gradient evaluations: 11\n"
     ]
    },
    {
     "data": {
      "text/plain": [
       "array([9.99999981e-01, 1.89941792e-08])"
      ]
     },
     "execution_count": 28,
     "metadata": {},
     "output_type": "execute_result"
    }
   ],
   "source": [
    "sp.optimize.fmin_slsqp(f2, np.array([0, 0]), ieqcons=[ieq_constraint])"
   ]
  }
 ],
 "metadata": {
  "kernelspec": {
   "display_name": "Python 3",
   "language": "python",
   "name": "python3"
  },
  "language_info": {
   "codemirror_mode": {
    "name": "ipython",
    "version": 3
   },
   "file_extension": ".py",
   "mimetype": "text/x-python",
   "name": "python",
   "nbconvert_exporter": "python",
   "pygments_lexer": "ipython3",
   "version": "3.6.4"
  }
 },
 "nbformat": 4,
 "nbformat_minor": 2
}
