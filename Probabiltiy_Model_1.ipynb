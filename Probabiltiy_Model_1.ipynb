{
 "cells": [
  {
   "cell_type": "markdown",
   "metadata": {},
   "source": [
    "### Probability Model\n",
    "- 데이터와 확률 모형\n",
    "    - 표본 공간(sample space)와 확률(probabiltiy)가 정해져 있으면, 이 두 가지를 사용하여 데이터(data)를 생성(generate)할 수 있습니다. 이를!!! `확률모형` 이라고 합니다."
   ]
  },
  {
   "cell_type": "markdown",
   "metadata": {},
   "source": [
    "### Sampling, Realization\n",
    "- 확률 모형을 통해 데이터를 생성하는 과정을 샘플링(sampling) 또는 실현(realizaiton)이라고 합니다. 또한 이러한 과정을 통해 얻어진 데이터를 `표본(sample)`이라고 합니다."
   ]
  },
  {
   "cell_type": "markdown",
   "metadata": {},
   "source": [
    "### Characteristic of Data\n",
    "- 확률 모형론에서는\n",
    "    - 데이터의 개별적인 값 `하나 하나` 에는 의미가 없으며, `데이터 전체의 특성`만이 중요하다. 라고 생각합니다."
   ]
  },
  {
   "cell_type": "markdown",
   "metadata": {},
   "source": [
    "### Process of Data Analysis\n",
    "- 1) `데이터`를 확보!\n",
    "- 2) 확보된 데이터를 확률 모형의 `표본`으로 가정!\n",
    "- 3) 데이터의 특성으로부터 확률 모형의 `특성`을 추정!\n",
    "- 4) 구해진 확률 모형의 특성으로 해당 확률 모형의 `종류`를 결정, `모수`를 추정\n",
    "- 5) 확률 모형으로부터 다음에 생성될 데이터나 데이터 특성을 `예측`"
   ]
  },
  {
   "cell_type": "markdown",
   "metadata": {},
   "source": [
    "### Probability Variables\n",
    "- 확률 변수는 표본 공간의 모든 표본에 대해 어떤 실수 값을 붙인 것입니다.\n",
    "- 따라서 표본 공간을 정의역(domain)으로 가지고 실수를 공역(range)로 가지는 함수입니다.\n",
    "    - 표본은 표본공간(오메가)의 원소입니다.\n",
    "    - 이 표본이 확률 변수의 정의역으로 들어가면 실수값(x)가 나오게 됩니다."
   ]
  },
  {
   "cell_type": "markdown",
   "metadata": {},
   "source": [
    "##### 확률과 확률 변수의 차이점\n",
    "- 확률은 표본으로 이루어진 집합, 즉 `사건`에 대해 할당된 숫자이지만, 확률 변수는 `표본` 하나하나에 대해 할당된 숫자입니다.\n",
    "- 확률은 0~1 사이의 숫자만 할당할 수 있지만, 확률 변수는 모든 실수 범위의 숫자를 할당할 수 있습니다.\n",
    "- 이에 따라 표본 공간(실수화된)을 수직선(number line)위에 표시할 수 있고, 표본 공간의 부분집합인 사건은 구간(interval)로 표시됩니다."
   ]
  },
  {
   "cell_type": "markdown",
   "metadata": {},
   "source": [
    "#### 이산 확률 변수 (discrete probabiltiy variable)\n",
    "- ex) 주사위를 던졌다!!\n",
    "    - X(1 나왔다!) = 1\n",
    "    - X(2 나왔다!) = 2\n",
    "    - X(3 나왔다!) = 3\n",
    "    - X(4 나왔다!) = 4\n",
    "    - X(5 나왔다!) = 5\n",
    "    - X(6 나왔다!) = 6\n",
    "- 확률 변수를 정의한다는 것은?!!!\n",
    "    - 주사위 면 중에서 어떠한 면이 나왔다!!라는 추상적이고 일반적인 개념 대신 숫자라는 명학한 개념을 사용하겠다는 의미입니다\n",
    "    - 현실적으로 계산이 가능한 것은, 숫자 뿐이므로 데이터 분석을 수행하기 위해서는 표본의 특성(feature)을 숫자로 변환하는 단계가 필요합니다!"
   ]
  },
  {
   "cell_type": "markdown",
   "metadata": {},
   "source": [
    "#### 연속 확률 변수 (continuous probabiltiy variable)\n",
    "- ex) 시계 바늘이 어디를 가르키고 있을까?(무한한 경우의 수를 지님)\n",
    "- 연속 확률 변수에서는 수직선 상의 실수 `구간(interval)`으로 정의된 사건을 사건의 `기본 단위`로 사용할 수 있습니다.\n",
    "- A={a<=X<=b} 라는 사건은 확률변수의 값이 a보다 크고 b보다 작은 모든 표본들을 모아 놓은 단일 구간 사건 A를 가리키는 것으로 보는 것입니다.\n",
    "    - 위의 확률과 확률 변수의 차이점에서 언급했듯이, 확률 변수는 표본들을 수직선 위에 표시하고, 표본 공간의 부분집합인 사건은 interval로 나타냅니다!! \n",
    "- 하나의 구간이 아니라 복수 구간으로 이뤄진 복잡한 사건의 확률은 콜모고르프의 공리에 의해 각 단일 구간 사건의 확률의 합으로 구할 수 있습니다!!\n",
    "    - 여기서 잠깐!! Kolmogov's axiom에 대해서 짚고 넘어갑시다!!\n",
    "    - 1) 확률은 postive semi definite\n",
    "    - 2) 전체 확률값은 1\n",
    "    - 3) 서로 독립인 사건의 확률의 합집합은 각 사건에 대한 확률값의 합한 값과 같다.\n",
    "    - 콜모고르프의 공리는 단단히 외워야 합니다!!(제가 외울 정도면 매우 기초적인 것임에 분명하니까요!!ㅎㅎ)"
   ]
  },
  {
   "cell_type": "markdown",
   "metadata": {},
   "source": [
    "## 누적 분포 함수와 확률 밀도 함수"
   ]
  },
  {
   "cell_type": "markdown",
   "metadata": {},
   "source": [
    "#### 확률 분포 (probability distribution)\n",
    "- 확률은 사건(event)이라는 표본의 집합에 대해 할당된 숫자입니다.\n",
    "- 확률이 어떻게 구체적으로 할당되었는지를 묘사(describe)하거나 전달(communicate)하려면?\n",
    "- 어떤 `사건`에 어느 정도의 `확률이 할당`되었는지를 `묘사`한 것을 확률 분포라고 합니다."
   ]
  },
  {
   "cell_type": "markdown",
   "metadata": {},
   "source": [
    "위에서 언급했듯이, 표본 공간은 number line위에 표시하고, 사건은 표본들의 구간으로 표시한다고 했습니다. 따라서 확률 분포를 묘사하기 위해서는 구간의 시작점(a)와 끝점(b)로 표시해서 나타내게 됩니다. `P({a<=x<b}) = P(a,b)`"
   ]
  },
  {
   "cell_type": "markdown",
   "metadata": {},
   "source": [
    "##### 사건 하나를 정의하기 위해서  그때마다 숫자 두 개씩을 할당해야 하나요?? 너무 불편한데..\n",
    "- 아닙니다!! 숫자 하나만으로 사건 즉, 구간을 정의할 수 있습니다!!!\n",
    "- HOW?\n",
    "    - 구간의 시작을 나타내는 숫자를 음수 무한대 (negative infinite)로 통일하는 것!!\n",
    "    - 이를 통해, `P({a<=x<b})=P({-NI<=x<b}) - P({-NI<=x<a})` 가 성립!! -- `P(b) - P(a)`"
   ]
  },
  {
   "cell_type": "markdown",
   "metadata": {},
   "source": [
    "### 누적 분포 함수 (cumulative distribution function) --cdf F(x)\n",
    "- F(x) = P(X<x) (확률 변수 X가 표본 x 보다 작은 누적 확률)\n",
    "- 특성:\n",
    "    - F(negative infinite) = 0 -- 공집합의 확률은 0이기 때문입니다.\n",
    "    - F(positive infinite) = 1 -- 표본 공간의 확률은 1이기 때문입니다.\n",
    "    - F(x) >= F(y) if x > y  -- 확률값은 항상 positive semi definite하기 때문입니다."
   ]
  },
  {
   "cell_type": "markdown",
   "metadata": {},
   "source": [
    "### 확률 밀도 함수(Probabiltiy density function) -- pdf\n",
    "- pdf는 cdf와 연관지어 생각하면 이해가 쉽습니다. \n",
    "- 아시다시피, cdf는 누적 분포입니다. 따라서 사건(구간)에 따른 확률을 알기 위해서는 (a,b)에 따른 누적으로 오른 확률(높이)를 계산해야 하고, 도함수를 적용해 이 구간을 0으로 limit 를 적용하게 되면 cdf의 도함수는 순간의 상대확률을 의미하게 됩니다. 상대확률에 대해 이해가 잘 안가신다면, 기울기를 생각하시면 편합니다. a에서 b로 갈 때, 기울기가 2이면 입력 변수 y 일 때 결과값이 입력 변수 x일때 보다 결과값이 2`배` 더 큰 것임을 의미합니다.\n",
    "- `cdf's derivative = pdf` `pdf's integration = cdf`\n",
    "- (절대적인 확률이 아닌 상대적인 확률 분포 형태를 보기 위한 pdf)"
   ]
  },
  {
   "cell_type": "markdown",
   "metadata": {},
   "source": [
    "### 확률 질량 함수(probabiltiy mass function) -- pmf\n",
    "- 이산 확률 변수와 연속 확률 변수에 대해서 다뤘었습니다.\n",
    "- 연속 확률 변수에 대한 확률 분포는 확률 밀도 함수!!\n",
    "- 그렇다면!!!\n",
    "    - 이산 확률 변수에 대한 확률 분포는 확률 질량 함수!!!\n",
    "    - discrete 한 확률값이기때문에 histogram의 form을 지닙니다!"
   ]
  }
 ],
 "metadata": {
  "kernelspec": {
   "display_name": "Python 3",
   "language": "python",
   "name": "python3"
  },
  "language_info": {
   "codemirror_mode": {
    "name": "ipython",
    "version": 3
   },
   "file_extension": ".py",
   "mimetype": "text/x-python",
   "name": "python",
   "nbconvert_exporter": "python",
   "pygments_lexer": "ipython3",
   "version": "3.6.4"
  }
 },
 "nbformat": 4,
 "nbformat_minor": 2
}
