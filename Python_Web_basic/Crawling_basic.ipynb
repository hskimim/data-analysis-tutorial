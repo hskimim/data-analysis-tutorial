{
 "cells": [
  {
   "cell_type": "code",
   "execution_count": 13,
   "metadata": {},
   "outputs": [],
   "source": [
    "import requests\n",
    "import time\n",
    "from bs4 import BeautifulSoup\n",
    "# import forecastio\n",
    "import json\n",
    "from pandas.io.json import json_normalize"
   ]
  },
  {
   "cell_type": "markdown",
   "metadata": {},
   "source": [
    "### request\n",
    "- 1) json -- if there is api\n",
    "- 2) html -(parsing by using css selector for crawling)- bs4(string data)\n",
    "- 3) selenium -- css selector (by using css selector and xpath)\n",
    "- 4) scrapy - package for crawling, use css selector, xpath \n",
    "- number of each row is about priority in using method."
   ]
  },
  {
   "cell_type": "markdown",
   "metadata": {},
   "source": [
    "##### 네이버 주식 데이터 가져오기\n",
    "- api 사용 : json 파싱을 합니다.\n",
    "- 네이버 주식 페이지에서 주식 데이터를 가져와 데이터 프레임으로 만듭니다.\n",
    "- 웹서버보다 모바일 페이지가 크롤링이 더 쉬운 경우가 있으므로 염두에 둡니다."
   ]
  },
  {
   "cell_type": "markdown",
   "metadata": {},
   "source": [
    "url 분석"
   ]
  },
  {
   "cell_type": "code",
   "execution_count": null,
   "metadata": {},
   "outputs": [],
   "source": [
    "url = \"http://m.stock.naver.com/api/json/sise/\\\n",
    "siseListJson.nhn?menu=market_sum&sosok={0}&pageSize={0}&page={}\""
   ]
  },
  {
   "cell_type": "markdown",
   "metadata": {},
   "source": [
    "#### 분석 결과\n",
    "- sosok = 보여지는 주식 카테고리(코스피,코스닥...)\n",
    "- pageSize = 한번에 보여지는 주식 데이터의 갯수\n",
    "- page = 더보기를 통해 보여지는 주식이 달라지지는데 그 순서를 의미합니다."
   ]
  },
  {
   "cell_type": "markdown",
   "metadata": {},
   "source": [
    "- result: {\n",
    "    - totCnt: 1274,\n",
    "    - ms: \"OPEN\",\n",
    "    - itemList: [\n",
    "- result 보다 낮은 level로 factor들이 들어있는 data format을 가지고 있습니다."
   ]
  },
  {
   "cell_type": "markdown",
   "metadata": {},
   "source": [
    "make_url 함수 만들기 -- 인자에 따라서 보여지는 url의 json data가 바뀝니다."
   ]
  },
  {
   "cell_type": "code",
   "execution_count": null,
   "metadata": {},
   "outputs": [],
   "source": [
    "http://m.stock.naver.com/api/json/sise/siseListJson.nhn?m\\\n",
    "    enu=market_sum&sosok=1&pageSize=5&page=5"
   ]
  },
  {
   "cell_type": "code",
   "execution_count": 1,
   "metadata": {},
   "outputs": [],
   "source": [
    "def make_url(pageSize=10,page=1):\n",
    "    return 'http://m.stock.naver.com/api/json/sise\\\n",
    "/siseListJson.nhn?menu=market_sum&sosok=0&pageSize='+str(pageSize)+'&page='+str(page)\n",
    "#default argument를 정해주고 후에 필요시, 변경해주도록 합니다."
   ]
  },
  {
   "cell_type": "code",
   "execution_count": 16,
   "metadata": {
    "scrolled": true
   },
   "outputs": [
    {
     "data": {
      "text/plain": [
       "'http://m.stock.naver.com/api/json/sise/siseListJson.nhn?menu=market_sum&sosok=0&pageSize=10&page=1'"
      ]
     },
     "execution_count": 16,
     "metadata": {},
     "output_type": "execute_result"
    }
   ],
   "source": [
    "make_url()"
   ]
  },
  {
   "cell_type": "markdown",
   "metadata": {},
   "source": [
    "받은 json data를 parsing해주고 DataFrame 으로 만들어주는 함수 get_data 만들기"
   ]
  },
  {
   "cell_type": "code",
   "execution_count": 30,
   "metadata": {},
   "outputs": [],
   "source": [
    "def get_data_normalize(url):\n",
    "    response = requests.get(url)\n",
    "    jo = json.loads(response.text)\n",
    "    company = jo['result']['itemList']\n",
    "    result = json_normalize(company)\n",
    "    return result"
   ]
  },
  {
   "cell_type": "code",
   "execution_count": 22,
   "metadata": {},
   "outputs": [],
   "source": [
    "def get_data(url):\n",
    "    response = requests.get(url) # url 을 요청합니다.\n",
    "    json_info = response.json() # json data format으로 parsing\n",
    "    companys = json_info['result']['itemList'] #우리가 필요한 데이터는 itemList 배열입니다.\n",
    "    df = pd.DataFrame(columns = ['종목','시세','전열비','등락율','시가총액','거래량'])\n",
    "    #df이라는 dataframe 변수를 생성해주고 column을 할당해줍니다. 여기서 columns의 갯수는\n",
    "    #데이터의 갯수와 같게 설정해주어야 합니다.\n",
    "    for company in companys:\n",
    "        df.loc[len(df)] = { #위에서 부터 하나씩 아래로 데이터들을 for 반복문을 통해 채워나갑니다.\n",
    "            '종목':company['nm'],\n",
    "            '시세':company['nv'],\n",
    "            '전열비':company['cv'],\n",
    "            '등락율':company['cr'],\n",
    "            '시가총액':company['mks'],\n",
    "            '거래량':company['aq'],\n",
    "        }#dictionary datatype으로 dataframe의 value들을 채워넣어가 줍니다.\n",
    "    return df"
   ]
  },
  {
   "cell_type": "code",
   "execution_count": 24,
   "metadata": {},
   "outputs": [
    {
     "name": "stdout",
     "output_type": "stream",
     "text": [
      "1406\n"
     ]
    },
    {
     "data": {
      "text/html": [
       "<div>\n",
       "<style scoped>\n",
       "    .dataframe tbody tr th:only-of-type {\n",
       "        vertical-align: middle;\n",
       "    }\n",
       "\n",
       "    .dataframe tbody tr th {\n",
       "        vertical-align: top;\n",
       "    }\n",
       "\n",
       "    .dataframe thead th {\n",
       "        text-align: right;\n",
       "    }\n",
       "</style>\n",
       "<table border=\"1\" class=\"dataframe\">\n",
       "  <thead>\n",
       "    <tr style=\"text-align: right;\">\n",
       "      <th></th>\n",
       "      <th>종목</th>\n",
       "      <th>시세</th>\n",
       "      <th>전열비</th>\n",
       "      <th>등락율</th>\n",
       "      <th>시가총액</th>\n",
       "      <th>거래량</th>\n",
       "    </tr>\n",
       "  </thead>\n",
       "  <tbody>\n",
       "    <tr>\n",
       "      <th>0</th>\n",
       "      <td>삼성전자</td>\n",
       "      <td>47650</td>\n",
       "      <td>-550</td>\n",
       "      <td>-1.14</td>\n",
       "      <td>3058808</td>\n",
       "      <td>16802342</td>\n",
       "    </tr>\n",
       "    <tr>\n",
       "      <th>1</th>\n",
       "      <td>SK하이닉스</td>\n",
       "      <td>87000</td>\n",
       "      <td>700</td>\n",
       "      <td>0.81</td>\n",
       "      <td>633362</td>\n",
       "      <td>2931145</td>\n",
       "    </tr>\n",
       "    <tr>\n",
       "      <th>2</th>\n",
       "      <td>셀트리온</td>\n",
       "      <td>298500</td>\n",
       "      <td>18500</td>\n",
       "      <td>6.61</td>\n",
       "      <td>374307</td>\n",
       "      <td>1820384</td>\n",
       "    </tr>\n",
       "    <tr>\n",
       "      <th>3</th>\n",
       "      <td>삼성전자우</td>\n",
       "      <td>37800</td>\n",
       "      <td>-950</td>\n",
       "      <td>-2.45</td>\n",
       "      <td>341572</td>\n",
       "      <td>2402033</td>\n",
       "    </tr>\n",
       "    <tr>\n",
       "      <th>4</th>\n",
       "      <td>POSCO</td>\n",
       "      <td>365000</td>\n",
       "      <td>-4500</td>\n",
       "      <td>-1.22</td>\n",
       "      <td>318232</td>\n",
       "      <td>232916</td>\n",
       "    </tr>\n",
       "  </tbody>\n",
       "</table>\n",
       "</div>"
      ],
      "text/plain": [
       "       종목      시세    전열비   등락율     시가총액       거래량\n",
       "0    삼성전자   47650   -550 -1.14  3058808  16802342\n",
       "1  SK하이닉스   87000    700  0.81   633362   2931145\n",
       "2    셀트리온  298500  18500  6.61   374307   1820384\n",
       "3   삼성전자우   37800   -950 -2.45   341572   2402033\n",
       "4   POSCO  365000  -4500 -1.22   318232    232916"
      ]
     },
     "execution_count": 24,
     "metadata": {},
     "output_type": "execute_result"
    }
   ],
   "source": [
    "url = make_url(1406,1) #1406(kospi corp vol), 1(first page)\n",
    "df = get_data(url)\n",
    "print(len(df))\n",
    "df.head()"
   ]
  }
 ],
 "metadata": {
  "kernelspec": {
   "display_name": "Python 3",
   "language": "python",
   "name": "python3"
  },
  "language_info": {
   "codemirror_mode": {
    "name": "ipython",
    "version": 3
   },
   "file_extension": ".py",
   "mimetype": "text/x-python",
   "name": "python",
   "nbconvert_exporter": "python",
   "pygments_lexer": "ipython3",
   "version": "3.6.5"
  }
 },
 "nbformat": 4,
 "nbformat_minor": 2
}
