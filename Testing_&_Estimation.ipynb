{
 "cells": [
  {
   "cell_type": "markdown",
   "metadata": {},
   "source": [
    "### 검정과 모수 추정 OVERVIEW\n",
    "- 가정: 분석하고자 하는 data는 어떤 rv로 부터 realize 된 sample 입니다.\n",
    "    - 즉, 우리는 sample 뒤에 있는 rv를 알아내야 하는 것이다.\n",
    "    - rv를 알아낸다는 것은 rv가 지니는 probability model,parameter를 알아내는 것이다.\n",
    "- 위의 궁금점에 대한 답을 찾는 것을 testing, parameter estimation이라고 합니다.\n",
    "- 1. 해당 데이터가 특정한 분포 모형, 예를 들면 N-dist로부터 생성된 것인가\n",
    "    - distribution test ( normality test above question)\n",
    "- 2. 만약 그렇다면 그 정규 분포의 parameter들이 특정한 값을 가지고 있는가\n",
    "    - parameter test\n",
    "- 3. N-dist의 parameter가 구체적으로 어떤 값을 가지게 될 것인가\n",
    "        - parameter estimation of estimation \n",
    "            - There are several estimation method called MSE(Maximum squared Error), MLE(Maximum Likelihood Estimation),Bayesian Estimation\n",
    "- MSL, MLE는 가장 확률이 높은 숫자 하나를 결정하는 방법입니다.\n",
    "- Bayeisan esimation은 가증한 모든 값에 대해 이 값들이 진짜 모수가 될 확률을 모두 계산하여 분포로 표시하는 방법입니다."
   ]
  },
  {
   "cell_type": "markdown",
   "metadata": {},
   "source": [
    "### 검정과 유의 확률 (testing and significance level)\n",
    "- testing은 데이터 뒤에 숨어있는 rv와 rv의 parameter들에 대한 hyphotesis들의 진위를 Quantitatively prove하는 것을 의미합니다."
   ]
  },
  {
   "cell_type": "markdown",
   "metadata": {},
   "source": [
    "### 검정 방법론(tesing methodoloy)\n",
    "- 1) 데이터가 fixed probability distribution을 지니는 rv이다.\n",
    "    - 동전은 bernoulli, 주식 수익률은 normal dist 내의 sample이다.\n",
    "- 2) probabiltiy distribution의 parameter가 specific value를 지닌다. \n",
    "    - 2번의 주장을 하는 것이 Null hypothesis입니다.(등식으로 가설 제시)\n",
    "- 3) 만약 데이터가 null hypothesis에 따른 sample이고, test statistics에 따라 계산된 이 숫자는 특정한 distribution을 따른다.(test statistics distribution)\n",
    "- 4) Null이 성립하면서도, test statistics과 같은 또는 more rare,extreme한 값이 나올 가능성을 계산한다.(p-value)\n",
    "- 5) predetermined criteria if null is reject of fail to be rejected. -> significance level. \n",
    "    - p-value와 비교하여서 significance level > p-value accept or reject"
   ]
  },
  {
   "cell_type": "markdown",
   "metadata": {},
   "source": [
    "### 귀무 가설과 대립 가설(NULL VS ALTERNATIVE)\n",
    "- H_0 vs H_a\n",
    "- Dont have to be complement\n",
    "- 귀무 가설은 확률 분포를 특정한 상태로 고정시켜야 하므로 반드시 equality로 표현되어야 합니다.\n",
    "- p-value에 대한 allocation은 Null이 아닌 Alternative 가 어떠한 form으로 이뤄져있냐에 따라서 달라집니다."
   ]
  },
  {
   "cell_type": "code",
   "execution_count": 5,
   "metadata": {},
   "outputs": [
    {
     "data": {
      "text/html": [
       "<div>\n",
       "<style scoped>\n",
       "    .dataframe tbody tr th:only-of-type {\n",
       "        vertical-align: middle;\n",
       "    }\n",
       "\n",
       "    .dataframe tbody tr th {\n",
       "        vertical-align: top;\n",
       "    }\n",
       "\n",
       "    .dataframe thead th {\n",
       "        text-align: right;\n",
       "    }\n",
       "</style>\n",
       "<table border=\"1\" class=\"dataframe\">\n",
       "  <thead>\n",
       "    <tr style=\"text-align: right;\">\n",
       "      <th></th>\n",
       "      <th>Null</th>\n",
       "      <th>Alternative</th>\n",
       "      <th>testing</th>\n",
       "    </tr>\n",
       "  </thead>\n",
       "  <tbody>\n",
       "    <tr>\n",
       "      <th>0</th>\n",
       "      <td>theta = 0</td>\n",
       "      <td>theta != 0</td>\n",
       "      <td>two-tailed</td>\n",
       "    </tr>\n",
       "    <tr>\n",
       "      <th>1</th>\n",
       "      <td>theta = 0</td>\n",
       "      <td>theta &gt; 0</td>\n",
       "      <td>right-tailed</td>\n",
       "    </tr>\n",
       "    <tr>\n",
       "      <th>2</th>\n",
       "      <td>theta = 0</td>\n",
       "      <td>theta &lt; 0</td>\n",
       "      <td>left-tailed</td>\n",
       "    </tr>\n",
       "  </tbody>\n",
       "</table>\n",
       "</div>"
      ],
      "text/plain": [
       "        Null Alternative       testing\n",
       "0  theta = 0  theta != 0    two-tailed\n",
       "1  theta = 0   theta > 0  right-tailed\n",
       "2  theta = 0   theta < 0   left-tailed"
      ]
     },
     "execution_count": 5,
     "metadata": {},
     "output_type": "execute_result"
    }
   ],
   "source": [
    "df = pd.DataFrame(columns=['Null','Alternative','testing'])\n",
    "df['Null']=['theta = 0','theta = 0','theta = 0']\n",
    "df['Alternative'] = ['theta != 0','theta > 0','theta < 0']\n",
    "df['testing'] = ['two-tailed','right-tailed','left-tailed']\n",
    "df"
   ]
  },
  {
   "cell_type": "markdown",
   "metadata": {},
   "source": [
    "### 검정 통계량\n",
    "- Null 의 진위를 가지고 증명하기 위한 calculation을 의미합니다. \n",
    "- 분포에 따라서 검정 통계량이 달라지게 됩니다.\n",
    "- 표본 데이터로부터 계산되는 함수입니다.\n",
    "- 표본 데이터로부터 계산을 하는 함수이기 때문에, 어떤 값이 나올지 모르는 확률론적 값을 return합니다. 결국 test statistics 도 test statistics distribution이라는 새로운 rv의 sample이 됩니다.\n",
    "- Null이 사실일 경우 표본에서 계산된 test statistics가 따르는 test statistics rv의 distribution을 정량적으로 알 수 있어야만 합니다."
   ]
  },
  {
   "cell_type": "markdown",
   "metadata": {},
   "source": [
    "- 위의 내용에서 마지막 내용이 많이 애매하게 느껴지실 수 있습니다.\n",
    "    - Null이 사실일 경우 표본에서 계산된 test statistics가 따르는 test statistics rv의 distribution을 정량적으로 알 수 있어야만 합니다.\n",
    "- 이 말을 보다 쉽게 해석해보겠습니다!"
   ]
  },
  {
   "cell_type": "markdown",
   "metadata": {},
   "source": [
    "실제 데이터 분석에서 어떤 귀무 가설(ex.병에 걸렸다.)을 만족하는 표본을 입력변수로 놓고 특정한 함수로(test statistics) 계산한 것이 특정한 분포(test statistics distribution)을 따른다는 것을 수학적인 증명을 통해 보이는 것이 일반적입니다. 유의수준을 놓고, 특정 분포를 따른다면, 유의 수준 내에 표본 데이터가 있어야 한다. 그리고 그 범위 안에 있는 것이 검정 통계량으로 증명이 되면, 우리가 가정한 특정 분포에서 이 귀무 가설이 성립함을 알 수 있는 것입니다."
   ]
  },
  {
   "cell_type": "markdown",
   "metadata": {},
   "source": [
    "### 검정 통계량의 예시(example of test statistics)\n",
    "- bernoulli: x~Bern -> t ~ Bin\n",
    "     - 모수 theta를 가지는 bernoulli rv에 대해서는 N번 중 n번 성공한 것을 검정 통계량으로 쓸 수 있고 이는 Binomial dist를 따릅니다.\n",
    "- normal with known sigma -> normalized value\n",
    "    - 분산 모수를 알고 있는 normal dist rv에서는 sample mean을 normalizing한 것을 test statistics로 씁니다. (normalize는 normal dist -> standard normal dist 할 때 취해준 statistics를 의미합니다.)\n",
    "- normal with unknown sigma -> normalized value\n",
    "    - 분산 모수를 모르고 있는 normal dist rv에서는 sample mean을 sample variance로 normalize한 값을 test statistics로 사용합니다. 또란 이 test statistics는 자유도가 N-1인 standard student t-dist를 따릅니다.~t(t:0,1,N-1)"
   ]
  },
  {
   "cell_type": "markdown",
   "metadata": {},
   "source": [
    "### 유의 확률(p-value)\n",
    "- test statistics가 따르는 distribution을 알고 있다면, sample data에서 계산한 test statistics가 distribution의 어디쯤에 위치할지를 알 수 있습니다. 그 위치를 나타내는 것이 p-value입니다.\n",
    "- p-value 은 test statistics와 같거나, 더 rare,extreme한 값이 나올 수 있는 probabiltiy를 의미합니다. 즉 pdf's tail part를 의미합니다.\n",
    "- 유의 확률의 definition:\n",
    "    - Null이 맞음에도 불구하고 대립 가설을 옹호하는 현재의 검정 통계량과 같은 표본 데이터가 나올 확률(대립 가설을 더 옹호하는 표본 데이터가 나올 확률)\n",
    "    - p-value가 작다는 것은 Null이 맞다는 가정하에 현재의 검정 통계량 값이 나올 가능성이 매우 작다는 것이므로 reject가 되는 것이 합리적입니다.\n",
    "- p-value는 significance level과 비교되어 testing에 적용됩니다"
   ]
  },
  {
   "cell_type": "code",
   "execution_count": 6,
   "metadata": {},
   "outputs": [
    {
     "data": {
      "text/plain": [
       "0.017578125"
      ]
     },
     "execution_count": 6,
     "metadata": {},
     "output_type": "execute_result"
    }
   ],
   "source": [
    "import scipy as sp\n",
    "1-sp.stats.binom(15,0.5).cdf(12-1)"
   ]
  },
  {
   "cell_type": "markdown",
   "metadata": {},
   "source": [
    "- 15번 fair한 동전을 던졌을 때, 앞면이 12번 이상 나올 수 있는 확률\n",
    "- Bin(n>=12;N=15;theta=0.5) = 1-F(11;N=15;theta=0.5)\n",
    "- N=15,theta=0.5이며 우측 유의 확률을 계산한 것입니다."
   ]
  },
  {
   "cell_type": "markdown",
   "metadata": {},
   "source": [
    "p-value가 1.757...이 나왔기 때문에 significance level이 5%라면 accept 1%라면 reject이 됩니다."
   ]
  },
  {
   "cell_type": "markdown",
   "metadata": {},
   "source": [
    "- 트레이더가 5일 중에 4일 돈을 잃을 수 있는 확률\n",
    "- 수익률이 정규 분포를 따른다고 가정하면 test statistics는 -1.4025\n",
    "- 트레이더가 장기적으로 손실을 낸다는 것을 보이고 싶다면 좌측 유의 확률을 구합니다."
   ]
  },
  {
   "cell_type": "code",
   "execution_count": 7,
   "metadata": {},
   "outputs": [
    {
     "data": {
      "text/plain": [
       "(-1.4025921414082105, 0.11669216509589829)"
      ]
     },
     "execution_count": 7,
     "metadata": {},
     "output_type": "execute_result"
    }
   ],
   "source": [
    "x = np.array([-0.025, -0.05, 0.043, -0.037, -0.056])\n",
    "t=x.mean()/x.std(ddof=1)*np.sqrt(len(x))\n",
    "t,sp.stats.t(df=4).cdf(t)"
   ]
  },
  {
   "cell_type": "markdown",
   "metadata": {},
   "source": [
    "유의 확률이 11.66~이 나왔기 때문에, significance level이 10%였다면 이 트레이더의 수익률이 0보다 작다고 할 수 없게 됩니다. "
   ]
  }
 ],
 "metadata": {
  "kernelspec": {
   "display_name": "Python 3",
   "language": "python",
   "name": "python3"
  },
  "language_info": {
   "codemirror_mode": {
    "name": "ipython",
    "version": 3
   },
   "file_extension": ".py",
   "mimetype": "text/x-python",
   "name": "python",
   "nbconvert_exporter": "python",
   "pygments_lexer": "ipython3",
   "version": "3.6.4"
  }
 },
 "nbformat": 4,
 "nbformat_minor": 2
}
