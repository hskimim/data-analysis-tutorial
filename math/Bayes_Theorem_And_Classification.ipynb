{
 "cells": [
  {
   "cell_type": "markdown",
   "metadata": {},
   "source": [
    "### 베이즈 정리와 분류 문제\n",
    "- 저번에 올린 베이즈 정리(Bayes_Theorem_Basic.ipynb)에 이어서 이를 사용한 분류 문제 해결에 대해서 다뤄보도록 하겠습니다!\n",
    "- 분류(classification) 문제란?\n",
    "    - 입력 자료 X의 값으로부터 카테고리 값인 출력 자료 Y의 값을 예측(Prediction)하는 문제"
   ]
  },
  {
   "cell_type": "markdown",
   "metadata": {},
   "source": [
    "#### 예시) 과일 선택 문제\n",
    "- 과일 가게에서 사과와 오렌지 두 가지 품목을 팔고 있다. 이 두 과일은 RED 농장과 BLUE 농장 두 곳에서 공급을 받는데, RED농장에서 사과 2개, 오렌지 6개를 받고 BLUE 농장에서는 사과 3개, 오렌지 1개를 공급을 받는다. 어떤 손님이 와서 오렌지를 선택했을 때, 이 오렌지가 RED농장 출처인지, BLUE농장 출처인지 각각의 확률 중 어떤 것이 더 클까??"
   ]
  },
  {
   "cell_type": "markdown",
   "metadata": {},
   "source": [
    "###### 확률론의 용어로 다시 정리해봅시다!\n",
    "- 손님이 선택한 과일이 사과: X = A -- 4/12\n",
    "- 손님이 선택한 과일이 오렌지: X = 0 -- 8/12\n",
    "- 과일 출처가 RED : Y = R -- 8/12\n",
    "- 과일 출처가 BLUE : Y = B -- 4/12"
   ]
  },
  {
   "cell_type": "markdown",
   "metadata": {},
   "source": [
    "손님이 오렌지를 선택한 경우에 원산지가 RED일 경우?\n",
    "- P( Y = R | X = O ) =\n",
    "- P (R,O)/P(O) =\n",
    "- P(O|R)P(R) / (P(O|R)P(R) + P(O|R_complement)P(R_complement))\n",
    "- (6/8 * 8/12) / (6/8 * 8/12 + 1/4 * 4/12) = 6/7\n",
    "- 그렇다면 오렌지를 선택했을 경우 원산지가 BLUE일 경우는? 1-6/7 = 1/7"
   ]
  },
  {
   "cell_type": "code",
   "execution_count": 1,
   "metadata": {},
   "outputs": [],
   "source": [
    "from pgmpy.factors.discrete import TabularCPD"
   ]
  },
  {
   "cell_type": "code",
   "execution_count": 3,
   "metadata": {},
   "outputs": [
    {
     "name": "stdout",
     "output_type": "stream",
     "text": [
      "╒═════╤══════════╕\n",
      "│ Y_0 │ 0.666667 │\n",
      "├─────┼──────────┤\n",
      "│ Y_1 │ 0.333333 │\n",
      "╘═════╧══════════╛\n"
     ]
    }
   ],
   "source": [
    "# 확률변수 Y를 Y=0인경우가 red, Y=1인 경우를 blue로 잡습니다.\n",
    "cpd_Y = TabularCPD('Y' ,2, [[8/12, 4/12]])\n",
    "print(cpd_Y)"
   ]
  },
  {
   "cell_type": "code",
   "execution_count": 6,
   "metadata": {},
   "outputs": [
    {
     "name": "stdout",
     "output_type": "stream",
     "text": [
      "╒═════╤══════╤══════╕\n",
      "│ Y   │ Y_0  │ Y_1  │\n",
      "├─────┼──────┼──────┤\n",
      "│ X_0 │ 0.75 │ 0.25 │\n",
      "├─────┼──────┼──────┤\n",
      "│ X_1 │ 0.25 │ 0.75 │\n",
      "╘═════╧══════╧══════╛\n"
     ]
    }
   ],
   "source": [
    "# 확률변수 X를 Y=0인경우가 orange, Y=1인 경우를 apple로 잡습니다.\n",
    "cpd_XY = TabularCPD('X',2,np.array([[6/8,1/4],[2/8,3/4]]),\\\n",
    "                   evidence=['Y'],evidence_card=[2])\n",
    "# evidence 가 어떤 것을 의미하는 variable이신지 기억하시나요?!\n",
    "# 말 그대로 조건을 의미합니다!! \n",
    "# red농장이라면~ or blue농장이라면~(제가 헷갈려서 다시 썼습니다...ㅎㅎ)\n",
    "print(cpd_XY)"
   ]
  },
  {
   "cell_type": "markdown",
   "metadata": {},
   "source": [
    "이것이 저번에 다뤘던 베이즈 정리와 무엇이 다른 것인가? 하는 생각이 드실 겁니다. 이 내용은 베이즈 정리를 통해 계산하는 조건부 확률과 크게 다르지 않지만, TabularCPD 클래스를 다루는 예제를 통해 다시 한 번 CPD와 Bayesian을 연계시키는 연습을 해보았다고 생각하시면 좋을 것 같습니다. 심화 과정으로 나오는 Bayesian Network는 후에 다루도록 하겠습니다. 기대해주세요!!"
   ]
  }
 ],
 "metadata": {
  "kernelspec": {
   "display_name": "Python 3",
   "language": "python",
   "name": "python3"
  },
  "language_info": {
   "codemirror_mode": {
    "name": "ipython",
    "version": 3
   },
   "file_extension": ".py",
   "mimetype": "text/x-python",
   "name": "python",
   "nbconvert_exporter": "python",
   "pygments_lexer": "ipython3",
   "version": "3.6.4"
  }
 },
 "nbformat": 4,
 "nbformat_minor": 2
}
