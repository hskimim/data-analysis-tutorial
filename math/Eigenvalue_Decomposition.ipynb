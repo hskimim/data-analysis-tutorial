{
 "cells": [
  {
   "cell_type": "markdown",
   "metadata": {},
   "source": [
    "## Eigenvalues and eigenvectors\n",
    "- kocw의 선형대수학 인강의 eigenvalue decomposition part 에 나오는 definition과 theorem을 참조했습니다!!\n",
    "- 개인 학습의 진도에 맞춰, 고윳값 분해의 전반적인 요소가 아닌, 고유분해의 성질까지 다루겠습니다!!"
   ]
  },
  {
   "cell_type": "markdown",
   "metadata": {},
   "source": [
    "##### Definition\n",
    "- A를 정방행렬로 두고, 스칼라값 'Lambda'(앞으로 LB라고 notate하겠습니다!)를 행렬 A에 대한 고윳값(eigenvalue)이라고 부르고, 만약, `Ax=LB`x의 등식에서 x가 영벡터가 아니라면 x를 행렬 A에 대한 고유벡터(eigenvector)라고 부릅니다!!"
   ]
  },
  {
   "cell_type": "markdown",
   "metadata": {},
   "source": [
    "##### Theorem\n",
    "만약 A가 정방행렬이고 LB가 스칼라 실수라면 다음과 같은 statement를 만족합니다.\n",
    "1. LB는 A의 eigenvalue이다.\n",
    "2. (A-np.dot(LB,np.identity))x=0은 non-trivial solutions을 갖는다.\n",
    "3. Ax=LBx에서 x는 영벡터가 아니다.\n",
    "4. 특성행렬np.det(A-np.dot(LB,np.identity)=0의 solution은 LB, 람다(고윳값)입니다."
   ]
  },
  {
   "cell_type": "markdown",
   "metadata": {},
   "source": [
    "#### NumPy를 사용한 고유 분해\n",
    "- numpy linalg 서브 패키지에서 `eig` 명령을 사용합니다.\n",
    "- 고윳값은 벡터의 형태로 (w1) return됩니다.\n",
    "- 고유벡터는 고유벡터 행렬의 형태로 묶여서 나오며 Normalize 형태로 return이 됩니다!"
   ]
  },
  {
   "cell_type": "code",
   "execution_count": 3,
   "metadata": {},
   "outputs": [
    {
     "name": "stdout",
     "output_type": "stream",
     "text": [
      "[-0.99999998 -1.00000002]\n",
      "[[0.70710678 0.70710678]\n",
      " [0.70710678 0.70710678]]\n"
     ]
    }
   ],
   "source": [
    "w1,V1=np.linalg.eig(np.array([[1,-2],[2,-3]]))\n",
    "print(w1)#중복값 형태이다. 사실상 둘 다 -1값을 띄고 있는 것!\n",
    "print(V1)#따라서 고유벡터의 묶음인 행렬의 요소들도 컴럼별로 같은 값을 띄고있다."
   ]
  },
  {
   "cell_type": "code",
   "execution_count": 4,
   "metadata": {},
   "outputs": [
    {
     "name": "stdout",
     "output_type": "stream",
     "text": [
      "[ 4. -1.]\n",
      "[[ 0.83205029 -0.70710678]\n",
      " [ 0.5547002   0.70710678]]\n"
     ]
    }
   ],
   "source": [
    "w2,V2=np.linalg.eig(np.array([[2,3],[2,1]]))\n",
    "print(w2)\n",
    "print(V2)"
   ]
  },
  {
   "cell_type": "markdown",
   "metadata": {},
   "source": [
    "- 실수인 고윳값이 존재하지 않는 행렬에 대해서는 복소수인 고윳값과 고유 벡터를 계산하게 됩니다!"
   ]
  },
  {
   "cell_type": "code",
   "execution_count": 5,
   "metadata": {},
   "outputs": [
    {
     "name": "stdout",
     "output_type": "stream",
     "text": [
      "[0.+1.j 0.-1.j]\n",
      "[[0.70710678+0.        j 0.70710678-0.        j]\n",
      " [0.        -0.70710678j 0.        +0.70710678j]]\n"
     ]
    }
   ],
   "source": [
    "w3,V3=np.linalg.eig(np.array([[0,-1],[1,0]]))\n",
    "print(w3)\n",
    "print(V3)"
   ]
  },
  {
   "cell_type": "markdown",
   "metadata": {},
   "source": [
    "### 고유 분해의 성질 (숙지해야 한다!)\n",
    "- N차원 정방 행렬 A의 고유 분해는 다음과 같은 성질을 가진다.\n",
    "    - 1.N개의 고윳값,고유벡터를 가진다.(복소수인 경우와 중복인 경우를 포함.)\n",
    "    - 2. 대칭 행렬 A는 N개의 실수 고윳값을 가지며 고유 벡터들이 서로 Orthogonal하다.\n",
    "    - 3. 대칭 행렬의 고윳값이 모두 양수이면 Positive-definite이다. 역도 성립한다.\n",
    "    - 4. 행렬 A가 np.dot(X.T,X)형태의 공분산 행렬이면 Positive-semi-deifinite이다.\n",
    "    - 5. 행렬의 대각합은 모든 고윳값의 합과 같다.\n",
    "    - 6. 행렬의 행렬식은 모든 고윳값의 곱과 같다."
   ]
  },
  {
   "cell_type": "markdown",
   "metadata": {},
   "source": [
    "## Let's remind!\n",
    "- 부호와 크기의 관계:\n",
    "    -행렬의 양-정부호 성질과 대각합/행렬식은 다음과 같은 관계가 있다.(역은 일반적 성립X)\n",
    "        - 행렬이 positive-definite이면 대각합이 양수이다.\n",
    "        - 행렬이 positive-definite이면 행렬식이 양수이다.\n",
    "        - 행렬이 positive-semidefinite이면 행렬식이 '0'이다."
   ]
  }
 ],
 "metadata": {
  "kernelspec": {
   "display_name": "Python 3",
   "language": "python",
   "name": "python3"
  },
  "language_info": {
   "codemirror_mode": {
    "name": "ipython",
    "version": 3
   },
   "file_extension": ".py",
   "mimetype": "text/x-python",
   "name": "python",
   "nbconvert_exporter": "python",
   "pygments_lexer": "ipython3",
   "version": "3.6.4"
  }
 },
 "nbformat": 4,
 "nbformat_minor": 2
}
