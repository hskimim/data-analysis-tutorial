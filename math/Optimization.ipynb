{
 "cells": [
  {
   "cell_type": "markdown",
   "metadata": {},
   "source": [
    "## 행렬의 미분"
   ]
  },
  {
   "cell_type": "code",
   "execution_count": 1,
   "metadata": {},
   "outputs": [],
   "source": [
    "import scipy as sp\n",
    "import numpy as np"
   ]
  },
  {
   "cell_type": "markdown",
   "metadata": {},
   "source": [
    "### Rosenburg 함수 Optimization\n",
    "- (SGD) Steepest Gradient Descent Method"
   ]
  },
  {
   "cell_type": "code",
   "execution_count": 2,
   "metadata": {},
   "outputs": [],
   "source": [
    "def f2(x):\n",
    "    return (1 - x[0])**2 + 100.0 * (x[1] - x[0]**2)**2"
   ]
  },
  {
   "cell_type": "code",
   "execution_count": 3,
   "metadata": {},
   "outputs": [],
   "source": [
    "def f2p(x):\n",
    "    \"\"\"gradient of f2(x)\"\"\"\n",
    "    x1_val= 400*x[0]**3 -400*x[0]*x[1] + 2*x[0] -2\n",
    "    x2_val= -200*x[0]**2 + 200*x[1]\n",
    "    return np.array([x1_val,x2_val])"
   ]
  },
  {
   "cell_type": "markdown",
   "metadata": {},
   "source": [
    "초기점 변경"
   ]
  },
  {
   "cell_type": "code",
   "execution_count": 4,
   "metadata": {
    "scrolled": true
   },
   "outputs": [
    {
     "name": "stdout",
     "output_type": "stream",
     "text": [
      "      fun: 2.1206175523975426e-11\n",
      " hess_inv: array([[0.49908004, 0.99785144],\n",
      "       [0.99785144, 2.00005392]])\n",
      "      jac: array([ 6.74865667e-06, -3.49484575e-06])\n",
      "  message: 'Optimization terminated successfully.'\n",
      "     nfev: 316\n",
      "      nit: 63\n",
      "     njev: 79\n",
      "   status: 0\n",
      "  success: True\n",
      "        x: array([0.9999954 , 0.99999078])\n"
     ]
    }
   ],
   "source": [
    "a = (-3,-3)\n",
    "result = sp.optimize.minimize(f2, a)\n",
    "print(result)"
   ]
  },
  {
   "cell_type": "markdown",
   "metadata": {},
   "source": [
    "그레디언트 벡터 함수를 구현"
   ]
  },
  {
   "cell_type": "code",
   "execution_count": 5,
   "metadata": {},
   "outputs": [
    {
     "name": "stdout",
     "output_type": "stream",
     "text": [
      "      fun: 9.81729719189136e-14\n",
      " hess_inv: array([[0.48098005, 0.95985458],\n",
      "       [0.95985458, 1.92027267]])\n",
      "      jac: array([-8.75835558e-06,  4.59236327e-06])\n",
      "  message: 'Optimization terminated successfully.'\n",
      "     nfev: 42\n",
      "      nit: 35\n",
      "     njev: 42\n",
      "   status: 0\n",
      "  success: True\n",
      "        x: array([1.00000021, 1.00000045])\n"
     ]
    }
   ],
   "source": [
    "a = (-2,2)\n",
    "result = sp.optimize.minimize(f2, a, jac=f2p)\n",
    "print(result)"
   ]
  },
  {
   "cell_type": "markdown",
   "metadata": {},
   "source": [
    "### 2차 도함수를 사용한 방법\n",
    "1차 도함수인 그레디언트 정보 뿐 아니라 2차 도함수인 헤시안 행렬 정보를 사용하여 계산하는 방법이 있다.\n",
    "- CG(conjugated gradient)\n",
    "- BFGS(Broyden-Fletcher-Goldfarb-Shanno)"
   ]
  },
  {
   "cell_type": "code",
   "execution_count": 6,
   "metadata": {},
   "outputs": [
    {
     "name": "stdout",
     "output_type": "stream",
     "text": [
      "     fun: 6.177281807662137e-16\n",
      "     jac: array([-7.45841833e-09, -2.11025224e-08])\n",
      " message: 'Optimization terminated successfully.'\n",
      "    nfev: 79\n",
      "     nit: 34\n",
      "    njev: 79\n",
      "  status: 0\n",
      " success: True\n",
      "       x: array([0.99999998, 0.99999995])\n"
     ]
    }
   ],
   "source": [
    "a=(-2,2)\n",
    "result=sp.optimize.minimize(f2,a,jac=f2p,method='CG')\n",
    "print(result)"
   ]
  },
  {
   "cell_type": "code",
   "execution_count": 7,
   "metadata": {},
   "outputs": [
    {
     "name": "stdout",
     "output_type": "stream",
     "text": [
      "      fun: 9.81729719189136e-14\n",
      " hess_inv: array([[0.48098005, 0.95985458],\n",
      "       [0.95985458, 1.92027267]])\n",
      "      jac: array([-8.75835558e-06,  4.59236327e-06])\n",
      "  message: 'Optimization terminated successfully.'\n",
      "     nfev: 42\n",
      "      nit: 35\n",
      "     njev: 42\n",
      "   status: 0\n",
      "  success: True\n",
      "        x: array([1.00000021, 1.00000045])\n"
     ]
    }
   ],
   "source": [
    "a=(-2,2)\n",
    "result=sp.optimize.minimize(f2,a,jac=f2p,method='BFGS')\n",
    "print(result)"
   ]
  },
  {
   "cell_type": "code",
   "execution_count": 104,
   "metadata": {},
   "outputs": [
    {
     "name": "stdout",
     "output_type": "stream",
     "text": [
      "Optimization terminated successfully.    (Exit mode 0)\n",
      "            Current function value: 1.3862943611198901\n",
      "            Iterations: 2\n",
      "            Function evaluations: 8\n",
      "            Gradient evaluations: 2\n"
     ]
    },
    {
     "data": {
      "text/plain": [
       "array([0.5, 0.5])"
      ]
     },
     "execution_count": 104,
     "metadata": {},
     "output_type": "execute_result"
    }
   ],
   "source": [
    "def f1logs(x):\n",
    "    return -np.log(x[0]) - np.log(x[1])\n",
    "\n",
    "def eq_constraint(x):\n",
    "    return x[0] + x[1] - 1\n",
    "\n",
    "sp.optimize.fmin_slsqp(f1logs, np.array([1, 1]), eqcons=[eq_constraint])"
   ]
  },
  {
   "cell_type": "code",
   "execution_count": 105,
   "metadata": {},
   "outputs": [
    {
     "name": "stdout",
     "output_type": "stream",
     "text": [
      "Optimization terminated successfully.    (Exit mode 0)\n",
      "            Current function value: 3.605551280732028\n",
      "            Iterations: 11\n",
      "            Function evaluations: 77\n",
      "            Gradient evaluations: 11\n"
     ]
    },
    {
     "data": {
      "text/plain": [
       "array([9.99999981e-01, 1.89941792e-08])"
      ]
     },
     "execution_count": 105,
     "metadata": {},
     "output_type": "execute_result"
    }
   ],
   "source": [
    "def f2(x):\n",
    "    return np.sqrt((x[0] - 4) ** 2 + (x[1] - 2) ** 2)\n",
    "\n",
    "def ieq_constraint(x):\n",
    "    return np.atleast_1d(1 - np.sum(np.abs(x)))\n",
    "\n",
    "sp.optimize.fmin_slsqp(f2, np.array([0, 0]), ieqcons=[ieq_constraint])"
   ]
  },
  {
   "cell_type": "code",
   "execution_count": 8,
   "metadata": {},
   "outputs": [],
   "source": [
    "def f2(x):\n",
    "    return np.sqrt((x[0]-4)**2 + (x[1]-2)**2)\n",
    "\n",
    "def ieq_constraint(x):\n",
    "    return np.atleast_1d(1-np.sum(np.abs(x)))"
   ]
  },
  {
   "cell_type": "code",
   "execution_count": 10,
   "metadata": {},
   "outputs": [
    {
     "name": "stdout",
     "output_type": "stream",
     "text": [
      "Optimization terminated successfully.    (Exit mode 0)\n",
      "            Current function value: 3.605551280732028\n",
      "            Iterations: 11\n",
      "            Function evaluations: 77\n",
      "            Gradient evaluations: 11\n"
     ]
    },
    {
     "data": {
      "text/plain": [
       "array([9.99999981e-01, 1.89941792e-08])"
      ]
     },
     "execution_count": 10,
     "metadata": {},
     "output_type": "execute_result"
    }
   ],
   "source": [
    "sp.optimize.fmin_slsqp(f2,np.array([0,0]), ieqcons=[ieq_constraint])"
   ]
  },
  {
   "cell_type": "code",
   "execution_count": null,
   "metadata": {},
   "outputs": [],
   "source": [
    "def f2(x):\n",
    "    return np.sqrt((x[0]-4)**2 + (x[1]-2)**2)\n",
    "\n",
    "def ieq_constraint(x):\n",
    "    return np.atleast_1d(1-np.sum(np.abs(x)))"
   ]
  },
  {
   "cell_type": "code",
   "execution_count": 28,
   "metadata": {},
   "outputs": [
    {
     "name": "stdout",
     "output_type": "stream",
     "text": [
      "Optimization terminated successfully.    (Exit mode 0)\n",
      "            Current function value: 3.605551280732028\n",
      "            Iterations: 11\n",
      "            Function evaluations: 77\n",
      "            Gradient evaluations: 11\n",
      "Optimization terminated successfully.    (Exit mode 0)\n",
      "            Current function value: 2.8284287493322235\n",
      "            Iterations: 8\n",
      "            Function evaluations: 38\n",
      "            Gradient evaluations: 8\n",
      "Optimization terminated successfully.    (Exit mode 0)\n",
      "            Current function value: 2.1213203438762323\n",
      "            Iterations: 6\n",
      "            Function evaluations: 24\n",
      "            Gradient evaluations: 6\n",
      "Optimization terminated successfully.    (Exit mode 0)\n",
      "            Current function value: 1.4142135623742935\n",
      "            Iterations: 5\n",
      "            Function evaluations: 21\n",
      "            Gradient evaluations: 5\n",
      "Optimization terminated successfully.    (Exit mode 0)\n",
      "            Current function value: 0.7071067910728857\n",
      "            Iterations: 5\n",
      "            Function evaluations: 20\n",
      "            Gradient evaluations: 5\n",
      "Optimization terminated successfully.    (Exit mode 0)\n",
      "            Current function value: 1.1148451784760296e-06\n",
      "            Iterations: 10\n",
      "            Function evaluations: 50\n",
      "            Gradient evaluations: 10\n",
      "Optimization terminated successfully.    (Exit mode 0)\n",
      "            Current function value: 1.1147588863973928e-06\n",
      "            Iterations: 22\n",
      "            Function evaluations: 107\n",
      "            Gradient evaluations: 22\n",
      "Optimization terminated successfully.    (Exit mode 0)\n",
      "            Current function value: 5.120937073346293e-07\n",
      "            Iterations: 19\n",
      "            Function evaluations: 96\n",
      "            Gradient evaluations: 19\n",
      "Optimization terminated successfully.    (Exit mode 0)\n",
      "            Current function value: 4.04176407312663e-07\n",
      "            Iterations: 13\n",
      "            Function evaluations: 69\n",
      "            Gradient evaluations: 13\n",
      "Optimization terminated successfully.    (Exit mode 0)\n",
      "            Current function value: 4.04176407312663e-07\n",
      "            Iterations: 13\n",
      "            Function evaluations: 69\n",
      "            Gradient evaluations: 13\n"
     ]
    },
    {
     "data": {
      "text/plain": [
       "[array([9.99999981e-01, 1.89941792e-08]),\n",
       " array([1.9978564, 0.0021436]),\n",
       " array([2.4999741, 0.5000259]),\n",
       " array([2.9999986, 1.0000014]),\n",
       " array([3.49991639, 1.50008361]),\n",
       " array([4.00000057, 1.99999904]),\n",
       " array([3.99999982, 1.9999989 ]),\n",
       " array([4.00000041, 2.00000031]),\n",
       " array([3.99999992, 1.9999996 ]),\n",
       " array([3.99999992, 1.9999996 ])]"
      ]
     },
     "execution_count": 28,
     "metadata": {},
     "output_type": "execute_result"
    }
   ],
   "source": [
    "ls=[]\n",
    "for i in range(1,11):\n",
    "    result=sp.optimize.fmin_slsqp(f2,np.array([0,0]), ieqcons=[lambda x: np.atleast_1d(i-np.sum(np.abs(x)))])\n",
    "    ls.append(result)\n",
    "ls"
   ]
  },
  {
   "cell_type": "code",
   "execution_count": 29,
   "metadata": {},
   "outputs": [],
   "source": [
    "import pandas as pd\n",
    "import matplotlib.pyplot as plt"
   ]
  },
  {
   "cell_type": "code",
   "execution_count": 33,
   "metadata": {},
   "outputs": [
    {
     "data": {
      "text/html": [
       "<div>\n",
       "<style scoped>\n",
       "    .dataframe tbody tr th:only-of-type {\n",
       "        vertical-align: middle;\n",
       "    }\n",
       "\n",
       "    .dataframe tbody tr th {\n",
       "        vertical-align: top;\n",
       "    }\n",
       "\n",
       "    .dataframe thead th {\n",
       "        text-align: right;\n",
       "    }\n",
       "</style>\n",
       "<table border=\"1\" class=\"dataframe\">\n",
       "  <thead>\n",
       "    <tr style=\"text-align: right;\">\n",
       "      <th></th>\n",
       "      <th>x</th>\n",
       "      <th>y</th>\n",
       "      <th>slop</th>\n",
       "    </tr>\n",
       "  </thead>\n",
       "  <tbody>\n",
       "    <tr>\n",
       "      <th>1</th>\n",
       "      <td>1.000000</td>\n",
       "      <td>1.899418e-08</td>\n",
       "      <td>1.899418e-08</td>\n",
       "    </tr>\n",
       "    <tr>\n",
       "      <th>2</th>\n",
       "      <td>1.997856</td>\n",
       "      <td>2.143601e-03</td>\n",
       "      <td>1.072950e-03</td>\n",
       "    </tr>\n",
       "    <tr>\n",
       "      <th>3</th>\n",
       "      <td>2.499974</td>\n",
       "      <td>5.000259e-01</td>\n",
       "      <td>2.000124e-01</td>\n",
       "    </tr>\n",
       "    <tr>\n",
       "      <th>4</th>\n",
       "      <td>2.999999</td>\n",
       "      <td>1.000001e+00</td>\n",
       "      <td>3.333340e-01</td>\n",
       "    </tr>\n",
       "    <tr>\n",
       "      <th>5</th>\n",
       "      <td>3.499916</td>\n",
       "      <td>1.500084e+00</td>\n",
       "      <td>4.286056e-01</td>\n",
       "    </tr>\n",
       "    <tr>\n",
       "      <th>6</th>\n",
       "      <td>4.000001</td>\n",
       "      <td>1.999999e+00</td>\n",
       "      <td>4.999997e-01</td>\n",
       "    </tr>\n",
       "    <tr>\n",
       "      <th>7</th>\n",
       "      <td>4.000000</td>\n",
       "      <td>1.999999e+00</td>\n",
       "      <td>4.999997e-01</td>\n",
       "    </tr>\n",
       "    <tr>\n",
       "      <th>8</th>\n",
       "      <td>4.000000</td>\n",
       "      <td>2.000000e+00</td>\n",
       "      <td>5.000000e-01</td>\n",
       "    </tr>\n",
       "    <tr>\n",
       "      <th>9</th>\n",
       "      <td>4.000000</td>\n",
       "      <td>2.000000e+00</td>\n",
       "      <td>4.999999e-01</td>\n",
       "    </tr>\n",
       "    <tr>\n",
       "      <th>10</th>\n",
       "      <td>4.000000</td>\n",
       "      <td>2.000000e+00</td>\n",
       "      <td>4.999999e-01</td>\n",
       "    </tr>\n",
       "  </tbody>\n",
       "</table>\n",
       "</div>"
      ],
      "text/plain": [
       "           x             y          slop\n",
       "1   1.000000  1.899418e-08  1.899418e-08\n",
       "2   1.997856  2.143601e-03  1.072950e-03\n",
       "3   2.499974  5.000259e-01  2.000124e-01\n",
       "4   2.999999  1.000001e+00  3.333340e-01\n",
       "5   3.499916  1.500084e+00  4.286056e-01\n",
       "6   4.000001  1.999999e+00  4.999997e-01\n",
       "7   4.000000  1.999999e+00  4.999997e-01\n",
       "8   4.000000  2.000000e+00  5.000000e-01\n",
       "9   4.000000  2.000000e+00  4.999999e-01\n",
       "10  4.000000  2.000000e+00  4.999999e-01"
      ]
     },
     "execution_count": 33,
     "metadata": {},
     "output_type": "execute_result"
    }
   ],
   "source": [
    "df=pd.DataFrame(ls,columns=['x','y'],index=[1,2,3,4,5,6,7,8,9,10])\n",
    "df['slop']=df['y']/df['x']\n",
    "df"
   ]
  }
 ],
 "metadata": {
  "kernelspec": {
   "display_name": "Python 3",
   "language": "python",
   "name": "python3"
  },
  "language_info": {
   "codemirror_mode": {
    "name": "ipython",
    "version": 3
   },
   "file_extension": ".py",
   "mimetype": "text/x-python",
   "name": "python",
   "nbconvert_exporter": "python",
   "pygments_lexer": "ipython3",
   "version": "3.6.4"
  }
 },
 "nbformat": 4,
 "nbformat_minor": 2
}
