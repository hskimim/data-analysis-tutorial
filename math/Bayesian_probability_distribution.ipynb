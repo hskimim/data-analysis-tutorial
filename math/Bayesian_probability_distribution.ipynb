{
 "cells": [
  {
   "cell_type": "markdown",
   "metadata": {},
   "source": [
    "확률 변수(random variable)이 확률론적으로 (모수에 기반해서)data generating을 합니다. 이러한 sample들이 어떻게 distributed되었는지에 따라서 parameter와 params 뒤의 rv에 대한 특성을 알 수 있게 됩니다. 따라서 random variable의 probability distribution에 대해서 알아야 합니다."
   ]
  },
  {
   "cell_type": "markdown",
   "metadata": {},
   "source": [
    "#### probability distribution\n",
    "- discrete probabiltiy distribution\n",
    "- continuous probabiltiy distribution\n",
    "- Bayesian probabiltiy distribution"
   ]
  },
  {
   "cell_type": "markdown",
   "metadata": {},
   "source": [
    "이번에는 베이지안 모수 분포에 대해서만 다루려고 합니다. 베이지안 모수 분포는 어디에서 어떻게 왜 쓰여야 하는지에 대해서 얘기해보려고 합니다."
   ]
  },
  {
   "cell_type": "markdown",
   "metadata": {},
   "source": [
    "- Bayesian probabiltiy distribution\n",
    "    - Beta distribution\n",
    "    - Dirichlet distribution\n",
    "    - Gamma distribution"
   ]
  },
  {
   "cell_type": "markdown",
   "metadata": {},
   "source": [
    "- 본격적으로 베이지언 모수 분포에 대해서 다루기 전에, 이것은 언제 왜 쓰는지에 대해서 먼저 다루고 시작하려고 합니다.\n",
    "- 이전에 말씀드렸던 MAP기억나시나요?\n",
    "- MLE에서 prior와 posterior component를 추가해서, 주어진 data에 대해서만 가지는 관점을 넘어서서 좀 더 general한 모수 추정을 할 수 있게 하기 위해서는, f(X|theta),L(theta;x)(likelihood) 와 f(theta)(prior)를 알아야 했습니다. 여기서, prior를 구하는 데에 필요한 것이 바로 베이지언 모수 분포입니다.\n",
    "- 베이지안 추정은 추정하고자 하는 모수의 값을 하나의 숫자로 나타내는 것이 아니라 분포로 묘사합니다."
   ]
  },
  {
   "cell_type": "markdown",
   "metadata": {},
   "source": [
    "- Beta distribution\n",
    "    - 0<=x<=1 의 값을 가지는 경우 : a,b 두 개의 parameter를 가집니다.\n",
    "    - ex) Bernoulli distribution의 hyper-parameter\n",
    "- Dirichlet distribution\n",
    "    - 0<=x<=1 의 값을 가지는 경우 & 그러한 경우가 k개 있는 경우 : a_k k개의 parameter를 가집니다. \n",
    "    - ex) categorical distribution의 hyper-parameter\n",
    "- Gamma distribution\n",
    "    - 0<=x<infinite 의 값을 가지는 경우"
   ]
  }
 ],
 "metadata": {
  "kernelspec": {
   "display_name": "Python 3",
   "language": "python",
   "name": "python3"
  },
  "language_info": {
   "codemirror_mode": {
    "name": "ipython",
    "version": 3
   },
   "file_extension": ".py",
   "mimetype": "text/x-python",
   "name": "python",
   "nbconvert_exporter": "python",
   "pygments_lexer": "ipython3",
   "version": "3.6.5"
  }
 },
 "nbformat": 4,
 "nbformat_minor": 2
}
