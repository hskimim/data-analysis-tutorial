{
 "cells": [
  {
   "cell_type": "code",
   "execution_count": 5,
   "metadata": {},
   "outputs": [],
   "source": [
    "import numpy as np\n",
    "import seaborn as sns\n",
    "import matplotlib.pylab as plt\n",
    "import pandas as pd\n",
    "import statsmodels.api as sm\n",
    "import scipy as sp"
   ]
  },
  {
   "cell_type": "markdown",
   "metadata": {},
   "source": [
    "## 스케일링과 변수 변환\n",
    "- 회귀분석에 사용되는 데이터는 그 자체로 사용하기 보다는 스케일링이나 함수 변환 등의 전처리 과정을 거치는 경우가 많다.\n",
    "- 공분산 행렬의 조건을 향상시키거나 데이터 간의 관계를 선형 모형에 맞게 바꾸기 위해 사용된다."
   ]
  },
  {
   "cell_type": "markdown",
   "metadata": {},
   "source": [
    "### 조건수\n",
    "- 공분산 행렬의 가장 큰 고유치와 가장 작은 고유치의 비율을 뜻하며 조건수가 크면 역행렬을 계산할 때 오차가 미치는 영향이 커진다."
   ]
  },
  {
   "cell_type": "code",
   "execution_count": 17,
   "metadata": {},
   "outputs": [],
   "source": [
    "A = np.eye(4)"
   ]
  },
  {
   "cell_type": "code",
   "execution_count": 21,
   "metadata": {},
   "outputs": [
    {
     "data": {
      "text/plain": [
       "1.0"
      ]
     },
     "execution_count": 21,
     "metadata": {},
     "output_type": "execute_result"
    }
   ],
   "source": [
    "b = np.ones(4)\n",
    "np.linalg.cond(A)"
   ]
  },
  {
   "cell_type": "code",
   "execution_count": 22,
   "metadata": {},
   "outputs": [
    {
     "data": {
      "text/plain": [
       "array([1., 1., 1., 1.])"
      ]
     },
     "execution_count": 22,
     "metadata": {},
     "output_type": "execute_result"
    }
   ],
   "source": [
    "sp.linalg.solve(A,b)"
   ]
  },
  {
   "cell_type": "code",
   "execution_count": 19,
   "metadata": {},
   "outputs": [
    {
     "data": {
      "text/plain": [
       "array([0.99990001, 0.99990001, 0.99990001, 0.99990001])"
      ]
     },
     "execution_count": 19,
     "metadata": {},
     "output_type": "execute_result"
    }
   ],
   "source": [
    "sp.linalg.solve(A + 0.0001*np.eye(4) , b)"
   ]
  },
  {
   "cell_type": "code",
   "execution_count": 23,
   "metadata": {},
   "outputs": [
    {
     "data": {
      "text/plain": [
       "array([[1.        , 0.5       , 0.33333333, 0.25      ],\n",
       "       [0.5       , 0.33333333, 0.25      , 0.2       ],\n",
       "       [0.33333333, 0.25      , 0.2       , 0.16666667],\n",
       "       [0.25      , 0.2       , 0.16666667, 0.14285714]])"
      ]
     },
     "execution_count": 23,
     "metadata": {},
     "output_type": "execute_result"
    }
   ],
   "source": [
    "A = sp.linalg.hilbert(4)\n",
    "A"
   ]
  },
  {
   "cell_type": "code",
   "execution_count": 24,
   "metadata": {},
   "outputs": [
    {
     "data": {
      "text/plain": [
       "15513.738738929038"
      ]
     },
     "execution_count": 24,
     "metadata": {},
     "output_type": "execute_result"
    }
   ],
   "source": [
    "np.linalg.cond(A)"
   ]
  },
  {
   "cell_type": "code",
   "execution_count": 25,
   "metadata": {},
   "outputs": [
    {
     "data": {
      "text/plain": [
       "array([  -4.,   60., -180.,  140.])"
      ]
     },
     "execution_count": 25,
     "metadata": {},
     "output_type": "execute_result"
    }
   ],
   "source": [
    "sp.linalg.solve(A,b)"
   ]
  },
  {
   "cell_type": "code",
   "execution_count": 26,
   "metadata": {},
   "outputs": [
    {
     "data": {
      "text/plain": [
       "array([ -0.58897672,  21.1225671 , -85.75912499,  78.45650825])"
      ]
     },
     "execution_count": 26,
     "metadata": {},
     "output_type": "execute_result"
    }
   ],
   "source": [
    "sp.linalg.solve(A + 0.0001*np.eye(4) , b)"
   ]
  },
  {
   "cell_type": "markdown",
   "metadata": {},
   "source": [
    "- 변수들의 단위 차이로 인해 숫자의 스케일이 크게 달라지는 경우, 이 경우에는 스케일링(scaling)으로 해결한다.\n",
    "- 다중 공선성(multicollinearity) 즉 상관관계가 큰 독립 변수들이 있는 경우, 이 경우에는 변수 선택이나 PCA를 사용한 차원 축소 등으로 해결한다."
   ]
  },
  {
   "cell_type": "code",
   "execution_count": 32,
   "metadata": {
    "scrolled": false
   },
   "outputs": [
    {
     "name": "stdout",
     "output_type": "stream",
     "text": [
      "                            OLS Regression Results                            \n",
      "==============================================================================\n",
      "Dep. Variable:                   MEDV   R-squared:                       0.741\n",
      "Model:                            OLS   Adj. R-squared:                  0.734\n",
      "Method:                 Least Squares   F-statistic:                     108.1\n",
      "Date:                Mon, 02 Jul 2018   Prob (F-statistic):          6.95e-135\n",
      "Time:                        17:37:59   Log-Likelihood:                -1498.8\n",
      "No. Observations:                 506   AIC:                             3026.\n",
      "Df Residuals:                     492   BIC:                             3085.\n",
      "Df Model:                          13                                         \n",
      "Covariance Type:            nonrobust                                         \n",
      "==============================================================================\n",
      "                 coef    std err          t      P>|t|      [0.025      0.975]\n",
      "------------------------------------------------------------------------------\n",
      "Intercept     36.4911      5.104      7.149      0.000      26.462      46.520\n",
      "CRIM          -0.1072      0.033     -3.276      0.001      -0.171      -0.043\n",
      "ZN             0.0464      0.014      3.380      0.001       0.019       0.073\n",
      "INDUS          0.0209      0.061      0.339      0.735      -0.100       0.142\n",
      "NOX          -17.7958      3.821     -4.658      0.000     -25.302     -10.289\n",
      "RM             3.8048      0.418      9.102      0.000       2.983       4.626\n",
      "AGE            0.0008      0.013      0.057      0.955      -0.025       0.027\n",
      "DIS           -1.4758      0.199     -7.398      0.000      -1.868      -1.084\n",
      "RAD            0.3057      0.066      4.608      0.000       0.175       0.436\n",
      "TAX           -0.0123      0.004     -3.278      0.001      -0.020      -0.005\n",
      "PTRATIO       -0.9535      0.131     -7.287      0.000      -1.211      -0.696\n",
      "B              0.0094      0.003      3.500      0.001       0.004       0.015\n",
      "LSTAT         -0.5255      0.051    -10.366      0.000      -0.625      -0.426\n",
      "CHAS           2.6886      0.862      3.120      0.002       0.996       4.381\n",
      "==============================================================================\n",
      "Omnibus:                      178.029   Durbin-Watson:                   1.078\n",
      "Prob(Omnibus):                  0.000   Jarque-Bera (JB):              782.015\n",
      "Skew:                           1.521   Prob(JB):                    1.54e-170\n",
      "Kurtosis:                       8.276   Cond. No.                     1.51e+04\n",
      "==============================================================================\n",
      "\n",
      "Warnings:\n",
      "[1] Standard Errors assume that the covariance matrix of the errors is correctly specified.\n",
      "[2] The condition number is large, 1.51e+04. This might indicate that there are\n",
      "strong multicollinearity or other numerical problems.\n"
     ]
    }
   ],
   "source": [
    "from sklearn.datasets import load_boston\n",
    "boston = load_boston()\n",
    "dfX = pd.DataFrame(boston.data,columns=boston.feature_names)\n",
    "dfy = pd.DataFrame(boston.target,columns=['MEDV'])\n",
    "df = pd.concat([dfX,dfy],axis=1)\n",
    "model1 = sm.OLS.from_formula(\"MEDV ~ \"\n",
    "                             \"CRIM + ZN + INDUS + NOX + RM + AGE + \"\n",
    "                             \"DIS + RAD + TAX + PTRATIO + B + LSTAT + CHAS\", \n",
    "                             data=df)\n",
    "result1 = model1.fit()\n",
    "print(result1.summary())"
   ]
  },
  {
   "cell_type": "code",
   "execution_count": 31,
   "metadata": {},
   "outputs": [
    {
     "name": "stdout",
     "output_type": "stream",
     "text": [
      "                            OLS Regression Results                            \n",
      "==============================================================================\n",
      "Dep. Variable:                   MEDV   R-squared:                       0.741\n",
      "Model:                            OLS   Adj. R-squared:                  0.734\n",
      "Method:                 Least Squares   F-statistic:                     108.1\n",
      "Date:                Mon, 02 Jul 2018   Prob (F-statistic):          6.95e-135\n",
      "Time:                        17:37:45   Log-Likelihood:                -1498.8\n",
      "No. Observations:                 506   AIC:                             3026.\n",
      "Df Residuals:                     492   BIC:                             3085.\n",
      "Df Model:                          13                                         \n",
      "Covariance Type:            nonrobust                                         \n",
      "==================================================================================\n",
      "                     coef    std err          t      P>|t|      [0.025      0.975]\n",
      "----------------------------------------------------------------------------------\n",
      "Intercept         22.3468      0.219    101.936      0.000      21.916      22.778\n",
      "scale(CRIM)       -0.9204      0.281     -3.276      0.001      -1.472      -0.368\n",
      "scale(ZN)          1.0810      0.320      3.380      0.001       0.453       1.709\n",
      "scale(INDUS)       0.1430      0.421      0.339      0.735      -0.685       0.971\n",
      "scale(NOX)        -2.0601      0.442     -4.658      0.000      -2.929      -1.191\n",
      "scale(RM)          2.6706      0.293      9.102      0.000       2.094       3.247\n",
      "scale(AGE)         0.0211      0.371      0.057      0.955      -0.709       0.751\n",
      "scale(DIS)        -3.1044      0.420     -7.398      0.000      -3.929      -2.280\n",
      "scale(RAD)         2.6588      0.577      4.608      0.000       1.525       3.792\n",
      "scale(TAX)        -2.0759      0.633     -3.278      0.001      -3.320      -0.832\n",
      "scale(PTRATIO)    -2.0622      0.283     -7.287      0.000      -2.618      -1.506\n",
      "scale(B)           0.8566      0.245      3.500      0.001       0.376       1.338\n",
      "scale(LSTAT)      -3.7487      0.362    -10.366      0.000      -4.459      -3.038\n",
      "CHAS               2.6886      0.862      3.120      0.002       0.996       4.381\n",
      "==============================================================================\n",
      "Omnibus:                      178.029   Durbin-Watson:                   1.078\n",
      "Prob(Omnibus):                  0.000   Jarque-Bera (JB):              782.015\n",
      "Skew:                           1.521   Prob(JB):                    1.54e-170\n",
      "Kurtosis:                       8.276   Cond. No.                         10.6\n",
      "==============================================================================\n",
      "\n",
      "Warnings:\n",
      "[1] Standard Errors assume that the covariance matrix of the errors is correctly specified.\n"
     ]
    }
   ],
   "source": [
    "model2 = sm.OLS.from_formula(\"MEDV ~ \"\n",
    "                             \"scale(CRIM) + scale(ZN) + scale(INDUS) + scale(NOX) + scale(RM) + scale(AGE) + \"\n",
    "                             \"scale(DIS) + scale(RAD) + scale(TAX) + scale(PTRATIO) + scale(B) + scale(LSTAT) + CHAS\", \n",
    "                             data=df)\n",
    "result2 = model2.fit()\n",
    "print(result2.summary())"
   ]
  },
  {
   "cell_type": "markdown",
   "metadata": {},
   "source": [
    "### 변수 변환\n",
    "- 다음과 같은 경우에는 로그 함수 혹은 제곱근 함수 등을 사용하여 변환된 변수를 사용하면 회귀 성능이 향상될 수 있다.\n",
    "    - 독립 변수나 종속 변수가 심하게 한쪽으로 치우친 분포를 보이는 경우\n",
    "    - 독립 변수나 종속 변수간의 관계가 곱셈 혹은 나눗셈으로 연결된 경우\n",
    "    - 종속 변수와 예측치가 비선형 관계를 보이는 경우"
   ]
  },
  {
   "cell_type": "code",
   "execution_count": 33,
   "metadata": {
    "scrolled": true
   },
   "outputs": [
    {
     "name": "stdout",
     "output_type": "stream",
     "text": [
      "                            OLS Regression Results                            \n",
      "==============================================================================\n",
      "Dep. Variable:           np.log(MEDV)   R-squared:                       0.817\n",
      "Model:                            OLS   Adj. R-squared:                  0.811\n",
      "Method:                 Least Squares   F-statistic:                     145.4\n",
      "Date:                Mon, 02 Jul 2018   Prob (F-statistic):          1.97e-169\n",
      "Time:                        17:39:52   Log-Likelihood:                 164.24\n",
      "No. Observations:                 506   AIC:                            -296.5\n",
      "Df Residuals:                     490   BIC:                            -228.9\n",
      "Df Model:                          15                                         \n",
      "Covariance Type:            nonrobust                                         \n",
      "==========================================================================================\n",
      "                             coef    std err          t      P>|t|      [0.025      0.975]\n",
      "------------------------------------------------------------------------------------------\n",
      "Intercept                  3.0290      0.008    368.850      0.000       3.013       3.045\n",
      "scale(CRIM)               -0.2548      0.030     -8.409      0.000      -0.314      -0.195\n",
      "scale(I(CRIM ** 2))        0.1225      0.024      5.143      0.000       0.076       0.169\n",
      "scale(ZN)                 -0.0388      0.031     -1.247      0.213      -0.100       0.022\n",
      "scale(I(ZN ** 2))          0.0359      0.028      1.296      0.196      -0.019       0.090\n",
      "scale(INDUS)               0.0009      0.016      0.055      0.957      -0.031       0.032\n",
      "scale(NOX)                -0.1134      0.017     -6.518      0.000      -0.148      -0.079\n",
      "scale(RM)                  0.0372      0.012      3.204      0.001       0.014       0.060\n",
      "scale(AGE)                 0.0092      0.014      0.637      0.524      -0.019       0.038\n",
      "scale(np.log(DIS))        -0.1260      0.018     -6.848      0.000      -0.162      -0.090\n",
      "scale(RAD)                 0.1812      0.024      7.560      0.000       0.134       0.228\n",
      "scale(TAX)                -0.1107      0.024     -4.660      0.000      -0.157      -0.064\n",
      "scale(np.log(PTRATIO))    -0.0830      0.011     -7.607      0.000      -0.104      -0.062\n",
      "scale(B)                   0.0296      0.009      3.195      0.001       0.011       0.048\n",
      "scale(np.log(LSTAT))      -0.2243      0.014    -15.467      0.000      -0.253      -0.196\n",
      "CHAS                       0.0797      0.032      2.463      0.014       0.016       0.143\n",
      "==============================================================================\n",
      "Omnibus:                       38.120   Durbin-Watson:                   1.185\n",
      "Prob(Omnibus):                  0.000   Jarque-Bera (JB):              164.197\n",
      "Skew:                           0.029   Prob(JB):                     2.21e-36\n",
      "Kurtosis:                       5.790   Cond. No.                         13.5\n",
      "==============================================================================\n",
      "\n",
      "Warnings:\n",
      "[1] Standard Errors assume that the covariance matrix of the errors is correctly specified.\n"
     ]
    }
   ],
   "source": [
    "model3 = sm.OLS.from_formula(\"np.log(MEDV) ~ \"\n",
    "                             \"scale(CRIM) + scale(I(CRIM ** 2)) + \"\n",
    "                             \"scale(ZN) + scale(I(ZN ** 2)) + \"\n",
    "                             \"scale(INDUS) + \"\n",
    "                             \"scale(NOX) + scale(RM) + scale(AGE) + \"\n",
    "                             \"scale(np.log(DIS)) + scale(RAD) + scale(TAX) + \"\n",
    "                             \"scale(np.log(PTRATIO)) + scale(B) + scale(np.log(LSTAT)) + CHAS\", \n",
    "                             data=df)\n",
    "result3 = model3.fit()\n",
    "print(result3.summary())"
   ]
  },
  {
   "cell_type": "code",
   "execution_count": 34,
   "metadata": {},
   "outputs": [
    {
     "data": {
      "text/plain": [
       "array([  7,  54, 148, 152, 160, 214, 253, 267, 364, 365, 367, 368, 369,\n",
       "       371, 372, 374, 380, 385, 397, 398, 399, 400, 401, 405, 409, 410,\n",
       "       412, 413, 414, 415, 416, 418, 419, 426, 445, 489, 490, 492, 505,\n",
       "       161, 162, 163, 166, 186, 195, 204, 225, 257, 267, 283, 368, 369,\n",
       "       370, 371, 372])"
      ]
     },
     "execution_count": 34,
     "metadata": {},
     "output_type": "execute_result"
    }
   ],
   "source": [
    "# 아웃라이어 제거\n",
    "influence3 = result3.get_influence()\n",
    "cooks_d2, pvals = influence3.cooks_distance\n",
    "fox_cr = 4 / (len(df) - 2)\n",
    "idx_outlier = np.where(cooks_d2 > fox_cr)[0]\n",
    "# MEDV = 50 제거\n",
    "idx_outlier = np.hstack([idx_outlier, np.where(boston.target == 50)[0]])\n",
    "idx_outlier\n"
   ]
  },
  {
   "cell_type": "code",
   "execution_count": 35,
   "metadata": {},
   "outputs": [
    {
     "data": {
      "image/png": "[encoded data removed]",
      "text/plain": [
       "<Figure size 432x288 with 1 Axes>"
      ]
     },
     "metadata": {},
     "output_type": "display_data"
    }
   ],
   "source": [
    "pred = result3.predict(df)\n",
    "ax = plt.subplot()\n",
    "plt.scatter(np.log(dfy), pred)\n",
    "plt.scatter(np.log(dfy.MEDV[idx_outlier]), pred[idx_outlier], s=300, c=\"r\", alpha=0.5)\n",
    "plt.show()"
   ]
  },
  {
   "cell_type": "code",
   "execution_count": 36,
   "metadata": {},
   "outputs": [],
   "source": [
    "idx = list(set(range(len(df))).difference(idx_outlier))\n",
    "df4 = df.iloc[idx, :].reset_index(drop=True)"
   ]
  },
  {
   "cell_type": "code",
   "execution_count": 37,
   "metadata": {
    "scrolled": true
   },
   "outputs": [
    {
     "name": "stdout",
     "output_type": "stream",
     "text": [
      "                            OLS Regression Results                            \n",
      "==============================================================================\n",
      "Dep. Variable:           np.log(MEDV)   R-squared:                       0.872\n",
      "Model:                            OLS   Adj. R-squared:                  0.868\n",
      "Method:                 Least Squares   F-statistic:                     199.9\n",
      "Date:                Mon, 02 Jul 2018   Prob (F-statistic):          1.56e-185\n",
      "Time:                        17:40:29   Log-Likelihood:                 317.45\n",
      "No. Observations:                 456   AIC:                            -602.9\n",
      "Df Residuals:                     440   BIC:                            -536.9\n",
      "Df Model:                          15                                         \n",
      "Covariance Type:            nonrobust                                         \n",
      "==========================================================================================\n",
      "                             coef    std err          t      P>|t|      [0.025      0.975]\n",
      "------------------------------------------------------------------------------------------\n",
      "Intercept                  3.0383      0.006    512.183      0.000       3.027       3.050\n",
      "scale(CRIM)               -0.2115      0.027     -7.976      0.000      -0.264      -0.159\n",
      "scale(I(CRIM ** 2))        0.0796      0.018      4.331      0.000       0.043       0.116\n",
      "scale(ZN)                 -0.0464      0.022     -2.110      0.035      -0.090      -0.003\n",
      "scale(I(ZN ** 2))          0.0435      0.020      2.206      0.028       0.005       0.082\n",
      "scale(INDUS)               0.0036      0.011      0.323      0.747      -0.018       0.026\n",
      "scale(NOX)                -0.0648      0.013     -5.001      0.000      -0.090      -0.039\n",
      "scale(RM)                  0.0852      0.009      9.195      0.000       0.067       0.103\n",
      "scale(AGE)                -0.0271      0.011     -2.438      0.015      -0.049      -0.005\n",
      "scale(np.log(DIS))        -0.0968      0.013     -7.368      0.000      -0.123      -0.071\n",
      "scale(RAD)                 0.1564      0.019      8.106      0.000       0.118       0.194\n",
      "scale(TAX)                -0.0894      0.017     -5.153      0.000      -0.124      -0.055\n",
      "scale(np.log(PTRATIO))    -0.0681      0.008     -8.872      0.000      -0.083      -0.053\n",
      "scale(B)                   0.0446      0.007      6.699      0.000       0.031       0.058\n",
      "scale(np.log(LSTAT))      -0.1378      0.012    -11.074      0.000      -0.162      -0.113\n",
      "CHAS                       0.0659      0.026      2.580      0.010       0.016       0.116\n",
      "==============================================================================\n",
      "Omnibus:                       28.653   Durbin-Watson:                   1.309\n",
      "Prob(Omnibus):                  0.000   Jarque-Bera (JB):               43.266\n",
      "Skew:                           0.465   Prob(JB):                     4.03e-10\n",
      "Kurtosis:                       4.188   Cond. No.                         15.7\n",
      "==============================================================================\n",
      "\n",
      "Warnings:\n",
      "[1] Standard Errors assume that the covariance matrix of the errors is correctly specified.\n"
     ]
    }
   ],
   "source": [
    "model4 = sm.OLS.from_formula(\"np.log(MEDV) ~ \"\n",
    "                             \"scale(CRIM) + scale(I(CRIM ** 2)) + \"\n",
    "                             \"scale(ZN) + scale(I(ZN ** 2)) + \"\n",
    "                             \"scale(INDUS) + \"\n",
    "                             \"scale(NOX) + scale(RM) + scale(AGE) + \"\n",
    "                             \"scale(np.log(DIS)) + scale(RAD) + scale(TAX) + \"\n",
    "                             \"scale(np.log(PTRATIO)) + scale(B) + scale(np.log(LSTAT)) + CHAS\", \n",
    "                             data=df4)\n",
    "result4 = model4.fit()\n",
    "print(result4.summary())"
   ]
  },
  {
   "cell_type": "markdown",
   "metadata": {},
   "source": [
    "### Multiconllinearity\n",
    "- 다중공선성이란 독립 변수의 일부가 다른 독립 변수의 조합으로 표현될 수 있는 경우를 의미한다.\n",
    "- 독립 변수들이 서로 독립이 아니라 상호상관관계가 강한 경우에 발생한다."
   ]
  },
  {
   "cell_type": "code",
   "execution_count": 40,
   "metadata": {},
   "outputs": [
    {
     "data": {
      "image/png": "[encoded data removed]",
      "text/plain": [
       "<Figure size 1080x1080 with 42 Axes>"
      ]
     },
     "metadata": {},
     "output_type": "display_data"
    }
   ],
   "source": [
    "from statsmodels.datasets.longley import load_pandas\n",
    "dfy = load_pandas().endog\n",
    "dfX = load_pandas().exog\n",
    "df = pd.concat([dfy,dfX],axis=1)\n",
    "sns.pairplot(dfX)\n",
    "plt.show()"
   ]
  },
  {
   "cell_type": "code",
   "execution_count": 41,
   "metadata": {},
   "outputs": [
    {
     "data": {
      "text/html": [
       "<div>\n",
       "<style scoped>\n",
       "    .dataframe tbody tr th:only-of-type {\n",
       "        vertical-align: middle;\n",
       "    }\n",
       "\n",
       "    .dataframe tbody tr th {\n",
       "        vertical-align: top;\n",
       "    }\n",
       "\n",
       "    .dataframe thead th {\n",
       "        text-align: right;\n",
       "    }\n",
       "</style>\n",
       "<table border=\"1\" class=\"dataframe\">\n",
       "  <thead>\n",
       "    <tr style=\"text-align: right;\">\n",
       "      <th></th>\n",
       "      <th>GNPDEFL</th>\n",
       "      <th>GNP</th>\n",
       "      <th>UNEMP</th>\n",
       "      <th>ARMED</th>\n",
       "      <th>POP</th>\n",
       "      <th>YEAR</th>\n",
       "    </tr>\n",
       "  </thead>\n",
       "  <tbody>\n",
       "    <tr>\n",
       "      <th>GNPDEFL</th>\n",
       "      <td>1.000000</td>\n",
       "      <td>0.991589</td>\n",
       "      <td>0.620633</td>\n",
       "      <td>0.464744</td>\n",
       "      <td>0.979163</td>\n",
       "      <td>0.991149</td>\n",
       "    </tr>\n",
       "    <tr>\n",
       "      <th>GNP</th>\n",
       "      <td>0.991589</td>\n",
       "      <td>1.000000</td>\n",
       "      <td>0.604261</td>\n",
       "      <td>0.446437</td>\n",
       "      <td>0.991090</td>\n",
       "      <td>0.995273</td>\n",
       "    </tr>\n",
       "    <tr>\n",
       "      <th>UNEMP</th>\n",
       "      <td>0.620633</td>\n",
       "      <td>0.604261</td>\n",
       "      <td>1.000000</td>\n",
       "      <td>-0.177421</td>\n",
       "      <td>0.686552</td>\n",
       "      <td>0.668257</td>\n",
       "    </tr>\n",
       "    <tr>\n",
       "      <th>ARMED</th>\n",
       "      <td>0.464744</td>\n",
       "      <td>0.446437</td>\n",
       "      <td>-0.177421</td>\n",
       "      <td>1.000000</td>\n",
       "      <td>0.364416</td>\n",
       "      <td>0.417245</td>\n",
       "    </tr>\n",
       "    <tr>\n",
       "      <th>POP</th>\n",
       "      <td>0.979163</td>\n",
       "      <td>0.991090</td>\n",
       "      <td>0.686552</td>\n",
       "      <td>0.364416</td>\n",
       "      <td>1.000000</td>\n",
       "      <td>0.993953</td>\n",
       "    </tr>\n",
       "    <tr>\n",
       "      <th>YEAR</th>\n",
       "      <td>0.991149</td>\n",
       "      <td>0.995273</td>\n",
       "      <td>0.668257</td>\n",
       "      <td>0.417245</td>\n",
       "      <td>0.993953</td>\n",
       "      <td>1.000000</td>\n",
       "    </tr>\n",
       "  </tbody>\n",
       "</table>\n",
       "</div>"
      ],
      "text/plain": [
       "          GNPDEFL       GNP     UNEMP     ARMED       POP      YEAR\n",
       "GNPDEFL  1.000000  0.991589  0.620633  0.464744  0.979163  0.991149\n",
       "GNP      0.991589  1.000000  0.604261  0.446437  0.991090  0.995273\n",
       "UNEMP    0.620633  0.604261  1.000000 -0.177421  0.686552  0.668257\n",
       "ARMED    0.464744  0.446437 -0.177421  1.000000  0.364416  0.417245\n",
       "POP      0.979163  0.991090  0.686552  0.364416  1.000000  0.993953\n",
       "YEAR     0.991149  0.995273  0.668257  0.417245  0.993953  1.000000"
      ]
     },
     "execution_count": 41,
     "metadata": {},
     "output_type": "execute_result"
    }
   ],
   "source": [
    "dfX.corr()"
   ]
  },
  {
   "cell_type": "code",
   "execution_count": 44,
   "metadata": {},
   "outputs": [
    {
     "data": {
      "image/png": "[encoded data removed]",
      "text/plain": [
       "<Figure size 432x288 with 2 Axes>"
      ]
     },
     "metadata": {},
     "output_type": "display_data"
    }
   ],
   "source": [
    "sns.heatmap(dfX.corr(),annot=True)\n",
    "plt.show()"
   ]
  },
  {
   "cell_type": "code",
   "execution_count": 45,
   "metadata": {
    "scrolled": true
   },
   "outputs": [
    {
     "name": "stdout",
     "output_type": "stream",
     "text": [
      "                            OLS Regression Results                            \n",
      "==============================================================================\n",
      "Dep. Variable:                 TOTEMP   R-squared:                       0.995\n",
      "Model:                            OLS   Adj. R-squared:                  0.992\n",
      "Method:                 Least Squares   F-statistic:                     330.3\n",
      "Date:                Mon, 02 Jul 2018   Prob (F-statistic):           4.98e-10\n",
      "Time:                        17:45:20   Log-Likelihood:                -109.62\n",
      "No. Observations:                  16   AIC:                             233.2\n",
      "Df Residuals:                       9   BIC:                             238.6\n",
      "Df Model:                           6                                         \n",
      "Covariance Type:            nonrobust                                         \n",
      "==============================================================================\n",
      "                 coef    std err          t      P>|t|      [0.025      0.975]\n",
      "------------------------------------------------------------------------------\n",
      "Intercept  -3.482e+06    8.9e+05     -3.911      0.004    -5.5e+06   -1.47e+06\n",
      "GNPDEFL       15.0619     84.915      0.177      0.863    -177.029     207.153\n",
      "POP           -0.0511      0.226     -0.226      0.826      -0.563       0.460\n",
      "GNP           -0.0358      0.033     -1.070      0.313      -0.112       0.040\n",
      "YEAR        1829.1515    455.478      4.016      0.003     798.788    2859.515\n",
      "ARMED         -1.0332      0.214     -4.822      0.001      -1.518      -0.549\n",
      "UNEMP         -2.0202      0.488     -4.136      0.003      -3.125      -0.915\n",
      "==============================================================================\n",
      "Omnibus:                        0.749   Durbin-Watson:                   2.559\n",
      "Prob(Omnibus):                  0.688   Jarque-Bera (JB):                0.684\n",
      "Skew:                           0.420   Prob(JB):                        0.710\n",
      "Kurtosis:                       2.434   Cond. No.                     4.86e+09\n",
      "==============================================================================\n",
      "\n",
      "Warnings:\n",
      "[1] Standard Errors assume that the covariance matrix of the errors is correctly specified.\n",
      "[2] The condition number is large, 4.86e+09. This might indicate that there are\n",
      "strong multicollinearity or other numerical problems.\n"
     ]
    },
    {
     "name": "stderr",
     "output_type": "stream",
     "text": [
      "/home/hskimim/anaconda3/lib/python3.6/site-packages/scipy/stats/stats.py:1394: UserWarning: kurtosistest only valid for n>=20 ... continuing anyway, n=16\n",
      "  \"anyway, n=%i\" % int(n))\n"
     ]
    }
   ],
   "source": [
    "model = sm.OLS.from_formula(\"TOTEMP ~ \"\n",
    "                            \"GNPDEFL + POP + GNP + \"\n",
    "                            \"YEAR + ARMED + UNEMP\", data=df)\n",
    "result = model.fit()\n",
    "print(result.summary())"
   ]
  },
  {
   "cell_type": "markdown",
   "metadata": {},
   "source": [
    "다중 공선성이 있으면 독립 변수의 공분산 행렬의 조건수가 증가한다. 조건수는 독립변수가 스케일링 되어 있지 않아도 증가하므로 일단 스케일링을 통해 조건수를 감소시킨다."
   ]
  },
  {
   "cell_type": "code",
   "execution_count": 46,
   "metadata": {
    "scrolled": true
   },
   "outputs": [
    {
     "name": "stdout",
     "output_type": "stream",
     "text": [
      "                            OLS Regression Results                            \n",
      "==============================================================================\n",
      "Dep. Variable:                 TOTEMP   R-squared:                       0.995\n",
      "Model:                            OLS   Adj. R-squared:                  0.992\n",
      "Method:                 Least Squares   F-statistic:                     330.3\n",
      "Date:                Mon, 02 Jul 2018   Prob (F-statistic):           4.98e-10\n",
      "Time:                        17:46:04   Log-Likelihood:                -109.62\n",
      "No. Observations:                  16   AIC:                             233.2\n",
      "Df Residuals:                       9   BIC:                             238.6\n",
      "Df Model:                           6                                         \n",
      "Covariance Type:            nonrobust                                         \n",
      "==================================================================================\n",
      "                     coef    std err          t      P>|t|      [0.025      0.975]\n",
      "----------------------------------------------------------------------------------\n",
      "Intercept       6.532e+04     76.214    857.026      0.000    6.51e+04    6.55e+04\n",
      "scale(GNPDEFL)   157.3796    887.266      0.177      0.863   -1849.755    2164.514\n",
      "scale(POP)      -344.1972   1522.652     -0.226      0.826   -3788.675    3100.281\n",
      "scale(GNP)     -3447.1925   3223.132     -1.070      0.313   -1.07e+04    3844.039\n",
      "scale(YEAR)     8431.9716   2099.652      4.016      0.003    3682.229    1.32e+04\n",
      "scale(ARMED)    -696.2102    144.382     -4.822      0.001   -1022.826    -369.594\n",
      "scale(UNEMP)   -1827.8860    441.900     -4.136      0.003   -2827.533    -828.239\n",
      "==============================================================================\n",
      "Omnibus:                        0.749   Durbin-Watson:                   2.559\n",
      "Prob(Omnibus):                  0.688   Jarque-Bera (JB):                0.684\n",
      "Skew:                           0.420   Prob(JB):                        0.710\n",
      "Kurtosis:                       2.434   Cond. No.                         111.\n",
      "==============================================================================\n",
      "\n",
      "Warnings:\n",
      "[1] Standard Errors assume that the covariance matrix of the errors is correctly specified.\n"
     ]
    },
    {
     "name": "stderr",
     "output_type": "stream",
     "text": [
      "/home/hskimim/anaconda3/lib/python3.6/site-packages/scipy/stats/stats.py:1394: UserWarning: kurtosistest only valid for n>=20 ... continuing anyway, n=16\n",
      "  \"anyway, n=%i\" % int(n))\n"
     ]
    }
   ],
   "source": [
    "model = sm.OLS.from_formula(\"TOTEMP ~ \"\n",
    "                            \"scale(GNPDEFL) + scale(POP) + scale(GNP) + \"\n",
    "                            \"scale(YEAR) + scale(ARMED) + scale(UNEMP)\", data=df)\n",
    "result = model.fit()\n",
    "print(result.summary())"
   ]
  },
  {
   "cell_type": "markdown",
   "metadata": {},
   "source": [
    "- 독립 변수가 서로 의존하게 되면 이른바 과최적화(overfitting)문제가 발생하여 회귀 결과의 안정성을 해치게 된다.\n",
    "    - 변수 선택법으로 의존적인 변수 삭제\n",
    "    - PCA\n",
    "    - regularized"
   ]
  },
  {
   "cell_type": "markdown",
   "metadata": {},
   "source": [
    "### VIF(variance inflation factor)\n",
    "- 가장 의존적인 독립변수를 선택하는 방법\n",
    "- 독립변수를 다른 독립변수로 선형회귀한 성능을 나타낸 것이다.\n",
    "- `VIF = sigma^2 / (n-1)Var[X-i] * 1/(1-rsquared_i)`\n",
    "- 여기에서 rsquared_i는 다른 변수로 i번째 변수를 선형회귀한 성능이다. 다른 변수에 의존적일 수록 VIF가 커진다."
   ]
  },
  {
   "cell_type": "code",
   "execution_count": 47,
   "metadata": {},
   "outputs": [],
   "source": [
    "from statsmodels.stats.outliers_influence import variance_inflation_factor"
   ]
  },
  {
   "cell_type": "code",
   "execution_count": 49,
   "metadata": {},
   "outputs": [
    {
     "data": {
      "text/html": [
       "<div>\n",
       "<style scoped>\n",
       "    .dataframe tbody tr th:only-of-type {\n",
       "        vertical-align: middle;\n",
       "    }\n",
       "\n",
       "    .dataframe tbody tr th {\n",
       "        vertical-align: top;\n",
       "    }\n",
       "\n",
       "    .dataframe thead th {\n",
       "        text-align: right;\n",
       "    }\n",
       "</style>\n",
       "<table border=\"1\" class=\"dataframe\">\n",
       "  <thead>\n",
       "    <tr style=\"text-align: right;\">\n",
       "      <th></th>\n",
       "      <th>VIF factor</th>\n",
       "      <th>features</th>\n",
       "    </tr>\n",
       "  </thead>\n",
       "  <tbody>\n",
       "    <tr>\n",
       "      <th>0</th>\n",
       "      <td>12425.514335</td>\n",
       "      <td>GNPDEFL</td>\n",
       "    </tr>\n",
       "    <tr>\n",
       "      <th>1</th>\n",
       "      <td>10290.435437</td>\n",
       "      <td>GNP</td>\n",
       "    </tr>\n",
       "    <tr>\n",
       "      <th>2</th>\n",
       "      <td>136.224354</td>\n",
       "      <td>UNEMP</td>\n",
       "    </tr>\n",
       "    <tr>\n",
       "      <th>3</th>\n",
       "      <td>39.983386</td>\n",
       "      <td>ARMED</td>\n",
       "    </tr>\n",
       "    <tr>\n",
       "      <th>4</th>\n",
       "      <td>101193.161993</td>\n",
       "      <td>POP</td>\n",
       "    </tr>\n",
       "    <tr>\n",
       "      <th>5</th>\n",
       "      <td>84709.950443</td>\n",
       "      <td>YEAR</td>\n",
       "    </tr>\n",
       "  </tbody>\n",
       "</table>\n",
       "</div>"
      ],
      "text/plain": [
       "      VIF factor features\n",
       "0   12425.514335  GNPDEFL\n",
       "1   10290.435437      GNP\n",
       "2     136.224354    UNEMP\n",
       "3      39.983386    ARMED\n",
       "4  101193.161993      POP\n",
       "5   84709.950443     YEAR"
      ]
     },
     "execution_count": 49,
     "metadata": {},
     "output_type": "execute_result"
    }
   ],
   "source": [
    "vif = pd.DataFrame()\n",
    "vif['VIF factor'] = [variance_inflation_factor(dfX.values , i) for i in range(dfX.shape[1])]\n",
    "vif['features'] = dfX.columns\n",
    "vif"
   ]
  },
  {
   "cell_type": "markdown",
   "metadata": {},
   "source": [
    "상관계수와 VIF을 사용하여 독립 변수를 선택하면 (VIF factor를 보게 되면 UNEMP, ARMED, GMP 이 세가지 컬럼의 요소가 적게 나오는 것을 알 수 있다.) 더 적은 변수만으로 비슷한 수준의 성능이 나온다는 것을 알 수 있다."
   ]
  },
  {
   "cell_type": "code",
   "execution_count": 50,
   "metadata": {
    "scrolled": true
   },
   "outputs": [
    {
     "name": "stdout",
     "output_type": "stream",
     "text": [
      "                            OLS Regression Results                            \n",
      "==============================================================================\n",
      "Dep. Variable:                 TOTEMP   R-squared:                       0.985\n",
      "Model:                            OLS   Adj. R-squared:                  0.981\n",
      "Method:                 Least Squares   F-statistic:                     264.4\n",
      "Date:                Mon, 02 Jul 2018   Prob (F-statistic):           3.19e-11\n",
      "Time:                        17:56:02   Log-Likelihood:                -119.16\n",
      "No. Observations:                  16   AIC:                             246.3\n",
      "Df Residuals:                      12   BIC:                             249.4\n",
      "Df Model:                           3                                         \n",
      "Covariance Type:            nonrobust                                         \n",
      "================================================================================\n",
      "                   coef    std err          t      P>|t|      [0.025      0.975]\n",
      "--------------------------------------------------------------------------------\n",
      "Intercept     6.532e+04    119.824    545.106      0.000    6.51e+04    6.56e+04\n",
      "scale(GNP)    3925.3853    212.359     18.485      0.000    3462.696    4388.075\n",
      "scale(ARMED)  -325.2979    171.932     -1.892      0.083    -699.906      49.310\n",
      "scale(UNEMP)  -720.9526    193.085     -3.734      0.003   -1141.649    -300.257\n",
      "==============================================================================\n",
      "Omnibus:                        4.210   Durbin-Watson:                   0.904\n",
      "Prob(Omnibus):                  0.122   Jarque-Bera (JB):                1.788\n",
      "Skew:                           0.532   Prob(JB):                        0.409\n",
      "Kurtosis:                       4.245   Cond. No.                         3.26\n",
      "==============================================================================\n",
      "\n",
      "Warnings:\n",
      "[1] Standard Errors assume that the covariance matrix of the errors is correctly specified.\n"
     ]
    },
    {
     "name": "stderr",
     "output_type": "stream",
     "text": [
      "/home/hskimim/anaconda3/lib/python3.6/site-packages/scipy/stats/stats.py:1394: UserWarning: kurtosistest only valid for n>=20 ... continuing anyway, n=16\n",
      "  \"anyway, n=%i\" % int(n))\n"
     ]
    }
   ],
   "source": [
    "model2 = sm.OLS.from_formula(\"TOTEMP ~ scale(GNP) + scale(ARMED) + scale(UNEMP)\", data=df)\n",
    "result2 = model2.fit()\n",
    "print(result2.summary())"
   ]
  },
  {
   "cell_type": "code",
   "execution_count": 51,
   "metadata": {},
   "outputs": [],
   "source": [
    "from sklearn.datasets import load_boston\n",
    "boston = load_boston()\n",
    "\n",
    "dfX0 = pd.DataFrame(boston.data, columns=boston.feature_names)\n",
    "\n",
    "from patsy import dmatrix\n",
    "\n",
    "formula = \"scale(CRIM) + scale(I(CRIM ** 2)) + \" + \\\n",
    "    \"scale(ZN) + scale(I(ZN ** 2)) + scale(INDUS) + \" + \\\n",
    "    \"scale(NOX) + scale(RM) + scale(AGE) + \" + \\\n",
    "    \"scale(np.log(DIS)) + scale(RAD) + scale(TAX) + \" + \\\n",
    "    \"scale(np.log(PTRATIO)) + scale(B) + scale(np.log(LSTAT)) + CHAS\"\n",
    "dfX = dmatrix(formula, dfX0, return_type=\"dataframe\")\n",
    "dfy = pd.DataFrame(boston.target, columns=[\"MEDV\"])"
   ]
  },
  {
   "cell_type": "code",
   "execution_count": 53,
   "metadata": {},
   "outputs": [
    {
     "data": {
      "text/html": [
       "<div>\n",
       "<style scoped>\n",
       "    .dataframe tbody tr th:only-of-type {\n",
       "        vertical-align: middle;\n",
       "    }\n",
       "\n",
       "    .dataframe tbody tr th {\n",
       "        vertical-align: top;\n",
       "    }\n",
       "\n",
       "    .dataframe thead th {\n",
       "        text-align: right;\n",
       "    }\n",
       "</style>\n",
       "<table border=\"1\" class=\"dataframe\">\n",
       "  <thead>\n",
       "    <tr style=\"text-align: right;\">\n",
       "      <th></th>\n",
       "      <th>Intercept</th>\n",
       "      <th>scale(CRIM)</th>\n",
       "      <th>scale(I(CRIM ** 2))</th>\n",
       "      <th>scale(ZN)</th>\n",
       "      <th>scale(I(ZN ** 2))</th>\n",
       "      <th>scale(INDUS)</th>\n",
       "      <th>scale(NOX)</th>\n",
       "      <th>scale(RM)</th>\n",
       "      <th>scale(AGE)</th>\n",
       "      <th>scale(np.log(DIS))</th>\n",
       "      <th>scale(RAD)</th>\n",
       "      <th>scale(TAX)</th>\n",
       "      <th>scale(np.log(PTRATIO))</th>\n",
       "      <th>scale(B)</th>\n",
       "      <th>scale(np.log(LSTAT))</th>\n",
       "      <th>CHAS</th>\n",
       "    </tr>\n",
       "  </thead>\n",
       "  <tbody>\n",
       "    <tr>\n",
       "      <th>501</th>\n",
       "      <td>1.0</td>\n",
       "      <td>-0.411157</td>\n",
       "      <td>-0.169025</td>\n",
       "      <td>-0.487722</td>\n",
       "      <td>-0.368889</td>\n",
       "      <td>0.115738</td>\n",
       "      <td>0.158124</td>\n",
       "      <td>0.439316</td>\n",
       "      <td>0.018673</td>\n",
       "      <td>-0.520096</td>\n",
       "      <td>-0.982843</td>\n",
       "      <td>-0.803212</td>\n",
       "      <td>1.095518</td>\n",
       "      <td>0.387217</td>\n",
       "      <td>-0.169811</td>\n",
       "      <td>0.0</td>\n",
       "    </tr>\n",
       "    <tr>\n",
       "      <th>502</th>\n",
       "      <td>1.0</td>\n",
       "      <td>-0.413178</td>\n",
       "      <td>-0.169028</td>\n",
       "      <td>-0.487722</td>\n",
       "      <td>-0.368889</td>\n",
       "      <td>0.115738</td>\n",
       "      <td>0.158124</td>\n",
       "      <td>-0.234548</td>\n",
       "      <td>0.288933</td>\n",
       "      <td>-0.668950</td>\n",
       "      <td>-0.982843</td>\n",
       "      <td>-0.803212</td>\n",
       "      <td>1.095518</td>\n",
       "      <td>0.441052</td>\n",
       "      <td>-0.274682</td>\n",
       "      <td>0.0</td>\n",
       "    </tr>\n",
       "    <tr>\n",
       "      <th>503</th>\n",
       "      <td>1.0</td>\n",
       "      <td>-0.411374</td>\n",
       "      <td>-0.169025</td>\n",
       "      <td>-0.487722</td>\n",
       "      <td>-0.368889</td>\n",
       "      <td>0.115738</td>\n",
       "      <td>0.158124</td>\n",
       "      <td>0.984960</td>\n",
       "      <td>0.797449</td>\n",
       "      <td>-0.768920</td>\n",
       "      <td>-0.982843</td>\n",
       "      <td>-0.803212</td>\n",
       "      <td>1.095518</td>\n",
       "      <td>0.441052</td>\n",
       "      <td>-1.067939</td>\n",
       "      <td>0.0</td>\n",
       "    </tr>\n",
       "    <tr>\n",
       "      <th>504</th>\n",
       "      <td>1.0</td>\n",
       "      <td>-0.405689</td>\n",
       "      <td>-0.169009</td>\n",
       "      <td>-0.487722</td>\n",
       "      <td>-0.368889</td>\n",
       "      <td>0.115738</td>\n",
       "      <td>0.158124</td>\n",
       "      <td>0.725672</td>\n",
       "      <td>0.736996</td>\n",
       "      <td>-0.588482</td>\n",
       "      <td>-0.982843</td>\n",
       "      <td>-0.803212</td>\n",
       "      <td>1.095518</td>\n",
       "      <td>0.403225</td>\n",
       "      <td>-0.836660</td>\n",
       "      <td>0.0</td>\n",
       "    </tr>\n",
       "    <tr>\n",
       "      <th>505</th>\n",
       "      <td>1.0</td>\n",
       "      <td>-0.412929</td>\n",
       "      <td>-0.169028</td>\n",
       "      <td>-0.487722</td>\n",
       "      <td>-0.368889</td>\n",
       "      <td>0.115738</td>\n",
       "      <td>0.158124</td>\n",
       "      <td>-0.362767</td>\n",
       "      <td>0.434732</td>\n",
       "      <td>-0.500440</td>\n",
       "      <td>-0.982843</td>\n",
       "      <td>-0.803212</td>\n",
       "      <td>1.095518</td>\n",
       "      <td>0.441052</td>\n",
       "      <td>-0.510809</td>\n",
       "      <td>0.0</td>\n",
       "    </tr>\n",
       "  </tbody>\n",
       "</table>\n",
       "</div>"
      ],
      "text/plain": [
       "     Intercept  scale(CRIM)  scale(I(CRIM ** 2))  scale(ZN)  \\\n",
       "501        1.0    -0.411157            -0.169025  -0.487722   \n",
       "502        1.0    -0.413178            -0.169028  -0.487722   \n",
       "503        1.0    -0.411374            -0.169025  -0.487722   \n",
       "504        1.0    -0.405689            -0.169009  -0.487722   \n",
       "505        1.0    -0.412929            -0.169028  -0.487722   \n",
       "\n",
       "     scale(I(ZN ** 2))  scale(INDUS)  scale(NOX)  scale(RM)  scale(AGE)  \\\n",
       "501          -0.368889      0.115738    0.158124   0.439316    0.018673   \n",
       "502          -0.368889      0.115738    0.158124  -0.234548    0.288933   \n",
       "503          -0.368889      0.115738    0.158124   0.984960    0.797449   \n",
       "504          -0.368889      0.115738    0.158124   0.725672    0.736996   \n",
       "505          -0.368889      0.115738    0.158124  -0.362767    0.434732   \n",
       "\n",
       "     scale(np.log(DIS))  scale(RAD)  scale(TAX)  scale(np.log(PTRATIO))  \\\n",
       "501           -0.520096   -0.982843   -0.803212                1.095518   \n",
       "502           -0.668950   -0.982843   -0.803212                1.095518   \n",
       "503           -0.768920   -0.982843   -0.803212                1.095518   \n",
       "504           -0.588482   -0.982843   -0.803212                1.095518   \n",
       "505           -0.500440   -0.982843   -0.803212                1.095518   \n",
       "\n",
       "     scale(B)  scale(np.log(LSTAT))  CHAS  \n",
       "501  0.387217             -0.169811   0.0  \n",
       "502  0.441052             -0.274682   0.0  \n",
       "503  0.441052             -1.067939   0.0  \n",
       "504  0.403225             -0.836660   0.0  \n",
       "505  0.441052             -0.510809   0.0  "
      ]
     },
     "execution_count": 53,
     "metadata": {},
     "output_type": "execute_result"
    }
   ],
   "source": [
    "dfX.tail()"
   ]
  },
  {
   "cell_type": "code",
   "execution_count": 54,
   "metadata": {},
   "outputs": [
    {
     "data": {
      "text/html": [
       "<div>\n",
       "<style scoped>\n",
       "    .dataframe tbody tr th:only-of-type {\n",
       "        vertical-align: middle;\n",
       "    }\n",
       "\n",
       "    .dataframe tbody tr th {\n",
       "        vertical-align: top;\n",
       "    }\n",
       "\n",
       "    .dataframe thead th {\n",
       "        text-align: right;\n",
       "    }\n",
       "</style>\n",
       "<table border=\"1\" class=\"dataframe\">\n",
       "  <thead>\n",
       "    <tr style=\"text-align: right;\">\n",
       "      <th></th>\n",
       "      <th>MEDV</th>\n",
       "    </tr>\n",
       "  </thead>\n",
       "  <tbody>\n",
       "    <tr>\n",
       "      <th>501</th>\n",
       "      <td>22.4</td>\n",
       "    </tr>\n",
       "    <tr>\n",
       "      <th>502</th>\n",
       "      <td>20.6</td>\n",
       "    </tr>\n",
       "    <tr>\n",
       "      <th>503</th>\n",
       "      <td>23.9</td>\n",
       "    </tr>\n",
       "    <tr>\n",
       "      <th>504</th>\n",
       "      <td>22.0</td>\n",
       "    </tr>\n",
       "    <tr>\n",
       "      <th>505</th>\n",
       "      <td>11.9</td>\n",
       "    </tr>\n",
       "  </tbody>\n",
       "</table>\n",
       "</div>"
      ],
      "text/plain": [
       "     MEDV\n",
       "501  22.4\n",
       "502  20.6\n",
       "503  23.9\n",
       "504  22.0\n",
       "505  11.9"
      ]
     },
     "execution_count": 54,
     "metadata": {},
     "output_type": "execute_result"
    }
   ],
   "source": [
    "dfy.tail()"
   ]
  },
  {
   "cell_type": "code",
   "execution_count": 55,
   "metadata": {},
   "outputs": [],
   "source": [
    "idx_outlier = \\\n",
    "     np.array([  7,  54, 148, 152, 160, 214, 253, 267, 364, 365, 367, 368, 369,\n",
    "               371, 372, 374, 380, 385, 397, 398, 399, 400, 401, 405, 409, 410,\n",
    "               412, 413, 414, 415, 416, 418, 419, 426, 445, 489, 490, 492, 505,\n",
    "               161, 162, 163, 166, 186, 195, 204, 225, 257, 267, 283, 368, 369,\n",
    "               370, 371, 372])\n",
    "    \n",
    "idx = list(set(range(len(dfX))).difference(idx_outlier))\n",
    "dfX = dfX.iloc[idx, :].reset_index(drop=True)\n",
    "dfy = dfy.iloc[idx, :].reset_index(drop=True)"
   ]
  },
  {
   "cell_type": "code",
   "execution_count": 57,
   "metadata": {},
   "outputs": [
    {
     "data": {
      "image/png": "[encoded data removed]",
      "text/plain": [
       "<Figure size 432x288 with 2 Axes>"
      ]
     },
     "metadata": {},
     "output_type": "display_data"
    }
   ],
   "source": [
    "cmap = sns.light_palette(\"black\", as_cmap=True)\n",
    "sns.heatmap(dfX.corr(), annot=True, fmt='3.1f', cmap=cmap)\n",
    "plt.show()"
   ]
  },
  {
   "cell_type": "code",
   "execution_count": 58,
   "metadata": {},
   "outputs": [
    {
     "data": {
      "text/html": [
       "<div>\n",
       "<style scoped>\n",
       "    .dataframe tbody tr th:only-of-type {\n",
       "        vertical-align: middle;\n",
       "    }\n",
       "\n",
       "    .dataframe tbody tr th {\n",
       "        vertical-align: top;\n",
       "    }\n",
       "\n",
       "    .dataframe thead th {\n",
       "        text-align: right;\n",
       "    }\n",
       "</style>\n",
       "<table border=\"1\" class=\"dataframe\">\n",
       "  <thead>\n",
       "    <tr style=\"text-align: right;\">\n",
       "      <th></th>\n",
       "      <th>VIF Factor</th>\n",
       "      <th>features</th>\n",
       "    </tr>\n",
       "  </thead>\n",
       "  <tbody>\n",
       "    <tr>\n",
       "      <th>0</th>\n",
       "      <td>1.061624</td>\n",
       "      <td>CHAS</td>\n",
       "    </tr>\n",
       "    <tr>\n",
       "      <th>1</th>\n",
       "      <td>1.338325</td>\n",
       "      <td>scale(B)</td>\n",
       "    </tr>\n",
       "    <tr>\n",
       "      <th>2</th>\n",
       "      <td>1.489092</td>\n",
       "      <td>Intercept</td>\n",
       "    </tr>\n",
       "    <tr>\n",
       "      <th>3</th>\n",
       "      <td>1.780320</td>\n",
       "      <td>scale(np.log(PTRATIO))</td>\n",
       "    </tr>\n",
       "    <tr>\n",
       "      <th>4</th>\n",
       "      <td>2.596496</td>\n",
       "      <td>scale(RM)</td>\n",
       "    </tr>\n",
       "    <tr>\n",
       "      <th>5</th>\n",
       "      <td>3.748931</td>\n",
       "      <td>scale(AGE)</td>\n",
       "    </tr>\n",
       "    <tr>\n",
       "      <th>6</th>\n",
       "      <td>3.807459</td>\n",
       "      <td>scale(INDUS)</td>\n",
       "    </tr>\n",
       "    <tr>\n",
       "      <th>7</th>\n",
       "      <td>4.682812</td>\n",
       "      <td>scale(np.log(LSTAT))</td>\n",
       "    </tr>\n",
       "    <tr>\n",
       "      <th>8</th>\n",
       "      <td>5.071802</td>\n",
       "      <td>scale(NOX)</td>\n",
       "    </tr>\n",
       "    <tr>\n",
       "      <th>9</th>\n",
       "      <td>5.215025</td>\n",
       "      <td>scale(np.log(DIS))</td>\n",
       "    </tr>\n",
       "    <tr>\n",
       "      <th>10</th>\n",
       "      <td>9.107858</td>\n",
       "      <td>scale(TAX)</td>\n",
       "    </tr>\n",
       "    <tr>\n",
       "      <th>11</th>\n",
       "      <td>10.218588</td>\n",
       "      <td>scale(I(CRIM ** 2))</td>\n",
       "    </tr>\n",
       "    <tr>\n",
       "      <th>12</th>\n",
       "      <td>11.254736</td>\n",
       "      <td>scale(RAD)</td>\n",
       "    </tr>\n",
       "    <tr>\n",
       "      <th>13</th>\n",
       "      <td>11.751869</td>\n",
       "      <td>scale(I(ZN ** 2))</td>\n",
       "    </tr>\n",
       "    <tr>\n",
       "      <th>14</th>\n",
       "      <td>14.646056</td>\n",
       "      <td>scale(ZN)</td>\n",
       "    </tr>\n",
       "    <tr>\n",
       "      <th>15</th>\n",
       "      <td>21.260182</td>\n",
       "      <td>scale(CRIM)</td>\n",
       "    </tr>\n",
       "  </tbody>\n",
       "</table>\n",
       "</div>"
      ],
      "text/plain": [
       "    VIF Factor                features\n",
       "0     1.061624                    CHAS\n",
       "1     1.338325                scale(B)\n",
       "2     1.489092               Intercept\n",
       "3     1.780320  scale(np.log(PTRATIO))\n",
       "4     2.596496               scale(RM)\n",
       "5     3.748931              scale(AGE)\n",
       "6     3.807459            scale(INDUS)\n",
       "7     4.682812    scale(np.log(LSTAT))\n",
       "8     5.071802              scale(NOX)\n",
       "9     5.215025      scale(np.log(DIS))\n",
       "10    9.107858              scale(TAX)\n",
       "11   10.218588     scale(I(CRIM ** 2))\n",
       "12   11.254736              scale(RAD)\n",
       "13   11.751869       scale(I(ZN ** 2))\n",
       "14   14.646056               scale(ZN)\n",
       "15   21.260182             scale(CRIM)"
      ]
     },
     "execution_count": 58,
     "metadata": {},
     "output_type": "execute_result"
    }
   ],
   "source": [
    "vif = pd.DataFrame()\n",
    "vif[\"VIF Factor\"] = [variance_inflation_factor(dfX.values, i) for i in range(dfX.shape[1])]\n",
    "vif[\"features\"] = dfX.columns\n",
    "vif = vif.sort_values(\"VIF Factor\").reset_index(drop=True)\n",
    "vif"
   ]
  },
  {
   "cell_type": "code",
   "execution_count": 59,
   "metadata": {},
   "outputs": [
    {
     "name": "stdout",
     "output_type": "stream",
     "text": [
      "                            OLS Regression Results                            \n",
      "==============================================================================\n",
      "Dep. Variable:                   MEDV   R-squared:                       0.872\n",
      "Model:                            OLS   Adj. R-squared:                  0.868\n",
      "Method:                 Least Squares   F-statistic:                     199.9\n",
      "Date:                Mon, 02 Jul 2018   Prob (F-statistic):          1.56e-185\n",
      "Time:                        18:12:59   Log-Likelihood:                 317.45\n",
      "No. Observations:                 456   AIC:                            -602.9\n",
      "Df Residuals:                     440   BIC:                            -536.9\n",
      "Df Model:                          15                                         \n",
      "Covariance Type:            nonrobust                                         \n",
      "==========================================================================================\n",
      "                             coef    std err          t      P>|t|      [0.025      0.975]\n",
      "------------------------------------------------------------------------------------------\n",
      "Intercept                  3.0345      0.007    432.436      0.000       3.021       3.048\n",
      "scale(CRIM)               -0.3469      0.043     -7.976      0.000      -0.432      -0.261\n",
      "scale(I(CRIM ** 2))        0.3075      0.071      4.331      0.000       0.168       0.447\n",
      "scale(ZN)                 -0.0465      0.022     -2.110      0.035      -0.090      -0.003\n",
      "scale(I(ZN ** 2))          0.0440      0.020      2.206      0.028       0.005       0.083\n",
      "scale(INDUS)               0.0037      0.012      0.323      0.747      -0.019       0.026\n",
      "scale(NOX)                -0.0652      0.013     -5.001      0.000      -0.091      -0.040\n",
      "scale(RM)                  0.0999      0.011      9.195      0.000       0.079       0.121\n",
      "scale(AGE)                -0.0273      0.011     -2.438      0.015      -0.049      -0.005\n",
      "scale(np.log(DIS))        -0.1008      0.014     -7.368      0.000      -0.128      -0.074\n",
      "scale(RAD)                 0.1634      0.020      8.106      0.000       0.124       0.203\n",
      "scale(TAX)                -0.0934      0.018     -5.153      0.000      -0.129      -0.058\n",
      "scale(np.log(PTRATIO))    -0.0699      0.008     -8.872      0.000      -0.085      -0.054\n",
      "scale(B)                   0.0492      0.007      6.699      0.000       0.035       0.064\n",
      "scale(np.log(LSTAT))      -0.1487      0.013    -11.074      0.000      -0.175      -0.122\n",
      "CHAS                       0.0659      0.026      2.580      0.010       0.016       0.116\n",
      "==============================================================================\n",
      "Omnibus:                       28.653   Durbin-Watson:                   1.309\n",
      "Prob(Omnibus):                  0.000   Jarque-Bera (JB):               43.266\n",
      "Skew:                           0.465   Prob(JB):                     4.03e-10\n",
      "Kurtosis:                       4.188   Cond. No.                         35.2\n",
      "==============================================================================\n",
      "\n",
      "Warnings:\n",
      "[1] Standard Errors assume that the covariance matrix of the errors is correctly specified.\n"
     ]
    }
   ],
   "source": [
    "model_boston1 = sm.OLS(np.log(dfy), dfX)\n",
    "result_boston1 = model_boston1.fit()\n",
    "print(result_boston1.summary())"
   ]
  },
  {
   "cell_type": "code",
   "execution_count": 60,
   "metadata": {},
   "outputs": [
    {
     "name": "stdout",
     "output_type": "stream",
     "text": [
      "                            OLS Regression Results                            \n",
      "==============================================================================\n",
      "Dep. Variable:                   MEDV   R-squared:                       0.836\n",
      "Model:                            OLS   Adj. R-squared:                  0.834\n",
      "Method:                 Least Squares   F-statistic:                     380.7\n",
      "Date:                Mon, 02 Jul 2018   Prob (F-statistic):          1.42e-172\n",
      "Time:                        18:13:00   Log-Likelihood:                 260.52\n",
      "No. Observations:                 456   AIC:                            -507.0\n",
      "Df Residuals:                     449   BIC:                            -478.2\n",
      "Df Model:                           6                                         \n",
      "Covariance Type:            nonrobust                                         \n",
      "==========================================================================================\n",
      "                             coef    std err          t      P>|t|      [0.025      0.975]\n",
      "------------------------------------------------------------------------------------------\n",
      "Intercept                  3.0195      0.007    445.659      0.000       3.006       3.033\n",
      "CHAS                       0.0884      0.028      3.141      0.002       0.033       0.144\n",
      "scale(B)                   0.0558      0.008      6.989      0.000       0.040       0.072\n",
      "scale(CRIM)               -0.1178      0.013     -9.120      0.000      -0.143      -0.092\n",
      "scale(np.log(PTRATIO))    -0.0508      0.007     -6.936      0.000      -0.065      -0.036\n",
      "scale(RM)                  0.1153      0.011     10.828      0.000       0.094       0.136\n",
      "scale(np.log(LSTAT))      -0.1570      0.011    -14.179      0.000      -0.179      -0.135\n",
      "==============================================================================\n",
      "Omnibus:                       29.141   Durbin-Watson:                   1.113\n",
      "Prob(Omnibus):                  0.000   Jarque-Bera (JB):               42.637\n",
      "Skew:                           0.483   Prob(JB):                     5.51e-10\n",
      "Kurtosis:                       4.145   Cond. No.                         5.91\n",
      "==============================================================================\n",
      "\n",
      "Warnings:\n",
      "[1] Standard Errors assume that the covariance matrix of the errors is correctly specified.\n"
     ]
    }
   ],
   "source": [
    "cols = [\"Intercept\", \"CHAS\", \"scale(B)\", \"scale(CRIM)\", \n",
    "        \"scale(np.log(PTRATIO))\", \"scale(RM)\", \"scale(np.log(LSTAT))\"]\n",
    "\n",
    "model_boston2 = sm.OLS(np.log(dfy), dfX[cols])\n",
    "result_boston2 = model_boston2.fit()\n",
    "print(result_boston2.summary())"
   ]
  },
  {
   "cell_type": "code",
   "execution_count": 61,
   "metadata": {},
   "outputs": [
    {
     "data": {
      "image/png": "[encoded data removed]",
      "text/plain": [
       "<Figure size 432x288 with 1 Axes>"
      ]
     },
     "metadata": {},
     "output_type": "display_data"
    }
   ],
   "source": [
    "X = np.array([[-1, -1], [-2, -1], [-3, -2], [1, 1], [2, 1], [3, 2]])\n",
    "plt.scatter(X[:,0], X[:,1], s=100)\n",
    "plt.xlim(-4,4)\n",
    "plt.ylim(-3,3)\n",
    "plt.title(\"original data\")\n",
    "plt.show()"
   ]
  },
  {
   "cell_type": "code",
   "execution_count": 62,
   "metadata": {},
   "outputs": [
    {
     "data": {
      "text/plain": [
       "PCA(copy=True, iterated_power='auto', n_components=2, random_state=None,\n",
       "  svd_solver='auto', tol=0.0, whiten=False)"
      ]
     },
     "execution_count": 62,
     "metadata": {},
     "output_type": "execute_result"
    }
   ],
   "source": [
    "from sklearn.decomposition import PCA\n",
    "pca = PCA(n_components=2)\n",
    "pca.fit(X)"
   ]
  },
  {
   "cell_type": "code",
   "execution_count": 63,
   "metadata": {},
   "outputs": [
    {
     "data": {
      "text/plain": [
       "array([[ 1.38340578,  0.2935787 ],\n",
       "       [ 2.22189802, -0.25133484],\n",
       "       [ 3.6053038 ,  0.04224385],\n",
       "       [-1.38340578, -0.2935787 ],\n",
       "       [-2.22189802,  0.25133484],\n",
       "       [-3.6053038 , -0.04224385]])"
      ]
     },
     "execution_count": 63,
     "metadata": {},
     "output_type": "execute_result"
    }
   ],
   "source": [
    "Z = pca.transform(X)\n",
    "Z"
   ]
  },
  {
   "cell_type": "code",
   "execution_count": 64,
   "metadata": {},
   "outputs": [],
   "source": [
    "w, U = np.linalg.eig(pca.get_covariance())\n"
   ]
  },
  {
   "cell_type": "code",
   "execution_count": 65,
   "metadata": {},
   "outputs": [
    {
     "data": {
      "text/plain": [
       "array([[-1.38340578, -0.2935787 ],\n",
       "       [-2.22189802,  0.25133484],\n",
       "       [-3.6053038 , -0.04224385],\n",
       "       [ 1.38340578,  0.2935787 ],\n",
       "       [ 2.22189802, -0.25133484],\n",
       "       [ 3.6053038 ,  0.04224385]])"
      ]
     },
     "execution_count": 65,
     "metadata": {},
     "output_type": "execute_result"
    }
   ],
   "source": [
    "U.T.dot(X.T).T\n"
   ]
  },
  {
   "cell_type": "code",
   "execution_count": 66,
   "metadata": {},
   "outputs": [
    {
     "data": {
      "image/png": "[encoded data removed]",
      "text/plain": [
       "<Figure size 432x288 with 1 Axes>"
      ]
     },
     "metadata": {},
     "output_type": "display_data"
    }
   ],
   "source": [
    "plt.scatter(Z[:,0], Z[:,1], c='r', s=100)\n",
    "plt.xlim(-4,4)\n",
    "plt.ylim(-3,3)\n",
    "plt.title(\"transformed data\")\n",
    "plt.show()"
   ]
  },
  {
   "cell_type": "code",
   "execution_count": 67,
   "metadata": {},
   "outputs": [
    {
     "data": {
      "image/png": "[encoded data removed]",
      "text/plain": [
       "<Figure size 432x288 with 1 Axes>"
      ]
     },
     "metadata": {},
     "output_type": "display_data"
    }
   ],
   "source": [
    "plt.scatter(Z[:,0], np.zeros_like(Z[:,1]), c='g', s=100)\n",
    "plt.xlim(-4,4)\n",
    "plt.ylim(-3,3)\n",
    "plt.title(\"transformed and truncated data\")\n",
    "plt.show()"
   ]
  },
  {
   "cell_type": "code",
   "execution_count": null,
   "metadata": {},
   "outputs": [],
   "source": [
    "z = PCA(n_components=1).fit_transform(X)\n",
    "\n",
    "plt.scatter(z, np.zeros_like(z), c='g', s=100)\n",
    "plt.xlim(-4,4)\n",
    "plt.ylim(-3,3)\n",
    "plt.title(\"transformed and truncated data\")\n",
    "plt.show()"
   ]
  }
 ],
 "metadata": {
  "kernelspec": {
   "display_name": "Python 3",
   "language": "python",
   "name": "python3"
  },
  "language_info": {
   "codemirror_mode": {
    "name": "ipython",
    "version": 3
   },
   "file_extension": ".py",
   "mimetype": "text/x-python",
   "name": "python",
   "nbconvert_exporter": "python",
   "pygments_lexer": "ipython3",
   "version": "3.6.5"
  }
 },
 "nbformat": 4,
 "nbformat_minor": 2
}
