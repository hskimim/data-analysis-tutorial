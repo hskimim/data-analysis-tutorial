{
 "cells": [
  {
   "cell_type": "markdown",
   "metadata": {},
   "source": [
    "### 결합확률과 조건부 확률\n",
    "- 이번 장에 다룰 내용을 tree 형태로 overview하겠습니다!!\n",
    "- Multivariate\n",
    "    - discrete random variable\n",
    "    - continuous random variable\n",
    "        - joint probabiltiy\n",
    "        - conditional probability"
   ]
  },
  {
   "cell_type": "markdown",
   "metadata": {},
   "source": [
    "### 다변수 이산확률변수(Multivariate discrete random variable)\n",
    "- 이전에 다뤘던 카테고리 값을 가지는 확률 변수를 기억하시나요?(Cat,Mult)\n",
    "- 이러한 확률 변수가 두 개 이상 있는 경우에는 각각의 확률 변수에 대한 확률 분포 이외에도 확률 분포 쌍이 가지는 복합적인 확률분포를 알아봐야 합니다.\n",
    "- 말이 어렵죠? 아래에서 계속 알아가 보아요!"
   ]
  },
  {
   "cell_type": "markdown",
   "metadata": {},
   "source": [
    "### 결합 확률 질량 함수 ( Joint probability mass function)\n",
    "- 특정한 숫자 쌍이 나타나는 경우를 생각해봅시다!!(x,y)\n",
    "- atom 사건에 대한 확률을 알고 있으면 임의의 숫자 쌍 집합, 즉 임의의 사건에 대해서도 확률을 계산할 수 있으므로 하나하나의 숫자 쌍에 대해 확률을 알려주는 pmf가 있으면 전체 확률 분포를 알 수 있습니다.\n",
    "- 즉, 단일 확률 변수의 확률보다 결합 확률 변수의 확률을 아는 것! 그것의 정보력이 더 높습니다.\n",
    "- 결합 확률 질량 함수(joint pmf)은 다음과 같이 표시합니다.\n",
    "    - P_XY(x,y)\n",
    "    - ex) P_XY(x=2,y=3)"
   ]
  },
  {
   "cell_type": "code",
   "execution_count": 2,
   "metadata": {},
   "outputs": [
    {
     "data": {
      "text/plain": [
       "array([[0.02, 0.04, 0.02, 0.  , 0.  , 0.  ],\n",
       "       [0.  , 0.04, 0.06, 0.02, 0.  , 0.  ],\n",
       "       [0.  , 0.08, 0.14, 0.08, 0.02, 0.  ],\n",
       "       [0.  , 0.02, 0.08, 0.1 , 0.08, 0.  ],\n",
       "       [0.  , 0.  , 0.02, 0.06, 0.04, 0.  ],\n",
       "       [0.  , 0.  , 0.  , 0.02, 0.04, 0.02]])"
      ]
     },
     "execution_count": 2,
     "metadata": {},
     "output_type": "execute_result"
    }
   ],
   "source": [
    "pmf = np.array([[1, 2, 1, 0, 0, 0],\n",
    "                [0, 2, 3, 1, 0, 0],\n",
    "                [0, 4, 7, 4, 1, 0],\n",
    "                [0, 1, 4, 5, 4, 0],\n",
    "                [0, 0, 1, 3, 2, 0],\n",
    "                [0, 0, 0, 1, 2, 1]])\n",
    "pmf = pmf/pmf.sum()\n",
    "pmf"
   ]
  },
  {
   "cell_type": "markdown",
   "metadata": {},
   "source": [
    "### 주변 확률 질량 함수(Marginal probability mass function)\n",
    "- 두 확률 변수 값에 대해서만 확률분포를 표시한 함수입니다.\n",
    "- 즉, 다변수가 되기 이전의 단변수 확률질량함수를 의미합니다.\n",
    "- `전체 확률 법칙`에 의해 다른 변수가 가질 수 있는 모든 값의 결합확률질량함수를 합한 확률이 됩니다.\n",
    "- P_X(x) = sigma(y_i) P_XY(x,y)\n",
    "- P_Y(y) = sigma(x_i) P_XY(x,y)"
   ]
  },
  {
   "cell_type": "code",
   "execution_count": 3,
   "metadata": {},
   "outputs": [
    {
     "data": {
      "text/plain": [
       "array([0.02, 0.18, 0.32, 0.28, 0.18, 0.02])"
      ]
     },
     "execution_count": 3,
     "metadata": {},
     "output_type": "execute_result"
    }
   ],
   "source": [
    "pmf.sum(axis=0)\n",
    "# axis=0는 columns 별로 summation을 한 것으로 해당 pmf에서는 P_X(x)가 됩니다."
   ]
  },
  {
   "cell_type": "code",
   "execution_count": 4,
   "metadata": {},
   "outputs": [
    {
     "data": {
      "text/plain": [
       "array([0.08, 0.12, 0.32, 0.28, 0.12, 0.08])"
      ]
     },
     "execution_count": 4,
     "metadata": {},
     "output_type": "execute_result"
    }
   ],
   "source": [
    "pmf.sum(axis=1)\n",
    "#axis=1은 row 별로 summation을 한 것으로 해당 pmf에서는 P_Y(y)가 됩니다."
   ]
  },
  {
   "cell_type": "markdown",
   "metadata": {},
   "source": [
    "### 조건부 확률 질량 함수(Conditional probability mass function)\n",
    "- 다변수 확률변수 중 하나의 값이 특정 값으로 고정되어 '상수'가 되어 버린 경우, 나머지 변수에 대한 확률질량함수를 말합니다.\n",
    "- P_X|Y(x|y) = P_XY(x,y) / P_Y(y)--this becomes constant value\n",
    "- P_Y|X(y|X) = P_XY(x,y) / P_X(x)--this becomes constant value"
   ]
  },
  {
   "cell_type": "markdown",
   "metadata": {},
   "source": [
    "이번에는 연속확률변수에 대해서 다뤄보겠습니다. 전체적인 프레임은 같습니다."
   ]
  },
  {
   "cell_type": "markdown",
   "metadata": {},
   "source": [
    "## 다변수 연속확률변수의 결합/조건부확률\n",
    "- 연속확률분포에서는 discrete case 처럼 atom case define이 안되기 때문에 단변수 연속확률변수처럼 누적확률분포(cdf)를 먼저 정의한 후, 이를 미분하여 확률밀도함수(pdf)를 정의하는 방법을 사용합니다."
   ]
  },
  {
   "cell_type": "markdown",
   "metadata": {},
   "source": [
    "### 결합 누적확률분포함수(Joint cumulative probabiltiy distribution)\n",
    "- F_{XY}(x, y) = P(\\{ X < x \\} \\cap \\{ Y < y \\}) = P(\\{X < x, Y < y\\})\n",
    "- 구간의 끝을 나타내는 독립 변수 x,y 중 하나가 무한대 값을 가지는 경우에는 해당 변수의 값은 어떤 것을 가져도 상관없으므로 차원이 하나가 줄어듭니다. 이를 주변 누적 확률 분포 (marginal cumulative probability distribution)이라고 합니다.\n",
    "- F_X(x)=F_{XY}(x, \\infty) , F_Y(y)=F_{XY}(\\infty, y)"
   ]
  },
  {
   "cell_type": "markdown",
   "metadata": {},
   "source": [
    "### 결합 확률밀도 함수(Joint probability density function)\n",
    "- f_{XY} = \\dfrac{\\partial^2 F_{XY}(x, y)}{\\partial x \\partial y}\n",
    "- 독립 변수가 2개(x,y)이므로 각각에 대해서 편미분을 취해주어야 합니다. (dx,dy)\n",
    "- 결합 확률 밀도 함수를 특정 구간에 대햇 적분하면 해당 구간에 대한 확률이 됩니다.\n",
    "- negative infinite에서 positive infinite까지 해당 multiple variable에 대해 적분하면 1이됩니다.(전체 확률)"
   ]
  },
  {
   "cell_type": "markdown",
   "metadata": {},
   "source": [
    "### 주변 확률 밀도 함수(Marginal probabiltiy density function)\n",
    "- 위에서도 잠시 언급했지만 결합 확률 밀도 함수를 특정한 하나의 변수에 대해 '가중평균'을 취한 값을 의미합니다. 따라서 하나의 확률 변수에 대해서만 적분을 하여 구합니다. \n",
    "- f_X(x)면 y에 대해서 적분을 취해줍니다. (negative infinite to positive infinite)\n",
    "- f_Y(y)면 x에 대해서 적분을 취해줍니다. (negative infinite to positive infinite)\n",
    "- 가중평균(적분)으로 인해 dimension이 한 개 줄기 때문에, 2차원 확률 변수의 주변 확률 밀도 함수는 1차원 함수가 됩니다."
   ]
  },
  {
   "cell_type": "markdown",
   "metadata": {},
   "source": [
    "### 조건부 확률밀도 함수\n",
    "- 다변수 확률 변수중 하나의 값이 특정 값이라는 사실이 알려진 경우, 이러한 조건에 의해 변화한 나머지 rv에 대한 pdf를 의미합니다.\n",
    "- f_{X \\mid Y}(x \\mid y) = \\dfrac{f_{XY}(x, y)}{f_{Y}(y)}\n",
    "- f_{Y \\mid X}(y \\mid x) = \\dfrac{f_{XY}(x, y)}{f_{X}(x)}"
   ]
  }
 ],
 "metadata": {
  "kernelspec": {
   "display_name": "Python 3",
   "language": "python",
   "name": "python3"
  },
  "language_info": {
   "codemirror_mode": {
    "name": "ipython",
    "version": 3
   },
   "file_extension": ".py",
   "mimetype": "text/x-python",
   "name": "python",
   "nbconvert_exporter": "python",
   "pygments_lexer": "ipython3",
   "version": "3.6.4"
  }
 },
 "nbformat": 4,
 "nbformat_minor": 2
}
