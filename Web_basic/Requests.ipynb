{
 "cells": [
  {
   "cell_type": "markdown",
   "metadata": {},
   "source": [
    "### request\n",
    "- 1) json -- if there is api\n",
    "- 2) html -(parsing by using css selector for crawling)- bs4(string data)\n",
    "- 3) selenium -- css selector (by using css selector and xpath)\n",
    "- 4) scrapy - package for crawling, use css selector, xpath \n",
    "- number of each row is about priority in using method."
   ]
  },
  {
   "cell_type": "code",
   "execution_count": 1,
   "metadata": {},
   "outputs": [],
   "source": [
    "import requests\n",
    "# 서버에 request 요청을 하고 response 응답을 받는 패키지 \n",
    "import time"
   ]
  },
  {
   "cell_type": "code",
   "execution_count": 2,
   "metadata": {},
   "outputs": [],
   "source": [
    "from bs4 import BeautifulSoup "
   ]
  },
  {
   "cell_type": "code",
   "execution_count": 3,
   "metadata": {},
   "outputs": [
    {
     "ename": "ModuleNotFoundError",
     "evalue": "No module named 'forecastio'",
     "output_type": "error",
     "traceback": [
      "\u001b[0;31m---------------------------------------------------------------------------\u001b[0m",
      "\u001b[0;31mModuleNotFoundError\u001b[0m                       Traceback (most recent call last)",
      "\u001b[0;32m<ipython-input-3-fcbb16c1ac69>\u001b[0m in \u001b[0;36m<module>\u001b[0;34m()\u001b[0m\n\u001b[1;32m      1\u001b[0m \u001b[0;31m# dark sky api 날씨 정보를 가지고 오는 패키지\u001b[0m\u001b[0;34m\u001b[0m\u001b[0;34m\u001b[0m\u001b[0m\n\u001b[0;32m----> 2\u001b[0;31m \u001b[0;32mimport\u001b[0m \u001b[0mforecastio\u001b[0m\u001b[0;34m\u001b[0m\u001b[0m\n\u001b[0m",
      "\u001b[0;31mModuleNotFoundError\u001b[0m: No module named 'forecastio'"
     ]
    }
   ],
   "source": [
    "# dark sky api 날씨 정보를 가지고 오는 패키지 \n",
    "import forecastio"
   ]
  },
  {
   "cell_type": "markdown",
   "metadata": {},
   "source": [
    "#### 네이버 주식 데이터 크롤링\n",
    "- api 사용 : json 파싱해서 데이터를 크롤링합니다.\n",
    "- 네이버 주식 페이지에서 주식 데이터를 가져와서 판다스 데이터프레임으로 만듭니다."
   ]
  },
  {
   "cell_type": "markdown",
   "metadata": {},
   "source": [
    "### request\n",
    "- 1) json -- if there is api\n",
    "- 2) html -(parsing by using css selector for crawling)- bs4(string data)\n",
    "- 3) selenium -- css selector (by using css selector and xpath)\n",
    "- 4) scrapy - package for crawling, use css selector, xpath \n",
    "- number of each row is about priority in using method."
   ]
  },
  {
   "cell_type": "markdown",
   "metadata": {},
   "source": [
    "##### 네이버 주식 데이터 가져오기\n",
    "- api 사용 : json 파싱을 합니다.\n",
    "- 네이버 주식 페이지에서 주식 데이터를 가져와 데이터 프레임으로 만듭니다.\n",
    "- 웹서버보다 모바일 페이지가 크롤링이 더 쉬운 경우가 있으므로 염두에 둡니다."
   ]
  },
  {
   "cell_type": "markdown",
   "metadata": {},
   "source": [
    "url 분석"
   ]
  },
  {
   "cell_type": "code",
   "execution_count": 5,
   "metadata": {},
   "outputs": [],
   "source": [
    "url = \"http://m.stock.naver.com/api/json/sise/\\\n",
    "siseListJson.nhn?menu=market_sum&sosok={0}&pageSize={0}&page={}\""
   ]
  },
  {
   "cell_type": "markdown",
   "metadata": {},
   "source": [
    "#### 분석 결과\n",
    "- sosok = 보여지는 주식 카테고리(코스피,코스닥...)\n",
    "- pageSize = 한번에 보여지는 주식 데이터의 갯수\n",
    "- page = 더보기를 통해 보여지는 주식이 달라지지는데 그 순서를 의미합니다."
   ]
  },
  {
   "cell_type": "markdown",
   "metadata": {},
   "source": [
    "- result: {\n",
    "    - totCnt: 1274,\n",
    "    - ms: \"OPEN\",\n",
    "    - itemList: [\n",
    "- result 보다 낮은 level로 factor들이 들어있는 data format을 가지고 있습니다."
   ]
  },
  {
   "cell_type": "markdown",
   "metadata": {},
   "source": [
    "make_url 함수 만들기 -- 인자에 따라서 보여지는 url의 json data가 바뀝니다."
   ]
  },
  {
   "cell_type": "code",
   "execution_count": 6,
   "metadata": {},
   "outputs": [
    {
     "ename": "SyntaxError",
     "evalue": "invalid syntax (<ipython-input-6-e62645cab4d4>, line 1)",
     "output_type": "error",
     "traceback": [
      "\u001b[1;36m  File \u001b[1;32m\"<ipython-input-6-e62645cab4d4>\"\u001b[1;36m, line \u001b[1;32m1\u001b[0m\n\u001b[1;33m    http://m.stock.naver.com/api/json/sise/siseListJson.nhn?m    enu=market_sum&sosok=1&pageSize=5&page=5\u001b[0m\n\u001b[1;37m          ^\u001b[0m\n\u001b[1;31mSyntaxError\u001b[0m\u001b[1;31m:\u001b[0m invalid syntax\n"
     ]
    }
   ],
   "source": [
    "http://m.stock.naver.com/api/json/sise/siseListJson.nhn?m\\\n",
    "    enu=market_sum&sosok=1&pageSize=5&page=5"
   ]
  },
  {
   "cell_type": "code",
   "execution_count": 7,
   "metadata": {},
   "outputs": [],
   "source": [
    "def make_url(pageSize=10,page=1):\n",
    "    return 'http://m.stock.naver.com/api/json/sise\\\n",
    "/siseListJson.nhn?menu=market_sum&sosok=0&pageSize='+str(pageSize)+'&page='+str(page)\n",
    "#default argument를 정해주고 후에 필요시, 변경해주도록 합니다."
   ]
  },
  {
   "cell_type": "code",
   "execution_count": 8,
   "metadata": {},
   "outputs": [
    {
     "data": {
      "text/plain": [
       "'http://m.stock.naver.com/api/json/sise/siseListJson.nhn?menu=market_sum&sosok=0&pageSize=10&page=1'"
      ]
     },
     "execution_count": 8,
     "metadata": {},
     "output_type": "execute_result"
    }
   ],
   "source": [
    "make_url()"
   ]
  },
  {
   "cell_type": "code",
   "execution_count": 9,
   "metadata": {},
   "outputs": [],
   "source": [
    "def get_data(url):\n",
    "    response = requests.get(url) # url 을 요청합니다.\n",
    "    json_info = response.json() # json data format으로 parsing\n",
    "    companys = json_info['result']['itemList'] #우리가 필요한 데이터는 itemList 배열입니다.\n",
    "    df = pd.DataFrame(columns = ['종목','시세','전열비','등락율','시가총액','거래량'])\n",
    "    #df이라는 dataframe 변수를 생성해주고 column을 할당해줍니다. 여기서 columns의 갯수는\n",
    "    #데이터의 갯수와 같게 설정해주어야 합니다.\n",
    "    for company in companys:\n",
    "        df.loc[len(df)] = { #위에서 부터 하나씩 아래로 데이터들을 for 반복문을 통해 채워나갑니다.\n",
    "            '종목':company['nm'],\n",
    "            '시세':company['nv'],\n",
    "            '전열비':company['cv'],\n",
    "            '등락율':company['cr'],\n",
    "            '시가총액':company['mks'],\n",
    "            '거래량':company['aq'],\n",
    "        }#dictionary datatype으로 dataframe의 value들을 채워넣어가 줍니다.\n",
    "    return df"
   ]
  },
  {
   "cell_type": "code",
   "execution_count": 10,
   "metadata": {},
   "outputs": [],
   "source": [
    "# resonse.text -- html code\n",
    "# json _info -- json data parsed"
   ]
  },
  {
   "cell_type": "code",
   "execution_count": 11,
   "metadata": {},
   "outputs": [
    {
     "name": "stdout",
     "output_type": "stream",
     "text": [
      "100\n"
     ]
    },
    {
     "data": {
      "text/html": [
       "<div>\n",
       "<style scoped>\n",
       "    .dataframe tbody tr th:only-of-type {\n",
       "        vertical-align: middle;\n",
       "    }\n",
       "\n",
       "    .dataframe tbody tr th {\n",
       "        vertical-align: top;\n",
       "    }\n",
       "\n",
       "    .dataframe thead th {\n",
       "        text-align: right;\n",
       "    }\n",
       "</style>\n",
       "<table border=\"1\" class=\"dataframe\">\n",
       "  <thead>\n",
       "    <tr style=\"text-align: right;\">\n",
       "      <th></th>\n",
       "      <th>종목</th>\n",
       "      <th>시세</th>\n",
       "      <th>전열비</th>\n",
       "      <th>등락율</th>\n",
       "      <th>시가총액</th>\n",
       "      <th>거래량</th>\n",
       "    </tr>\n",
       "  </thead>\n",
       "  <tbody>\n",
       "    <tr>\n",
       "      <th>95</th>\n",
       "      <td>F&amp;F</td>\n",
       "      <td>68400</td>\n",
       "      <td>1900</td>\n",
       "      <td>2.86</td>\n",
       "      <td>10534</td>\n",
       "      <td>57899</td>\n",
       "    </tr>\n",
       "    <tr>\n",
       "      <th>96</th>\n",
       "      <td>삼양홀딩스</td>\n",
       "      <td>121000</td>\n",
       "      <td>3000</td>\n",
       "      <td>2.54</td>\n",
       "      <td>10363</td>\n",
       "      <td>22407</td>\n",
       "    </tr>\n",
       "    <tr>\n",
       "      <th>97</th>\n",
       "      <td>LG상사</td>\n",
       "      <td>26450</td>\n",
       "      <td>50</td>\n",
       "      <td>0.19</td>\n",
       "      <td>10252</td>\n",
       "      <td>245911</td>\n",
       "    </tr>\n",
       "    <tr>\n",
       "      <th>98</th>\n",
       "      <td>미래에셋생명</td>\n",
       "      <td>5790</td>\n",
       "      <td>-200</td>\n",
       "      <td>-3.34</td>\n",
       "      <td>10249</td>\n",
       "      <td>576843</td>\n",
       "    </tr>\n",
       "    <tr>\n",
       "      <th>99</th>\n",
       "      <td>종근당</td>\n",
       "      <td>103500</td>\n",
       "      <td>0</td>\n",
       "      <td>0.00</td>\n",
       "      <td>10225</td>\n",
       "      <td>30785</td>\n",
       "    </tr>\n",
       "  </tbody>\n",
       "</table>\n",
       "</div>"
      ],
      "text/plain": [
       "        종목      시세   전열비   등락율   시가총액     거래량\n",
       "95     F&F   68400  1900  2.86  10534   57899\n",
       "96   삼양홀딩스  121000  3000  2.54  10363   22407\n",
       "97    LG상사   26450    50  0.19  10252  245911\n",
       "98  미래에셋생명    5790  -200 -3.34  10249  576843\n",
       "99     종근당  103500     0  0.00  10225   30785"
      ]
     },
     "execution_count": 11,
     "metadata": {},
     "output_type": "execute_result"
    }
   ],
   "source": [
    "url = make_url(100,2)\n",
    "df = get_data(url)\n",
    "print(len(df))\n",
    "df.tail()"
   ]
  },
  {
   "cell_type": "markdown",
   "metadata": {},
   "source": [
    "Dart Sky API"
   ]
  },
  {
   "cell_type": "code",
   "execution_count": 12,
   "metadata": {},
   "outputs": [],
   "source": [
    "secret_key = 'c411a7d620867c8a2eb8e81fc5889502'"
   ]
  },
  {
   "cell_type": "code",
   "execution_count": 13,
   "metadata": {},
   "outputs": [],
   "source": [
    "def forecast(lat,lng):\n",
    "    url =  'https://api.darksky.net/forecast/{0}/{1},{2}'.format(secret_key,lat,lng)\n",
    "    response = requests.get(url)\n",
    "    json_info = response.json()\n",
    "    return json_info[\"hourly\"][\"summary\"], json_info[\"timezone\"]"
   ]
  },
  {
   "cell_type": "code",
   "execution_count": 14,
   "metadata": {},
   "outputs": [
    {
     "data": {
      "text/plain": [
       "('Mostly cloudy throughout the day.', 'Asia/Seoul')"
      ]
     },
     "execution_count": 14,
     "metadata": {},
     "output_type": "execute_result"
    }
   ],
   "source": [
    "lat = 37.5124413\n",
    "lng = 126.9540519\n",
    "forecast(lat,lng)"
   ]
  },
  {
   "cell_type": "code",
   "execution_count": 15,
   "metadata": {},
   "outputs": [],
   "source": [
    "#forecastio\n",
    "def forecast2(lat,lng):\n",
    "    forecast = forecastio.load_forecast(secret_key,lat,lng)\n",
    "    byHour = forecast.hourly()\n",
    "    return byHour,summary"
   ]
  },
  {
   "cell_type": "code",
   "execution_count": 16,
   "metadata": {},
   "outputs": [
    {
     "data": {
      "text/plain": [
       "('Mostly cloudy throughout the day.', 'Asia/Seoul')"
      ]
     },
     "execution_count": 16,
     "metadata": {},
     "output_type": "execute_result"
    }
   ],
   "source": [
    "lat = 37.5124413\n",
    "lng = 126.9540519\n",
    "forecast(lat,lng)"
   ]
  },
  {
   "cell_type": "markdown",
   "metadata": {},
   "source": [
    "##### beautifulsoup을 이용하는 방법\n",
    "- 문자열로 되어있는 html 코드를 css selector나 xpath를 이용해서 특정 엘리먼트의 데이터를 쉽게 가져올 수 있도록 하는 패키지"
   ]
  },
  {
   "cell_type": "code",
   "execution_count": 4,
   "metadata": {},
   "outputs": [],
   "source": [
    "### 네이버 검색어 순위 데이터를 크롤링 하겠습니다.\n",
    "def naver_top20():\n",
    "    df = pd.DataFrame(columns = ['rank','keyword'])\n",
    "    response = requests.get('http://naver.com')\n",
    "    dom = BeautifulSoup(response.content, 'html.parser')\n",
    "    keywords= dom.select(\".ah_roll .ah_l .ah_item\")\n",
    "    for keyword in keywords:\n",
    "        df.loc[len(df)] = {\n",
    "            'rank' : keyword.select_one('.ah_r').text,\n",
    "            'keyword' : keyword.select_one('.ah_k').text,\n",
    "        }\n",
    "    return df"
   ]
  },
  {
   "cell_type": "code",
   "execution_count": 6,
   "metadata": {},
   "outputs": [
    {
     "data": {
      "text/plain": [
       "[<li class=\"ah_item\">\n",
       " <a class=\"ah_a\" data-clk=\"lve.keyword\" href=\"#\">\n",
       " <span class=\"ah_r\">1</span>\n",
       " <span class=\"ah_k\">김종필</span>\n",
       " </a>\n",
       " </li>, <li class=\"ah_item\">\n",
       " <a class=\"ah_a\" data-clk=\"lve.keyword\" href=\"#\">\n",
       " <span class=\"ah_r\">2</span>\n",
       " <span class=\"ah_k\">김영삼</span>\n",
       " </a>\n",
       " </li>, <li class=\"ah_item\">\n",
       " <a class=\"ah_a\" data-clk=\"lve.keyword\" href=\"#\">\n",
       " <span class=\"ah_r\">3</span>\n",
       " <span class=\"ah_k\">쌈디</span>\n",
       " </a>\n",
       " </li>, <li class=\"ah_item\">\n",
       " <a class=\"ah_a\" data-clk=\"lve.keyword\" href=\"#\">\n",
       " <span class=\"ah_r\">4</span>\n",
       " <span class=\"ah_k\">노태우</span>\n",
       " </a>\n",
       " </li>, <li class=\"ah_item\">\n",
       " <a class=\"ah_a\" data-clk=\"lve.keyword\" href=\"#\">\n",
       " <span class=\"ah_r\">5</span>\n",
       " <span class=\"ah_k\">독일 스웨덴</span>\n",
       " </a>\n",
       " </li>, <li class=\"ah_item\">\n",
       " <a class=\"ah_a\" data-clk=\"lve.keyword\" href=\"#\">\n",
       " <span class=\"ah_r\">6</span>\n",
       " <span class=\"ah_k\">벨기에 튀니지</span>\n",
       " </a>\n",
       " </li>, <li class=\"ah_item\">\n",
       " <a class=\"ah_a\" data-clk=\"lve.keyword\" href=\"#\">\n",
       " <span class=\"ah_r\">7</span>\n",
       " <span class=\"ah_k\">백종원의 골목식당</span>\n",
       " </a>\n",
       " </li>, <li class=\"ah_item\">\n",
       " <a class=\"ah_a\" data-clk=\"lve.keyword\" href=\"#\">\n",
       " <span class=\"ah_r\">8</span>\n",
       " <span class=\"ah_k\">백종원의 골목식당 결방</span>\n",
       " </a>\n",
       " </li>, <li class=\"ah_item\">\n",
       " <a class=\"ah_a\" data-clk=\"lve.keyword\" href=\"#\">\n",
       " <span class=\"ah_r\">9</span>\n",
       " <span class=\"ah_k\">하트시그널 시즌2 스페셜</span>\n",
       " </a>\n",
       " </li>, <li class=\"ah_item\">\n",
       " <a class=\"ah_a\" data-clk=\"lve.keyword\" href=\"#\">\n",
       " <span class=\"ah_r\">10</span>\n",
       " <span class=\"ah_k\">대한민국 멕시코</span>\n",
       " </a>\n",
       " </li>, <li class=\"ah_item\">\n",
       " <a class=\"ah_a\" data-clk=\"lve.keyword\" href=\"#\">\n",
       " <span class=\"ah_r\">11</span>\n",
       " <span class=\"ah_k\">강진 여고생</span>\n",
       " </a>\n",
       " </li>, <li class=\"ah_item\">\n",
       " <a class=\"ah_a\" data-clk=\"lve.keyword\" href=\"#\">\n",
       " <span class=\"ah_r\">12</span>\n",
       " <span class=\"ah_k\">cgv</span>\n",
       " </a>\n",
       " </li>, <li class=\"ah_item\">\n",
       " <a class=\"ah_a\" data-clk=\"lve.keyword\" href=\"#\">\n",
       " <span class=\"ah_r\">13</span>\n",
       " <span class=\"ah_k\">나혼자산다</span>\n",
       " </a>\n",
       " </li>, <li class=\"ah_item\">\n",
       " <a class=\"ah_a\" data-clk=\"lve.keyword\" href=\"#\">\n",
       " <span class=\"ah_r\">14</span>\n",
       " <span class=\"ah_k\">미야와키 사쿠라</span>\n",
       " </a>\n",
       " </li>, <li class=\"ah_item\">\n",
       " <a class=\"ah_a\" data-clk=\"lve.keyword\" href=\"#\">\n",
       " <span class=\"ah_r\">15</span>\n",
       " <span class=\"ah_k\">롯데시네마</span>\n",
       " </a>\n",
       " </li>, <li class=\"ah_item\">\n",
       " <a class=\"ah_a\" data-clk=\"lve.keyword\" href=\"#\">\n",
       " <span class=\"ah_r\">16</span>\n",
       " <span class=\"ah_k\">추신수</span>\n",
       " </a>\n",
       " </li>, <li class=\"ah_item\">\n",
       " <a class=\"ah_a\" data-clk=\"lve.keyword\" href=\"#\">\n",
       " <span class=\"ah_r\">17</span>\n",
       " <span class=\"ah_k\">더콜</span>\n",
       " </a>\n",
       " </li>, <li class=\"ah_item\">\n",
       " <a class=\"ah_a\" data-clk=\"lve.keyword\" href=\"#\">\n",
       " <span class=\"ah_r\">18</span>\n",
       " <span class=\"ah_k\">프로듀스 48</span>\n",
       " </a>\n",
       " </li>, <li class=\"ah_item\">\n",
       " <a class=\"ah_a\" data-clk=\"lve.keyword\" href=\"#\">\n",
       " <span class=\"ah_r\">19</span>\n",
       " <span class=\"ah_k\">월드컵 조별순위</span>\n",
       " </a>\n",
       " </li>, <li class=\"ah_item\">\n",
       " <a class=\"ah_a\" data-clk=\"lve.keyword\" href=\"#\">\n",
       " <span class=\"ah_r\">20</span>\n",
       " <span class=\"ah_k\">정글북</span>\n",
       " </a>\n",
       " </li>]"
      ]
     },
     "execution_count": 6,
     "metadata": {},
     "output_type": "execute_result"
    }
   ],
   "source": []
  },
  {
   "cell_type": "code",
   "execution_count": 18,
   "metadata": {},
   "outputs": [
    {
     "data": {
      "text/html": [
       "<div>\n",
       "<style scoped>\n",
       "    .dataframe tbody tr th:only-of-type {\n",
       "        vertical-align: middle;\n",
       "    }\n",
       "\n",
       "    .dataframe tbody tr th {\n",
       "        vertical-align: top;\n",
       "    }\n",
       "\n",
       "    .dataframe thead th {\n",
       "        text-align: right;\n",
       "    }\n",
       "</style>\n",
       "<table border=\"1\" class=\"dataframe\">\n",
       "  <thead>\n",
       "    <tr style=\"text-align: right;\">\n",
       "      <th></th>\n",
       "      <th>rank</th>\n",
       "      <th>keyword</th>\n",
       "    </tr>\n",
       "  </thead>\n",
       "  <tbody>\n",
       "    <tr>\n",
       "      <th>0</th>\n",
       "      <td>1</td>\n",
       "      <td>이집트 우루과이</td>\n",
       "    </tr>\n",
       "    <tr>\n",
       "      <th>1</th>\n",
       "      <td>2</td>\n",
       "      <td>모로코 이란</td>\n",
       "    </tr>\n",
       "    <tr>\n",
       "      <th>2</th>\n",
       "      <td>3</td>\n",
       "      <td>포항 약국</td>\n",
       "    </tr>\n",
       "    <tr>\n",
       "      <th>3</th>\n",
       "      <td>4</td>\n",
       "      <td>러시아 사우디 하이라이트</td>\n",
       "    </tr>\n",
       "    <tr>\n",
       "      <th>4</th>\n",
       "      <td>5</td>\n",
       "      <td>쌈디</td>\n",
       "    </tr>\n",
       "    <tr>\n",
       "      <th>5</th>\n",
       "      <td>6</td>\n",
       "      <td>블랙핑크</td>\n",
       "    </tr>\n",
       "    <tr>\n",
       "      <th>6</th>\n",
       "      <td>7</td>\n",
       "      <td>포르투갈 스페인</td>\n",
       "    </tr>\n",
       "    <tr>\n",
       "      <th>7</th>\n",
       "      <td>8</td>\n",
       "      <td>살라</td>\n",
       "    </tr>\n",
       "    <tr>\n",
       "      <th>8</th>\n",
       "      <td>9</td>\n",
       "      <td>안희정</td>\n",
       "    </tr>\n",
       "    <tr>\n",
       "      <th>9</th>\n",
       "      <td>10</td>\n",
       "      <td>국가장학금</td>\n",
       "    </tr>\n",
       "    <tr>\n",
       "      <th>10</th>\n",
       "      <td>11</td>\n",
       "      <td>5g 주파수 경매</td>\n",
       "    </tr>\n",
       "    <tr>\n",
       "      <th>11</th>\n",
       "      <td>12</td>\n",
       "      <td>배용제</td>\n",
       "    </tr>\n",
       "    <tr>\n",
       "      <th>12</th>\n",
       "      <td>13</td>\n",
       "      <td>심영은</td>\n",
       "    </tr>\n",
       "    <tr>\n",
       "      <th>13</th>\n",
       "      <td>14</td>\n",
       "      <td>서정희</td>\n",
       "    </tr>\n",
       "    <tr>\n",
       "      <th>14</th>\n",
       "      <td>15</td>\n",
       "      <td>삼성sds</td>\n",
       "    </tr>\n",
       "    <tr>\n",
       "      <th>15</th>\n",
       "      <td>16</td>\n",
       "      <td>프로듀스 48</td>\n",
       "    </tr>\n",
       "    <tr>\n",
       "      <th>16</th>\n",
       "      <td>17</td>\n",
       "      <td>김비서가 왜그럴까 형</td>\n",
       "    </tr>\n",
       "    <tr>\n",
       "      <th>17</th>\n",
       "      <td>18</td>\n",
       "      <td>송철호</td>\n",
       "    </tr>\n",
       "    <tr>\n",
       "      <th>18</th>\n",
       "      <td>19</td>\n",
       "      <td>김비서가 왜그럴까 줄거리</td>\n",
       "    </tr>\n",
       "    <tr>\n",
       "      <th>19</th>\n",
       "      <td>20</td>\n",
       "      <td>하트시그널</td>\n",
       "    </tr>\n",
       "  </tbody>\n",
       "</table>\n",
       "</div>"
      ],
      "text/plain": [
       "   rank        keyword\n",
       "0     1       이집트 우루과이\n",
       "1     2         모로코 이란\n",
       "2     3          포항 약국\n",
       "3     4  러시아 사우디 하이라이트\n",
       "4     5             쌈디\n",
       "5     6           블랙핑크\n",
       "6     7       포르투갈 스페인\n",
       "7     8             살라\n",
       "8     9            안희정\n",
       "9    10          국가장학금\n",
       "10   11      5g 주파수 경매\n",
       "11   12            배용제\n",
       "12   13            심영은\n",
       "13   14            서정희\n",
       "14   15          삼성sds\n",
       "15   16        프로듀스 48\n",
       "16   17    김비서가 왜그럴까 형\n",
       "17   18            송철호\n",
       "18   19  김비서가 왜그럴까 줄거리\n",
       "19   20          하트시그널"
      ]
     },
     "execution_count": 18,
     "metadata": {},
     "output_type": "execute_result"
    }
   ],
   "source": [
    "naver_df = naver_top20()\n",
    "naver_df"
   ]
  },
  {
   "cell_type": "code",
   "execution_count": 19,
   "metadata": {},
   "outputs": [
    {
     "name": "stdout",
     "output_type": "stream",
     "text": [
      "0\n",
      "1\n",
      "2\n"
     ]
    }
   ],
   "source": [
    "import time\n",
    "ls = []\n",
    "for idx in range(3):\n",
    "    print(idx)\n",
    "    df = naver_top20()\n",
    "    ls.append(df)\n",
    "    time.sleep(10)"
   ]
  },
  {
   "cell_type": "code",
   "execution_count": 20,
   "metadata": {},
   "outputs": [],
   "source": [
    "def daum_top10():\n",
    "    df = pd.DataFrame(columns = ['rank','keyword'])\n",
    "    response = requests.get('http://daum.net')\n",
    "    dom = BeautifulSoup(response.content, 'html.parser')\n",
    "    keywords= dom.select(\".realtime_part > ol.list_hotissue.issue_row > li\")\n",
    "    for keyword in keywords:\n",
    "        df.loc[len(df)] = {\n",
    "            'rank' : keyword.select_one('.ir_wa').text,\n",
    "            'keyword' : keyword.select_one('.link_issue').text,\n",
    "        }\n",
    "    return df"
   ]
  },
  {
   "cell_type": "code",
   "execution_count": 21,
   "metadata": {},
   "outputs": [
    {
     "data": {
      "text/html": [
       "<div>\n",
       "<style scoped>\n",
       "    .dataframe tbody tr th:only-of-type {\n",
       "        vertical-align: middle;\n",
       "    }\n",
       "\n",
       "    .dataframe tbody tr th {\n",
       "        vertical-align: top;\n",
       "    }\n",
       "\n",
       "    .dataframe thead th {\n",
       "        text-align: right;\n",
       "    }\n",
       "</style>\n",
       "<table border=\"1\" class=\"dataframe\">\n",
       "  <thead>\n",
       "    <tr style=\"text-align: right;\">\n",
       "      <th></th>\n",
       "      <th>rank</th>\n",
       "      <th>keyword</th>\n",
       "    </tr>\n",
       "  </thead>\n",
       "  <tbody>\n",
       "    <tr>\n",
       "      <th>0</th>\n",
       "      <td>1위</td>\n",
       "      <td>심영은</td>\n",
       "    </tr>\n",
       "    <tr>\n",
       "      <th>1</th>\n",
       "      <td>2위</td>\n",
       "      <td>사이먼도미닉</td>\n",
       "    </tr>\n",
       "    <tr>\n",
       "      <th>2</th>\n",
       "      <td>3위</td>\n",
       "      <td>블랙핑크</td>\n",
       "    </tr>\n",
       "    <tr>\n",
       "      <th>3</th>\n",
       "      <td>4위</td>\n",
       "      <td>김무성</td>\n",
       "    </tr>\n",
       "    <tr>\n",
       "      <th>4</th>\n",
       "      <td>5위</td>\n",
       "      <td>국가장학금</td>\n",
       "    </tr>\n",
       "    <tr>\n",
       "      <th>5</th>\n",
       "      <td>6위</td>\n",
       "      <td>박원빈</td>\n",
       "    </tr>\n",
       "    <tr>\n",
       "      <th>6</th>\n",
       "      <td>7위</td>\n",
       "      <td>안희정</td>\n",
       "    </tr>\n",
       "    <tr>\n",
       "      <th>7</th>\n",
       "      <td>8위</td>\n",
       "      <td>김성태</td>\n",
       "    </tr>\n",
       "    <tr>\n",
       "      <th>8</th>\n",
       "      <td>9위</td>\n",
       "      <td>이집트 우루과이</td>\n",
       "    </tr>\n",
       "    <tr>\n",
       "      <th>9</th>\n",
       "      <td>10위</td>\n",
       "      <td>안신애</td>\n",
       "    </tr>\n",
       "  </tbody>\n",
       "</table>\n",
       "</div>"
      ],
      "text/plain": [
       "  rank   keyword\n",
       "0   1위       심영은\n",
       "1   2위    사이먼도미닉\n",
       "2   3위      블랙핑크\n",
       "3   4위       김무성\n",
       "4   5위     국가장학금\n",
       "5   6위       박원빈\n",
       "6   7위       안희정\n",
       "7   8위       김성태\n",
       "8   9위  이집트 우루과이\n",
       "9  10위       안신애"
      ]
     },
     "execution_count": 21,
     "metadata": {},
     "output_type": "execute_result"
    }
   ],
   "source": [
    "daum_df = daum_top10()\n",
    "daum_df"
   ]
  },
  {
   "cell_type": "code",
   "execution_count": 24,
   "metadata": {},
   "outputs": [
    {
     "data": {
      "text/plain": [
       "['국가장학금', '블랙핑크', '심영은', '안희정', '이집트 우루과이']"
      ]
     },
     "execution_count": 24,
     "metadata": {},
     "output_type": "execute_result"
    }
   ],
   "source": [
    "ls3=[]\n",
    "for i in range(len(ls1)):\n",
    "    for j in range(len(ls2)):\n",
    "        if ls1[i]==ls2[j]:\n",
    "            ls3.append(ls1[i])\n",
    "ls3"
   ]
  },
  {
   "cell_type": "code",
   "execution_count": 25,
   "metadata": {
    "scrolled": true
   },
   "outputs": [
    {
     "data": {
      "text/plain": [
       "[]"
      ]
     },
     "execution_count": 25,
     "metadata": {},
     "output_type": "execute_result"
    }
   ],
   "source": [
    "ls3 = [ls1[i] for i in range(len(ls1)) for j in range(len(ls2)) if ls1 == ls2[j]]\n",
    "ls3"
   ]
  },
  {
   "cell_type": "code",
   "execution_count": 1,
   "metadata": {},
   "outputs": [
    {
     "ename": "SyntaxError",
     "evalue": "unexpected EOF while parsing (<ipython-input-1-e36264436f1f>, line 1)",
     "output_type": "error",
     "traceback": [
      "\u001b[0;36m  File \u001b[0;32m\"<ipython-input-1-e36264436f1f>\"\u001b[0;36m, line \u001b[0;32m1\u001b[0m\n\u001b[0;31m    (set(ls2) & (set(ls3))\u001b[0m\n\u001b[0m                          ^\u001b[0m\n\u001b[0;31mSyntaxError\u001b[0m\u001b[0;31m:\u001b[0m unexpected EOF while parsing\n"
     ]
    }
   ],
   "source": [
    "(set(ls2) & (set(ls3))"
   ]
  }
 ],
 "metadata": {
  "kernelspec": {
   "display_name": "Python 3",
   "language": "python",
   "name": "python3"
  },
  "language_info": {
   "codemirror_mode": {
    "name": "ipython",
    "version": 3
   },
   "file_extension": ".py",
   "mimetype": "text/x-python",
   "name": "python",
   "nbconvert_exporter": "python",
   "pygments_lexer": "ipython3",
   "version": "3.6.5"
  }
 },
 "nbformat": 4,
 "nbformat_minor": 2
}
