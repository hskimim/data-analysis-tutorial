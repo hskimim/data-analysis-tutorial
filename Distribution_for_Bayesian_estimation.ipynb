{
 "cells": [
  {
   "cell_type": "markdown",
   "metadata": {},
   "source": [
    "## 베이지언 모수 분포\n",
    "- 다른 확률 분포와는 달리 자연게에 존재하는 데이터의 분포를 묘사하기 보다는 베이지안 추정의 결과를 묘사하기 위한 목적으로 주로 사용됩니다.\n",
    "- Bayesian estimation 은 추정하고자 하는 모수의 값을 하나의 숫자로 나타내는 것이 아니라 분포로 묘사합니다.\n",
    "    - 베타 분포(Beta distribution)\n",
    "    - 디리클레 분포(Dirichlet distribution)\n",
    "    - 감마 분포(Gamma distribution)"
   ]
  },
  {
   "cell_type": "markdown",
   "metadata": {},
   "source": [
    "### Beta distribution\n",
    "- a , b 두개의 parameter를 가지며, random variable x 는 0과 1사이의 닫힌 값만 가질 수 있습니다.\n",
    "- 베타 분포의 확률 밀도 함수는 다음과 같이 정의됩니다.\n",
    "\\begin{align}\n",
    "\\text{Beta}(x;a,b) \n",
    "& = \\frac{\\Gamma(a+b)}{\\Gamma(a)\\Gamma(b)}\\, x^{a-1}(1-x)^{b-1} \n",
    "\\end{align}\n",
    "- Gamma(a)는 감마함수라는 특수 함수로 다음과 같이 정의됩니다.\n",
    "- 베타 분포의 parameter a,b는 자연수의 값을 가질 수 있습니다.\n",
    "- 베타 분포의 pmf는 [0,1] 의 값만을 가집니다.(finite support)"
   ]
  },
  {
   "cell_type": "markdown",
   "metadata": {},
   "source": [
    "##### moment of Beta dist\n",
    "- first moment : E[x] = a/(a+b)\n",
    "- second moment : Var[x] = ab/(a+b)(a^2+b^2+1)\n",
    "- mode : (a-1)/(a+b-2)"
   ]
  },
  {
   "cell_type": "markdown",
   "metadata": {},
   "source": [
    "### Dirichlet distribution\n",
    "- 베타 분포의 확장판(Expansion of Beta dist)\n",
    "- 베타 분포는 [0,1]의 값을 가지는 단일(univariate)확률 변수 베이지안 모형에 사용\n",
    "- 디리클레 분포는 [0,1]의 값을 가지는 다변수(multivariate)확률 변수 베이지안 모형에 사용\n",
    "- 디리클레 분포의 확률 변수 합은 1이 되어야 합니다.\n",
    "    - ex) K=3인 디리클레 분포를 따르는 확률 변수는 다음과 같은 샘플을 가질 수 있습니다.\n",
    "        - (1,0,0)  (0.3,0.5,0.2),  (0.5,0.5,0)\n",
    "- 디리클레 분포의 pmf 은 다음과 같습니다.\n",
    "- `Dir(x_1,x_2,...,x_k;a_1,a_2,...,a_k) = 1/Beta(a_1,a_2,...,a_k) * MUL(from i to k) x_i^(a_1-1)`\n",
    "- `Beta(a_1,a_2,...,a_k) = MUL(from i to k)Gamma(a_i) / Gamma(sigma(from i to k) a_i)`"
   ]
  },
  {
   "cell_type": "markdown",
   "metadata": {},
   "source": [
    "#### 베타 분포와 디리클레 분포의 관계\n",
    "- 솔직히 여태껏 나온 디리클레 분포에 대한 설명은 이해하기 쉽지 않은 것이 사실입니다(죄송합니다..)\n",
    "- 베타 분포는 K = 2 인 디리클레 분포라고 생각하시면 됩니다.\n",
    "- 아래의 식에서 x_1 = x, x_2 = 1-x, a_1 = a, a_2 = b라고 생각하시면 됩니다.\n",
    "\\begin{eqnarray}\n",
    "\\text{Beta}(x;a,b) \n",
    "&=& \\frac{\\Gamma(a+b)}{\\Gamma(a)\\Gamma(b)}\\, x^{a-1}(1-x)^{b-1} \\\\\n",
    "&=& \\frac{\\Gamma(\\alpha_1+\\alpha_2)}{\\Gamma(\\alpha_1)\\Gamma(\\alpha_2)}\\,  x_1^{\\alpha_1 - 1} x_2^{\\alpha_2 - 1} \\\\\n",
    "&=& \\frac{1}{\\mathrm{B}(\\alpha_1, \\alpha_2)} \\prod_{i=1}^2 x_i^{\\alpha_i - 1}\n",
    "\\end{eqnarray}"
   ]
  },
  {
   "cell_type": "markdown",
   "metadata": {},
   "source": [
    "#### 디리클레 분포의 모멘트\n",
    "- a = sum of a_k\n",
    "- first moment(expectation) E[x_k] =  a_k / k\n",
    "- mode = (a_k-1)/(a-K)\n",
    "- Var[x_k] = a_k(a-a_k) / a**2(a+1)\n",
    "- 기댓값 공식을 보시게 되면 (a_k/a) 모수인 a_i는 x_i 중 어느 수가 더 크게 나올 가능성이 높은지를 결정하는 shape factor(형상 인자)임을 알 수 있습니다. 예로 들어, a_i가 fair 하게 같게 되면 모든 x_i의 분포가 같아지게 됩니다. \n",
    "- 또한 분산 공식을 보게 되면 a_i의 절댓값이 클수록 분산이 작아집니다. (분자 부분이 a_i의 2차식이고 분모 부분이 a_i의 3차식이기 때문에) 따라서 디리클리 분포의 표본값 x가 어떤 특정한 값 주변이 나올 가능성이 높아지게 됩니다."
   ]
  },
  {
   "cell_type": "markdown",
   "metadata": {},
   "source": [
    "##### 디리클레 분포의 사용 예시\n",
    "- a,b,c의 난수를 뽑는데 a+b+c = 1이라는 constraint가 있다. 또한 a,b,c는 semi-positive definite이다. 마지막 조건은 uniform distribution을 띈다.\n",
    "- K=3\n",
    "- dirichlet distribution which has parameter a_1,a_2,a_3 == 1,1,1"
   ]
  },
  {
   "cell_type": "markdown",
   "metadata": {},
   "source": [
    "### 감마 분포(Gamma distribution)\n",
    "- 베타 분포나 디리클레 분포가 [0,1] 값을 가지는 모수를 베이지안 방법으로 추정하는데 사용되는 것과 달리 감마 분포는 0부터 무한대의 값을 가지는 양수 값을 추정하는데 사용됩니다.\n",
    "- 감마 분포의 pmf는 a,b 두 개의 parameter를 가지며 pmf는 다음과 같이 정의됩니다.\n",
    "\\begin{eqnarray}\n",
    "\\text{Gamma}(x;a,b) \n",
    "&=& \\frac{1}{\\Gamma(a)} b^a x^{a-1}e^{-bx} \\\\\n",
    "\\end{eqnarray}"
   ]
  },
  {
   "cell_type": "markdown",
   "metadata": {},
   "source": [
    "##### Moment of Gamma distribution\n",
    "- fist moment(Expectation) : E[X] = a/b\n",
    "- mode : (a-1)/b\n",
    "- second moment(variance) : Var[X] = a/b^2"
   ]
  }
 ],
 "metadata": {
  "kernelspec": {
   "display_name": "Python 3",
   "language": "python",
   "name": "python3"
  },
  "language_info": {
   "codemirror_mode": {
    "name": "ipython",
    "version": 3
   },
   "file_extension": ".py",
   "mimetype": "text/x-python",
   "name": "python",
   "nbconvert_exporter": "python",
   "pygments_lexer": "ipython3",
   "version": "3.6.4"
  }
 },
 "nbformat": 4,
 "nbformat_minor": 2
}
